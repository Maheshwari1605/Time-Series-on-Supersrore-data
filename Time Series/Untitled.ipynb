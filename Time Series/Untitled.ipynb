{
 "cells": [
  {
   "cell_type": "code",
   "execution_count": 2,
   "metadata": {},
   "outputs": [],
   "source": [
    "import warnings\n",
    "import itertools\n",
    "import numpy as np\n",
    "import matplotlib.pyplot as plt\n",
    "warnings.filterwarnings(\"ignore\")\n",
    "plt.style.use('fivethirtyeight')\n",
    "import pandas as pd\n",
    "import statsmodels.api as sm\n",
    "import matplotlib\n",
    "matplotlib.rcParams['axes.labelsize'] = 14\n",
    "matplotlib.rcParams['xtick.labelsize'] = 12\n",
    "matplotlib.rcParams['ytick.labelsize'] = 12\n",
    "matplotlib.rcParams['text.color'] = 'k'"
   ]
  },
  {
   "cell_type": "code",
   "execution_count": 4,
   "metadata": {},
   "outputs": [
    {
     "name": "stdout",
     "output_type": "stream",
     "text": [
      "   Row ID        Order ID Order Date  Ship Date       Ship Mode Customer ID  \\\n",
      "0       1  CA-2016-152156 2016-11-08 2016-11-11    Second Class    CG-12520   \n",
      "1       2  CA-2016-152156 2016-11-08 2016-11-11    Second Class    CG-12520   \n",
      "2       3  CA-2016-138688 2016-06-12 2016-06-16    Second Class    DV-13045   \n",
      "3       4  US-2015-108966 2015-10-11 2015-10-18  Standard Class    SO-20335   \n",
      "4       5  US-2015-108966 2015-10-11 2015-10-18  Standard Class    SO-20335   \n",
      "\n",
      "     Customer Name    Segment        Country             City  ...  \\\n",
      "0      Claire Gute   Consumer  United States        Henderson  ...   \n",
      "1      Claire Gute   Consumer  United States        Henderson  ...   \n",
      "2  Darrin Van Huff  Corporate  United States      Los Angeles  ...   \n",
      "3   Sean O'Donnell   Consumer  United States  Fort Lauderdale  ...   \n",
      "4   Sean O'Donnell   Consumer  United States  Fort Lauderdale  ...   \n",
      "\n",
      "  Postal Code  Region       Product ID         Category Sub-Category  \\\n",
      "0       42420   South  FUR-BO-10001798        Furniture    Bookcases   \n",
      "1       42420   South  FUR-CH-10000454        Furniture       Chairs   \n",
      "2       90036    West  OFF-LA-10000240  Office Supplies       Labels   \n",
      "3       33311   South  FUR-TA-10000577        Furniture       Tables   \n",
      "4       33311   South  OFF-ST-10000760  Office Supplies      Storage   \n",
      "\n",
      "                                        Product Name     Sales  Quantity  \\\n",
      "0                  Bush Somerset Collection Bookcase  261.9600         2   \n",
      "1  Hon Deluxe Fabric Upholstered Stacking Chairs,...  731.9400         3   \n",
      "2  Self-Adhesive Address Labels for Typewriters b...   14.6200         2   \n",
      "3      Bretford CR4500 Series Slim Rectangular Table  957.5775         5   \n",
      "4                     Eldon Fold 'N Roll Cart System   22.3680         2   \n",
      "\n",
      "   Discount    Profit  \n",
      "0      0.00   41.9136  \n",
      "1      0.00  219.5820  \n",
      "2      0.00    6.8714  \n",
      "3      0.45 -383.0310  \n",
      "4      0.20    2.5164  \n",
      "\n",
      "[5 rows x 21 columns]\n",
      "    Row ID        Order ID Order Date  Ship Date       Ship Mode Customer ID  \\\n",
      "0        1  CA-2016-152156 2016-11-08 2016-11-11    Second Class    CG-12520   \n",
      "1        2  CA-2016-152156 2016-11-08 2016-11-11    Second Class    CG-12520   \n",
      "3        4  US-2015-108966 2015-10-11 2015-10-18  Standard Class    SO-20335   \n",
      "5        6  CA-2014-115812 2014-06-09 2014-06-14  Standard Class    BH-11710   \n",
      "10      11  CA-2014-115812 2014-06-09 2014-06-14  Standard Class    BH-11710   \n",
      "\n",
      "      Customer Name   Segment        Country             City  ...  \\\n",
      "0       Claire Gute  Consumer  United States        Henderson  ...   \n",
      "1       Claire Gute  Consumer  United States        Henderson  ...   \n",
      "3    Sean O'Donnell  Consumer  United States  Fort Lauderdale  ...   \n",
      "5   Brosina Hoffman  Consumer  United States      Los Angeles  ...   \n",
      "10  Brosina Hoffman  Consumer  United States      Los Angeles  ...   \n",
      "\n",
      "   Postal Code  Region       Product ID   Category Sub-Category  \\\n",
      "0        42420   South  FUR-BO-10001798  Furniture    Bookcases   \n",
      "1        42420   South  FUR-CH-10000454  Furniture       Chairs   \n",
      "3        33311   South  FUR-TA-10000577  Furniture       Tables   \n",
      "5        90032    West  FUR-FU-10001487  Furniture  Furnishings   \n",
      "10       90032    West  FUR-TA-10001539  Furniture       Tables   \n",
      "\n",
      "                                         Product Name      Sales  Quantity  \\\n",
      "0                   Bush Somerset Collection Bookcase   261.9600         2   \n",
      "1   Hon Deluxe Fabric Upholstered Stacking Chairs,...   731.9400         3   \n",
      "3       Bretford CR4500 Series Slim Rectangular Table   957.5775         5   \n",
      "5   Eldon Expressions Wood and Plastic Desk Access...    48.8600         7   \n",
      "10           Chromcraft Rectangular Conference Tables  1706.1840         9   \n",
      "\n",
      "    Discount    Profit  \n",
      "0       0.00   41.9136  \n",
      "1       0.00  219.5820  \n",
      "3       0.45 -383.0310  \n",
      "5       0.00   14.1694  \n",
      "10      0.20   85.3092  \n",
      "\n",
      "[5 rows x 21 columns]\n"
     ]
    }
   ],
   "source": [
    "# Furniture Sales\n",
    "df = pd.read_excel(\"../Data/Superstore.xls\")\n",
    "print (df.head())\n",
    "\n",
    "furniture = df.loc[df['Category'] == 'Furniture']\n",
    "\n",
    "print (furniture.head())"
   ]
  },
  {
   "cell_type": "code",
   "execution_count": null,
   "metadata": {},
   "outputs": [],
   "source": [
    "print (furniture.head())"
   ]
  },
  {
   "cell_type": "code",
   "execution_count": 5,
   "metadata": {},
   "outputs": [
    {
     "name": "stdout",
     "output_type": "stream",
     "text": [
      "Min Date:  2014-01-06 00:00:00\n",
      "Max Date:  2017-12-30 00:00:00\n"
     ]
    }
   ],
   "source": [
    "print (\"Min Date: \",furniture[\"Order Date\"].min())\n",
    "print (\"Max Date: \",furniture[\"Order Date\"].max())"
   ]
  },
  {
   "cell_type": "code",
   "execution_count": 8,
   "metadata": {},
   "outputs": [
    {
     "name": "stdout",
     "output_type": "stream",
     "text": [
      "               Sales\n",
      "Order Date          \n",
      "2014-01-06  2573.820\n",
      "2014-01-07    76.728\n",
      "2014-01-10    51.940\n",
      "2014-01-11     9.940\n",
      "2014-01-13   879.939\n",
      "(889, 1)\n"
     ]
    }
   ],
   "source": [
    "#Basic Pre Processing\n",
    "\n",
    "columns = furniture.columns\n",
    "print (furniture.head())\n",
    "# print (columns)\n",
    "# print (furniture.shape)\n",
    "# print (furniture.isnull().sum())\n",
    "\n",
    "furniture = furniture.groupby('Order Date')['Sales'].sum().reset_index()\n",
    "furniture = furniture.set_index('Order Date')\n",
    "# print (furniture.shape)\n",
    "print (furniture.shape)"
   ]
  },
  {
   "cell_type": "code",
   "execution_count": 10,
   "metadata": {},
   "outputs": [
    {
     "name": "stdout",
     "output_type": "stream",
     "text": [
      "Order Date\n",
      "2014-01-01    480.194231\n",
      "2014-02-01    367.931600\n",
      "2014-03-01    857.291529\n",
      "2014-04-01    567.488357\n",
      "2014-05-01    432.049187\n",
      "Freq: MS, Name: Sales, dtype: float64\n"
     ]
    },
    {
     "data": {
      "text/plain": [
       "<matplotlib.axes._subplots.AxesSubplot at 0x1be6ff655c0>"
      ]
     },
     "execution_count": 10,
     "metadata": {},
     "output_type": "execute_result"
    },
    {
     "data": {
      "image/png": "[encoded data removed]",
      "text/plain": [
       "<Figure size 1080x432 with 1 Axes>"
      ]
     },
     "metadata": {
      "needs_background": "light"
     },
     "output_type": "display_data"
    }
   ],
   "source": [
    "y = furniture[\"Sales\"].resample(\"MS\").mean()\n",
    "print (y.head())\n",
    "y.plot(figsize=(15,6))"
   ]
  },
  {
   "cell_type": "markdown",
   "metadata": {},
   "source": [
    "Insight: Seasonality Data"
   ]
  },
  {
   "cell_type": "code",
   "execution_count": 11,
   "metadata": {},
   "outputs": [
    {
     "data": {
      "image/png": "[encoded data removed]",
      "text/plain": [
       "<Figure size 1296x576 with 4 Axes>"
      ]
     },
     "metadata": {
      "needs_background": "light"
     },
     "output_type": "display_data"
    }
   ],
   "source": [
    "from pylab import rcParams\n",
    "rcParams['figure.figsize'] = 18,8\n",
    "\n",
    "decom = sm.tsa.seasonal_decompose(y,model = \"Additive\")\n",
    "fig = decom.plot()\n",
    "plt.show()"
   ]
  },
  {
   "cell_type": "markdown",
   "metadata": {},
   "source": [
    "Insight: Furniture Sales is Unstable with Seasonality"
   ]
  },
  {
   "cell_type": "code",
   "execution_count": 24,
   "metadata": {},
   "outputs": [
    {
     "name": "stdout",
     "output_type": "stream",
     "text": [
      "[(0, 0, 0), (0, 0, 1), (0, 0, 2), (0, 0, 3), (0, 0, 4), (0, 1, 0), (0, 1, 1), (0, 1, 2), (0, 1, 3), (0, 1, 4), (0, 2, 0), (0, 2, 1), (0, 2, 2), (0, 2, 3), (0, 2, 4), (0, 3, 0), (0, 3, 1), (0, 3, 2), (0, 3, 3), (0, 3, 4), (0, 4, 0), (0, 4, 1), (0, 4, 2), (0, 4, 3), (0, 4, 4), (1, 0, 0), (1, 0, 1), (1, 0, 2), (1, 0, 3), (1, 0, 4), (1, 1, 0), (1, 1, 1), (1, 1, 2), (1, 1, 3), (1, 1, 4), (1, 2, 0), (1, 2, 1), (1, 2, 2), (1, 2, 3), (1, 2, 4), (1, 3, 0), (1, 3, 1), (1, 3, 2), (1, 3, 3), (1, 3, 4), (1, 4, 0), (1, 4, 1), (1, 4, 2), (1, 4, 3), (1, 4, 4), (2, 0, 0), (2, 0, 1), (2, 0, 2), (2, 0, 3), (2, 0, 4), (2, 1, 0), (2, 1, 1), (2, 1, 2), (2, 1, 3), (2, 1, 4), (2, 2, 0), (2, 2, 1), (2, 2, 2), (2, 2, 3), (2, 2, 4), (2, 3, 0), (2, 3, 1), (2, 3, 2), (2, 3, 3), (2, 3, 4), (2, 4, 0), (2, 4, 1), (2, 4, 2), (2, 4, 3), (2, 4, 4), (3, 0, 0), (3, 0, 1), (3, 0, 2), (3, 0, 3), (3, 0, 4), (3, 1, 0), (3, 1, 1), (3, 1, 2), (3, 1, 3), (3, 1, 4), (3, 2, 0), (3, 2, 1), (3, 2, 2), (3, 2, 3), (3, 2, 4), (3, 3, 0), (3, 3, 1), (3, 3, 2), (3, 3, 3), (3, 3, 4), (3, 4, 0), (3, 4, 1), (3, 4, 2), (3, 4, 3), (3, 4, 4), (4, 0, 0), (4, 0, 1), (4, 0, 2), (4, 0, 3), (4, 0, 4), (4, 1, 0), (4, 1, 1), (4, 1, 2), (4, 1, 3), (4, 1, 4), (4, 2, 0), (4, 2, 1), (4, 2, 2), (4, 2, 3), (4, 2, 4), (4, 3, 0), (4, 3, 1), (4, 3, 2), (4, 3, 3), (4, 3, 4), (4, 4, 0), (4, 4, 1), (4, 4, 2), (4, 4, 3), (4, 4, 4)]\n",
      "[(0, 0, 0, 12), (0, 0, 1, 12), (0, 0, 2, 12), (0, 0, 3, 12), (0, 0, 4, 12), (0, 1, 0, 12), (0, 1, 1, 12), (0, 1, 2, 12), (0, 1, 3, 12), (0, 1, 4, 12), (0, 2, 0, 12), (0, 2, 1, 12), (0, 2, 2, 12), (0, 2, 3, 12), (0, 2, 4, 12), (0, 3, 0, 12), (0, 3, 1, 12), (0, 3, 2, 12), (0, 3, 3, 12), (0, 3, 4, 12), (0, 4, 0, 12), (0, 4, 1, 12), (0, 4, 2, 12), (0, 4, 3, 12), (0, 4, 4, 12), (1, 0, 0, 12), (1, 0, 1, 12), (1, 0, 2, 12), (1, 0, 3, 12), (1, 0, 4, 12), (1, 1, 0, 12), (1, 1, 1, 12), (1, 1, 2, 12), (1, 1, 3, 12), (1, 1, 4, 12), (1, 2, 0, 12), (1, 2, 1, 12), (1, 2, 2, 12), (1, 2, 3, 12), (1, 2, 4, 12), (1, 3, 0, 12), (1, 3, 1, 12), (1, 3, 2, 12), (1, 3, 3, 12), (1, 3, 4, 12), (1, 4, 0, 12), (1, 4, 1, 12), (1, 4, 2, 12), (1, 4, 3, 12), (1, 4, 4, 12), (2, 0, 0, 12), (2, 0, 1, 12), (2, 0, 2, 12), (2, 0, 3, 12), (2, 0, 4, 12), (2, 1, 0, 12), (2, 1, 1, 12), (2, 1, 2, 12), (2, 1, 3, 12), (2, 1, 4, 12), (2, 2, 0, 12), (2, 2, 1, 12), (2, 2, 2, 12), (2, 2, 3, 12), (2, 2, 4, 12), (2, 3, 0, 12), (2, 3, 1, 12), (2, 3, 2, 12), (2, 3, 3, 12), (2, 3, 4, 12), (2, 4, 0, 12), (2, 4, 1, 12), (2, 4, 2, 12), (2, 4, 3, 12), (2, 4, 4, 12), (3, 0, 0, 12), (3, 0, 1, 12), (3, 0, 2, 12), (3, 0, 3, 12), (3, 0, 4, 12), (3, 1, 0, 12), (3, 1, 1, 12), (3, 1, 2, 12), (3, 1, 3, 12), (3, 1, 4, 12), (3, 2, 0, 12), (3, 2, 1, 12), (3, 2, 2, 12), (3, 2, 3, 12), (3, 2, 4, 12), (3, 3, 0, 12), (3, 3, 1, 12), (3, 3, 2, 12), (3, 3, 3, 12), (3, 3, 4, 12), (3, 4, 0, 12), (3, 4, 1, 12), (3, 4, 2, 12), (3, 4, 3, 12), (3, 4, 4, 12), (4, 0, 0, 12), (4, 0, 1, 12), (4, 0, 2, 12), (4, 0, 3, 12), (4, 0, 4, 12), (4, 1, 0, 12), (4, 1, 1, 12), (4, 1, 2, 12), (4, 1, 3, 12), (4, 1, 4, 12), (4, 2, 0, 12), (4, 2, 1, 12), (4, 2, 2, 12), (4, 2, 3, 12), (4, 2, 4, 12), (4, 3, 0, 12), (4, 3, 1, 12), (4, 3, 2, 12), (4, 3, 3, 12), (4, 3, 4, 12), (4, 4, 0, 12), (4, 4, 1, 12), (4, 4, 2, 12), (4, 4, 3, 12), (4, 4, 4, 12)]\n"
     ]
    }
   ],
   "source": [
    "p = d = q = range(0, 5)\n",
    "pdq = list(itertools.product(p, d, q))\n",
    "print (pdq)\n",
    "seasonal_pdq = [(x[0], x[1], x[2], 12) for x in list(itertools.product(p, d, q))]\n",
    "print (seasonal_pdq)"
   ]
  },
  {
   "cell_type": "code",
   "execution_count": 25,
   "metadata": {},
   "outputs": [
    {
     "name": "stdout",
     "output_type": "stream",
     "text": [
      "[(0, 0, 0), (0, 0, 1), (0, 0, 2), (0, 0, 3), (0, 0, 4), (0, 1, 0), (0, 1, 1), (0, 1, 2), (0, 1, 3), (0, 1, 4), (0, 2, 0), (0, 2, 1), (0, 2, 2), (0, 2, 3), (0, 2, 4), (0, 3, 0), (0, 3, 1), (0, 3, 2), (0, 3, 3), (0, 3, 4), (0, 4, 0), (0, 4, 1), (0, 4, 2), (0, 4, 3), (0, 4, 4), (1, 0, 0), (1, 0, 1), (1, 0, 2), (1, 0, 3), (1, 0, 4), (1, 1, 0), (1, 1, 1), (1, 1, 2), (1, 1, 3), (1, 1, 4), (1, 2, 0), (1, 2, 1), (1, 2, 2), (1, 2, 3), (1, 2, 4), (1, 3, 0), (1, 3, 1), (1, 3, 2), (1, 3, 3), (1, 3, 4), (1, 4, 0), (1, 4, 1), (1, 4, 2), (1, 4, 3), (1, 4, 4), (2, 0, 0), (2, 0, 1), (2, 0, 2), (2, 0, 3), (2, 0, 4), (2, 1, 0), (2, 1, 1), (2, 1, 2), (2, 1, 3), (2, 1, 4), (2, 2, 0), (2, 2, 1), (2, 2, 2), (2, 2, 3), (2, 2, 4), (2, 3, 0), (2, 3, 1), (2, 3, 2), (2, 3, 3), (2, 3, 4), (2, 4, 0), (2, 4, 1), (2, 4, 2), (2, 4, 3), (2, 4, 4), (3, 0, 0), (3, 0, 1), (3, 0, 2), (3, 0, 3), (3, 0, 4), (3, 1, 0), (3, 1, 1), (3, 1, 2), (3, 1, 3), (3, 1, 4), (3, 2, 0), (3, 2, 1), (3, 2, 2), (3, 2, 3), (3, 2, 4), (3, 3, 0), (3, 3, 1), (3, 3, 2), (3, 3, 3), (3, 3, 4), (3, 4, 0), (3, 4, 1), (3, 4, 2), (3, 4, 3), (3, 4, 4), (4, 0, 0), (4, 0, 1), (4, 0, 2), (4, 0, 3), (4, 0, 4), (4, 1, 0), (4, 1, 1), (4, 1, 2), (4, 1, 3), (4, 1, 4), (4, 2, 0), (4, 2, 1), (4, 2, 2), (4, 2, 3), (4, 2, 4), (4, 3, 0), (4, 3, 1), (4, 3, 2), (4, 3, 3), (4, 3, 4), (4, 4, 0), (4, 4, 1), (4, 4, 2), (4, 4, 3), (4, 4, 4)]\n"
     ]
    }
   ],
   "source": [
    "print (pdq)"
   ]
  },
  {
   "cell_type": "code",
   "execution_count": 26,
   "metadata": {},
   "outputs": [
    {
     "name": "stdout",
     "output_type": "stream",
     "text": [
      "ARIMA(0, 0, 0)x(0, 0, 0, 12)12 - AIC:769.0817523205916\n",
      "ARIMA(0, 0, 0)x(0, 0, 1, 12)12 - AIC:1576.7324642473277\n",
      "ARIMA(0, 0, 0)x(0, 1, 0, 12)12 - AIC:477.71701309202774\n",
      "ARIMA(0, 0, 0)x(0, 2, 0, 12)12 - AIC:336.9536604857689\n"
     ]
    },
    {
     "name": "stderr",
     "output_type": "stream",
     "text": [
      "C:\\Users\\Byom Kesh Jha\\Anaconda3\\lib\\site-packages\\statsmodels\\base\\model.py:512: ConvergenceWarning: Maximum Likelihood optimization failed to converge. Check mle_retvals\n",
      "  \"Check mle_retvals\", ConvergenceWarning)\n"
     ]
    },
    {
     "name": "stdout",
     "output_type": "stream",
     "text": [
      "ARIMA(0, 0, 0)x(0, 3, 0, 12)12 - AIC:171.16297917391336\n",
      "ARIMA(0, 0, 0)x(0, 4, 0, 12)12 - AIC:2.0\n",
      "ARIMA(0, 0, 0)x(1, 0, 0, 12)12 - AIC:497.23144334183365\n"
     ]
    },
    {
     "name": "stderr",
     "output_type": "stream",
     "text": [
      "C:\\Users\\Byom Kesh Jha\\Anaconda3\\lib\\site-packages\\statsmodels\\base\\model.py:512: ConvergenceWarning: Maximum Likelihood optimization failed to converge. Check mle_retvals\n",
      "  \"Check mle_retvals\", ConvergenceWarning)\n"
     ]
    },
    {
     "name": "stdout",
     "output_type": "stream",
     "text": [
      "ARIMA(0, 0, 0)x(1, 0, 1, 12)12 - AIC:1478.1277236759956\n",
      "ARIMA(0, 0, 0)x(1, 1, 0, 12)12 - AIC:318.0047199116341\n",
      "ARIMA(0, 0, 0)x(1, 2, 0, 12)12 - AIC:162.12029487165506\n",
      "ARIMA(0, 0, 0)x(2, 0, 0, 12)12 - AIC:319.96929434508735\n"
     ]
    },
    {
     "name": "stderr",
     "output_type": "stream",
     "text": [
      "C:\\Users\\Byom Kesh Jha\\Anaconda3\\lib\\site-packages\\statsmodels\\base\\model.py:512: ConvergenceWarning: Maximum Likelihood optimization failed to converge. Check mle_retvals\n",
      "  \"Check mle_retvals\", ConvergenceWarning)\n"
     ]
    },
    {
     "name": "stdout",
     "output_type": "stream",
     "text": [
      "ARIMA(0, 0, 0)x(2, 0, 1, 12)12 - AIC:947.5551469826491\n",
      "ARIMA(0, 0, 0)x(2, 1, 0, 12)12 - AIC:159.5144730671919\n"
     ]
    },
    {
     "name": "stderr",
     "output_type": "stream",
     "text": [
      "C:\\Users\\Byom Kesh Jha\\Anaconda3\\lib\\site-packages\\statsmodels\\base\\model.py:512: ConvergenceWarning: Maximum Likelihood optimization failed to converge. Check mle_retvals\n",
      "  \"Check mle_retvals\", ConvergenceWarning)\n"
     ]
    },
    {
     "name": "stdout",
     "output_type": "stream",
     "text": [
      "ARIMA(0, 0, 0)x(3, 0, 0, 12)12 - AIC:161.28400149263192\n"
     ]
    },
    {
     "name": "stderr",
     "output_type": "stream",
     "text": [
      "C:\\Users\\Byom Kesh Jha\\Anaconda3\\lib\\site-packages\\statsmodels\\base\\model.py:512: ConvergenceWarning: Maximum Likelihood optimization failed to converge. Check mle_retvals\n",
      "  \"Check mle_retvals\", ConvergenceWarning)\n"
     ]
    },
    {
     "name": "stdout",
     "output_type": "stream",
     "text": [
      "ARIMA(0, 0, 0)x(3, 0, 1, 12)12 - AIC:386.85738649032913\n",
      "ARIMA(0, 0, 1)x(0, 0, 0, 12)12 - AIC:720.9252270758104\n",
      "ARIMA(0, 0, 1)x(0, 0, 1, 12)12 - AIC:2786.7230874852653\n",
      "ARIMA(0, 0, 1)x(0, 1, 0, 12)12 - AIC:466.56074298091505\n",
      "ARIMA(0, 0, 1)x(0, 2, 0, 12)12 - AIC:324.41357896753345\n",
      "ARIMA(0, 0, 1)x(0, 3, 0, 12)12 - AIC:157.6453105659618\n",
      "ARIMA(0, 0, 1)x(1, 0, 0, 12)12 - AIC:499.59412606125284\n",
      "ARIMA(0, 0, 1)x(1, 0, 1, 12)12 - AIC:2768.427220528199"
     ]
    },
    {
     "name": "stderr",
     "output_type": "stream",
     "text": [
      "C:\\Users\\Byom Kesh Jha\\Anaconda3\\lib\\site-packages\\statsmodels\\base\\model.py:512: ConvergenceWarning: Maximum Likelihood optimization failed to converge. Check mle_retvals\n",
      "  \"Check mle_retvals\", ConvergenceWarning)\n"
     ]
    },
    {
     "name": "stdout",
     "output_type": "stream",
     "text": [
      "\n",
      "ARIMA(0, 0, 1)x(1, 1, 0, 12)12 - AIC:319.98848769468674\n",
      "ARIMA(0, 0, 1)x(1, 2, 0, 12)12 - AIC:163.9883442811061\n",
      "ARIMA(0, 0, 1)x(2, 0, 0, 12)12 - AIC:321.96452770331217\n",
      "ARIMA(0, 0, 1)x(2, 0, 1, 12)12 - AIC:933.955646397447\n",
      "ARIMA(0, 0, 1)x(2, 1, 0, 12)12 - AIC:160.85410049250186\n",
      "ARIMA(0, 0, 1)x(3, 0, 0, 12)12 - AIC:160.5988743257085\n",
      "ARIMA(0, 0, 1)x(3, 0, 1, 12)12 - AIC:482.8438038880619\n",
      "ARIMA(0, 0, 2)x(0, 0, 0, 12)12 - AIC:695.9854310935187\n"
     ]
    },
    {
     "name": "stderr",
     "output_type": "stream",
     "text": [
      "C:\\Users\\Byom Kesh Jha\\Anaconda3\\lib\\site-packages\\statsmodels\\base\\model.py:512: ConvergenceWarning: Maximum Likelihood optimization failed to converge. Check mle_retvals\n",
      "  \"Check mle_retvals\", ConvergenceWarning)\n"
     ]
    },
    {
     "name": "stdout",
     "output_type": "stream",
     "text": [
      "ARIMA(0, 0, 2)x(0, 0, 1, 12)12 - AIC:2673.901135340974\n",
      "ARIMA(0, 0, 2)x(0, 1, 0, 12)12 - AIC:455.2093474618755\n",
      "ARIMA(0, 0, 2)x(0, 2, 0, 12)12 - AIC:311.8417385725417\n",
      "ARIMA(0, 0, 2)x(0, 3, 0, 12)12 - AIC:143.7545609994846\n",
      "ARIMA(0, 0, 2)x(1, 0, 0, 12)12 - AIC:501.01287864382004"
     ]
    },
    {
     "name": "stderr",
     "output_type": "stream",
     "text": [
      "C:\\Users\\Byom Kesh Jha\\Anaconda3\\lib\\site-packages\\statsmodels\\base\\model.py:512: ConvergenceWarning: Maximum Likelihood optimization failed to converge. Check mle_retvals\n",
      "  \"Check mle_retvals\", ConvergenceWarning)\n",
      "C:\\Users\\Byom Kesh Jha\\Anaconda3\\lib\\site-packages\\statsmodels\\base\\model.py:512: ConvergenceWarning: Maximum Likelihood optimization failed to converge. Check mle_retvals\n",
      "  \"Check mle_retvals\", ConvergenceWarning)\n"
     ]
    },
    {
     "name": "stdout",
     "output_type": "stream",
     "text": [
      "\n",
      "ARIMA(0, 0, 2)x(1, 0, 1, 12)12 - AIC:nan\n",
      "ARIMA(0, 0, 2)x(1, 1, 0, 12)12 - AIC:321.88005844738643\n",
      "ARIMA(0, 0, 2)x(1, 2, 0, 12)12 - AIC:164.1823760406321\n",
      "ARIMA(0, 0, 2)x(2, 0, 0, 12)12 - AIC:323.58227595421715\n"
     ]
    },
    {
     "name": "stderr",
     "output_type": "stream",
     "text": [
      "C:\\Users\\Byom Kesh Jha\\Anaconda3\\lib\\site-packages\\statsmodels\\base\\model.py:512: ConvergenceWarning: Maximum Likelihood optimization failed to converge. Check mle_retvals\n",
      "  \"Check mle_retvals\", ConvergenceWarning)\n"
     ]
    },
    {
     "name": "stdout",
     "output_type": "stream",
     "text": [
      "ARIMA(0, 0, 2)x(2, 0, 1, 12)12 - AIC:951.2157247871435\n",
      "ARIMA(0, 0, 2)x(2, 1, 0, 12)12 - AIC:163.57819530873059\n"
     ]
    },
    {
     "name": "stderr",
     "output_type": "stream",
     "text": [
      "C:\\Users\\Byom Kesh Jha\\Anaconda3\\lib\\site-packages\\statsmodels\\base\\model.py:512: ConvergenceWarning: Maximum Likelihood optimization failed to converge. Check mle_retvals\n",
      "  \"Check mle_retvals\", ConvergenceWarning)\n"
     ]
    },
    {
     "name": "stdout",
     "output_type": "stream",
     "text": [
      "ARIMA(0, 0, 2)x(3, 0, 0, 12)12 - AIC:165.66903163071643\n"
     ]
    },
    {
     "name": "stderr",
     "output_type": "stream",
     "text": [
      "C:\\Users\\Byom Kesh Jha\\Anaconda3\\lib\\site-packages\\statsmodels\\base\\model.py:512: ConvergenceWarning: Maximum Likelihood optimization failed to converge. Check mle_retvals\n",
      "  \"Check mle_retvals\", ConvergenceWarning)\n"
     ]
    },
    {
     "name": "stdout",
     "output_type": "stream",
     "text": [
      "ARIMA(0, 0, 2)x(3, 0, 1, 12)12 - AIC:455.5628836418471\n",
      "ARIMA(0, 0, 3)x(0, 0, 0, 12)12 - AIC:671.173400459789\n",
      "ARIMA(0, 0, 3)x(0, 0, 1, 12)12 - AIC:3058.5576575545583\n",
      "ARIMA(0, 0, 3)x(0, 1, 0, 12)12 - AIC:442.88722307970056\n",
      "ARIMA(0, 0, 3)x(0, 2, 0, 12)12 - AIC:292.9131418534206\n"
     ]
    },
    {
     "name": "stderr",
     "output_type": "stream",
     "text": [
      "C:\\Users\\Byom Kesh Jha\\Anaconda3\\lib\\site-packages\\statsmodels\\base\\model.py:512: ConvergenceWarning: Maximum Likelihood optimization failed to converge. Check mle_retvals\n",
      "  \"Check mle_retvals\", ConvergenceWarning)\n"
     ]
    },
    {
     "name": "stdout",
     "output_type": "stream",
     "text": [
      "ARIMA(0, 0, 3)x(0, 3, 0, 12)12 - AIC:nan\n",
      "ARIMA(0, 0, 3)x(1, 0, 0, 12)12 - AIC:501.813387822813\n",
      "ARIMA(0, 0, 3)x(1, 0, 1, 12)12 - AIC:37064731.46462311\n",
      "ARIMA(0, 0, 3)x(1, 1, 0, 12)12 - AIC:323.3655722236679\n"
     ]
    },
    {
     "name": "stderr",
     "output_type": "stream",
     "text": [
      "C:\\Users\\Byom Kesh Jha\\Anaconda3\\lib\\site-packages\\statsmodels\\base\\model.py:512: ConvergenceWarning: Maximum Likelihood optimization failed to converge. Check mle_retvals\n",
      "  \"Check mle_retvals\", ConvergenceWarning)\n"
     ]
    },
    {
     "name": "stdout",
     "output_type": "stream",
     "text": [
      "ARIMA(0, 0, 3)x(1, 2, 0, 12)12 - AIC:160.41212277111634\n",
      "ARIMA(0, 0, 3)x(2, 0, 0, 12)12 - AIC:324.9625509206421\n",
      "ARIMA(0, 0, 3)x(2, 0, 1, 12)12 - AIC:938.8778541564589\n",
      "ARIMA(0, 0, 3)x(2, 1, 0, 12)12 - AIC:162.32415316050862\n"
     ]
    },
    {
     "name": "stderr",
     "output_type": "stream",
     "text": [
      "C:\\Users\\Byom Kesh Jha\\Anaconda3\\lib\\site-packages\\statsmodels\\base\\model.py:512: ConvergenceWarning: Maximum Likelihood optimization failed to converge. Check mle_retvals\n",
      "  \"Check mle_retvals\", ConvergenceWarning)\n"
     ]
    },
    {
     "name": "stdout",
     "output_type": "stream",
     "text": [
      "ARIMA(0, 0, 3)x(3, 0, 0, 12)12 - AIC:161.08589885541718\n"
     ]
    },
    {
     "name": "stderr",
     "output_type": "stream",
     "text": [
      "C:\\Users\\Byom Kesh Jha\\Anaconda3\\lib\\site-packages\\statsmodels\\base\\model.py:512: ConvergenceWarning: Maximum Likelihood optimization failed to converge. Check mle_retvals\n",
      "  \"Check mle_retvals\", ConvergenceWarning)\n"
     ]
    },
    {
     "name": "stdout",
     "output_type": "stream",
     "text": [
      "ARIMA(0, 0, 3)x(3, 0, 1, 12)12 - AIC:476.63896692049343\n",
      "ARIMA(0, 0, 4)x(0, 0, 0, 12)12 - AIC:648.2823802725429\n",
      "ARIMA(0, 0, 4)x(0, 0, 1, 12)12 - AIC:2674.2120379160406\n",
      "ARIMA(0, 0, 4)x(0, 1, 0, 12)12 - AIC:426.91457357571375\n",
      "ARIMA(0, 0, 4)x(0, 2, 0, 12)12 - AIC:280.9088885613252\n"
     ]
    },
    {
     "name": "stderr",
     "output_type": "stream",
     "text": [
      "C:\\Users\\Byom Kesh Jha\\Anaconda3\\lib\\site-packages\\statsmodels\\base\\model.py:512: ConvergenceWarning: Maximum Likelihood optimization failed to converge. Check mle_retvals\n",
      "  \"Check mle_retvals\", ConvergenceWarning)\n"
     ]
    },
    {
     "name": "stdout",
     "output_type": "stream",
     "text": [
      "ARIMA(0, 0, 4)x(1, 0, 0, 12)12 - AIC:503.45872333106354\n",
      "ARIMA(0, 0, 4)x(1, 0, 1, 12)12 - AIC:2514.966394877131\n",
      "ARIMA(0, 0, 4)x(1, 1, 0, 12)12 - AIC:319.23638152241176\n"
     ]
    },
    {
     "name": "stderr",
     "output_type": "stream",
     "text": [
      "C:\\Users\\Byom Kesh Jha\\Anaconda3\\lib\\site-packages\\statsmodels\\base\\model.py:512: ConvergenceWarning: Maximum Likelihood optimization failed to converge. Check mle_retvals\n",
      "  \"Check mle_retvals\", ConvergenceWarning)\n"
     ]
    },
    {
     "name": "stdout",
     "output_type": "stream",
     "text": [
      "ARIMA(0, 0, 4)x(1, 2, 0, 12)12 - AIC:159.87834802995525\n"
     ]
    },
    {
     "name": "stderr",
     "output_type": "stream",
     "text": [
      "C:\\Users\\Byom Kesh Jha\\Anaconda3\\lib\\site-packages\\statsmodels\\base\\model.py:512: ConvergenceWarning: Maximum Likelihood optimization failed to converge. Check mle_retvals\n",
      "  \"Check mle_retvals\", ConvergenceWarning)\n"
     ]
    },
    {
     "name": "stdout",
     "output_type": "stream",
     "text": [
      "ARIMA(0, 0, 4)x(2, 0, 0, 12)12 - AIC:329.0002548238879\n"
     ]
    },
    {
     "name": "stderr",
     "output_type": "stream",
     "text": [
      "C:\\Users\\Byom Kesh Jha\\Anaconda3\\lib\\site-packages\\statsmodels\\base\\model.py:512: ConvergenceWarning: Maximum Likelihood optimization failed to converge. Check mle_retvals\n",
      "  \"Check mle_retvals\", ConvergenceWarning)\n"
     ]
    },
    {
     "name": "stdout",
     "output_type": "stream",
     "text": [
      "ARIMA(0, 0, 4)x(2, 0, 1, 12)12 - AIC:903.2739523473223\n"
     ]
    },
    {
     "name": "stderr",
     "output_type": "stream",
     "text": [
      "C:\\Users\\Byom Kesh Jha\\Anaconda3\\lib\\site-packages\\statsmodels\\base\\model.py:512: ConvergenceWarning: Maximum Likelihood optimization failed to converge. Check mle_retvals\n",
      "  \"Check mle_retvals\", ConvergenceWarning)\n"
     ]
    },
    {
     "name": "stdout",
     "output_type": "stream",
     "text": [
      "ARIMA(0, 0, 4)x(2, 1, 0, 12)12 - AIC:160.0007153169632\n"
     ]
    },
    {
     "name": "stderr",
     "output_type": "stream",
     "text": [
      "C:\\Users\\Byom Kesh Jha\\Anaconda3\\lib\\site-packages\\statsmodels\\base\\model.py:512: ConvergenceWarning: Maximum Likelihood optimization failed to converge. Check mle_retvals\n",
      "  \"Check mle_retvals\", ConvergenceWarning)\n"
     ]
    },
    {
     "name": "stdout",
     "output_type": "stream",
     "text": [
      "ARIMA(0, 0, 4)x(3, 0, 0, 12)12 - AIC:170.94123583548827\n"
     ]
    },
    {
     "name": "stderr",
     "output_type": "stream",
     "text": [
      "C:\\Users\\Byom Kesh Jha\\Anaconda3\\lib\\site-packages\\statsmodels\\base\\model.py:512: ConvergenceWarning: Maximum Likelihood optimization failed to converge. Check mle_retvals\n",
      "  \"Check mle_retvals\", ConvergenceWarning)\n"
     ]
    },
    {
     "name": "stdout",
     "output_type": "stream",
     "text": [
      "ARIMA(0, 0, 4)x(3, 0, 1, 12)12 - AIC:494.7522428521477\n",
      "ARIMA(0, 1, 0)x(0, 0, 0, 12)12 - AIC:677.894766843944\n"
     ]
    },
    {
     "name": "stderr",
     "output_type": "stream",
     "text": [
      "C:\\Users\\Byom Kesh Jha\\Anaconda3\\lib\\site-packages\\statsmodels\\base\\model.py:512: ConvergenceWarning: Maximum Likelihood optimization failed to converge. Check mle_retvals\n",
      "  \"Check mle_retvals\", ConvergenceWarning)\n"
     ]
    },
    {
     "name": "stdout",
     "output_type": "stream",
     "text": [
      "ARIMA(0, 1, 0)x(0, 0, 1, 12)12 - AIC:1378.5486237111134\n",
      "ARIMA(0, 1, 0)x(0, 1, 0, 12)12 - AIC:486.63785671879367\n",
      "ARIMA(0, 1, 0)x(0, 2, 0, 12)12 - AIC:334.97781226395483\n",
      "ARIMA(0, 1, 0)x(0, 3, 0, 12)12 - AIC:158.4812195658198\n",
      "ARIMA(0, 1, 0)x(0, 4, 0, 12)12 - AIC:2.0\n",
      "ARIMA(0, 1, 0)x(1, 0, 0, 12)12 - AIC:497.78896630044073\n"
     ]
    },
    {
     "name": "stderr",
     "output_type": "stream",
     "text": [
      "C:\\Users\\Byom Kesh Jha\\Anaconda3\\lib\\site-packages\\statsmodels\\base\\model.py:512: ConvergenceWarning: Maximum Likelihood optimization failed to converge. Check mle_retvals\n",
      "  \"Check mle_retvals\", ConvergenceWarning)\n"
     ]
    },
    {
     "name": "stdout",
     "output_type": "stream",
     "text": [
      "ARIMA(0, 1, 0)x(1, 0, 1, 12)12 - AIC:1022.8611228052164\n",
      "ARIMA(0, 1, 0)x(1, 1, 0, 12)12 - AIC:319.7714068109211\n",
      "ARIMA(0, 1, 0)x(1, 2, 0, 12)12 - AIC:152.42852106596337\n",
      "ARIMA(0, 1, 0)x(2, 0, 0, 12)12 - AIC:317.69402237661177\n"
     ]
    },
    {
     "name": "stderr",
     "output_type": "stream",
     "text": [
      "C:\\Users\\Byom Kesh Jha\\Anaconda3\\lib\\site-packages\\statsmodels\\base\\model.py:512: ConvergenceWarning: Maximum Likelihood optimization failed to converge. Check mle_retvals\n",
      "  \"Check mle_retvals\", ConvergenceWarning)\n"
     ]
    },
    {
     "name": "stdout",
     "output_type": "stream",
     "text": [
      "ARIMA(0, 1, 0)x(2, 0, 1, 12)12 - AIC:943.8271320228372\n",
      "ARIMA(0, 1, 0)x(2, 1, 0, 12)12 - AIC:153.33829187964875\n",
      "ARIMA(0, 1, 0)x(3, 0, 0, 12)12 - AIC:150.92269523125213\n"
     ]
    },
    {
     "name": "stderr",
     "output_type": "stream",
     "text": [
      "C:\\Users\\Byom Kesh Jha\\Anaconda3\\lib\\site-packages\\statsmodels\\base\\model.py:512: ConvergenceWarning: Maximum Likelihood optimization failed to converge. Check mle_retvals\n",
      "  \"Check mle_retvals\", ConvergenceWarning)\n"
     ]
    },
    {
     "name": "stdout",
     "output_type": "stream",
     "text": [
      "ARIMA(0, 1, 0)x(3, 0, 1, 12)12 - AIC:475.86565527850786\n",
      "ARIMA(0, 1, 1)x(0, 0, 0, 12)12 - AIC:649.905617681726\n",
      "ARIMA(0, 1, 1)x(0, 0, 1, 12)12 - AIC:3216.0197782079413\n",
      "ARIMA(0, 1, 1)x(0, 1, 0, 12)12 - AIC:458.8705548482984\n",
      "ARIMA(0, 1, 1)x(0, 2, 0, 12)12 - AIC:317.1957697239915\n",
      "ARIMA(0, 1, 1)x(0, 3, 0, 12)12 - AIC:144.8932958068445\n",
      "ARIMA(0, 1, 1)x(1, 0, 0, 12)12 - AIC:486.1832977442631\n"
     ]
    },
    {
     "name": "stderr",
     "output_type": "stream",
     "text": [
      "C:\\Users\\Byom Kesh Jha\\Anaconda3\\lib\\site-packages\\statsmodels\\base\\model.py:512: ConvergenceWarning: Maximum Likelihood optimization failed to converge. Check mle_retvals\n",
      "  \"Check mle_retvals\", ConvergenceWarning)\n"
     ]
    },
    {
     "name": "stdout",
     "output_type": "stream",
     "text": [
      "ARIMA(0, 1, 1)x(1, 0, 1, 12)12 - AIC:2589.717123007444\n",
      "ARIMA(0, 1, 1)x(1, 1, 0, 12)12 - AIC:310.7574368417452\n",
      "ARIMA(0, 1, 1)x(1, 2, 0, 12)12 - AIC:154.41754102592117\n",
      "ARIMA(0, 1, 1)x(2, 0, 0, 12)12 - AIC:311.85906742412305\n",
      "ARIMA(0, 1, 1)x(2, 0, 1, 12)12 - AIC:949.7786979217994\n",
      "ARIMA(0, 1, 1)x(2, 1, 0, 12)12 - AIC:149.57227369321595\n",
      "ARIMA(0, 1, 1)x(3, 0, 0, 12)12 - AIC:151.14733618310905\n"
     ]
    },
    {
     "name": "stderr",
     "output_type": "stream",
     "text": [
      "C:\\Users\\Byom Kesh Jha\\Anaconda3\\lib\\site-packages\\statsmodels\\base\\model.py:512: ConvergenceWarning: Maximum Likelihood optimization failed to converge. Check mle_retvals\n",
      "  \"Check mle_retvals\", ConvergenceWarning)\n"
     ]
    },
    {
     "name": "stdout",
     "output_type": "stream",
     "text": [
      "ARIMA(0, 1, 1)x(3, 0, 1, 12)12 - AIC:502.0770996740499\n",
      "ARIMA(0, 1, 2)x(0, 0, 0, 12)12 - AIC:634.8844283595672\n",
      "ARIMA(0, 1, 2)x(0, 0, 1, 12)12 - AIC:2528.892023455931\n",
      "ARIMA(0, 1, 2)x(0, 1, 0, 12)12 - AIC:447.5857396952682\n",
      "ARIMA(0, 1, 2)x(0, 2, 0, 12)12 - AIC:305.03445359431305\n",
      "ARIMA(0, 1, 2)x(0, 3, 0, 12)12 - AIC:131.5816906900991\n",
      "ARIMA(0, 1, 2)x(1, 0, 0, 12)12 - AIC:487.4986912678718\n"
     ]
    },
    {
     "name": "stderr",
     "output_type": "stream",
     "text": [
      "C:\\Users\\Byom Kesh Jha\\Anaconda3\\lib\\site-packages\\statsmodels\\base\\model.py:512: ConvergenceWarning: Maximum Likelihood optimization failed to converge. Check mle_retvals\n",
      "  \"Check mle_retvals\", ConvergenceWarning)\n"
     ]
    },
    {
     "name": "stdout",
     "output_type": "stream",
     "text": [
      "ARIMA(0, 1, 2)x(1, 0, 1, 12)12 - AIC:nan\n",
      "ARIMA(0, 1, 2)x(1, 1, 0, 12)12 - AIC:310.73389307263176\n",
      "ARIMA(0, 1, 2)x(1, 2, 0, 12)12 - AIC:154.697010343263\n",
      "ARIMA(0, 1, 2)x(2, 0, 0, 12)12 - AIC:313.4823847170302\n"
     ]
    },
    {
     "name": "stderr",
     "output_type": "stream",
     "text": [
      "C:\\Users\\Byom Kesh Jha\\Anaconda3\\lib\\site-packages\\statsmodels\\base\\model.py:512: ConvergenceWarning: Maximum Likelihood optimization failed to converge. Check mle_retvals\n",
      "  \"Check mle_retvals\", ConvergenceWarning)\n"
     ]
    },
    {
     "name": "stdout",
     "output_type": "stream",
     "text": [
      "ARIMA(0, 1, 2)x(2, 0, 1, 12)12 - AIC:832.7700875232464\n",
      "ARIMA(0, 1, 2)x(2, 1, 0, 12)12 - AIC:151.19056459672277\n",
      "ARIMA(0, 1, 2)x(3, 0, 0, 12)12 - AIC:151.07590575766608\n"
     ]
    },
    {
     "name": "stderr",
     "output_type": "stream",
     "text": [
      "C:\\Users\\Byom Kesh Jha\\Anaconda3\\lib\\site-packages\\statsmodels\\base\\model.py:512: ConvergenceWarning: Maximum Likelihood optimization failed to converge. Check mle_retvals\n",
      "  \"Check mle_retvals\", ConvergenceWarning)\n"
     ]
    },
    {
     "name": "stdout",
     "output_type": "stream",
     "text": [
      "ARIMA(0, 1, 2)x(3, 0, 1, 12)12 - AIC:464.4585250820399\n",
      "ARIMA(0, 1, 3)x(0, 0, 0, 12)12 - AIC:623.8908827504946\n",
      "ARIMA(0, 1, 3)x(0, 0, 1, 12)12 - AIC:nan\n"
     ]
    },
    {
     "name": "stderr",
     "output_type": "stream",
     "text": [
      "C:\\Users\\Byom Kesh Jha\\Anaconda3\\lib\\site-packages\\statsmodels\\base\\model.py:512: ConvergenceWarning: Maximum Likelihood optimization failed to converge. Check mle_retvals\n",
      "  \"Check mle_retvals\", ConvergenceWarning)\n"
     ]
    },
    {
     "name": "stdout",
     "output_type": "stream",
     "text": [
      "ARIMA(0, 1, 3)x(0, 1, 0, 12)12 - AIC:435.63547910308995\n",
      "ARIMA(0, 1, 3)x(0, 2, 0, 12)12 - AIC:289.8317148985711\n"
     ]
    },
    {
     "name": "stderr",
     "output_type": "stream",
     "text": [
      "C:\\Users\\Byom Kesh Jha\\Anaconda3\\lib\\site-packages\\statsmodels\\base\\model.py:512: ConvergenceWarning: Maximum Likelihood optimization failed to converge. Check mle_retvals\n",
      "  \"Check mle_retvals\", ConvergenceWarning)\n"
     ]
    },
    {
     "name": "stdout",
     "output_type": "stream",
     "text": [
      "ARIMA(0, 1, 3)x(0, 3, 0, 12)12 - AIC:nan\n",
      "ARIMA(0, 1, 3)x(1, 0, 0, 12)12 - AIC:488.7886698857092\n",
      "ARIMA(0, 1, 3)x(1, 0, 1, 12)12 - AIC:2436.6899514137367\n",
      "ARIMA(0, 1, 3)x(1, 1, 0, 12)12 - AIC:311.3784705304848\n",
      "ARIMA(0, 1, 3)x(1, 2, 0, 12)12 - AIC:153.1046366527998\n",
      "ARIMA(0, 1, 3)x(2, 0, 0, 12)12 - AIC:315.0720156503399\n"
     ]
    },
    {
     "name": "stderr",
     "output_type": "stream",
     "text": [
      "C:\\Users\\Byom Kesh Jha\\Anaconda3\\lib\\site-packages\\statsmodels\\base\\model.py:512: ConvergenceWarning: Maximum Likelihood optimization failed to converge. Check mle_retvals\n",
      "  \"Check mle_retvals\", ConvergenceWarning)\n"
     ]
    },
    {
     "name": "stdout",
     "output_type": "stream",
     "text": [
      "ARIMA(0, 1, 3)x(2, 0, 1, 12)12 - AIC:1092.1798599084682\n",
      "ARIMA(0, 1, 3)x(2, 1, 0, 12)12 - AIC:152.88160336174207\n"
     ]
    },
    {
     "name": "stderr",
     "output_type": "stream",
     "text": [
      "C:\\Users\\Byom Kesh Jha\\Anaconda3\\lib\\site-packages\\statsmodels\\base\\model.py:512: ConvergenceWarning: Maximum Likelihood optimization failed to converge. Check mle_retvals\n",
      "  \"Check mle_retvals\", ConvergenceWarning)\n"
     ]
    },
    {
     "name": "stdout",
     "output_type": "stream",
     "text": [
      "ARIMA(0, 1, 3)x(3, 0, 0, 12)12 - AIC:155.42834925037437\n"
     ]
    },
    {
     "name": "stderr",
     "output_type": "stream",
     "text": [
      "C:\\Users\\Byom Kesh Jha\\Anaconda3\\lib\\site-packages\\statsmodels\\base\\model.py:512: ConvergenceWarning: Maximum Likelihood optimization failed to converge. Check mle_retvals\n",
      "  \"Check mle_retvals\", ConvergenceWarning)\n"
     ]
    },
    {
     "name": "stdout",
     "output_type": "stream",
     "text": [
      "ARIMA(0, 1, 3)x(3, 0, 1, 12)12 - AIC:449.17663748911747\n",
      "ARIMA(0, 1, 4)x(0, 0, 0, 12)12 - AIC:609.4034270589219\n",
      "ARIMA(0, 1, 4)x(0, 0, 1, 12)12 - AIC:2372.5904740264814\n",
      "ARIMA(0, 1, 4)x(0, 1, 0, 12)12 - AIC:420.1040344010331\n",
      "ARIMA(0, 1, 4)x(0, 2, 0, 12)12 - AIC:268.06154462824907\n",
      "ARIMA(0, 1, 4)x(1, 0, 0, 12)12 - AIC:490.5751335467391\n",
      "ARIMA(0, 1, 4)x(1, 0, 1, 12)12 - AIC:2359.0374524117747\n",
      "ARIMA(0, 1, 4)x(1, 1, 0, 12)12 - AIC:313.2853575616246\n"
     ]
    },
    {
     "name": "stderr",
     "output_type": "stream",
     "text": [
      "C:\\Users\\Byom Kesh Jha\\Anaconda3\\lib\\site-packages\\statsmodels\\base\\model.py:512: ConvergenceWarning: Maximum Likelihood optimization failed to converge. Check mle_retvals\n",
      "  \"Check mle_retvals\", ConvergenceWarning)\n"
     ]
    },
    {
     "name": "stdout",
     "output_type": "stream",
     "text": [
      "ARIMA(0, 1, 4)x(1, 2, 0, 12)12 - AIC:147.43893678595688\n",
      "ARIMA(0, 1, 4)x(2, 0, 0, 12)12 - AIC:314.9261651784713\n"
     ]
    },
    {
     "name": "stderr",
     "output_type": "stream",
     "text": [
      "C:\\Users\\Byom Kesh Jha\\Anaconda3\\lib\\site-packages\\statsmodels\\base\\model.py:512: ConvergenceWarning: Maximum Likelihood optimization failed to converge. Check mle_retvals\n",
      "  \"Check mle_retvals\", ConvergenceWarning)\n"
     ]
    },
    {
     "name": "stdout",
     "output_type": "stream",
     "text": [
      "ARIMA(0, 1, 4)x(2, 0, 1, 12)12 - AIC:nan\n"
     ]
    },
    {
     "name": "stderr",
     "output_type": "stream",
     "text": [
      "C:\\Users\\Byom Kesh Jha\\Anaconda3\\lib\\site-packages\\statsmodels\\base\\model.py:512: ConvergenceWarning: Maximum Likelihood optimization failed to converge. Check mle_retvals\n",
      "  \"Check mle_retvals\", ConvergenceWarning)\n"
     ]
    },
    {
     "name": "stdout",
     "output_type": "stream",
     "text": [
      "ARIMA(0, 1, 4)x(2, 1, 0, 12)12 - AIC:152.65009681738022\n",
      "ARIMA(0, 1, 4)x(3, 0, 0, 12)12 - AIC:152.93531947781642\n",
      "ARIMA(0, 1, 4)x(3, 0, 1, 12)12 - AIC:872.5072687644881\n",
      "ARIMA(0, 2, 0)x(0, 0, 0, 12)12 - AIC:710.1125557214733\n"
     ]
    },
    {
     "name": "stderr",
     "output_type": "stream",
     "text": [
      "C:\\Users\\Byom Kesh Jha\\Anaconda3\\lib\\site-packages\\statsmodels\\base\\model.py:512: ConvergenceWarning: Maximum Likelihood optimization failed to converge. Check mle_retvals\n",
      "  \"Check mle_retvals\", ConvergenceWarning)\n"
     ]
    },
    {
     "name": "stdout",
     "output_type": "stream",
     "text": [
      "ARIMA(0, 2, 0)x(0, 0, 1, 12)12 - AIC:1282.1201847181405\n",
      "ARIMA(0, 2, 0)x(0, 1, 0, 12)12 - AIC:509.89680954589835\n",
      "ARIMA(0, 2, 0)x(0, 2, 0, 12)12 - AIC:342.9544199525339\n",
      "ARIMA(0, 2, 0)x(0, 3, 0, 12)12 - AIC:146.73511337298146\n",
      "ARIMA(0, 2, 0)x(0, 4, 0, 12)12 - AIC:2.0\n"
     ]
    },
    {
     "name": "stderr",
     "output_type": "stream",
     "text": [
      "C:\\Users\\Byom Kesh Jha\\Anaconda3\\lib\\site-packages\\statsmodels\\base\\model.py:512: ConvergenceWarning: Maximum Likelihood optimization failed to converge. Check mle_retvals\n",
      "  \"Check mle_retvals\", ConvergenceWarning)\n"
     ]
    },
    {
     "name": "stdout",
     "output_type": "stream",
     "text": [
      "ARIMA(0, 2, 0)x(1, 0, 0, 12)12 - AIC:520.887712617653\n",
      "ARIMA(0, 2, 0)x(1, 0, 1, 12)12 - AIC:1377.687712082225\n",
      "ARIMA(0, 2, 0)x(1, 1, 0, 12)12 - AIC:331.2504844685114\n",
      "ARIMA(0, 2, 0)x(1, 2, 0, 12)12 - AIC:141.6839867329763\n",
      "ARIMA(0, 2, 0)x(2, 0, 0, 12)12 - AIC:327.59550043149045"
     ]
    },
    {
     "name": "stderr",
     "output_type": "stream",
     "text": [
      "C:\\Users\\Byom Kesh Jha\\Anaconda3\\lib\\site-packages\\statsmodels\\base\\model.py:512: ConvergenceWarning: Maximum Likelihood optimization failed to converge. Check mle_retvals\n",
      "  \"Check mle_retvals\", ConvergenceWarning)\n"
     ]
    },
    {
     "name": "stdout",
     "output_type": "stream",
     "text": [
      "\n",
      "ARIMA(0, 2, 0)x(2, 0, 1, 12)12 - AIC:870.7296292597399\n",
      "ARIMA(0, 2, 0)x(2, 1, 0, 12)12 - AIC:143.5274498286222\n",
      "ARIMA(0, 2, 0)x(3, 0, 0, 12)12 - AIC:143.82539641758316\n",
      "ARIMA(0, 2, 0)x(3, 0, 1, 12)12 - AIC:145.8270741908762\n",
      "ARIMA(0, 2, 1)x(0, 0, 0, 12)12 - AIC:652.8685965207615\n",
      "ARIMA(0, 2, 1)x(0, 0, 1, 12)12 - AIC:2737.228394106218\n",
      "ARIMA(0, 2, 1)x(0, 1, 0, 12)12 - AIC:463.0346544279314\n",
      "ARIMA(0, 2, 1)x(0, 2, 0, 12)12 - AIC:310.32852239715925\n",
      "ARIMA(0, 2, 1)x(0, 3, 0, 12)12 - AIC:128.98280134821943\n",
      "ARIMA(0, 2, 1)x(1, 0, 0, 12)12 - AIC:489.9458560734389\n",
      "ARIMA(0, 2, 1)x(1, 0, 1, 12)12 - AIC:2538.7954965069994\n",
      "ARIMA(0, 2, 1)x(1, 1, 0, 12)12 - AIC:310.98647286926473\n",
      "ARIMA(0, 2, 1)x(1, 2, 0, 12)12 - AIC:143.27935910501384\n",
      "ARIMA(0, 2, 1)x(2, 0, 0, 12)12 - AIC:310.505624470936\n"
     ]
    },
    {
     "name": "stderr",
     "output_type": "stream",
     "text": [
      "C:\\Users\\Byom Kesh Jha\\Anaconda3\\lib\\site-packages\\statsmodels\\base\\model.py:512: ConvergenceWarning: Maximum Likelihood optimization failed to converge. Check mle_retvals\n",
      "  \"Check mle_retvals\", ConvergenceWarning)\n"
     ]
    },
    {
     "name": "stdout",
     "output_type": "stream",
     "text": [
      "ARIMA(0, 2, 1)x(2, 0, 1, 12)12 - AIC:1039.696750010187\n",
      "ARIMA(0, 2, 1)x(2, 1, 0, 12)12 - AIC:142.2987308921793\n",
      "ARIMA(0, 2, 1)x(3, 0, 0, 12)12 - AIC:141.45039303514545\n",
      "ARIMA(0, 2, 1)x(3, 0, 1, 12)12 - AIC:142.2873273890629\n",
      "ARIMA(0, 2, 2)x(0, 0, 0, 12)12 - AIC:628.8859101988204\n",
      "ARIMA(0, 2, 2)x(0, 0, 1, 12)12 - AIC:2434.543764008046\n",
      "ARIMA(0, 2, 2)x(0, 1, 0, 12)12 - AIC:440.18034423491514\n",
      "ARIMA(0, 2, 2)x(0, 2, 0, 12)12 - AIC:294.7466797054799\n",
      "ARIMA(0, 2, 2)x(0, 3, 0, 12)12 - AIC:120.94673233239752\n",
      "ARIMA(0, 2, 2)x(1, 0, 0, 12)12 - AIC:482.90037026785023\n",
      "ARIMA(0, 2, 2)x(1, 0, 1, 12)12 - AIC:2536.8082146412685\n",
      "ARIMA(0, 2, 2)x(1, 1, 0, 12)12 - AIC:305.8984452688966\n",
      "ARIMA(0, 2, 2)x(1, 2, 0, 12)12 - AIC:145.59346405576963\n",
      "ARIMA(0, 2, 2)x(2, 0, 0, 12)12 - AIC:306.3280772163846\n"
     ]
    },
    {
     "name": "stderr",
     "output_type": "stream",
     "text": [
      "C:\\Users\\Byom Kesh Jha\\Anaconda3\\lib\\site-packages\\statsmodels\\base\\model.py:512: ConvergenceWarning: Maximum Likelihood optimization failed to converge. Check mle_retvals\n",
      "  \"Check mle_retvals\", ConvergenceWarning)\n"
     ]
    },
    {
     "name": "stdout",
     "output_type": "stream",
     "text": [
      "ARIMA(0, 2, 2)x(2, 0, 1, 12)12 - AIC:972.2832298113411\n"
     ]
    },
    {
     "name": "stderr",
     "output_type": "stream",
     "text": [
      "C:\\Users\\Byom Kesh Jha\\Anaconda3\\lib\\site-packages\\statsmodels\\base\\model.py:512: ConvergenceWarning: Maximum Likelihood optimization failed to converge. Check mle_retvals\n",
      "  \"Check mle_retvals\", ConvergenceWarning)\n"
     ]
    },
    {
     "name": "stdout",
     "output_type": "stream",
     "text": [
      "ARIMA(0, 2, 2)x(2, 1, 0, 12)12 - AIC:140.84551841861423\n",
      "ARIMA(0, 2, 2)x(3, 0, 0, 12)12 - AIC:142.3574787975607\n",
      "ARIMA(0, 2, 2)x(3, 0, 1, 12)12 - AIC:144.0371470929863\n",
      "ARIMA(0, 2, 3)x(0, 0, 0, 12)12 - AIC:615.2911890078637\n",
      "ARIMA(0, 2, 3)x(0, 0, 1, 12)12 - AIC:2357.032844680916\n",
      "ARIMA(0, 2, 3)x(0, 1, 0, 12)12 - AIC:427.99542064624774\n",
      "ARIMA(0, 2, 3)x(0, 2, 0, 12)12 - AIC:280.37685131490576\n"
     ]
    },
    {
     "name": "stderr",
     "output_type": "stream",
     "text": [
      "C:\\Users\\Byom Kesh Jha\\Anaconda3\\lib\\site-packages\\statsmodels\\base\\model.py:512: ConvergenceWarning: Maximum Likelihood optimization failed to converge. Check mle_retvals\n",
      "  \"Check mle_retvals\", ConvergenceWarning)\n"
     ]
    },
    {
     "name": "stdout",
     "output_type": "stream",
     "text": [
      "ARIMA(0, 2, 3)x(0, 3, 0, 12)12 - AIC:nan\n",
      "ARIMA(0, 2, 3)x(1, 0, 0, 12)12 - AIC:483.9613457936461\n",
      "ARIMA(0, 2, 3)x(1, 0, 1, 12)12 - AIC:2381.816565819909\n",
      "ARIMA(0, 2, 3)x(1, 1, 0, 12)12 - AIC:307.5933462713067\n",
      "ARIMA(0, 2, 3)x(1, 2, 0, 12)12 - AIC:142.02634874601637\n"
     ]
    },
    {
     "name": "stderr",
     "output_type": "stream",
     "text": [
      "C:\\Users\\Byom Kesh Jha\\Anaconda3\\lib\\site-packages\\statsmodels\\base\\model.py:512: ConvergenceWarning: Maximum Likelihood optimization failed to converge. Check mle_retvals\n",
      "  \"Check mle_retvals\", ConvergenceWarning)\n"
     ]
    },
    {
     "name": "stdout",
     "output_type": "stream",
     "text": [
      "ARIMA(0, 2, 3)x(2, 0, 0, 12)12 - AIC:308.1914823140664\n"
     ]
    },
    {
     "name": "stderr",
     "output_type": "stream",
     "text": [
      "C:\\Users\\Byom Kesh Jha\\Anaconda3\\lib\\site-packages\\statsmodels\\base\\model.py:512: ConvergenceWarning: Maximum Likelihood optimization failed to converge. Check mle_retvals\n",
      "  \"Check mle_retvals\", ConvergenceWarning)\n"
     ]
    },
    {
     "name": "stdout",
     "output_type": "stream",
     "text": [
      "ARIMA(0, 2, 3)x(2, 0, 1, 12)12 - AIC:630.3294043956715\n"
     ]
    },
    {
     "name": "stderr",
     "output_type": "stream",
     "text": [
      "C:\\Users\\Byom Kesh Jha\\Anaconda3\\lib\\site-packages\\statsmodels\\base\\model.py:512: ConvergenceWarning: Maximum Likelihood optimization failed to converge. Check mle_retvals\n",
      "  \"Check mle_retvals\", ConvergenceWarning)\n"
     ]
    },
    {
     "name": "stdout",
     "output_type": "stream",
     "text": [
      "ARIMA(0, 2, 3)x(2, 1, 0, 12)12 - AIC:147.37642183950683\n"
     ]
    },
    {
     "name": "stderr",
     "output_type": "stream",
     "text": [
      "C:\\Users\\Byom Kesh Jha\\Anaconda3\\lib\\site-packages\\statsmodels\\base\\model.py:512: ConvergenceWarning: Maximum Likelihood optimization failed to converge. Check mle_retvals\n",
      "  \"Check mle_retvals\", ConvergenceWarning)\n"
     ]
    },
    {
     "name": "stdout",
     "output_type": "stream",
     "text": [
      "ARIMA(0, 2, 3)x(3, 0, 0, 12)12 - AIC:143.91335038698952\n"
     ]
    },
    {
     "name": "stderr",
     "output_type": "stream",
     "text": [
      "C:\\Users\\Byom Kesh Jha\\Anaconda3\\lib\\site-packages\\statsmodels\\base\\model.py:512: ConvergenceWarning: Maximum Likelihood optimization failed to converge. Check mle_retvals\n",
      "  \"Check mle_retvals\", ConvergenceWarning)\n"
     ]
    },
    {
     "name": "stdout",
     "output_type": "stream",
     "text": [
      "ARIMA(0, 2, 3)x(3, 0, 1, 12)12 - AIC:145.73240981227863\n",
      "ARIMA(0, 2, 4)x(0, 0, 0, 12)12 - AIC:604.086512170696\n",
      "ARIMA(0, 2, 4)x(0, 0, 1, 12)12 - AIC:2498.342984737176\n",
      "ARIMA(0, 2, 4)x(0, 1, 0, 12)12 - AIC:413.4703498519029\n",
      "ARIMA(0, 2, 4)x(0, 2, 0, 12)12 - AIC:257.38650955741247\n",
      "ARIMA(0, 2, 4)x(1, 0, 0, 12)12 - AIC:484.9437750675407\n",
      "ARIMA(0, 2, 4)x(1, 0, 1, 12)12 - AIC:2307.223221088415\n"
     ]
    },
    {
     "name": "stderr",
     "output_type": "stream",
     "text": [
      "C:\\Users\\Byom Kesh Jha\\Anaconda3\\lib\\site-packages\\statsmodels\\base\\model.py:512: ConvergenceWarning: Maximum Likelihood optimization failed to converge. Check mle_retvals\n",
      "  \"Check mle_retvals\", ConvergenceWarning)\n"
     ]
    },
    {
     "name": "stdout",
     "output_type": "stream",
     "text": [
      "ARIMA(0, 2, 4)x(1, 1, 0, 12)12 - AIC:309.09391703383267\n"
     ]
    },
    {
     "name": "stderr",
     "output_type": "stream",
     "text": [
      "C:\\Users\\Byom Kesh Jha\\Anaconda3\\lib\\site-packages\\statsmodels\\base\\model.py:512: ConvergenceWarning: Maximum Likelihood optimization failed to converge. Check mle_retvals\n",
      "  \"Check mle_retvals\", ConvergenceWarning)\n"
     ]
    },
    {
     "name": "stdout",
     "output_type": "stream",
     "text": [
      "ARIMA(0, 2, 4)x(1, 2, 0, 12)12 - AIC:134.16795992534657\n"
     ]
    },
    {
     "name": "stderr",
     "output_type": "stream",
     "text": [
      "C:\\Users\\Byom Kesh Jha\\Anaconda3\\lib\\site-packages\\statsmodels\\base\\model.py:512: ConvergenceWarning: Maximum Likelihood optimization failed to converge. Check mle_retvals\n",
      "  \"Check mle_retvals\", ConvergenceWarning)\n"
     ]
    },
    {
     "name": "stdout",
     "output_type": "stream",
     "text": [
      "ARIMA(0, 2, 4)x(2, 0, 0, 12)12 - AIC:310.0108933640318\n",
      "ARIMA(0, 2, 4)x(2, 0, 1, 12)12 - AIC:1834.3758664973966\n"
     ]
    },
    {
     "name": "stderr",
     "output_type": "stream",
     "text": [
      "C:\\Users\\Byom Kesh Jha\\Anaconda3\\lib\\site-packages\\statsmodels\\base\\model.py:512: ConvergenceWarning: Maximum Likelihood optimization failed to converge. Check mle_retvals\n",
      "  \"Check mle_retvals\", ConvergenceWarning)\n"
     ]
    },
    {
     "name": "stdout",
     "output_type": "stream",
     "text": [
      "ARIMA(0, 2, 4)x(2, 1, 0, 12)12 - AIC:140.80611634518175\n"
     ]
    },
    {
     "name": "stderr",
     "output_type": "stream",
     "text": [
      "C:\\Users\\Byom Kesh Jha\\Anaconda3\\lib\\site-packages\\statsmodels\\base\\model.py:512: ConvergenceWarning: Maximum Likelihood optimization failed to converge. Check mle_retvals\n",
      "  \"Check mle_retvals\", ConvergenceWarning)\n"
     ]
    },
    {
     "name": "stdout",
     "output_type": "stream",
     "text": [
      "ARIMA(0, 2, 4)x(3, 0, 0, 12)12 - AIC:143.63617128549407\n"
     ]
    },
    {
     "name": "stderr",
     "output_type": "stream",
     "text": [
      "C:\\Users\\Byom Kesh Jha\\Anaconda3\\lib\\site-packages\\statsmodels\\base\\model.py:512: ConvergenceWarning: Maximum Likelihood optimization failed to converge. Check mle_retvals\n",
      "  \"Check mle_retvals\", ConvergenceWarning)\n"
     ]
    },
    {
     "name": "stdout",
     "output_type": "stream",
     "text": [
      "ARIMA(0, 2, 4)x(3, 0, 1, 12)12 - AIC:144.2152024210058\n",
      "ARIMA(0, 3, 0)x(0, 0, 0, 12)12 - AIC:745.5554303473486\n"
     ]
    },
    {
     "name": "stderr",
     "output_type": "stream",
     "text": [
      "C:\\Users\\Byom Kesh Jha\\Anaconda3\\lib\\site-packages\\statsmodels\\base\\model.py:512: ConvergenceWarning: Maximum Likelihood optimization failed to converge. Check mle_retvals\n",
      "  \"Check mle_retvals\", ConvergenceWarning)\n"
     ]
    },
    {
     "name": "stdout",
     "output_type": "stream",
     "text": [
      "ARIMA(0, 3, 0)x(0, 0, 1, 12)12 - AIC:796.509606202759\n",
      "ARIMA(0, 3, 0)x(0, 1, 0, 12)12 - AIC:534.8613860679567\n",
      "ARIMA(0, 3, 0)x(0, 2, 0, 12)12 - AIC:352.94134909259463\n",
      "ARIMA(0, 3, 0)x(0, 3, 0, 12)12 - AIC:136.76026448485663\n",
      "ARIMA(0, 3, 0)x(0, 4, 0, 12)12 - AIC:2.0\n",
      "ARIMA(0, 3, 0)x(1, 0, 0, 12)12 - AIC:546.8430293571547\n"
     ]
    },
    {
     "name": "stderr",
     "output_type": "stream",
     "text": [
      "C:\\Users\\Byom Kesh Jha\\Anaconda3\\lib\\site-packages\\statsmodels\\base\\model.py:512: ConvergenceWarning: Maximum Likelihood optimization failed to converge. Check mle_retvals\n",
      "  \"Check mle_retvals\", ConvergenceWarning)\n"
     ]
    },
    {
     "name": "stdout",
     "output_type": "stream",
     "text": [
      "ARIMA(0, 3, 0)x(1, 0, 1, 12)12 - AIC:1171.846432493917\n",
      "ARIMA(0, 3, 0)x(1, 1, 0, 12)12 - AIC:343.12053344813035\n",
      "ARIMA(0, 3, 0)x(1, 2, 0, 12)12 - AIC:134.94893010967218\n",
      "ARIMA(0, 3, 0)x(2, 0, 0, 12)12 - AIC:338.3119791291935\n"
     ]
    },
    {
     "name": "stderr",
     "output_type": "stream",
     "text": [
      "C:\\Users\\Byom Kesh Jha\\Anaconda3\\lib\\site-packages\\statsmodels\\base\\model.py:512: ConvergenceWarning: Maximum Likelihood optimization failed to converge. Check mle_retvals\n",
      "  \"Check mle_retvals\", ConvergenceWarning)\n"
     ]
    },
    {
     "name": "stdout",
     "output_type": "stream",
     "text": [
      "ARIMA(0, 3, 0)x(2, 0, 1, 12)12 - AIC:841.0327300028855\n",
      "ARIMA(0, 3, 0)x(2, 1, 0, 12)12 - AIC:136.53974766018055\n",
      "ARIMA(0, 3, 0)x(3, 0, 0, 12)12 - AIC:137.36238615910824\n"
     ]
    },
    {
     "name": "stderr",
     "output_type": "stream",
     "text": [
      "C:\\Users\\Byom Kesh Jha\\Anaconda3\\lib\\site-packages\\statsmodels\\base\\model.py:512: ConvergenceWarning: Maximum Likelihood optimization failed to converge. Check mle_retvals\n",
      "  \"Check mle_retvals\", ConvergenceWarning)\n"
     ]
    },
    {
     "name": "stdout",
     "output_type": "stream",
     "text": [
      "ARIMA(0, 3, 0)x(3, 0, 1, 12)12 - AIC:249.3307672753568\n",
      "ARIMA(0, 3, 1)x(0, 0, 0, 12)12 - AIC:683.5867387045279\n",
      "ARIMA(0, 3, 1)x(0, 0, 1, 12)12 - AIC:2436.350150469353\n",
      "ARIMA(0, 3, 1)x(0, 1, 0, 12)12 - AIC:483.7629821032549\n",
      "ARIMA(0, 3, 1)x(0, 2, 0, 12)12 - AIC:315.2758242977539\n",
      "ARIMA(0, 3, 1)x(0, 3, 0, 12)12 - AIC:116.16363288078132\n",
      "ARIMA(0, 3, 1)x(1, 0, 0, 12)12 - AIC:510.9067814791963\n",
      "ARIMA(0, 3, 1)x(1, 0, 1, 12)12 - AIC:2815.4436606714644\n",
      "ARIMA(0, 3, 1)x(1, 1, 0, 12)12 - AIC:320.43208972945155\n",
      "ARIMA(0, 3, 1)x(1, 2, 0, 12)12 - AIC:130.40585829361675\n",
      "ARIMA(0, 3, 1)x(2, 0, 0, 12)12 - AIC:317.8624422408595\n",
      "ARIMA(0, 3, 1)x(2, 0, 1, 12)12 - AIC:1711.9404219594603\n",
      "ARIMA(0, 3, 1)x(2, 1, 0, 12)12 - AIC:131.4592785373898\n",
      "ARIMA(0, 3, 1)x(3, 0, 0, 12)12 - AIC:133.0211987579903\n"
     ]
    },
    {
     "name": "stderr",
     "output_type": "stream",
     "text": [
      "C:\\Users\\Byom Kesh Jha\\Anaconda3\\lib\\site-packages\\statsmodels\\base\\model.py:512: ConvergenceWarning: Maximum Likelihood optimization failed to converge. Check mle_retvals\n",
      "  \"Check mle_retvals\", ConvergenceWarning)\n"
     ]
    },
    {
     "name": "stdout",
     "output_type": "stream",
     "text": [
      "ARIMA(0, 3, 1)x(3, 0, 1, 12)12 - AIC:704.5239229395604\n",
      "ARIMA(0, 3, 2)x(0, 0, 0, 12)12 - AIC:631.3498326716079\n"
     ]
    },
    {
     "name": "stderr",
     "output_type": "stream",
     "text": [
      "C:\\Users\\Byom Kesh Jha\\Anaconda3\\lib\\site-packages\\statsmodels\\base\\model.py:512: ConvergenceWarning: Maximum Likelihood optimization failed to converge. Check mle_retvals\n",
      "  \"Check mle_retvals\", ConvergenceWarning)\n"
     ]
    },
    {
     "name": "stdout",
     "output_type": "stream",
     "text": [
      "ARIMA(0, 3, 2)x(0, 0, 1, 12)12 - AIC:nan\n",
      "ARIMA(0, 3, 2)x(0, 1, 0, 12)12 - AIC:440.6332263980778\n",
      "ARIMA(0, 3, 2)x(0, 2, 0, 12)12 - AIC:284.82708580412344\n",
      "ARIMA(0, 3, 2)x(0, 3, 0, 12)12 - AIC:116.6305419746597\n",
      "ARIMA(0, 3, 2)x(1, 0, 0, 12)12 - AIC:483.81766751698984\n",
      "ARIMA(0, 3, 2)x(1, 0, 1, 12)12 - AIC:2544.843523630606\n",
      "ARIMA(0, 3, 2)x(1, 1, 0, 12)12 - AIC:302.31454701354176\n"
     ]
    },
    {
     "name": "stderr",
     "output_type": "stream",
     "text": [
      "C:\\Users\\Byom Kesh Jha\\Anaconda3\\lib\\site-packages\\statsmodels\\base\\model.py:512: ConvergenceWarning: Maximum Likelihood optimization failed to converge. Check mle_retvals\n",
      "  \"Check mle_retvals\", ConvergenceWarning)\n"
     ]
    },
    {
     "name": "stdout",
     "output_type": "stream",
     "text": [
      "ARIMA(0, 3, 2)x(1, 2, 0, 12)12 - AIC:133.13206412139127\n",
      "ARIMA(0, 3, 2)x(2, 0, 0, 12)12 - AIC:302.10646282413126\n"
     ]
    },
    {
     "name": "stderr",
     "output_type": "stream",
     "text": [
      "C:\\Users\\Byom Kesh Jha\\Anaconda3\\lib\\site-packages\\statsmodels\\base\\model.py:512: ConvergenceWarning: Maximum Likelihood optimization failed to converge. Check mle_retvals\n",
      "  \"Check mle_retvals\", ConvergenceWarning)\n"
     ]
    },
    {
     "name": "stdout",
     "output_type": "stream",
     "text": [
      "ARIMA(0, 3, 2)x(2, 0, 1, 12)12 - AIC:724.089802577126\n"
     ]
    },
    {
     "name": "stderr",
     "output_type": "stream",
     "text": [
      "C:\\Users\\Byom Kesh Jha\\Anaconda3\\lib\\site-packages\\statsmodels\\base\\model.py:512: ConvergenceWarning: Maximum Likelihood optimization failed to converge. Check mle_retvals\n",
      "  \"Check mle_retvals\", ConvergenceWarning)\n"
     ]
    },
    {
     "name": "stdout",
     "output_type": "stream",
     "text": [
      "ARIMA(0, 3, 2)x(2, 1, 0, 12)12 - AIC:131.46404492468778\n",
      "ARIMA(0, 3, 2)x(3, 0, 0, 12)12 - AIC:134.5877710308992\n"
     ]
    },
    {
     "name": "stderr",
     "output_type": "stream",
     "text": [
      "C:\\Users\\Byom Kesh Jha\\Anaconda3\\lib\\site-packages\\statsmodels\\base\\model.py:512: ConvergenceWarning: Maximum Likelihood optimization failed to converge. Check mle_retvals\n",
      "  \"Check mle_retvals\", ConvergenceWarning)\n"
     ]
    },
    {
     "name": "stdout",
     "output_type": "stream",
     "text": [
      "ARIMA(0, 3, 2)x(3, 0, 1, 12)12 - AIC:304.7844316792316\n",
      "ARIMA(0, 3, 3)x(0, 0, 0, 12)12 - AIC:626.5239952596353\n",
      "ARIMA(0, 3, 3)x(0, 0, 1, 12)12 - AIC:2142.329222105529\n",
      "ARIMA(0, 3, 3)x(0, 1, 0, 12)12 - AIC:420.23947865286823\n"
     ]
    },
    {
     "name": "stderr",
     "output_type": "stream",
     "text": [
      "C:\\Users\\Byom Kesh Jha\\Anaconda3\\lib\\site-packages\\statsmodels\\base\\model.py:512: ConvergenceWarning: Maximum Likelihood optimization failed to converge. Check mle_retvals\n",
      "  \"Check mle_retvals\", ConvergenceWarning)\n"
     ]
    },
    {
     "name": "stdout",
     "output_type": "stream",
     "text": [
      "ARIMA(0, 3, 3)x(0, 2, 0, 12)12 - AIC:267.17457491119717\n"
     ]
    },
    {
     "name": "stderr",
     "output_type": "stream",
     "text": [
      "C:\\Users\\Byom Kesh Jha\\Anaconda3\\lib\\site-packages\\statsmodels\\base\\model.py:512: ConvergenceWarning: Maximum Likelihood optimization failed to converge. Check mle_retvals\n",
      "  \"Check mle_retvals\", ConvergenceWarning)\n"
     ]
    },
    {
     "name": "stdout",
     "output_type": "stream",
     "text": [
      "ARIMA(0, 3, 3)x(1, 0, 0, 12)12 - AIC:479.40651303935107\n",
      "ARIMA(0, 3, 3)x(1, 0, 1, 12)12 - AIC:2246.3259386373475\n"
     ]
    },
    {
     "name": "stderr",
     "output_type": "stream",
     "text": [
      "C:\\Users\\Byom Kesh Jha\\Anaconda3\\lib\\site-packages\\statsmodels\\base\\model.py:512: ConvergenceWarning: Maximum Likelihood optimization failed to converge. Check mle_retvals\n",
      "  \"Check mle_retvals\", ConvergenceWarning)\n"
     ]
    },
    {
     "name": "stdout",
     "output_type": "stream",
     "text": [
      "ARIMA(0, 3, 3)x(1, 1, 0, 12)12 - AIC:310.8002686374874\n"
     ]
    },
    {
     "name": "stderr",
     "output_type": "stream",
     "text": [
      "C:\\Users\\Byom Kesh Jha\\Anaconda3\\lib\\site-packages\\statsmodels\\base\\model.py:512: ConvergenceWarning: Maximum Likelihood optimization failed to converge. Check mle_retvals\n",
      "  \"Check mle_retvals\", ConvergenceWarning)\n"
     ]
    },
    {
     "name": "stdout",
     "output_type": "stream",
     "text": [
      "ARIMA(0, 3, 3)x(1, 2, 0, 12)12 - AIC:129.74839060821603\n",
      "ARIMA(0, 3, 3)x(2, 0, 0, 12)12 - AIC:301.47079300129707\n",
      "ARIMA(0, 3, 3)x(2, 0, 1, 12)12 - AIC:2419.52192978114\n"
     ]
    },
    {
     "name": "stderr",
     "output_type": "stream",
     "text": [
      "C:\\Users\\Byom Kesh Jha\\Anaconda3\\lib\\site-packages\\statsmodels\\base\\model.py:512: ConvergenceWarning: Maximum Likelihood optimization failed to converge. Check mle_retvals\n",
      "  \"Check mle_retvals\", ConvergenceWarning)\n"
     ]
    },
    {
     "name": "stdout",
     "output_type": "stream",
     "text": [
      "ARIMA(0, 3, 3)x(2, 1, 0, 12)12 - AIC:132.02446799451243\n",
      "ARIMA(0, 3, 3)x(3, 0, 0, 12)12 - AIC:134.13522039830235\n"
     ]
    },
    {
     "name": "stderr",
     "output_type": "stream",
     "text": [
      "C:\\Users\\Byom Kesh Jha\\Anaconda3\\lib\\site-packages\\statsmodels\\base\\model.py:512: ConvergenceWarning: Maximum Likelihood optimization failed to converge. Check mle_retvals\n",
      "  \"Check mle_retvals\", ConvergenceWarning)\n"
     ]
    },
    {
     "name": "stdout",
     "output_type": "stream",
     "text": [
      "ARIMA(0, 3, 3)x(3, 0, 1, 12)12 - AIC:705.8770635895032\n"
     ]
    },
    {
     "name": "stderr",
     "output_type": "stream",
     "text": [
      "C:\\Users\\Byom Kesh Jha\\Anaconda3\\lib\\site-packages\\statsmodels\\base\\model.py:512: ConvergenceWarning: Maximum Likelihood optimization failed to converge. Check mle_retvals\n",
      "  \"Check mle_retvals\", ConvergenceWarning)\n"
     ]
    },
    {
     "name": "stdout",
     "output_type": "stream",
     "text": [
      "ARIMA(0, 3, 4)x(0, 0, 0, 12)12 - AIC:598.0851189580267\n",
      "ARIMA(0, 3, 4)x(0, 0, 1, 12)12 - AIC:2071.424071711937\n"
     ]
    },
    {
     "name": "stderr",
     "output_type": "stream",
     "text": [
      "C:\\Users\\Byom Kesh Jha\\Anaconda3\\lib\\site-packages\\statsmodels\\base\\model.py:512: ConvergenceWarning: Maximum Likelihood optimization failed to converge. Check mle_retvals\n",
      "  \"Check mle_retvals\", ConvergenceWarning)\n"
     ]
    },
    {
     "name": "stdout",
     "output_type": "stream",
     "text": [
      "ARIMA(0, 3, 4)x(0, 1, 0, 12)12 - AIC:408.41760469915465\n",
      "ARIMA(0, 3, 4)x(0, 2, 0, 12)12 - AIC:251.8495357888788\n"
     ]
    },
    {
     "name": "stderr",
     "output_type": "stream",
     "text": [
      "C:\\Users\\Byom Kesh Jha\\Anaconda3\\lib\\site-packages\\statsmodels\\base\\model.py:512: ConvergenceWarning: Maximum Likelihood optimization failed to converge. Check mle_retvals\n",
      "  \"Check mle_retvals\", ConvergenceWarning)\n"
     ]
    },
    {
     "name": "stdout",
     "output_type": "stream",
     "text": [
      "ARIMA(0, 3, 4)x(1, 0, 0, 12)12 - AIC:481.33501848832617\n",
      "ARIMA(0, 3, 4)x(1, 0, 1, 12)12 - AIC:2171.8675276568247\n"
     ]
    },
    {
     "name": "stderr",
     "output_type": "stream",
     "text": [
      "C:\\Users\\Byom Kesh Jha\\Anaconda3\\lib\\site-packages\\statsmodels\\base\\model.py:512: ConvergenceWarning: Maximum Likelihood optimization failed to converge. Check mle_retvals\n",
      "  \"Check mle_retvals\", ConvergenceWarning)\n"
     ]
    },
    {
     "name": "stdout",
     "output_type": "stream",
     "text": [
      "ARIMA(0, 3, 4)x(1, 1, 0, 12)12 - AIC:316.6598031169298\n"
     ]
    },
    {
     "name": "stderr",
     "output_type": "stream",
     "text": [
      "C:\\Users\\Byom Kesh Jha\\Anaconda3\\lib\\site-packages\\statsmodels\\base\\model.py:512: ConvergenceWarning: Maximum Likelihood optimization failed to converge. Check mle_retvals\n",
      "  \"Check mle_retvals\", ConvergenceWarning)\n"
     ]
    },
    {
     "name": "stdout",
     "output_type": "stream",
     "text": [
      "ARIMA(0, 3, 4)x(1, 2, 0, 12)12 - AIC:128.83613290993594\n"
     ]
    },
    {
     "name": "stderr",
     "output_type": "stream",
     "text": [
      "C:\\Users\\Byom Kesh Jha\\Anaconda3\\lib\\site-packages\\statsmodels\\base\\model.py:512: ConvergenceWarning: Maximum Likelihood optimization failed to converge. Check mle_retvals\n",
      "  \"Check mle_retvals\", ConvergenceWarning)\n"
     ]
    },
    {
     "name": "stdout",
     "output_type": "stream",
     "text": [
      "ARIMA(0, 3, 4)x(2, 0, 0, 12)12 - AIC:303.5381383085995\n",
      "ARIMA(0, 3, 4)x(2, 0, 1, 12)12 - AIC:1629.5869842577972\n"
     ]
    },
    {
     "name": "stderr",
     "output_type": "stream",
     "text": [
      "C:\\Users\\Byom Kesh Jha\\Anaconda3\\lib\\site-packages\\statsmodels\\base\\model.py:512: ConvergenceWarning: Maximum Likelihood optimization failed to converge. Check mle_retvals\n",
      "  \"Check mle_retvals\", ConvergenceWarning)\n"
     ]
    },
    {
     "name": "stdout",
     "output_type": "stream",
     "text": [
      "ARIMA(0, 3, 4)x(2, 1, 0, 12)12 - AIC:143.09000522137725\n"
     ]
    },
    {
     "name": "stderr",
     "output_type": "stream",
     "text": [
      "C:\\Users\\Byom Kesh Jha\\Anaconda3\\lib\\site-packages\\statsmodels\\base\\model.py:512: ConvergenceWarning: Maximum Likelihood optimization failed to converge. Check mle_retvals\n",
      "  \"Check mle_retvals\", ConvergenceWarning)\n"
     ]
    },
    {
     "name": "stdout",
     "output_type": "stream",
     "text": [
      "ARIMA(0, 3, 4)x(3, 0, 0, 12)12 - AIC:134.33834819474177\n",
      "ARIMA(0, 3, 4)x(3, 0, 1, 12)12 - AIC:742.3850944928736\n",
      "ARIMA(0, 4, 0)x(0, 0, 0, 12)12 - AIC:780.7495382857645\n"
     ]
    },
    {
     "name": "stderr",
     "output_type": "stream",
     "text": [
      "C:\\Users\\Byom Kesh Jha\\Anaconda3\\lib\\site-packages\\statsmodels\\base\\model.py:512: ConvergenceWarning: Maximum Likelihood optimization failed to converge. Check mle_retvals\n",
      "  \"Check mle_retvals\", ConvergenceWarning)\n"
     ]
    },
    {
     "name": "stdout",
     "output_type": "stream",
     "text": [
      "ARIMA(0, 4, 0)x(0, 0, 1, 12)12 - AIC:1222.6088074662591\n",
      "ARIMA(0, 4, 0)x(0, 1, 0, 12)12 - AIC:558.6533754430134\n",
      "ARIMA(0, 4, 0)x(0, 2, 0, 12)12 - AIC:361.38414646540133\n",
      "ARIMA(0, 4, 0)x(0, 3, 0, 12)12 - AIC:127.95877814091642\n",
      "ARIMA(0, 4, 0)x(0, 4, 0, 12)12 - AIC:2.0\n",
      "ARIMA(0, 4, 0)x(1, 0, 0, 12)12 - AIC:572.1052345156471\n"
     ]
    },
    {
     "name": "stderr",
     "output_type": "stream",
     "text": [
      "C:\\Users\\Byom Kesh Jha\\Anaconda3\\lib\\site-packages\\statsmodels\\base\\model.py:512: ConvergenceWarning: Maximum Likelihood optimization failed to converge. Check mle_retvals\n",
      "  \"Check mle_retvals\", ConvergenceWarning)\n"
     ]
    },
    {
     "name": "stdout",
     "output_type": "stream",
     "text": [
      "ARIMA(0, 4, 0)x(1, 0, 1, 12)12 - AIC:931.1730733885273\n",
      "ARIMA(0, 4, 0)x(1, 1, 0, 12)12 - AIC:352.95619947330675\n",
      "ARIMA(0, 4, 0)x(1, 2, 0, 12)12 - AIC:129.64091203963906\n",
      "ARIMA(0, 4, 0)x(2, 0, 0, 12)12 - AIC:347.3555286020661\n"
     ]
    },
    {
     "name": "stderr",
     "output_type": "stream",
     "text": [
      "C:\\Users\\Byom Kesh Jha\\Anaconda3\\lib\\site-packages\\statsmodels\\base\\model.py:512: ConvergenceWarning: Maximum Likelihood optimization failed to converge. Check mle_retvals\n",
      "  \"Check mle_retvals\", ConvergenceWarning)\n"
     ]
    },
    {
     "name": "stdout",
     "output_type": "stream",
     "text": [
      "ARIMA(0, 4, 0)x(2, 0, 1, 12)12 - AIC:735.5199278614142\n",
      "ARIMA(0, 4, 0)x(2, 1, 0, 12)12 - AIC:130.71543353485626\n"
     ]
    },
    {
     "name": "stderr",
     "output_type": "stream",
     "text": [
      "C:\\Users\\Byom Kesh Jha\\Anaconda3\\lib\\site-packages\\statsmodels\\base\\model.py:512: ConvergenceWarning: Maximum Likelihood optimization failed to converge. Check mle_retvals\n",
      "  \"Check mle_retvals\", ConvergenceWarning)\n"
     ]
    },
    {
     "name": "stdout",
     "output_type": "stream",
     "text": [
      "ARIMA(0, 4, 0)x(3, 0, 0, 12)12 - AIC:131.66317833132078\n",
      "ARIMA(0, 4, 0)x(3, 0, 1, 12)12 - AIC:323.22645295636846\n",
      "ARIMA(0, 4, 1)x(0, 0, 0, 12)12 - AIC:717.3910796166267\n",
      "ARIMA(0, 4, 1)x(0, 0, 1, 12)12 - AIC:nan\n"
     ]
    },
    {
     "name": "stderr",
     "output_type": "stream",
     "text": [
      "C:\\Users\\Byom Kesh Jha\\Anaconda3\\lib\\site-packages\\statsmodels\\base\\model.py:512: ConvergenceWarning: Maximum Likelihood optimization failed to converge. Check mle_retvals\n",
      "  \"Check mle_retvals\", ConvergenceWarning)\n"
     ]
    },
    {
     "name": "stdout",
     "output_type": "stream",
     "text": [
      "ARIMA(0, 4, 1)x(0, 1, 0, 12)12 - AIC:506.5087636839154\n",
      "ARIMA(0, 4, 1)x(0, 2, 0, 12)12 - AIC:329.77636042189096\n",
      "ARIMA(0, 4, 1)x(0, 3, 0, 12)12 - AIC:106.27339323093918\n",
      "ARIMA(0, 4, 1)x(1, 0, 0, 12)12 - AIC:535.4685312958663\n",
      "ARIMA(0, 4, 1)x(1, 0, 1, 12)12 - AIC:2355.881489978213\n"
     ]
    },
    {
     "name": "stderr",
     "output_type": "stream",
     "text": [
      "C:\\Users\\Byom Kesh Jha\\Anaconda3\\lib\\site-packages\\statsmodels\\base\\model.py:512: ConvergenceWarning: Maximum Likelihood optimization failed to converge. Check mle_retvals\n",
      "  \"Check mle_retvals\", ConvergenceWarning)\n"
     ]
    },
    {
     "name": "stdout",
     "output_type": "stream",
     "text": [
      "ARIMA(0, 4, 1)x(1, 1, 0, 12)12 - AIC:330.83457017675636\n",
      "ARIMA(0, 4, 1)x(1, 2, 0, 12)12 - AIC:123.59777747079747\n",
      "ARIMA(0, 4, 1)x(2, 0, 0, 12)12 - AIC:327.1251632171332\n",
      "ARIMA(0, 4, 1)x(2, 0, 1, 12)12 - AIC:nan\n"
     ]
    },
    {
     "name": "stderr",
     "output_type": "stream",
     "text": [
      "C:\\Users\\Byom Kesh Jha\\Anaconda3\\lib\\site-packages\\statsmodels\\base\\model.py:512: ConvergenceWarning: Maximum Likelihood optimization failed to converge. Check mle_retvals\n",
      "  \"Check mle_retvals\", ConvergenceWarning)\n"
     ]
    },
    {
     "name": "stdout",
     "output_type": "stream",
     "text": [
      "ARIMA(0, 4, 1)x(2, 1, 0, 12)12 - AIC:124.46572725685465\n",
      "ARIMA(0, 4, 1)x(3, 0, 0, 12)12 - AIC:126.74052223765293\n",
      "ARIMA(0, 4, 1)x(3, 0, 1, 12)12 - AIC:636.1600710444243\n",
      "ARIMA(0, 4, 2)x(0, 0, 0, 12)12 - AIC:659.0023807193973\n",
      "ARIMA(0, 4, 2)x(0, 0, 1, 12)12 - AIC:2289.300377804884\n",
      "ARIMA(0, 4, 2)x(0, 1, 0, 12)12 - AIC:457.1540873182681\n",
      "ARIMA(0, 4, 2)x(0, 2, 0, 12)12 - AIC:285.5855214043408\n"
     ]
    },
    {
     "name": "stderr",
     "output_type": "stream",
     "text": [
      "C:\\Users\\Byom Kesh Jha\\Anaconda3\\lib\\site-packages\\statsmodels\\base\\model.py:512: ConvergenceWarning: Maximum Likelihood optimization failed to converge. Check mle_retvals\n",
      "  \"Check mle_retvals\", ConvergenceWarning)\n"
     ]
    },
    {
     "name": "stdout",
     "output_type": "stream",
     "text": [
      "ARIMA(0, 4, 2)x(0, 3, 0, 12)12 - AIC:nan\n",
      "ARIMA(0, 4, 2)x(1, 0, 0, 12)12 - AIC:502.9046925893523\n",
      "ARIMA(0, 4, 2)x(1, 0, 1, 12)12 - AIC:2489.1702847862384\n",
      "ARIMA(0, 4, 2)x(1, 1, 0, 12)12 - AIC:310.7959003977561\n"
     ]
    },
    {
     "name": "stderr",
     "output_type": "stream",
     "text": [
      "C:\\Users\\Byom Kesh Jha\\Anaconda3\\lib\\site-packages\\statsmodels\\base\\model.py:512: ConvergenceWarning: Maximum Likelihood optimization failed to converge. Check mle_retvals\n",
      "  \"Check mle_retvals\", ConvergenceWarning)\n"
     ]
    },
    {
     "name": "stdout",
     "output_type": "stream",
     "text": [
      "ARIMA(0, 4, 2)x(1, 2, 0, 12)12 - AIC:126.1472736021297\n",
      "ARIMA(0, 4, 2)x(2, 0, 0, 12)12 - AIC:308.7978049073874\n"
     ]
    },
    {
     "name": "stderr",
     "output_type": "stream",
     "text": [
      "C:\\Users\\Byom Kesh Jha\\Anaconda3\\lib\\site-packages\\statsmodels\\base\\model.py:512: ConvergenceWarning: Maximum Likelihood optimization failed to converge. Check mle_retvals\n",
      "  \"Check mle_retvals\", ConvergenceWarning)\n"
     ]
    },
    {
     "name": "stdout",
     "output_type": "stream",
     "text": [
      "ARIMA(0, 4, 2)x(2, 0, 1, 12)12 - AIC:nan\n"
     ]
    },
    {
     "name": "stderr",
     "output_type": "stream",
     "text": [
      "C:\\Users\\Byom Kesh Jha\\Anaconda3\\lib\\site-packages\\statsmodels\\base\\model.py:512: ConvergenceWarning: Maximum Likelihood optimization failed to converge. Check mle_retvals\n",
      "  \"Check mle_retvals\", ConvergenceWarning)\n"
     ]
    },
    {
     "name": "stdout",
     "output_type": "stream",
     "text": [
      "ARIMA(0, 4, 2)x(2, 1, 0, 12)12 - AIC:121.54415152542784\n"
     ]
    },
    {
     "name": "stderr",
     "output_type": "stream",
     "text": [
      "C:\\Users\\Byom Kesh Jha\\Anaconda3\\lib\\site-packages\\statsmodels\\base\\model.py:512: ConvergenceWarning: Maximum Likelihood optimization failed to converge. Check mle_retvals\n",
      "  \"Check mle_retvals\", ConvergenceWarning)\n"
     ]
    },
    {
     "name": "stdout",
     "output_type": "stream",
     "text": [
      "ARIMA(0, 4, 2)x(3, 0, 0, 12)12 - AIC:127.78524432316249\n",
      "ARIMA(0, 4, 2)x(3, 0, 1, 12)12 - AIC:635.6456727977152\n"
     ]
    },
    {
     "name": "stderr",
     "output_type": "stream",
     "text": [
      "C:\\Users\\Byom Kesh Jha\\Anaconda3\\lib\\site-packages\\statsmodels\\base\\model.py:512: ConvergenceWarning: Maximum Likelihood optimization failed to converge. Check mle_retvals\n",
      "  \"Check mle_retvals\", ConvergenceWarning)\n"
     ]
    },
    {
     "name": "stdout",
     "output_type": "stream",
     "text": [
      "ARIMA(0, 4, 3)x(0, 0, 0, 12)12 - AIC:611.8493925742139\n",
      "ARIMA(0, 4, 3)x(0, 0, 1, 12)12 - AIC:2204.280427601128\n"
     ]
    },
    {
     "name": "stderr",
     "output_type": "stream",
     "text": [
      "C:\\Users\\Byom Kesh Jha\\Anaconda3\\lib\\site-packages\\statsmodels\\base\\model.py:512: ConvergenceWarning: Maximum Likelihood optimization failed to converge. Check mle_retvals\n",
      "  \"Check mle_retvals\", ConvergenceWarning)\n"
     ]
    },
    {
     "name": "stdout",
     "output_type": "stream",
     "text": [
      "ARIMA(0, 4, 3)x(0, 1, 0, 12)12 - AIC:419.05501018520613\n"
     ]
    },
    {
     "name": "stderr",
     "output_type": "stream",
     "text": [
      "C:\\Users\\Byom Kesh Jha\\Anaconda3\\lib\\site-packages\\statsmodels\\base\\model.py:512: ConvergenceWarning: Maximum Likelihood optimization failed to converge. Check mle_retvals\n",
      "  \"Check mle_retvals\", ConvergenceWarning)\n"
     ]
    },
    {
     "name": "stdout",
     "output_type": "stream",
     "text": [
      "ARIMA(0, 4, 3)x(0, 2, 0, 12)12 - AIC:259.5206258180286\n"
     ]
    },
    {
     "name": "stderr",
     "output_type": "stream",
     "text": [
      "C:\\Users\\Byom Kesh Jha\\Anaconda3\\lib\\site-packages\\statsmodels\\base\\model.py:512: ConvergenceWarning: Maximum Likelihood optimization failed to converge. Check mle_retvals\n",
      "  \"Check mle_retvals\", ConvergenceWarning)\n",
      "C:\\Users\\Byom Kesh Jha\\Anaconda3\\lib\\site-packages\\statsmodels\\base\\model.py:512: ConvergenceWarning: Maximum Likelihood optimization failed to converge. Check mle_retvals\n",
      "  \"Check mle_retvals\", ConvergenceWarning)\n"
     ]
    },
    {
     "name": "stdout",
     "output_type": "stream",
     "text": [
      "ARIMA(0, 4, 3)x(1, 0, 0, 12)12 - AIC:481.25318960460527\n",
      "ARIMA(0, 4, 3)x(1, 0, 1, 12)12 - AIC:nan\n",
      "ARIMA(0, 4, 3)x(1, 1, 0, 12)12 - AIC:328.0898510252656\n"
     ]
    },
    {
     "name": "stderr",
     "output_type": "stream",
     "text": [
      "C:\\Users\\Byom Kesh Jha\\Anaconda3\\lib\\site-packages\\statsmodels\\base\\model.py:512: ConvergenceWarning: Maximum Likelihood optimization failed to converge. Check mle_retvals\n",
      "  \"Check mle_retvals\", ConvergenceWarning)\n"
     ]
    },
    {
     "name": "stdout",
     "output_type": "stream",
     "text": [
      "ARIMA(0, 4, 3)x(1, 2, 0, 12)12 - AIC:117.45330058394262\n"
     ]
    },
    {
     "name": "stderr",
     "output_type": "stream",
     "text": [
      "C:\\Users\\Byom Kesh Jha\\Anaconda3\\lib\\site-packages\\statsmodels\\base\\model.py:512: ConvergenceWarning: Maximum Likelihood optimization failed to converge. Check mle_retvals\n",
      "  \"Check mle_retvals\", ConvergenceWarning)\n"
     ]
    },
    {
     "name": "stdout",
     "output_type": "stream",
     "text": [
      "ARIMA(0, 4, 3)x(2, 0, 0, 12)12 - AIC:298.61694685246925\n",
      "ARIMA(0, 4, 3)x(2, 0, 1, 12)12 - AIC:1542.6532336851453"
     ]
    },
    {
     "name": "stderr",
     "output_type": "stream",
     "text": [
      "C:\\Users\\Byom Kesh Jha\\Anaconda3\\lib\\site-packages\\statsmodels\\base\\model.py:512: ConvergenceWarning: Maximum Likelihood optimization failed to converge. Check mle_retvals\n",
      "  \"Check mle_retvals\", ConvergenceWarning)\n"
     ]
    },
    {
     "name": "stdout",
     "output_type": "stream",
     "text": [
      "\n"
     ]
    },
    {
     "name": "stderr",
     "output_type": "stream",
     "text": [
      "C:\\Users\\Byom Kesh Jha\\Anaconda3\\lib\\site-packages\\statsmodels\\base\\model.py:512: ConvergenceWarning: Maximum Likelihood optimization failed to converge. Check mle_retvals\n",
      "  \"Check mle_retvals\", ConvergenceWarning)\n"
     ]
    },
    {
     "name": "stdout",
     "output_type": "stream",
     "text": [
      "ARIMA(0, 4, 3)x(2, 1, 0, 12)12 - AIC:138.7950671976967\n"
     ]
    },
    {
     "name": "stderr",
     "output_type": "stream",
     "text": [
      "C:\\Users\\Byom Kesh Jha\\Anaconda3\\lib\\site-packages\\statsmodels\\base\\model.py:512: ConvergenceWarning: Maximum Likelihood optimization failed to converge. Check mle_retvals\n",
      "  \"Check mle_retvals\", ConvergenceWarning)\n"
     ]
    },
    {
     "name": "stdout",
     "output_type": "stream",
     "text": [
      "ARIMA(0, 4, 3)x(3, 0, 0, 12)12 - AIC:124.80373785379948\n"
     ]
    },
    {
     "name": "stderr",
     "output_type": "stream",
     "text": [
      "C:\\Users\\Byom Kesh Jha\\Anaconda3\\lib\\site-packages\\statsmodels\\base\\model.py:512: ConvergenceWarning: Maximum Likelihood optimization failed to converge. Check mle_retvals\n",
      "  \"Check mle_retvals\", ConvergenceWarning)\n"
     ]
    },
    {
     "name": "stdout",
     "output_type": "stream",
     "text": [
      "ARIMA(0, 4, 3)x(3, 0, 1, 12)12 - AIC:634.2256308990171\n",
      "ARIMA(0, 4, 4)x(0, 0, 0, 12)12 - AIC:622.9506917905566\n"
     ]
    },
    {
     "name": "stderr",
     "output_type": "stream",
     "text": [
      "C:\\Users\\Byom Kesh Jha\\Anaconda3\\lib\\site-packages\\statsmodels\\base\\model.py:512: ConvergenceWarning: Maximum Likelihood optimization failed to converge. Check mle_retvals\n",
      "  \"Check mle_retvals\", ConvergenceWarning)\n"
     ]
    },
    {
     "name": "stdout",
     "output_type": "stream",
     "text": [
      "ARIMA(0, 4, 4)x(0, 0, 1, 12)12 - AIC:nan\n"
     ]
    },
    {
     "name": "stderr",
     "output_type": "stream",
     "text": [
      "C:\\Users\\Byom Kesh Jha\\Anaconda3\\lib\\site-packages\\statsmodels\\base\\model.py:512: ConvergenceWarning: Maximum Likelihood optimization failed to converge. Check mle_retvals\n",
      "  \"Check mle_retvals\", ConvergenceWarning)\n"
     ]
    },
    {
     "name": "stdout",
     "output_type": "stream",
     "text": [
      "ARIMA(0, 4, 4)x(0, 1, 0, 12)12 - AIC:402.2411525841862\n",
      "ARIMA(0, 4, 4)x(0, 2, 0, 12)12 - AIC:245.18423387001187\n"
     ]
    },
    {
     "name": "stderr",
     "output_type": "stream",
     "text": [
      "C:\\Users\\Byom Kesh Jha\\Anaconda3\\lib\\site-packages\\statsmodels\\base\\model.py:512: ConvergenceWarning: Maximum Likelihood optimization failed to converge. Check mle_retvals\n",
      "  \"Check mle_retvals\", ConvergenceWarning)\n",
      "C:\\Users\\Byom Kesh Jha\\Anaconda3\\lib\\site-packages\\statsmodels\\base\\model.py:512: ConvergenceWarning: Maximum Likelihood optimization failed to converge. Check mle_retvals\n",
      "  \"Check mle_retvals\", ConvergenceWarning)\n"
     ]
    },
    {
     "name": "stdout",
     "output_type": "stream",
     "text": [
      "ARIMA(0, 4, 4)x(1, 0, 0, 12)12 - AIC:510.58996893728175\n",
      "ARIMA(0, 4, 4)x(1, 0, 1, 12)12 - AIC:2111.714336256641\n",
      "ARIMA(0, 4, 4)x(1, 1, 0, 12)12 - AIC:319.084746426283\n"
     ]
    },
    {
     "name": "stderr",
     "output_type": "stream",
     "text": [
      "C:\\Users\\Byom Kesh Jha\\Anaconda3\\lib\\site-packages\\statsmodels\\base\\model.py:512: ConvergenceWarning: Maximum Likelihood optimization failed to converge. Check mle_retvals\n",
      "  \"Check mle_retvals\", ConvergenceWarning)\n"
     ]
    },
    {
     "name": "stdout",
     "output_type": "stream",
     "text": [
      "ARIMA(0, 4, 4)x(1, 2, 0, 12)12 - AIC:129.49705697377425\n"
     ]
    },
    {
     "name": "stderr",
     "output_type": "stream",
     "text": [
      "C:\\Users\\Byom Kesh Jha\\Anaconda3\\lib\\site-packages\\statsmodels\\base\\model.py:512: ConvergenceWarning: Maximum Likelihood optimization failed to converge. Check mle_retvals\n",
      "  \"Check mle_retvals\", ConvergenceWarning)\n"
     ]
    },
    {
     "name": "stdout",
     "output_type": "stream",
     "text": [
      "ARIMA(0, 4, 4)x(2, 0, 0, 12)12 - AIC:324.86646016939693\n"
     ]
    },
    {
     "name": "stderr",
     "output_type": "stream",
     "text": [
      "C:\\Users\\Byom Kesh Jha\\Anaconda3\\lib\\site-packages\\statsmodels\\base\\model.py:512: ConvergenceWarning: Maximum Likelihood optimization failed to converge. Check mle_retvals\n",
      "  \"Check mle_retvals\", ConvergenceWarning)\n"
     ]
    },
    {
     "name": "stdout",
     "output_type": "stream",
     "text": [
      "ARIMA(0, 4, 4)x(2, 0, 1, 12)12 - AIC:nan\n"
     ]
    },
    {
     "name": "stderr",
     "output_type": "stream",
     "text": [
      "C:\\Users\\Byom Kesh Jha\\Anaconda3\\lib\\site-packages\\statsmodels\\base\\model.py:512: ConvergenceWarning: Maximum Likelihood optimization failed to converge. Check mle_retvals\n",
      "  \"Check mle_retvals\", ConvergenceWarning)\n"
     ]
    },
    {
     "name": "stdout",
     "output_type": "stream",
     "text": [
      "ARIMA(0, 4, 4)x(2, 1, 0, 12)12 - AIC:136.26447885033713\n"
     ]
    },
    {
     "name": "stderr",
     "output_type": "stream",
     "text": [
      "C:\\Users\\Byom Kesh Jha\\Anaconda3\\lib\\site-packages\\statsmodels\\base\\model.py:512: ConvergenceWarning: Maximum Likelihood optimization failed to converge. Check mle_retvals\n",
      "  \"Check mle_retvals\", ConvergenceWarning)\n"
     ]
    },
    {
     "name": "stdout",
     "output_type": "stream",
     "text": [
      "ARIMA(0, 4, 4)x(3, 0, 0, 12)12 - AIC:136.30876166297972\n"
     ]
    },
    {
     "name": "stderr",
     "output_type": "stream",
     "text": [
      "C:\\Users\\Byom Kesh Jha\\Anaconda3\\lib\\site-packages\\statsmodels\\base\\model.py:512: ConvergenceWarning: Maximum Likelihood optimization failed to converge. Check mle_retvals\n",
      "  \"Check mle_retvals\", ConvergenceWarning)\n"
     ]
    },
    {
     "name": "stdout",
     "output_type": "stream",
     "text": [
      "ARIMA(0, 4, 4)x(3, 0, 1, 12)12 - AIC:nan\n",
      "ARIMA(1, 0, 0)x(0, 0, 0, 12)12 - AIC:692.1645522067713\n"
     ]
    },
    {
     "name": "stderr",
     "output_type": "stream",
     "text": [
      "C:\\Users\\Byom Kesh Jha\\Anaconda3\\lib\\site-packages\\statsmodels\\base\\model.py:512: ConvergenceWarning: Maximum Likelihood optimization failed to converge. Check mle_retvals\n",
      "  \"Check mle_retvals\", ConvergenceWarning)\n"
     ]
    },
    {
     "name": "stdout",
     "output_type": "stream",
     "text": [
      "ARIMA(1, 0, 0)x(0, 0, 1, 12)12 - AIC:1450.0255396955233\n",
      "ARIMA(1, 0, 0)x(0, 1, 0, 12)12 - AIC:479.46321478521355\n",
      "ARIMA(1, 0, 0)x(0, 2, 0, 12)12 - AIC:338.22248101866853\n",
      "ARIMA(1, 0, 0)x(0, 3, 0, 12)12 - AIC:172.60445806987718\n",
      "ARIMA(1, 0, 0)x(1, 0, 0, 12)12 - AIC:480.92593679351836\n"
     ]
    },
    {
     "name": "stderr",
     "output_type": "stream",
     "text": [
      "C:\\Users\\Byom Kesh Jha\\Anaconda3\\lib\\site-packages\\statsmodels\\base\\model.py:512: ConvergenceWarning: Maximum Likelihood optimization failed to converge. Check mle_retvals\n",
      "  \"Check mle_retvals\", ConvergenceWarning)\n"
     ]
    },
    {
     "name": "stdout",
     "output_type": "stream",
     "text": [
      "ARIMA(1, 0, 0)x(1, 0, 1, 12)12 - AIC:1352.209230823926\n",
      "ARIMA(1, 0, 0)x(1, 1, 0, 12)12 - AIC:304.46646750845986\n",
      "ARIMA(1, 0, 0)x(1, 2, 0, 12)12 - AIC:151.3882036756357\n",
      "ARIMA(1, 0, 0)x(2, 0, 0, 12)12 - AIC:306.4639496842725\n",
      "ARIMA(1, 0, 0)x(2, 0, 1, 12)12 - AIC:900.2962138926732\n",
      "ARIMA(1, 0, 0)x(2, 1, 0, 12)12 - AIC:148.4712914908443\n"
     ]
    },
    {
     "name": "stderr",
     "output_type": "stream",
     "text": [
      "C:\\Users\\Byom Kesh Jha\\Anaconda3\\lib\\site-packages\\statsmodels\\base\\model.py:512: ConvergenceWarning: Maximum Likelihood optimization failed to converge. Check mle_retvals\n",
      "  \"Check mle_retvals\", ConvergenceWarning)\n"
     ]
    },
    {
     "name": "stdout",
     "output_type": "stream",
     "text": [
      "ARIMA(1, 0, 0)x(3, 0, 0, 12)12 - AIC:150.72093126645478\n"
     ]
    },
    {
     "name": "stderr",
     "output_type": "stream",
     "text": [
      "C:\\Users\\Byom Kesh Jha\\Anaconda3\\lib\\site-packages\\statsmodels\\base\\model.py:512: ConvergenceWarning: Maximum Likelihood optimization failed to converge. Check mle_retvals\n",
      "  \"Check mle_retvals\", ConvergenceWarning)\n",
      "C:\\Users\\Byom Kesh Jha\\Anaconda3\\lib\\site-packages\\statsmodels\\base\\model.py:512: ConvergenceWarning: Maximum Likelihood optimization failed to converge. Check mle_retvals\n",
      "  \"Check mle_retvals\", ConvergenceWarning)\n"
     ]
    },
    {
     "name": "stdout",
     "output_type": "stream",
     "text": [
      "ARIMA(1, 0, 0)x(3, 0, 1, 12)12 - AIC:513.1100719131033\n",
      "ARIMA(1, 0, 1)x(0, 0, 0, 12)12 - AIC:665.779444218529\n",
      "ARIMA(1, 0, 1)x(0, 0, 1, 12)12 - AIC:2688.1953106578308\n",
      "ARIMA(1, 0, 1)x(0, 1, 0, 12)12 - AIC:468.3685195814159\n",
      "ARIMA(1, 0, 1)x(0, 2, 0, 12)12 - AIC:326.36049011937195\n",
      "ARIMA(1, 0, 1)x(0, 3, 0, 12)12 - AIC:158.7770563894117\n",
      "ARIMA(1, 0, 1)x(1, 0, 0, 12)12 - AIC:482.57633238765646\n"
     ]
    },
    {
     "name": "stderr",
     "output_type": "stream",
     "text": [
      "C:\\Users\\Byom Kesh Jha\\Anaconda3\\lib\\site-packages\\statsmodels\\base\\model.py:512: ConvergenceWarning: Maximum Likelihood optimization failed to converge. Check mle_retvals\n",
      "  \"Check mle_retvals\", ConvergenceWarning)\n"
     ]
    },
    {
     "name": "stdout",
     "output_type": "stream",
     "text": [
      "ARIMA(1, 0, 1)x(1, 0, 1, 12)12 - AIC:nan\n",
      "ARIMA(1, 0, 1)x(1, 1, 0, 12)12 - AIC:306.01560022074426\n",
      "ARIMA(1, 0, 1)x(1, 2, 0, 12)12 - AIC:153.6678902963528\n",
      "ARIMA(1, 0, 1)x(2, 0, 0, 12)12 - AIC:309.7096567885557\n"
     ]
    },
    {
     "name": "stderr",
     "output_type": "stream",
     "text": [
      "C:\\Users\\Byom Kesh Jha\\Anaconda3\\lib\\site-packages\\statsmodels\\base\\model.py:512: ConvergenceWarning: Maximum Likelihood optimization failed to converge. Check mle_retvals\n",
      "  \"Check mle_retvals\", ConvergenceWarning)\n"
     ]
    },
    {
     "name": "stdout",
     "output_type": "stream",
     "text": [
      "ARIMA(1, 0, 1)x(2, 0, 1, 12)12 - AIC:970.3068218579133\n",
      "ARIMA(1, 0, 1)x(2, 1, 0, 12)12 - AIC:148.64415338909998\n",
      "ARIMA(1, 0, 1)x(3, 0, 0, 12)12 - AIC:150.54072528444752\n"
     ]
    },
    {
     "name": "stderr",
     "output_type": "stream",
     "text": [
      "C:\\Users\\Byom Kesh Jha\\Anaconda3\\lib\\site-packages\\statsmodels\\base\\model.py:512: ConvergenceWarning: Maximum Likelihood optimization failed to converge. Check mle_retvals\n",
      "  \"Check mle_retvals\", ConvergenceWarning)\n"
     ]
    },
    {
     "name": "stdout",
     "output_type": "stream",
     "text": [
      "ARIMA(1, 0, 1)x(3, 0, 1, 12)12 - AIC:472.77332824323133\n",
      "ARIMA(1, 0, 2)x(0, 0, 0, 12)12 - AIC:652.5371565503973\n",
      "ARIMA(1, 0, 2)x(0, 0, 1, 12)12 - AIC:3316.217771673509\n",
      "ARIMA(1, 0, 2)x(0, 1, 0, 12)12 - AIC:454.51625971597366\n",
      "ARIMA(1, 0, 2)x(0, 2, 0, 12)12 - AIC:311.968668826082\n",
      "ARIMA(1, 0, 2)x(0, 3, 0, 12)12 - AIC:143.34182287382043\n",
      "ARIMA(1, 0, 2)x(1, 0, 0, 12)12 - AIC:483.94357961702985\n",
      "ARIMA(1, 0, 2)x(1, 0, 1, 12)12 - AIC:14526.364123137688\n",
      "ARIMA(1, 0, 2)x(1, 1, 0, 12)12 - AIC:305.8460722901492\n"
     ]
    },
    {
     "name": "stderr",
     "output_type": "stream",
     "text": [
      "C:\\Users\\Byom Kesh Jha\\Anaconda3\\lib\\site-packages\\statsmodels\\base\\model.py:512: ConvergenceWarning: Maximum Likelihood optimization failed to converge. Check mle_retvals\n",
      "  \"Check mle_retvals\", ConvergenceWarning)\n"
     ]
    },
    {
     "name": "stdout",
     "output_type": "stream",
     "text": [
      "ARIMA(1, 0, 2)x(1, 2, 0, 12)12 - AIC:153.23892107158508\n",
      "ARIMA(1, 0, 2)x(2, 0, 0, 12)12 - AIC:309.0066800987395\n"
     ]
    },
    {
     "name": "stderr",
     "output_type": "stream",
     "text": [
      "C:\\Users\\Byom Kesh Jha\\Anaconda3\\lib\\site-packages\\statsmodels\\base\\model.py:512: ConvergenceWarning: Maximum Likelihood optimization failed to converge. Check mle_retvals\n",
      "  \"Check mle_retvals\", ConvergenceWarning)\n"
     ]
    },
    {
     "name": "stdout",
     "output_type": "stream",
     "text": [
      "ARIMA(1, 0, 2)x(2, 0, 1, 12)12 - AIC:847.6862092631185\n",
      "ARIMA(1, 0, 2)x(2, 1, 0, 12)12 - AIC:150.64208002546943\n"
     ]
    },
    {
     "name": "stderr",
     "output_type": "stream",
     "text": [
      "C:\\Users\\Byom Kesh Jha\\Anaconda3\\lib\\site-packages\\statsmodels\\base\\model.py:512: ConvergenceWarning: Maximum Likelihood optimization failed to converge. Check mle_retvals\n",
      "  \"Check mle_retvals\", ConvergenceWarning)\n"
     ]
    },
    {
     "name": "stdout",
     "output_type": "stream",
     "text": [
      "ARIMA(1, 0, 2)x(3, 0, 0, 12)12 - AIC:155.60098940753116\n"
     ]
    },
    {
     "name": "stderr",
     "output_type": "stream",
     "text": [
      "C:\\Users\\Byom Kesh Jha\\Anaconda3\\lib\\site-packages\\statsmodels\\base\\model.py:512: ConvergenceWarning: Maximum Likelihood optimization failed to converge. Check mle_retvals\n",
      "  \"Check mle_retvals\", ConvergenceWarning)\n"
     ]
    },
    {
     "name": "stdout",
     "output_type": "stream",
     "text": [
      "ARIMA(1, 0, 2)x(3, 0, 1, 12)12 - AIC:425.40757554167124\n",
      "ARIMA(1, 0, 3)x(0, 0, 0, 12)12 - AIC:638.8193802733127\n",
      "ARIMA(1, 0, 3)x(0, 0, 1, 12)12 - AIC:2534.868158720179\n",
      "ARIMA(1, 0, 3)x(0, 1, 0, 12)12 - AIC:441.4386150137511\n",
      "ARIMA(1, 0, 3)x(0, 2, 0, 12)12 - AIC:294.53325720349744\n"
     ]
    },
    {
     "name": "stderr",
     "output_type": "stream",
     "text": [
      "C:\\Users\\Byom Kesh Jha\\Anaconda3\\lib\\site-packages\\statsmodels\\base\\model.py:512: ConvergenceWarning: Maximum Likelihood optimization failed to converge. Check mle_retvals\n",
      "  \"Check mle_retvals\", ConvergenceWarning)\n"
     ]
    },
    {
     "name": "stdout",
     "output_type": "stream",
     "text": [
      "ARIMA(1, 0, 3)x(0, 3, 0, 12)12 - AIC:nan\n",
      "ARIMA(1, 0, 3)x(1, 0, 0, 12)12 - AIC:481.416458569812\n",
      "ARIMA(1, 0, 3)x(1, 0, 1, 12)12 - AIC:2415.2257920623942\n",
      "ARIMA(1, 0, 3)x(1, 1, 0, 12)12 - AIC:305.75700718513974\n",
      "ARIMA(1, 0, 3)x(1, 2, 0, 12)12 - AIC:152.92251458617946\n"
     ]
    },
    {
     "name": "stderr",
     "output_type": "stream",
     "text": [
      "C:\\Users\\Byom Kesh Jha\\Anaconda3\\lib\\site-packages\\statsmodels\\base\\model.py:512: ConvergenceWarning: Maximum Likelihood optimization failed to converge. Check mle_retvals\n",
      "  \"Check mle_retvals\", ConvergenceWarning)\n"
     ]
    },
    {
     "name": "stdout",
     "output_type": "stream",
     "text": [
      "ARIMA(1, 0, 3)x(2, 0, 0, 12)12 - AIC:308.5356426675913\n"
     ]
    },
    {
     "name": "stderr",
     "output_type": "stream",
     "text": [
      "C:\\Users\\Byom Kesh Jha\\Anaconda3\\lib\\site-packages\\statsmodels\\base\\model.py:512: ConvergenceWarning: Maximum Likelihood optimization failed to converge. Check mle_retvals\n",
      "  \"Check mle_retvals\", ConvergenceWarning)\n"
     ]
    },
    {
     "name": "stdout",
     "output_type": "stream",
     "text": [
      "ARIMA(1, 0, 3)x(2, 0, 1, 12)12 - AIC:686.0130568214536\n"
     ]
    },
    {
     "name": "stderr",
     "output_type": "stream",
     "text": [
      "C:\\Users\\Byom Kesh Jha\\Anaconda3\\lib\\site-packages\\statsmodels\\base\\model.py:512: ConvergenceWarning: Maximum Likelihood optimization failed to converge. Check mle_retvals\n",
      "  \"Check mle_retvals\", ConvergenceWarning)\n"
     ]
    },
    {
     "name": "stdout",
     "output_type": "stream",
     "text": [
      "ARIMA(1, 0, 3)x(2, 1, 0, 12)12 - AIC:151.86389317934083\n"
     ]
    },
    {
     "name": "stderr",
     "output_type": "stream",
     "text": [
      "C:\\Users\\Byom Kesh Jha\\Anaconda3\\lib\\site-packages\\statsmodels\\base\\model.py:512: ConvergenceWarning: Maximum Likelihood optimization failed to converge. Check mle_retvals\n",
      "  \"Check mle_retvals\", ConvergenceWarning)\n"
     ]
    },
    {
     "name": "stdout",
     "output_type": "stream",
     "text": [
      "ARIMA(1, 0, 3)x(3, 0, 0, 12)12 - AIC:148.73651222949348\n"
     ]
    },
    {
     "name": "stderr",
     "output_type": "stream",
     "text": [
      "C:\\Users\\Byom Kesh Jha\\Anaconda3\\lib\\site-packages\\statsmodels\\base\\model.py:512: ConvergenceWarning: Maximum Likelihood optimization failed to converge. Check mle_retvals\n",
      "  \"Check mle_retvals\", ConvergenceWarning)\n"
     ]
    },
    {
     "name": "stdout",
     "output_type": "stream",
     "text": [
      "ARIMA(1, 0, 3)x(3, 0, 1, 12)12 - AIC:380.41517803324416\n"
     ]
    },
    {
     "name": "stderr",
     "output_type": "stream",
     "text": [
      "C:\\Users\\Byom Kesh Jha\\Anaconda3\\lib\\site-packages\\statsmodels\\base\\model.py:512: ConvergenceWarning: Maximum Likelihood optimization failed to converge. Check mle_retvals\n",
      "  \"Check mle_retvals\", ConvergenceWarning)\n"
     ]
    },
    {
     "name": "stdout",
     "output_type": "stream",
     "text": [
      "ARIMA(1, 0, 4)x(0, 0, 0, 12)12 - AIC:624.8900498791885\n",
      "ARIMA(1, 0, 4)x(0, 0, 1, 12)12 - AIC:2535.894543642578\n",
      "ARIMA(1, 0, 4)x(0, 1, 0, 12)12 - AIC:427.66037031468215\n",
      "ARIMA(1, 0, 4)x(0, 2, 0, 12)12 - AIC:282.3158365735751\n"
     ]
    },
    {
     "name": "stderr",
     "output_type": "stream",
     "text": [
      "C:\\Users\\Byom Kesh Jha\\Anaconda3\\lib\\site-packages\\statsmodels\\base\\model.py:512: ConvergenceWarning: Maximum Likelihood optimization failed to converge. Check mle_retvals\n",
      "  \"Check mle_retvals\", ConvergenceWarning)\n"
     ]
    },
    {
     "name": "stdout",
     "output_type": "stream",
     "text": [
      "ARIMA(1, 0, 4)x(1, 0, 0, 12)12 - AIC:482.3911491351339\n",
      "ARIMA(1, 0, 4)x(1, 0, 1, 12)12 - AIC:2339.227296662565\n",
      "ARIMA(1, 0, 4)x(1, 1, 0, 12)12 - AIC:305.45997124247964\n"
     ]
    },
    {
     "name": "stderr",
     "output_type": "stream",
     "text": [
      "C:\\Users\\Byom Kesh Jha\\Anaconda3\\lib\\site-packages\\statsmodels\\base\\model.py:512: ConvergenceWarning: Maximum Likelihood optimization failed to converge. Check mle_retvals\n",
      "  \"Check mle_retvals\", ConvergenceWarning)\n"
     ]
    },
    {
     "name": "stdout",
     "output_type": "stream",
     "text": [
      "ARIMA(1, 0, 4)x(1, 2, 0, 12)12 - AIC:148.14849105669572\n"
     ]
    },
    {
     "name": "stderr",
     "output_type": "stream",
     "text": [
      "C:\\Users\\Byom Kesh Jha\\Anaconda3\\lib\\site-packages\\statsmodels\\base\\model.py:512: ConvergenceWarning: Maximum Likelihood optimization failed to converge. Check mle_retvals\n",
      "  \"Check mle_retvals\", ConvergenceWarning)\n"
     ]
    },
    {
     "name": "stdout",
     "output_type": "stream",
     "text": [
      "ARIMA(1, 0, 4)x(2, 0, 0, 12)12 - AIC:311.8909202029077\n"
     ]
    },
    {
     "name": "stderr",
     "output_type": "stream",
     "text": [
      "C:\\Users\\Byom Kesh Jha\\Anaconda3\\lib\\site-packages\\statsmodels\\base\\model.py:512: ConvergenceWarning: Maximum Likelihood optimization failed to converge. Check mle_retvals\n",
      "  \"Check mle_retvals\", ConvergenceWarning)\n"
     ]
    },
    {
     "name": "stdout",
     "output_type": "stream",
     "text": [
      "ARIMA(1, 0, 4)x(2, 0, 1, 12)12 - AIC:917.0809727212137\n"
     ]
    },
    {
     "name": "stderr",
     "output_type": "stream",
     "text": [
      "C:\\Users\\Byom Kesh Jha\\Anaconda3\\lib\\site-packages\\statsmodels\\base\\model.py:512: ConvergenceWarning: Maximum Likelihood optimization failed to converge. Check mle_retvals\n",
      "  \"Check mle_retvals\", ConvergenceWarning)\n"
     ]
    },
    {
     "name": "stdout",
     "output_type": "stream",
     "text": [
      "ARIMA(1, 0, 4)x(2, 1, 0, 12)12 - AIC:149.0473803536393\n"
     ]
    },
    {
     "name": "stderr",
     "output_type": "stream",
     "text": [
      "C:\\Users\\Byom Kesh Jha\\Anaconda3\\lib\\site-packages\\statsmodels\\base\\model.py:512: ConvergenceWarning: Maximum Likelihood optimization failed to converge. Check mle_retvals\n",
      "  \"Check mle_retvals\", ConvergenceWarning)\n"
     ]
    },
    {
     "name": "stdout",
     "output_type": "stream",
     "text": [
      "ARIMA(1, 0, 4)x(3, 0, 0, 12)12 - AIC:146.0075321461512\n",
      "ARIMA(1, 0, 4)x(3, 0, 1, 12)12 - AIC:450.2079514491426\n",
      "ARIMA(1, 1, 0)x(0, 0, 0, 12)12 - AIC:671.2513547541902\n"
     ]
    },
    {
     "name": "stderr",
     "output_type": "stream",
     "text": [
      "C:\\Users\\Byom Kesh Jha\\Anaconda3\\lib\\site-packages\\statsmodels\\base\\model.py:512: ConvergenceWarning: Maximum Likelihood optimization failed to converge. Check mle_retvals\n",
      "  \"Check mle_retvals\", ConvergenceWarning)\n"
     ]
    },
    {
     "name": "stdout",
     "output_type": "stream",
     "text": [
      "ARIMA(1, 1, 0)x(0, 0, 1, 12)12 - AIC:1455.1241321469415\n",
      "ARIMA(1, 1, 0)x(0, 1, 0, 12)12 - AIC:479.20034222811347\n",
      "ARIMA(1, 1, 0)x(0, 2, 0, 12)12 - AIC:332.3956597623958\n",
      "ARIMA(1, 1, 0)x(0, 3, 0, 12)12 - AIC:160.13781777650976\n",
      "ARIMA(1, 1, 0)x(1, 0, 0, 12)12 - AIC:475.34036587849016\n"
     ]
    },
    {
     "name": "stderr",
     "output_type": "stream",
     "text": [
      "C:\\Users\\Byom Kesh Jha\\Anaconda3\\lib\\site-packages\\statsmodels\\base\\model.py:512: ConvergenceWarning: Maximum Likelihood optimization failed to converge. Check mle_retvals\n",
      "  \"Check mle_retvals\", ConvergenceWarning)\n"
     ]
    },
    {
     "name": "stdout",
     "output_type": "stream",
     "text": [
      "ARIMA(1, 1, 0)x(1, 0, 1, 12)12 - AIC:1356.0287228411075\n",
      "ARIMA(1, 1, 0)x(1, 1, 0, 12)12 - AIC:300.62709013453934\n",
      "ARIMA(1, 1, 0)x(1, 2, 0, 12)12 - AIC:140.97940432821764\n",
      "ARIMA(1, 1, 0)x(2, 0, 0, 12)12 - AIC:301.7688524289619\n",
      "ARIMA(1, 1, 0)x(2, 0, 1, 12)12 - AIC:886.213014286266\n",
      "ARIMA(1, 1, 0)x(2, 1, 0, 12)12 - AIC:141.03361172495747\n",
      "ARIMA(1, 1, 0)x(3, 0, 0, 12)12 - AIC:139.56015705995074\n"
     ]
    },
    {
     "name": "stderr",
     "output_type": "stream",
     "text": [
      "C:\\Users\\Byom Kesh Jha\\Anaconda3\\lib\\site-packages\\statsmodels\\base\\model.py:512: ConvergenceWarning: Maximum Likelihood optimization failed to converge. Check mle_retvals\n",
      "  \"Check mle_retvals\", ConvergenceWarning)\n"
     ]
    },
    {
     "name": "stdout",
     "output_type": "stream",
     "text": [
      "ARIMA(1, 1, 0)x(3, 0, 1, 12)12 - AIC:385.76026235338554\n",
      "ARIMA(1, 1, 1)x(0, 0, 0, 12)12 - AIC:649.0318019835137\n",
      "ARIMA(1, 1, 1)x(0, 0, 1, 12)12 - AIC:21749.90908195544\n",
      "ARIMA(1, 1, 1)x(0, 1, 0, 12)12 - AIC:460.4762687610251\n",
      "ARIMA(1, 1, 1)x(0, 2, 0, 12)12 - AIC:317.9907754347548\n",
      "ARIMA(1, 1, 1)x(0, 3, 0, 12)12 - AIC:145.6479581321129\n",
      "ARIMA(1, 1, 1)x(1, 0, 0, 12)12 - AIC:469.5250354660837\n"
     ]
    },
    {
     "name": "stderr",
     "output_type": "stream",
     "text": [
      "C:\\Users\\Byom Kesh Jha\\Anaconda3\\lib\\site-packages\\statsmodels\\base\\model.py:512: ConvergenceWarning: Maximum Likelihood optimization failed to converge. Check mle_retvals\n",
      "  \"Check mle_retvals\", ConvergenceWarning)\n"
     ]
    },
    {
     "name": "stdout",
     "output_type": "stream",
     "text": [
      "ARIMA(1, 1, 1)x(1, 0, 1, 12)12 - AIC:2592.9586233250657\n",
      "ARIMA(1, 1, 1)x(1, 1, 0, 12)12 - AIC:297.787543953291\n",
      "ARIMA(1, 1, 1)x(1, 2, 0, 12)12 - AIC:139.89884389583094\n",
      "ARIMA(1, 1, 1)x(2, 0, 0, 12)12 - AIC:304.81353214544805\n",
      "ARIMA(1, 1, 1)x(2, 0, 1, 12)12 - AIC:906.7132027171776\n",
      "ARIMA(1, 1, 1)x(2, 1, 0, 12)12 - AIC:138.3371436517947\n",
      "ARIMA(1, 1, 1)x(3, 0, 0, 12)12 - AIC:140.13404516860183\n"
     ]
    },
    {
     "name": "stderr",
     "output_type": "stream",
     "text": [
      "C:\\Users\\Byom Kesh Jha\\Anaconda3\\lib\\site-packages\\statsmodels\\base\\model.py:512: ConvergenceWarning: Maximum Likelihood optimization failed to converge. Check mle_retvals\n",
      "  \"Check mle_retvals\", ConvergenceWarning)\n"
     ]
    },
    {
     "name": "stdout",
     "output_type": "stream",
     "text": [
      "ARIMA(1, 1, 1)x(3, 0, 1, 12)12 - AIC:418.392760159868\n",
      "ARIMA(1, 1, 2)x(0, 0, 0, 12)12 - AIC:636.879037789156\n"
     ]
    },
    {
     "name": "stderr",
     "output_type": "stream",
     "text": [
      "C:\\Users\\Byom Kesh Jha\\Anaconda3\\lib\\site-packages\\statsmodels\\base\\model.py:512: ConvergenceWarning: Maximum Likelihood optimization failed to converge. Check mle_retvals\n",
      "  \"Check mle_retvals\", ConvergenceWarning)\n"
     ]
    },
    {
     "name": "stdout",
     "output_type": "stream",
     "text": [
      "ARIMA(1, 1, 2)x(0, 0, 1, 12)12 - AIC:2531.686163553278\n",
      "ARIMA(1, 1, 2)x(0, 1, 0, 12)12 - AIC:449.4788858975254\n",
      "ARIMA(1, 1, 2)x(0, 2, 0, 12)12 - AIC:305.7151397158988\n",
      "ARIMA(1, 1, 2)x(0, 3, 0, 12)12 - AIC:130.84184234934705\n",
      "ARIMA(1, 1, 2)x(1, 0, 0, 12)12 - AIC:471.05557651078493\n",
      "ARIMA(1, 1, 2)x(1, 0, 1, 12)12 - AIC:318581.8189480535\n"
     ]
    },
    {
     "name": "stderr",
     "output_type": "stream",
     "text": [
      "C:\\Users\\Byom Kesh Jha\\Anaconda3\\lib\\site-packages\\statsmodels\\base\\model.py:512: ConvergenceWarning: Maximum Likelihood optimization failed to converge. Check mle_retvals\n",
      "  \"Check mle_retvals\", ConvergenceWarning)\n"
     ]
    },
    {
     "name": "stdout",
     "output_type": "stream",
     "text": [
      "ARIMA(1, 1, 2)x(1, 1, 0, 12)12 - AIC:299.7782955899802\n",
      "ARIMA(1, 1, 2)x(1, 2, 0, 12)12 - AIC:142.46380187458877\n",
      "ARIMA(1, 1, 2)x(2, 0, 0, 12)12 - AIC:302.2177681326379\n",
      "ARIMA(1, 1, 2)x(2, 0, 1, 12)12 - AIC:943.6340092545527\n"
     ]
    },
    {
     "name": "stderr",
     "output_type": "stream",
     "text": [
      "C:\\Users\\Byom Kesh Jha\\Anaconda3\\lib\\site-packages\\statsmodels\\base\\model.py:512: ConvergenceWarning: Maximum Likelihood optimization failed to converge. Check mle_retvals\n",
      "  \"Check mle_retvals\", ConvergenceWarning)\n"
     ]
    },
    {
     "name": "stdout",
     "output_type": "stream",
     "text": [
      "ARIMA(1, 1, 2)x(2, 1, 0, 12)12 - AIC:140.72610687987165\n",
      "ARIMA(1, 1, 2)x(3, 0, 0, 12)12 - AIC:139.25523346592917\n"
     ]
    },
    {
     "name": "stderr",
     "output_type": "stream",
     "text": [
      "C:\\Users\\Byom Kesh Jha\\Anaconda3\\lib\\site-packages\\statsmodels\\base\\model.py:512: ConvergenceWarning: Maximum Likelihood optimization failed to converge. Check mle_retvals\n",
      "  \"Check mle_retvals\", ConvergenceWarning)\n"
     ]
    },
    {
     "name": "stdout",
     "output_type": "stream",
     "text": [
      "ARIMA(1, 1, 2)x(3, 0, 1, 12)12 - AIC:439.4499321441072\n",
      "ARIMA(1, 1, 3)x(0, 0, 0, 12)12 - AIC:625.2677926144834\n",
      "ARIMA(1, 1, 3)x(0, 0, 1, 12)12 - AIC:2451.298184750869\n",
      "ARIMA(1, 1, 3)x(0, 1, 0, 12)12 - AIC:437.23044704779846\n",
      "ARIMA(1, 1, 3)x(0, 2, 0, 12)12 - AIC:288.840528693791\n"
     ]
    },
    {
     "name": "stderr",
     "output_type": "stream",
     "text": [
      "C:\\Users\\Byom Kesh Jha\\Anaconda3\\lib\\site-packages\\statsmodels\\base\\model.py:512: ConvergenceWarning: Maximum Likelihood optimization failed to converge. Check mle_retvals\n",
      "  \"Check mle_retvals\", ConvergenceWarning)\n"
     ]
    },
    {
     "name": "stdout",
     "output_type": "stream",
     "text": [
      "ARIMA(1, 1, 3)x(0, 3, 0, 12)12 - AIC:nan\n",
      "ARIMA(1, 1, 3)x(1, 0, 0, 12)12 - AIC:475.0894592042276\n",
      "ARIMA(1, 1, 3)x(1, 0, 1, 12)12 - AIC:351653.8636613662\n"
     ]
    },
    {
     "name": "stderr",
     "output_type": "stream",
     "text": [
      "C:\\Users\\Byom Kesh Jha\\Anaconda3\\lib\\site-packages\\statsmodels\\base\\model.py:512: ConvergenceWarning: Maximum Likelihood optimization failed to converge. Check mle_retvals\n",
      "  \"Check mle_retvals\", ConvergenceWarning)\n"
     ]
    },
    {
     "name": "stdout",
     "output_type": "stream",
     "text": [
      "ARIMA(1, 1, 3)x(1, 1, 0, 12)12 - AIC:300.88110914814365\n",
      "ARIMA(1, 1, 3)x(1, 2, 0, 12)12 - AIC:139.16762144322664\n",
      "ARIMA(1, 1, 3)x(2, 0, 0, 12)12 - AIC:305.25433342054316\n"
     ]
    },
    {
     "name": "stderr",
     "output_type": "stream",
     "text": [
      "C:\\Users\\Byom Kesh Jha\\Anaconda3\\lib\\site-packages\\statsmodels\\base\\model.py:512: ConvergenceWarning: Maximum Likelihood optimization failed to converge. Check mle_retvals\n",
      "  \"Check mle_retvals\", ConvergenceWarning)\n"
     ]
    },
    {
     "name": "stdout",
     "output_type": "stream",
     "text": [
      "ARIMA(1, 1, 3)x(2, 0, 1, 12)12 - AIC:947.075274427534\n"
     ]
    },
    {
     "name": "stderr",
     "output_type": "stream",
     "text": [
      "C:\\Users\\Byom Kesh Jha\\Anaconda3\\lib\\site-packages\\statsmodels\\base\\model.py:512: ConvergenceWarning: Maximum Likelihood optimization failed to converge. Check mle_retvals\n",
      "  \"Check mle_retvals\", ConvergenceWarning)\n"
     ]
    },
    {
     "name": "stdout",
     "output_type": "stream",
     "text": [
      "ARIMA(1, 1, 3)x(2, 1, 0, 12)12 - AIC:137.105900111886\n"
     ]
    },
    {
     "name": "stderr",
     "output_type": "stream",
     "text": [
      "C:\\Users\\Byom Kesh Jha\\Anaconda3\\lib\\site-packages\\statsmodels\\base\\model.py:512: ConvergenceWarning: Maximum Likelihood optimization failed to converge. Check mle_retvals\n",
      "  \"Check mle_retvals\", ConvergenceWarning)\n"
     ]
    },
    {
     "name": "stdout",
     "output_type": "stream",
     "text": [
      "ARIMA(1, 1, 3)x(3, 0, 0, 12)12 - AIC:145.87792030096915\n",
      "ARIMA(1, 1, 3)x(3, 0, 1, 12)12 - AIC:441.5749395153001\n",
      "ARIMA(1, 1, 4)x(0, 0, 0, 12)12 - AIC:611.4015046065201\n",
      "ARIMA(1, 1, 4)x(0, 0, 1, 12)12 - AIC:2373.4165268801107\n",
      "ARIMA(1, 1, 4)x(0, 1, 0, 12)12 - AIC:421.69845038527313\n",
      "ARIMA(1, 1, 4)x(0, 2, 0, 12)12 - AIC:269.66597747826864\n"
     ]
    },
    {
     "name": "stderr",
     "output_type": "stream",
     "text": [
      "C:\\Users\\Byom Kesh Jha\\Anaconda3\\lib\\site-packages\\statsmodels\\base\\model.py:512: ConvergenceWarning: Maximum Likelihood optimization failed to converge. Check mle_retvals\n",
      "  \"Check mle_retvals\", ConvergenceWarning)\n"
     ]
    },
    {
     "name": "stdout",
     "output_type": "stream",
     "text": [
      "ARIMA(1, 1, 4)x(1, 0, 0, 12)12 - AIC:473.9014144890762\n"
     ]
    },
    {
     "name": "stderr",
     "output_type": "stream",
     "text": [
      "C:\\Users\\Byom Kesh Jha\\Anaconda3\\lib\\site-packages\\statsmodels\\base\\model.py:512: ConvergenceWarning: Maximum Likelihood optimization failed to converge. Check mle_retvals\n",
      "  \"Check mle_retvals\", ConvergenceWarning)\n"
     ]
    },
    {
     "name": "stdout",
     "output_type": "stream",
     "text": [
      "ARIMA(1, 1, 4)x(1, 0, 1, 12)12 - AIC:nan\n",
      "ARIMA(1, 1, 4)x(1, 1, 0, 12)12 - AIC:302.7921381470384\n"
     ]
    },
    {
     "name": "stderr",
     "output_type": "stream",
     "text": [
      "C:\\Users\\Byom Kesh Jha\\Anaconda3\\lib\\site-packages\\statsmodels\\base\\model.py:512: ConvergenceWarning: Maximum Likelihood optimization failed to converge. Check mle_retvals\n",
      "  \"Check mle_retvals\", ConvergenceWarning)\n"
     ]
    },
    {
     "name": "stdout",
     "output_type": "stream",
     "text": [
      "ARIMA(1, 1, 4)x(1, 2, 0, 12)12 - AIC:132.2164737391773\n"
     ]
    },
    {
     "name": "stderr",
     "output_type": "stream",
     "text": [
      "C:\\Users\\Byom Kesh Jha\\Anaconda3\\lib\\site-packages\\statsmodels\\base\\model.py:512: ConvergenceWarning: Maximum Likelihood optimization failed to converge. Check mle_retvals\n",
      "  \"Check mle_retvals\", ConvergenceWarning)\n"
     ]
    },
    {
     "name": "stdout",
     "output_type": "stream",
     "text": [
      "ARIMA(1, 1, 4)x(2, 0, 0, 12)12 - AIC:305.16606453155947\n",
      "ARIMA(1, 1, 4)x(2, 0, 1, 12)12 - AIC:902.5639895258965\n"
     ]
    },
    {
     "name": "stderr",
     "output_type": "stream",
     "text": [
      "C:\\Users\\Byom Kesh Jha\\Anaconda3\\lib\\site-packages\\statsmodels\\base\\model.py:512: ConvergenceWarning: Maximum Likelihood optimization failed to converge. Check mle_retvals\n",
      "  \"Check mle_retvals\", ConvergenceWarning)\n"
     ]
    },
    {
     "name": "stdout",
     "output_type": "stream",
     "text": [
      "ARIMA(1, 1, 4)x(2, 1, 0, 12)12 - AIC:141.90944030387465\n"
     ]
    },
    {
     "name": "stderr",
     "output_type": "stream",
     "text": [
      "C:\\Users\\Byom Kesh Jha\\Anaconda3\\lib\\site-packages\\statsmodels\\base\\model.py:512: ConvergenceWarning: Maximum Likelihood optimization failed to converge. Check mle_retvals\n",
      "  \"Check mle_retvals\", ConvergenceWarning)\n"
     ]
    },
    {
     "name": "stdout",
     "output_type": "stream",
     "text": [
      "ARIMA(1, 1, 4)x(3, 0, 0, 12)12 - AIC:139.10803671671295\n"
     ]
    },
    {
     "name": "stderr",
     "output_type": "stream",
     "text": [
      "C:\\Users\\Byom Kesh Jha\\Anaconda3\\lib\\site-packages\\statsmodels\\base\\model.py:512: ConvergenceWarning: Maximum Likelihood optimization failed to converge. Check mle_retvals\n",
      "  \"Check mle_retvals\", ConvergenceWarning)\n"
     ]
    },
    {
     "name": "stdout",
     "output_type": "stream",
     "text": [
      "ARIMA(1, 1, 4)x(3, 0, 1, 12)12 - AIC:438.33912610746523\n",
      "ARIMA(1, 2, 0)x(0, 0, 0, 12)12 - AIC:691.2298181871188\n"
     ]
    },
    {
     "name": "stderr",
     "output_type": "stream",
     "text": [
      "C:\\Users\\Byom Kesh Jha\\Anaconda3\\lib\\site-packages\\statsmodels\\base\\model.py:512: ConvergenceWarning: Maximum Likelihood optimization failed to converge. Check mle_retvals\n",
      "  \"Check mle_retvals\", ConvergenceWarning)\n"
     ]
    },
    {
     "name": "stdout",
     "output_type": "stream",
     "text": [
      "ARIMA(1, 2, 0)x(0, 0, 1, 12)12 - AIC:1262.1772434241075\n",
      "ARIMA(1, 2, 0)x(0, 1, 0, 12)12 - AIC:487.7254958276131\n",
      "ARIMA(1, 2, 0)x(0, 2, 0, 12)12 - AIC:326.75644156583337\n",
      "ARIMA(1, 2, 0)x(0, 3, 0, 12)12 - AIC:144.83081152201217\n",
      "ARIMA(1, 2, 0)x(1, 0, 0, 12)12 - AIC:485.7746885900551\n",
      "ARIMA(1, 2, 0)x(1, 0, 1, 12)12 - AIC:1874.598521804568\n",
      "ARIMA(1, 2, 0)x(1, 1, 0, 12)12 - AIC:302.0552143225406\n",
      "ARIMA(1, 2, 0)x(1, 2, 0, 12)12 - AIC:129.59004245503675\n",
      "ARIMA(1, 2, 0)x(2, 0, 0, 12)12 - AIC:303.83852169143944\n"
     ]
    },
    {
     "name": "stderr",
     "output_type": "stream",
     "text": [
      "C:\\Users\\Byom Kesh Jha\\Anaconda3\\lib\\site-packages\\statsmodels\\base\\model.py:512: ConvergenceWarning: Maximum Likelihood optimization failed to converge. Check mle_retvals\n",
      "  \"Check mle_retvals\", ConvergenceWarning)\n"
     ]
    },
    {
     "name": "stdout",
     "output_type": "stream",
     "text": [
      "ARIMA(1, 2, 0)x(2, 0, 1, 12)12 - AIC:1023.4894063174896\n",
      "ARIMA(1, 2, 0)x(2, 1, 0, 12)12 - AIC:130.8650268397722\n",
      "ARIMA(1, 2, 0)x(3, 0, 0, 12)12 - AIC:131.75367348806037\n",
      "ARIMA(1, 2, 0)x(3, 0, 1, 12)12 - AIC:133.75367349334363\n",
      "ARIMA(1, 2, 1)x(0, 0, 0, 12)12 - AIC:647.5183048786594\n",
      "ARIMA(1, 2, 1)x(0, 0, 1, 12)12 - AIC:2511.361582219649\n",
      "ARIMA(1, 2, 1)x(0, 1, 0, 12)12 - AIC:455.9868411970348\n",
      "ARIMA(1, 2, 1)x(0, 2, 0, 12)12 - AIC:308.33975356016214\n",
      "ARIMA(1, 2, 1)x(0, 3, 0, 12)12 - AIC:130.9806850951298\n",
      "ARIMA(1, 2, 1)x(1, 0, 0, 12)12 - AIC:470.8350262821555\n",
      "ARIMA(1, 2, 1)x(1, 0, 1, 12)12 - AIC:2538.518063508056\n",
      "ARIMA(1, 2, 1)x(1, 1, 0, 12)12 - AIC:293.0917446828796\n",
      "ARIMA(1, 2, 1)x(1, 2, 0, 12)12 - AIC:128.46456185371835\n",
      "ARIMA(1, 2, 1)x(2, 0, 0, 12)12 - AIC:293.76780130293224\n"
     ]
    },
    {
     "name": "stderr",
     "output_type": "stream",
     "text": [
      "C:\\Users\\Byom Kesh Jha\\Anaconda3\\lib\\site-packages\\statsmodels\\base\\model.py:512: ConvergenceWarning: Maximum Likelihood optimization failed to converge. Check mle_retvals\n",
      "  \"Check mle_retvals\", ConvergenceWarning)\n"
     ]
    },
    {
     "name": "stdout",
     "output_type": "stream",
     "text": [
      "ARIMA(1, 2, 1)x(2, 0, 1, 12)12 - AIC:1021.5405588013098\n",
      "ARIMA(1, 2, 1)x(2, 1, 0, 12)12 - AIC:130.67250513582985\n",
      "ARIMA(1, 2, 1)x(3, 0, 0, 12)12 - AIC:131.93246178752466\n",
      "ARIMA(1, 2, 1)x(3, 0, 1, 12)12 - AIC:133.70812324260925\n"
     ]
    },
    {
     "name": "stderr",
     "output_type": "stream",
     "text": [
      "C:\\Users\\Byom Kesh Jha\\Anaconda3\\lib\\site-packages\\statsmodels\\base\\model.py:512: ConvergenceWarning: Maximum Likelihood optimization failed to converge. Check mle_retvals\n",
      "  \"Check mle_retvals\", ConvergenceWarning)\n"
     ]
    },
    {
     "name": "stdout",
     "output_type": "stream",
     "text": [
      "ARIMA(1, 2, 2)x(0, 0, 0, 12)12 - AIC:629.3897470297312\n",
      "ARIMA(1, 2, 2)x(0, 0, 1, 12)12 - AIC:2435.9805178351353\n",
      "ARIMA(1, 2, 2)x(0, 1, 0, 12)12 - AIC:442.08163418064703\n",
      "ARIMA(1, 2, 2)x(0, 2, 0, 12)12 - AIC:294.5627826458912\n",
      "ARIMA(1, 2, 2)x(0, 3, 0, 12)12 - AIC:117.65482675846428\n",
      "ARIMA(1, 2, 2)x(1, 0, 0, 12)12 - AIC:470.59316760740876\n",
      "ARIMA(1, 2, 2)x(1, 0, 1, 12)12 - AIC:2461.562235187847\n",
      "ARIMA(1, 2, 2)x(1, 1, 0, 12)12 - AIC:293.3465954552844\n",
      "ARIMA(1, 2, 2)x(1, 2, 0, 12)12 - AIC:127.9594803140024\n",
      "ARIMA(1, 2, 2)x(2, 0, 0, 12)12 - AIC:294.002914137007\n"
     ]
    },
    {
     "name": "stderr",
     "output_type": "stream",
     "text": [
      "C:\\Users\\Byom Kesh Jha\\Anaconda3\\lib\\site-packages\\statsmodels\\base\\model.py:512: ConvergenceWarning: Maximum Likelihood optimization failed to converge. Check mle_retvals\n",
      "  \"Check mle_retvals\", ConvergenceWarning)\n"
     ]
    },
    {
     "name": "stdout",
     "output_type": "stream",
     "text": [
      "ARIMA(1, 2, 2)x(2, 0, 1, 12)12 - AIC:1012.1753236813427\n",
      "ARIMA(1, 2, 2)x(2, 1, 0, 12)12 - AIC:129.61643099278243\n",
      "ARIMA(1, 2, 2)x(3, 0, 0, 12)12 - AIC:129.44010753541502\n"
     ]
    },
    {
     "name": "stderr",
     "output_type": "stream",
     "text": [
      "C:\\Users\\Byom Kesh Jha\\Anaconda3\\lib\\site-packages\\statsmodels\\base\\model.py:512: ConvergenceWarning: Maximum Likelihood optimization failed to converge. Check mle_retvals\n",
      "  \"Check mle_retvals\", ConvergenceWarning)\n"
     ]
    },
    {
     "name": "stdout",
     "output_type": "stream",
     "text": [
      "ARIMA(1, 2, 2)x(3, 0, 1, 12)12 - AIC:131.1183528695102\n"
     ]
    },
    {
     "name": "stderr",
     "output_type": "stream",
     "text": [
      "C:\\Users\\Byom Kesh Jha\\Anaconda3\\lib\\site-packages\\statsmodels\\base\\model.py:512: ConvergenceWarning: Maximum Likelihood optimization failed to converge. Check mle_retvals\n",
      "  \"Check mle_retvals\", ConvergenceWarning)\n"
     ]
    },
    {
     "name": "stdout",
     "output_type": "stream",
     "text": [
      "ARIMA(1, 2, 3)x(0, 0, 0, 12)12 - AIC:617.0102390958256\n",
      "ARIMA(1, 2, 3)x(0, 0, 1, 12)12 - AIC:2355.89236125546\n",
      "ARIMA(1, 2, 3)x(0, 1, 0, 12)12 - AIC:429.6498974122272\n",
      "ARIMA(1, 2, 3)x(0, 2, 0, 12)12 - AIC:282.8882065153094\n"
     ]
    },
    {
     "name": "stderr",
     "output_type": "stream",
     "text": [
      "C:\\Users\\Byom Kesh Jha\\Anaconda3\\lib\\site-packages\\statsmodels\\base\\model.py:512: ConvergenceWarning: Maximum Likelihood optimization failed to converge. Check mle_retvals\n",
      "  \"Check mle_retvals\", ConvergenceWarning)\n"
     ]
    },
    {
     "name": "stdout",
     "output_type": "stream",
     "text": [
      "ARIMA(1, 2, 3)x(0, 3, 0, 12)12 - AIC:nan\n",
      "ARIMA(1, 2, 3)x(1, 0, 0, 12)12 - AIC:473.00781090391547\n",
      "ARIMA(1, 2, 3)x(1, 0, 1, 12)12 - AIC:2782.16179974743\n",
      "ARIMA(1, 2, 3)x(1, 1, 0, 12)12 - AIC:295.33705549596345\n",
      "ARIMA(1, 2, 3)x(1, 2, 0, 12)12 - AIC:128.5437813597785\n",
      "ARIMA(1, 2, 3)x(2, 0, 0, 12)12 - AIC:295.9966019487511\n"
     ]
    },
    {
     "name": "stderr",
     "output_type": "stream",
     "text": [
      "C:\\Users\\Byom Kesh Jha\\Anaconda3\\lib\\site-packages\\statsmodels\\base\\model.py:512: ConvergenceWarning: Maximum Likelihood optimization failed to converge. Check mle_retvals\n",
      "  \"Check mle_retvals\", ConvergenceWarning)\n"
     ]
    },
    {
     "name": "stdout",
     "output_type": "stream",
     "text": [
      "ARIMA(1, 2, 3)x(2, 0, 1, 12)12 - AIC:843.2136002435612\n"
     ]
    },
    {
     "name": "stderr",
     "output_type": "stream",
     "text": [
      "C:\\Users\\Byom Kesh Jha\\Anaconda3\\lib\\site-packages\\statsmodels\\base\\model.py:512: ConvergenceWarning: Maximum Likelihood optimization failed to converge. Check mle_retvals\n",
      "  \"Check mle_retvals\", ConvergenceWarning)\n"
     ]
    },
    {
     "name": "stdout",
     "output_type": "stream",
     "text": [
      "ARIMA(1, 2, 3)x(2, 1, 0, 12)12 - AIC:131.45018125916232\n"
     ]
    },
    {
     "name": "stderr",
     "output_type": "stream",
     "text": [
      "C:\\Users\\Byom Kesh Jha\\Anaconda3\\lib\\site-packages\\statsmodels\\base\\model.py:512: ConvergenceWarning: Maximum Likelihood optimization failed to converge. Check mle_retvals\n",
      "  \"Check mle_retvals\", ConvergenceWarning)\n"
     ]
    },
    {
     "name": "stdout",
     "output_type": "stream",
     "text": [
      "ARIMA(1, 2, 3)x(3, 0, 0, 12)12 - AIC:131.19411772566332\n"
     ]
    },
    {
     "name": "stderr",
     "output_type": "stream",
     "text": [
      "C:\\Users\\Byom Kesh Jha\\Anaconda3\\lib\\site-packages\\statsmodels\\base\\model.py:512: ConvergenceWarning: Maximum Likelihood optimization failed to converge. Check mle_retvals\n",
      "  \"Check mle_retvals\", ConvergenceWarning)\n"
     ]
    },
    {
     "name": "stdout",
     "output_type": "stream",
     "text": [
      "ARIMA(1, 2, 3)x(3, 0, 1, 12)12 - AIC:131.47459791890236\n"
     ]
    },
    {
     "name": "stderr",
     "output_type": "stream",
     "text": [
      "C:\\Users\\Byom Kesh Jha\\Anaconda3\\lib\\site-packages\\statsmodels\\base\\model.py:512: ConvergenceWarning: Maximum Likelihood optimization failed to converge. Check mle_retvals\n",
      "  \"Check mle_retvals\", ConvergenceWarning)\n"
     ]
    },
    {
     "name": "stdout",
     "output_type": "stream",
     "text": [
      "ARIMA(1, 2, 4)x(0, 0, 0, 12)12 - AIC:604.544131960698\n",
      "ARIMA(1, 2, 4)x(0, 0, 1, 12)12 - AIC:2283.511991351993\n",
      "ARIMA(1, 2, 4)x(0, 1, 0, 12)12 - AIC:414.60727755714066\n",
      "ARIMA(1, 2, 4)x(0, 2, 0, 12)12 - AIC:259.93798584248725\n",
      "ARIMA(1, 2, 4)x(1, 0, 0, 12)12 - AIC:472.83564257159543\n",
      "ARIMA(1, 2, 4)x(1, 0, 1, 12)12 - AIC:2382.5018989720074\n",
      "ARIMA(1, 2, 4)x(1, 1, 0, 12)12 - AIC:298.38079130795575\n"
     ]
    },
    {
     "name": "stderr",
     "output_type": "stream",
     "text": [
      "C:\\Users\\Byom Kesh Jha\\Anaconda3\\lib\\site-packages\\statsmodels\\base\\model.py:512: ConvergenceWarning: Maximum Likelihood optimization failed to converge. Check mle_retvals\n",
      "  \"Check mle_retvals\", ConvergenceWarning)\n"
     ]
    },
    {
     "name": "stdout",
     "output_type": "stream",
     "text": [
      "ARIMA(1, 2, 4)x(1, 2, 0, 12)12 - AIC:116.5144523546318\n"
     ]
    },
    {
     "name": "stderr",
     "output_type": "stream",
     "text": [
      "C:\\Users\\Byom Kesh Jha\\Anaconda3\\lib\\site-packages\\statsmodels\\base\\model.py:512: ConvergenceWarning: Maximum Likelihood optimization failed to converge. Check mle_retvals\n",
      "  \"Check mle_retvals\", ConvergenceWarning)\n"
     ]
    },
    {
     "name": "stdout",
     "output_type": "stream",
     "text": [
      "ARIMA(1, 2, 4)x(2, 0, 0, 12)12 - AIC:298.33276923467355\n"
     ]
    },
    {
     "name": "stderr",
     "output_type": "stream",
     "text": [
      "C:\\Users\\Byom Kesh Jha\\Anaconda3\\lib\\site-packages\\statsmodels\\base\\model.py:512: ConvergenceWarning: Maximum Likelihood optimization failed to converge. Check mle_retvals\n",
      "  \"Check mle_retvals\", ConvergenceWarning)\n"
     ]
    },
    {
     "name": "stdout",
     "output_type": "stream",
     "text": [
      "ARIMA(1, 2, 4)x(2, 0, 1, 12)12 - AIC:873.240264985158\n"
     ]
    },
    {
     "name": "stderr",
     "output_type": "stream",
     "text": [
      "C:\\Users\\Byom Kesh Jha\\Anaconda3\\lib\\site-packages\\statsmodels\\base\\model.py:512: ConvergenceWarning: Maximum Likelihood optimization failed to converge. Check mle_retvals\n",
      "  \"Check mle_retvals\", ConvergenceWarning)\n"
     ]
    },
    {
     "name": "stdout",
     "output_type": "stream",
     "text": [
      "ARIMA(1, 2, 4)x(2, 1, 0, 12)12 - AIC:131.47501438557794\n"
     ]
    },
    {
     "name": "stderr",
     "output_type": "stream",
     "text": [
      "C:\\Users\\Byom Kesh Jha\\Anaconda3\\lib\\site-packages\\statsmodels\\base\\model.py:512: ConvergenceWarning: Maximum Likelihood optimization failed to converge. Check mle_retvals\n",
      "  \"Check mle_retvals\", ConvergenceWarning)\n"
     ]
    },
    {
     "name": "stdout",
     "output_type": "stream",
     "text": [
      "ARIMA(1, 2, 4)x(3, 0, 0, 12)12 - AIC:132.88628999422306\n"
     ]
    },
    {
     "name": "stderr",
     "output_type": "stream",
     "text": [
      "C:\\Users\\Byom Kesh Jha\\Anaconda3\\lib\\site-packages\\statsmodels\\base\\model.py:512: ConvergenceWarning: Maximum Likelihood optimization failed to converge. Check mle_retvals\n",
      "  \"Check mle_retvals\", ConvergenceWarning)\n"
     ]
    },
    {
     "name": "stdout",
     "output_type": "stream",
     "text": [
      "ARIMA(1, 2, 4)x(3, 0, 1, 12)12 - AIC:136.13242888493733\n",
      "ARIMA(1, 3, 0)x(0, 0, 0, 12)12 - AIC:720.2158001691707\n"
     ]
    },
    {
     "name": "stderr",
     "output_type": "stream",
     "text": [
      "C:\\Users\\Byom Kesh Jha\\Anaconda3\\lib\\site-packages\\statsmodels\\base\\model.py:512: ConvergenceWarning: Maximum Likelihood optimization failed to converge. Check mle_retvals\n",
      "  \"Check mle_retvals\", ConvergenceWarning)\n"
     ]
    },
    {
     "name": "stdout",
     "output_type": "stream",
     "text": [
      "ARIMA(1, 3, 0)x(0, 0, 1, 12)12 - AIC:1155.531393628788\n",
      "ARIMA(1, 3, 0)x(0, 1, 0, 12)12 - AIC:501.86644077427303\n",
      "ARIMA(1, 3, 0)x(0, 2, 0, 12)12 - AIC:325.87903821624576\n",
      "ARIMA(1, 3, 0)x(0, 3, 0, 12)12 - AIC:131.78676495880427\n",
      "ARIMA(1, 3, 0)x(1, 0, 0, 12)12 - AIC:501.3533655940231\n"
     ]
    },
    {
     "name": "stderr",
     "output_type": "stream",
     "text": [
      "C:\\Users\\Byom Kesh Jha\\Anaconda3\\lib\\site-packages\\statsmodels\\base\\model.py:512: ConvergenceWarning: Maximum Likelihood optimization failed to converge. Check mle_retvals\n",
      "  \"Check mle_retvals\", ConvergenceWarning)\n"
     ]
    },
    {
     "name": "stdout",
     "output_type": "stream",
     "text": [
      "ARIMA(1, 3, 0)x(1, 0, 1, 12)12 - AIC:1493.1724234289022\n",
      "ARIMA(1, 3, 0)x(1, 1, 0, 12)12 - AIC:306.3922065346272\n",
      "ARIMA(1, 3, 0)x(1, 2, 0, 12)12 - AIC:120.83838399765236\n",
      "ARIMA(1, 3, 0)x(2, 0, 0, 12)12 - AIC:308.3917933583933\n",
      "ARIMA(1, 3, 0)x(2, 0, 1, 12)12 - AIC:757.9633229714082\n",
      "ARIMA(1, 3, 0)x(2, 1, 0, 12)12 - AIC:122.72821676592119\n",
      "ARIMA(1, 3, 0)x(3, 0, 0, 12)12 - AIC:124.36385176926404\n"
     ]
    },
    {
     "name": "stderr",
     "output_type": "stream",
     "text": [
      "C:\\Users\\Byom Kesh Jha\\Anaconda3\\lib\\site-packages\\statsmodels\\base\\model.py:512: ConvergenceWarning: Maximum Likelihood optimization failed to converge. Check mle_retvals\n",
      "  \"Check mle_retvals\", ConvergenceWarning)\n"
     ]
    },
    {
     "name": "stdout",
     "output_type": "stream",
     "text": [
      "ARIMA(1, 3, 0)x(3, 0, 1, 12)12 - AIC:311.3137990159921\n",
      "ARIMA(1, 3, 1)x(0, 0, 0, 12)12 - AIC:666.7876247483242\n",
      "ARIMA(1, 3, 1)x(0, 0, 1, 12)12 - AIC:146944.03253609795\n",
      "ARIMA(1, 3, 1)x(0, 1, 0, 12)12 - AIC:463.39299573688817\n",
      "ARIMA(1, 3, 1)x(0, 2, 0, 12)12 - AIC:299.8967804471895\n",
      "ARIMA(1, 3, 1)x(0, 3, 0, 12)12 - AIC:116.49330002882827\n",
      "ARIMA(1, 3, 1)x(1, 0, 0, 12)12 - AIC:476.3612391659467\n",
      "ARIMA(1, 3, 1)x(1, 0, 1, 12)12 - AIC:75299.095778228\n",
      "ARIMA(1, 3, 1)x(1, 1, 0, 12)12 - AIC:292.23815732644545\n",
      "ARIMA(1, 3, 1)x(1, 2, 0, 12)12 - AIC:119.3519495097722\n",
      "ARIMA(1, 3, 1)x(2, 0, 0, 12)12 - AIC:295.0217739803566\n",
      "ARIMA(1, 3, 1)x(2, 0, 1, 12)12 - AIC:770.557144157238\n",
      "ARIMA(1, 3, 1)x(2, 1, 0, 12)12 - AIC:120.53007771393177\n",
      "ARIMA(1, 3, 1)x(3, 0, 0, 12)12 - AIC:124.05222689735632\n"
     ]
    },
    {
     "name": "stderr",
     "output_type": "stream",
     "text": [
      "C:\\Users\\Byom Kesh Jha\\Anaconda3\\lib\\site-packages\\statsmodels\\base\\model.py:512: ConvergenceWarning: Maximum Likelihood optimization failed to converge. Check mle_retvals\n",
      "  \"Check mle_retvals\", ConvergenceWarning)\n"
     ]
    },
    {
     "name": "stdout",
     "output_type": "stream",
     "text": [
      "ARIMA(1, 3, 1)x(3, 0, 1, 12)12 - AIC:329.2182311533342\n",
      "ARIMA(1, 3, 2)x(0, 0, 0, 12)12 - AIC:626.3064984926228\n",
      "ARIMA(1, 3, 2)x(0, 0, 1, 12)12 - AIC:3337.6430531260607\n",
      "ARIMA(1, 3, 2)x(0, 1, 0, 12)12 - AIC:433.820072849261\n",
      "ARIMA(1, 3, 2)x(0, 2, 0, 12)12 - AIC:282.8435046225675\n"
     ]
    },
    {
     "name": "stderr",
     "output_type": "stream",
     "text": [
      "C:\\Users\\Byom Kesh Jha\\Anaconda3\\lib\\site-packages\\statsmodels\\base\\model.py:512: ConvergenceWarning: Maximum Likelihood optimization failed to converge. Check mle_retvals\n",
      "  \"Check mle_retvals\", ConvergenceWarning)\n"
     ]
    },
    {
     "name": "stdout",
     "output_type": "stream",
     "text": [
      "ARIMA(1, 3, 2)x(0, 3, 0, 12)12 - AIC:nan\n",
      "ARIMA(1, 3, 2)x(1, 0, 0, 12)12 - AIC:464.21570062772525\n",
      "ARIMA(1, 3, 2)x(1, 0, 1, 12)12 - AIC:2322.806403224362"
     ]
    },
    {
     "name": "stderr",
     "output_type": "stream",
     "text": [
      "C:\\Users\\Byom Kesh Jha\\Anaconda3\\lib\\site-packages\\statsmodels\\base\\model.py:512: ConvergenceWarning: Maximum Likelihood optimization failed to converge. Check mle_retvals\n",
      "  \"Check mle_retvals\", ConvergenceWarning)\n"
     ]
    },
    {
     "name": "stdout",
     "output_type": "stream",
     "text": [
      "\n",
      "ARIMA(1, 3, 2)x(1, 1, 0, 12)12 - AIC:285.9459031176843\n"
     ]
    },
    {
     "name": "stderr",
     "output_type": "stream",
     "text": [
      "C:\\Users\\Byom Kesh Jha\\Anaconda3\\lib\\site-packages\\statsmodels\\base\\model.py:512: ConvergenceWarning: Maximum Likelihood optimization failed to converge. Check mle_retvals\n",
      "  \"Check mle_retvals\", ConvergenceWarning)\n"
     ]
    },
    {
     "name": "stdout",
     "output_type": "stream",
     "text": [
      "ARIMA(1, 3, 2)x(1, 2, 0, 12)12 - AIC:115.1893365804371\n",
      "ARIMA(1, 3, 2)x(2, 0, 0, 12)12 - AIC:289.6682507072759\n"
     ]
    },
    {
     "name": "stderr",
     "output_type": "stream",
     "text": [
      "C:\\Users\\Byom Kesh Jha\\Anaconda3\\lib\\site-packages\\statsmodels\\base\\model.py:512: ConvergenceWarning: Maximum Likelihood optimization failed to converge. Check mle_retvals\n",
      "  \"Check mle_retvals\", ConvergenceWarning)\n"
     ]
    },
    {
     "name": "stdout",
     "output_type": "stream",
     "text": [
      "ARIMA(1, 3, 2)x(2, 0, 1, 12)12 - AIC:918.4416036591984\n"
     ]
    },
    {
     "name": "stderr",
     "output_type": "stream",
     "text": [
      "C:\\Users\\Byom Kesh Jha\\Anaconda3\\lib\\site-packages\\statsmodels\\base\\model.py:512: ConvergenceWarning: Maximum Likelihood optimization failed to converge. Check mle_retvals\n",
      "  \"Check mle_retvals\", ConvergenceWarning)\n"
     ]
    },
    {
     "name": "stdout",
     "output_type": "stream",
     "text": [
      "ARIMA(1, 3, 2)x(2, 1, 0, 12)12 - AIC:119.9743729589569\n"
     ]
    },
    {
     "name": "stderr",
     "output_type": "stream",
     "text": [
      "C:\\Users\\Byom Kesh Jha\\Anaconda3\\lib\\site-packages\\statsmodels\\base\\model.py:512: ConvergenceWarning: Maximum Likelihood optimization failed to converge. Check mle_retvals\n",
      "  \"Check mle_retvals\", ConvergenceWarning)\n"
     ]
    },
    {
     "name": "stdout",
     "output_type": "stream",
     "text": [
      "ARIMA(1, 3, 2)x(3, 0, 0, 12)12 - AIC:116.24997389105656\n"
     ]
    },
    {
     "name": "stderr",
     "output_type": "stream",
     "text": [
      "C:\\Users\\Byom Kesh Jha\\Anaconda3\\lib\\site-packages\\statsmodels\\base\\model.py:512: ConvergenceWarning: Maximum Likelihood optimization failed to converge. Check mle_retvals\n",
      "  \"Check mle_retvals\", ConvergenceWarning)\n"
     ]
    },
    {
     "name": "stdout",
     "output_type": "stream",
     "text": [
      "ARIMA(1, 3, 2)x(3, 0, 1, 12)12 - AIC:236.46741878254898\n"
     ]
    },
    {
     "name": "stderr",
     "output_type": "stream",
     "text": [
      "C:\\Users\\Byom Kesh Jha\\Anaconda3\\lib\\site-packages\\statsmodels\\base\\model.py:512: ConvergenceWarning: Maximum Likelihood optimization failed to converge. Check mle_retvals\n",
      "  \"Check mle_retvals\", ConvergenceWarning)\n"
     ]
    },
    {
     "name": "stdout",
     "output_type": "stream",
     "text": [
      "ARIMA(1, 3, 3)x(0, 0, 0, 12)12 - AIC:611.8591720794225\n",
      "ARIMA(1, 3, 3)x(0, 0, 1, 12)12 - AIC:2142.246586882176\n",
      "ARIMA(1, 3, 3)x(0, 1, 0, 12)12 - AIC:421.58770151953183\n",
      "ARIMA(1, 3, 3)x(0, 2, 0, 12)12 - AIC:265.5666300121537\n",
      "ARIMA(1, 3, 3)x(1, 0, 0, 12)12 - AIC:465.7946511313684\n"
     ]
    },
    {
     "name": "stderr",
     "output_type": "stream",
     "text": [
      "C:\\Users\\Byom Kesh Jha\\Anaconda3\\lib\\site-packages\\statsmodels\\base\\model.py:512: ConvergenceWarning: Maximum Likelihood optimization failed to converge. Check mle_retvals\n",
      "  \"Check mle_retvals\", ConvergenceWarning)\n"
     ]
    },
    {
     "name": "stdout",
     "output_type": "stream",
     "text": [
      "ARIMA(1, 3, 3)x(1, 0, 1, 12)12 - AIC:nan\n"
     ]
    },
    {
     "name": "stderr",
     "output_type": "stream",
     "text": [
      "C:\\Users\\Byom Kesh Jha\\Anaconda3\\lib\\site-packages\\statsmodels\\base\\model.py:512: ConvergenceWarning: Maximum Likelihood optimization failed to converge. Check mle_retvals\n",
      "  \"Check mle_retvals\", ConvergenceWarning)\n"
     ]
    },
    {
     "name": "stdout",
     "output_type": "stream",
     "text": [
      "ARIMA(1, 3, 3)x(1, 1, 0, 12)12 - AIC:287.96618478504917\n",
      "ARIMA(1, 3, 3)x(1, 2, 0, 12)12 - AIC:113.07607693385395\n"
     ]
    },
    {
     "name": "stderr",
     "output_type": "stream",
     "text": [
      "C:\\Users\\Byom Kesh Jha\\Anaconda3\\lib\\site-packages\\statsmodels\\base\\model.py:512: ConvergenceWarning: Maximum Likelihood optimization failed to converge. Check mle_retvals\n",
      "  \"Check mle_retvals\", ConvergenceWarning)\n"
     ]
    },
    {
     "name": "stdout",
     "output_type": "stream",
     "text": [
      "ARIMA(1, 3, 3)x(2, 0, 0, 12)12 - AIC:291.1925178207454\n"
     ]
    },
    {
     "name": "stderr",
     "output_type": "stream",
     "text": [
      "C:\\Users\\Byom Kesh Jha\\Anaconda3\\lib\\site-packages\\statsmodels\\base\\model.py:512: ConvergenceWarning: Maximum Likelihood optimization failed to converge. Check mle_retvals\n",
      "  \"Check mle_retvals\", ConvergenceWarning)\n"
     ]
    },
    {
     "name": "stdout",
     "output_type": "stream",
     "text": [
      "ARIMA(1, 3, 3)x(2, 0, 1, 12)12 - AIC:644.8787943985393\n"
     ]
    },
    {
     "name": "stderr",
     "output_type": "stream",
     "text": [
      "C:\\Users\\Byom Kesh Jha\\Anaconda3\\lib\\site-packages\\statsmodels\\base\\model.py:512: ConvergenceWarning: Maximum Likelihood optimization failed to converge. Check mle_retvals\n",
      "  \"Check mle_retvals\", ConvergenceWarning)\n"
     ]
    },
    {
     "name": "stdout",
     "output_type": "stream",
     "text": [
      "ARIMA(1, 3, 3)x(2, 1, 0, 12)12 - AIC:117.98744903103338\n"
     ]
    },
    {
     "name": "stderr",
     "output_type": "stream",
     "text": [
      "C:\\Users\\Byom Kesh Jha\\Anaconda3\\lib\\site-packages\\statsmodels\\base\\model.py:512: ConvergenceWarning: Maximum Likelihood optimization failed to converge. Check mle_retvals\n",
      "  \"Check mle_retvals\", ConvergenceWarning)\n"
     ]
    },
    {
     "name": "stdout",
     "output_type": "stream",
     "text": [
      "ARIMA(1, 3, 3)x(3, 0, 0, 12)12 - AIC:131.59408259850292\n"
     ]
    },
    {
     "name": "stderr",
     "output_type": "stream",
     "text": [
      "C:\\Users\\Byom Kesh Jha\\Anaconda3\\lib\\site-packages\\statsmodels\\base\\model.py:512: ConvergenceWarning: Maximum Likelihood optimization failed to converge. Check mle_retvals\n",
      "  \"Check mle_retvals\", ConvergenceWarning)\n"
     ]
    },
    {
     "name": "stdout",
     "output_type": "stream",
     "text": [
      "ARIMA(1, 3, 3)x(3, 0, 1, 12)12 - AIC:363.1622896712106\n"
     ]
    },
    {
     "name": "stderr",
     "output_type": "stream",
     "text": [
      "C:\\Users\\Byom Kesh Jha\\Anaconda3\\lib\\site-packages\\statsmodels\\base\\model.py:512: ConvergenceWarning: Maximum Likelihood optimization failed to converge. Check mle_retvals\n",
      "  \"Check mle_retvals\", ConvergenceWarning)\n"
     ]
    },
    {
     "name": "stdout",
     "output_type": "stream",
     "text": [
      "ARIMA(1, 3, 4)x(0, 0, 0, 12)12 - AIC:602.448835064358\n",
      "ARIMA(1, 3, 4)x(0, 0, 1, 12)12 - AIC:2173.7327318417633\n"
     ]
    },
    {
     "name": "stderr",
     "output_type": "stream",
     "text": [
      "C:\\Users\\Byom Kesh Jha\\Anaconda3\\lib\\site-packages\\statsmodels\\base\\model.py:512: ConvergenceWarning: Maximum Likelihood optimization failed to converge. Check mle_retvals\n",
      "  \"Check mle_retvals\", ConvergenceWarning)\n"
     ]
    },
    {
     "name": "stdout",
     "output_type": "stream",
     "text": [
      "ARIMA(1, 3, 4)x(0, 1, 0, 12)12 - AIC:409.50997668336413\n"
     ]
    },
    {
     "name": "stderr",
     "output_type": "stream",
     "text": [
      "C:\\Users\\Byom Kesh Jha\\Anaconda3\\lib\\site-packages\\statsmodels\\base\\model.py:512: ConvergenceWarning: Maximum Likelihood optimization failed to converge. Check mle_retvals\n",
      "  \"Check mle_retvals\", ConvergenceWarning)\n"
     ]
    },
    {
     "name": "stdout",
     "output_type": "stream",
     "text": [
      "ARIMA(1, 3, 4)x(0, 2, 0, 12)12 - AIC:249.8571641923598\n"
     ]
    },
    {
     "name": "stderr",
     "output_type": "stream",
     "text": [
      "C:\\Users\\Byom Kesh Jha\\Anaconda3\\lib\\site-packages\\statsmodels\\base\\model.py:512: ConvergenceWarning: Maximum Likelihood optimization failed to converge. Check mle_retvals\n",
      "  \"Check mle_retvals\", ConvergenceWarning)\n"
     ]
    },
    {
     "name": "stdout",
     "output_type": "stream",
     "text": [
      "ARIMA(1, 3, 4)x(1, 0, 0, 12)12 - AIC:467.9146349221166\n",
      "ARIMA(1, 3, 4)x(1, 0, 1, 12)12 - AIC:2669.7282596871573\n"
     ]
    },
    {
     "name": "stderr",
     "output_type": "stream",
     "text": [
      "C:\\Users\\Byom Kesh Jha\\Anaconda3\\lib\\site-packages\\statsmodels\\base\\model.py:512: ConvergenceWarning: Maximum Likelihood optimization failed to converge. Check mle_retvals\n",
      "  \"Check mle_retvals\", ConvergenceWarning)\n"
     ]
    },
    {
     "name": "stdout",
     "output_type": "stream",
     "text": [
      "ARIMA(1, 3, 4)x(1, 1, 0, 12)12 - AIC:292.6010090944804\n"
     ]
    },
    {
     "name": "stderr",
     "output_type": "stream",
     "text": [
      "C:\\Users\\Byom Kesh Jha\\Anaconda3\\lib\\site-packages\\statsmodels\\base\\model.py:512: ConvergenceWarning: Maximum Likelihood optimization failed to converge. Check mle_retvals\n",
      "  \"Check mle_retvals\", ConvergenceWarning)\n"
     ]
    },
    {
     "name": "stdout",
     "output_type": "stream",
     "text": [
      "ARIMA(1, 3, 4)x(1, 2, 0, 12)12 - AIC:107.90061145557084\n"
     ]
    },
    {
     "name": "stderr",
     "output_type": "stream",
     "text": [
      "C:\\Users\\Byom Kesh Jha\\Anaconda3\\lib\\site-packages\\statsmodels\\base\\model.py:512: ConvergenceWarning: Maximum Likelihood optimization failed to converge. Check mle_retvals\n",
      "  \"Check mle_retvals\", ConvergenceWarning)\n"
     ]
    },
    {
     "name": "stdout",
     "output_type": "stream",
     "text": [
      "ARIMA(1, 3, 4)x(2, 0, 0, 12)12 - AIC:292.9714209881805\n",
      "ARIMA(1, 3, 4)x(2, 0, 1, 12)12 - AIC:1976.7107142713014\n"
     ]
    },
    {
     "name": "stderr",
     "output_type": "stream",
     "text": [
      "C:\\Users\\Byom Kesh Jha\\Anaconda3\\lib\\site-packages\\statsmodels\\base\\model.py:512: ConvergenceWarning: Maximum Likelihood optimization failed to converge. Check mle_retvals\n",
      "  \"Check mle_retvals\", ConvergenceWarning)\n"
     ]
    },
    {
     "name": "stdout",
     "output_type": "stream",
     "text": [
      "ARIMA(1, 3, 4)x(2, 1, 0, 12)12 - AIC:123.81481405759766\n"
     ]
    },
    {
     "name": "stderr",
     "output_type": "stream",
     "text": [
      "C:\\Users\\Byom Kesh Jha\\Anaconda3\\lib\\site-packages\\statsmodels\\base\\model.py:512: ConvergenceWarning: Maximum Likelihood optimization failed to converge. Check mle_retvals\n",
      "  \"Check mle_retvals\", ConvergenceWarning)\n"
     ]
    },
    {
     "name": "stdout",
     "output_type": "stream",
     "text": [
      "ARIMA(1, 3, 4)x(3, 0, 0, 12)12 - AIC:121.64460578557791\n",
      "ARIMA(1, 3, 4)x(3, 0, 1, 12)12 - AIC:631.8576515685535\n",
      "ARIMA(1, 4, 0)x(0, 0, 0, 12)12 - AIC:751.2773527003056\n"
     ]
    },
    {
     "name": "stderr",
     "output_type": "stream",
     "text": [
      "C:\\Users\\Byom Kesh Jha\\Anaconda3\\lib\\site-packages\\statsmodels\\base\\model.py:512: ConvergenceWarning: Maximum Likelihood optimization failed to converge. Check mle_retvals\n",
      "  \"Check mle_retvals\", ConvergenceWarning)\n"
     ]
    },
    {
     "name": "stdout",
     "output_type": "stream",
     "text": [
      "ARIMA(1, 4, 0)x(0, 0, 1, 12)12 - AIC:1098.3205863012033\n",
      "ARIMA(1, 4, 0)x(0, 1, 0, 12)12 - AIC:519.0038009674938\n",
      "ARIMA(1, 4, 0)x(0, 2, 0, 12)12 - AIC:328.6485271363384\n",
      "ARIMA(1, 4, 0)x(0, 3, 0, 12)12 - AIC:122.32241514163694\n",
      "ARIMA(1, 4, 0)x(1, 0, 0, 12)12 - AIC:518.9005293163508\n"
     ]
    },
    {
     "name": "stderr",
     "output_type": "stream",
     "text": [
      "C:\\Users\\Byom Kesh Jha\\Anaconda3\\lib\\site-packages\\statsmodels\\base\\model.py:512: ConvergenceWarning: Maximum Likelihood optimization failed to converge. Check mle_retvals\n",
      "  \"Check mle_retvals\", ConvergenceWarning)\n"
     ]
    },
    {
     "name": "stdout",
     "output_type": "stream",
     "text": [
      "ARIMA(1, 4, 0)x(1, 0, 1, 12)12 - AIC:1247.6317783804711\n",
      "ARIMA(1, 4, 0)x(1, 1, 0, 12)12 - AIC:311.6805114711519\n",
      "ARIMA(1, 4, 0)x(1, 2, 0, 12)12 - AIC:112.43768799401494\n",
      "ARIMA(1, 4, 0)x(2, 0, 0, 12)12 - AIC:313.62110279178796\n"
     ]
    },
    {
     "name": "stderr",
     "output_type": "stream",
     "text": [
      "C:\\Users\\Byom Kesh Jha\\Anaconda3\\lib\\site-packages\\statsmodels\\base\\model.py:512: ConvergenceWarning: Maximum Likelihood optimization failed to converge. Check mle_retvals\n",
      "  \"Check mle_retvals\", ConvergenceWarning)\n"
     ]
    },
    {
     "name": "stdout",
     "output_type": "stream",
     "text": [
      "ARIMA(1, 4, 0)x(2, 0, 1, 12)12 - AIC:716.377778071602\n",
      "ARIMA(1, 4, 0)x(2, 1, 0, 12)12 - AIC:113.75328035547463\n",
      "ARIMA(1, 4, 0)x(3, 0, 0, 12)12 - AIC:115.05640836649916\n"
     ]
    },
    {
     "name": "stderr",
     "output_type": "stream",
     "text": [
      "C:\\Users\\Byom Kesh Jha\\Anaconda3\\lib\\site-packages\\statsmodels\\base\\model.py:512: ConvergenceWarning: Maximum Likelihood optimization failed to converge. Check mle_retvals\n",
      "  \"Check mle_retvals\", ConvergenceWarning)\n"
     ]
    },
    {
     "name": "stdout",
     "output_type": "stream",
     "text": [
      "ARIMA(1, 4, 0)x(3, 0, 1, 12)12 - AIC:258.02408862267134\n",
      "ARIMA(1, 4, 1)x(0, 0, 0, 12)12 - AIC:693.3143566330185\n",
      "ARIMA(1, 4, 1)x(0, 0, 1, 12)12 - AIC:2348.574560568526\n",
      "ARIMA(1, 4, 1)x(0, 1, 0, 12)12 - AIC:474.7771364024502\n",
      "ARIMA(1, 4, 1)x(0, 2, 0, 12)12 - AIC:296.8206806031881\n",
      "ARIMA(1, 4, 1)x(0, 3, 0, 12)12 - AIC:103.6023508727057\n",
      "ARIMA(1, 4, 1)x(1, 0, 0, 12)12 - AIC:490.13998624762047\n",
      "ARIMA(1, 4, 1)x(1, 0, 1, 12)12 - AIC:2580.5848754637377\n",
      "ARIMA(1, 4, 1)x(1, 1, 0, 12)12 - AIC:294.42972351246306\n",
      "ARIMA(1, 4, 1)x(1, 2, 0, 12)12 - AIC:107.41959597214623\n",
      "ARIMA(1, 4, 1)x(2, 0, 0, 12)12 - AIC:297.3189480907725\n",
      "ARIMA(1, 4, 1)x(2, 0, 1, 12)12 - AIC:1525.9976064945233\n",
      "ARIMA(1, 4, 1)x(2, 1, 0, 12)12 - AIC:108.74572983827102\n",
      "ARIMA(1, 4, 1)x(3, 0, 0, 12)12 - AIC:110.32419916703333\n",
      "ARIMA(1, 4, 1)x(3, 0, 1, 12)12 - AIC:574.5220537072558\n",
      "ARIMA(1, 4, 2)x(0, 0, 0, 12)12 - AIC:643.0123790088174\n",
      "ARIMA(1, 4, 2)x(0, 0, 1, 12)12 - AIC:2571.103575579402\n",
      "ARIMA(1, 4, 2)x(0, 1, 0, 12)12 - AIC:435.27538210215005\n",
      "ARIMA(1, 4, 2)x(0, 2, 0, 12)12 - AIC:268.3660879252258\n"
     ]
    },
    {
     "name": "stderr",
     "output_type": "stream",
     "text": [
      "C:\\Users\\Byom Kesh Jha\\Anaconda3\\lib\\site-packages\\statsmodels\\base\\model.py:512: ConvergenceWarning: Maximum Likelihood optimization failed to converge. Check mle_retvals\n",
      "  \"Check mle_retvals\", ConvergenceWarning)\n"
     ]
    },
    {
     "name": "stdout",
     "output_type": "stream",
     "text": [
      "ARIMA(1, 4, 2)x(0, 3, 0, 12)12 - AIC:nan\n",
      "ARIMA(1, 4, 2)x(1, 0, 0, 12)12 - AIC:468.9462704056784\n",
      "ARIMA(1, 4, 2)x(1, 0, 1, 12)12 - AIC:2265.0854602486793\n",
      "ARIMA(1, 4, 2)x(1, 1, 0, 12)12 - AIC:281.84843557045997\n"
     ]
    },
    {
     "name": "stderr",
     "output_type": "stream",
     "text": [
      "C:\\Users\\Byom Kesh Jha\\Anaconda3\\lib\\site-packages\\statsmodels\\base\\model.py:512: ConvergenceWarning: Maximum Likelihood optimization failed to converge. Check mle_retvals\n",
      "  \"Check mle_retvals\", ConvergenceWarning)\n"
     ]
    },
    {
     "name": "stdout",
     "output_type": "stream",
     "text": [
      "ARIMA(1, 4, 2)x(1, 2, 0, 12)12 - AIC:107.03681217185874\n",
      "ARIMA(1, 4, 2)x(2, 0, 0, 12)12 - AIC:286.5512565514289\n"
     ]
    },
    {
     "name": "stderr",
     "output_type": "stream",
     "text": [
      "C:\\Users\\Byom Kesh Jha\\Anaconda3\\lib\\site-packages\\statsmodels\\base\\model.py:512: ConvergenceWarning: Maximum Likelihood optimization failed to converge. Check mle_retvals\n",
      "  \"Check mle_retvals\", ConvergenceWarning)\n"
     ]
    },
    {
     "name": "stdout",
     "output_type": "stream",
     "text": [
      "ARIMA(1, 4, 2)x(2, 0, 1, 12)12 - AIC:nan\n",
      "ARIMA(1, 4, 2)x(2, 1, 0, 12)12 - AIC:107.46855281078376\n"
     ]
    },
    {
     "name": "stderr",
     "output_type": "stream",
     "text": [
      "C:\\Users\\Byom Kesh Jha\\Anaconda3\\lib\\site-packages\\statsmodels\\base\\model.py:512: ConvergenceWarning: Maximum Likelihood optimization failed to converge. Check mle_retvals\n",
      "  \"Check mle_retvals\", ConvergenceWarning)\n"
     ]
    },
    {
     "name": "stdout",
     "output_type": "stream",
     "text": [
      "ARIMA(1, 4, 2)x(3, 0, 0, 12)12 - AIC:109.84816925575623\n"
     ]
    },
    {
     "name": "stderr",
     "output_type": "stream",
     "text": [
      "C:\\Users\\Byom Kesh Jha\\Anaconda3\\lib\\site-packages\\statsmodels\\base\\model.py:512: ConvergenceWarning: Maximum Likelihood optimization failed to converge. Check mle_retvals\n",
      "  \"Check mle_retvals\", ConvergenceWarning)\n"
     ]
    },
    {
     "name": "stdout",
     "output_type": "stream",
     "text": [
      "ARIMA(1, 4, 2)x(3, 0, 1, 12)12 - AIC:274.7700909163757\n"
     ]
    },
    {
     "name": "stderr",
     "output_type": "stream",
     "text": [
      "C:\\Users\\Byom Kesh Jha\\Anaconda3\\lib\\site-packages\\statsmodels\\base\\model.py:512: ConvergenceWarning: Maximum Likelihood optimization failed to converge. Check mle_retvals\n",
      "  \"Check mle_retvals\", ConvergenceWarning)\n"
     ]
    },
    {
     "name": "stdout",
     "output_type": "stream",
     "text": [
      "ARIMA(1, 4, 3)x(0, 0, 0, 12)12 - AIC:607.8378920633443\n",
      "ARIMA(1, 4, 3)x(0, 0, 1, 12)12 - AIC:2423.265646132431\n",
      "ARIMA(1, 4, 3)x(0, 1, 0, 12)12 - AIC:415.2990014075434\n",
      "ARIMA(1, 4, 3)x(0, 2, 0, 12)12 - AIC:255.22102704071554\n"
     ]
    },
    {
     "name": "stderr",
     "output_type": "stream",
     "text": [
      "C:\\Users\\Byom Kesh Jha\\Anaconda3\\lib\\site-packages\\statsmodels\\base\\model.py:512: ConvergenceWarning: Maximum Likelihood optimization failed to converge. Check mle_retvals\n",
      "  \"Check mle_retvals\", ConvergenceWarning)\n"
     ]
    },
    {
     "name": "stdout",
     "output_type": "stream",
     "text": [
      "ARIMA(1, 4, 3)x(1, 0, 0, 12)12 - AIC:461.74756557891567\n",
      "ARIMA(1, 4, 3)x(1, 0, 1, 12)12 - AIC:2189.0589638442602\n",
      "ARIMA(1, 4, 3)x(1, 1, 0, 12)12 - AIC:296.7659886811565\n"
     ]
    },
    {
     "name": "stderr",
     "output_type": "stream",
     "text": [
      "C:\\Users\\Byom Kesh Jha\\Anaconda3\\lib\\site-packages\\statsmodels\\base\\model.py:512: ConvergenceWarning: Maximum Likelihood optimization failed to converge. Check mle_retvals\n",
      "  \"Check mle_retvals\", ConvergenceWarning)\n"
     ]
    },
    {
     "name": "stdout",
     "output_type": "stream",
     "text": [
      "ARIMA(1, 4, 3)x(1, 2, 0, 12)12 - AIC:103.41374616451009\n"
     ]
    },
    {
     "name": "stderr",
     "output_type": "stream",
     "text": [
      "C:\\Users\\Byom Kesh Jha\\Anaconda3\\lib\\site-packages\\statsmodels\\base\\model.py:512: ConvergenceWarning: Maximum Likelihood optimization failed to converge. Check mle_retvals\n",
      "  \"Check mle_retvals\", ConvergenceWarning)\n"
     ]
    },
    {
     "name": "stdout",
     "output_type": "stream",
     "text": [
      "ARIMA(1, 4, 3)x(2, 0, 0, 12)12 - AIC:284.9377642976559\n",
      "ARIMA(1, 4, 3)x(2, 0, 1, 12)12 - AIC:1520.5227851161192\n"
     ]
    },
    {
     "name": "stderr",
     "output_type": "stream",
     "text": [
      "C:\\Users\\Byom Kesh Jha\\Anaconda3\\lib\\site-packages\\statsmodels\\base\\model.py:512: ConvergenceWarning: Maximum Likelihood optimization failed to converge. Check mle_retvals\n",
      "  \"Check mle_retvals\", ConvergenceWarning)\n"
     ]
    },
    {
     "name": "stdout",
     "output_type": "stream",
     "text": [
      "ARIMA(1, 4, 3)x(2, 1, 0, 12)12 - AIC:117.95113843612282\n"
     ]
    },
    {
     "name": "stderr",
     "output_type": "stream",
     "text": [
      "C:\\Users\\Byom Kesh Jha\\Anaconda3\\lib\\site-packages\\statsmodels\\base\\model.py:512: ConvergenceWarning: Maximum Likelihood optimization failed to converge. Check mle_retvals\n",
      "  \"Check mle_retvals\", ConvergenceWarning)\n"
     ]
    },
    {
     "name": "stdout",
     "output_type": "stream",
     "text": [
      "ARIMA(1, 4, 3)x(3, 0, 0, 12)12 - AIC:113.18303857660938\n"
     ]
    },
    {
     "name": "stderr",
     "output_type": "stream",
     "text": [
      "C:\\Users\\Byom Kesh Jha\\Anaconda3\\lib\\site-packages\\statsmodels\\base\\model.py:512: ConvergenceWarning: Maximum Likelihood optimization failed to converge. Check mle_retvals\n",
      "  \"Check mle_retvals\", ConvergenceWarning)\n"
     ]
    },
    {
     "name": "stdout",
     "output_type": "stream",
     "text": [
      "ARIMA(1, 4, 3)x(3, 0, 1, 12)12 - AIC:558.1311100224773\n",
      "ARIMA(1, 4, 4)x(0, 0, 0, 12)12 - AIC:618.1055576099905\n",
      "ARIMA(1, 4, 4)x(0, 0, 1, 12)12 - AIC:2116.414650143555\n"
     ]
    },
    {
     "name": "stderr",
     "output_type": "stream",
     "text": [
      "C:\\Users\\Byom Kesh Jha\\Anaconda3\\lib\\site-packages\\statsmodels\\base\\model.py:512: ConvergenceWarning: Maximum Likelihood optimization failed to converge. Check mle_retvals\n",
      "  \"Check mle_retvals\", ConvergenceWarning)\n",
      "C:\\Users\\Byom Kesh Jha\\Anaconda3\\lib\\site-packages\\statsmodels\\base\\model.py:512: ConvergenceWarning: Maximum Likelihood optimization failed to converge. Check mle_retvals\n",
      "  \"Check mle_retvals\", ConvergenceWarning)\n"
     ]
    },
    {
     "name": "stdout",
     "output_type": "stream",
     "text": [
      "ARIMA(1, 4, 4)x(0, 1, 0, 12)12 - AIC:413.635400485983\n",
      "ARIMA(1, 4, 4)x(0, 2, 0, 12)12 - AIC:242.7656602818552\n"
     ]
    },
    {
     "name": "stderr",
     "output_type": "stream",
     "text": [
      "C:\\Users\\Byom Kesh Jha\\Anaconda3\\lib\\site-packages\\statsmodels\\base\\model.py:512: ConvergenceWarning: Maximum Likelihood optimization failed to converge. Check mle_retvals\n",
      "  \"Check mle_retvals\", ConvergenceWarning)\n",
      "C:\\Users\\Byom Kesh Jha\\Anaconda3\\lib\\site-packages\\statsmodels\\base\\model.py:512: ConvergenceWarning: Maximum Likelihood optimization failed to converge. Check mle_retvals\n",
      "  \"Check mle_retvals\", ConvergenceWarning)\n"
     ]
    },
    {
     "name": "stdout",
     "output_type": "stream",
     "text": [
      "ARIMA(1, 4, 4)x(1, 0, 0, 12)12 - AIC:484.64593085713267\n",
      "ARIMA(1, 4, 4)x(1, 0, 1, 12)12 - AIC:nan\n"
     ]
    },
    {
     "name": "stderr",
     "output_type": "stream",
     "text": [
      "C:\\Users\\Byom Kesh Jha\\Anaconda3\\lib\\site-packages\\statsmodels\\base\\model.py:512: ConvergenceWarning: Maximum Likelihood optimization failed to converge. Check mle_retvals\n",
      "  \"Check mle_retvals\", ConvergenceWarning)\n"
     ]
    },
    {
     "name": "stdout",
     "output_type": "stream",
     "text": [
      "ARIMA(1, 4, 4)x(1, 1, 0, 12)12 - AIC:292.4628636329737\n"
     ]
    },
    {
     "name": "stderr",
     "output_type": "stream",
     "text": [
      "C:\\Users\\Byom Kesh Jha\\Anaconda3\\lib\\site-packages\\statsmodels\\base\\model.py:512: ConvergenceWarning: Maximum Likelihood optimization failed to converge. Check mle_retvals\n",
      "  \"Check mle_retvals\", ConvergenceWarning)\n"
     ]
    },
    {
     "name": "stdout",
     "output_type": "stream",
     "text": [
      "ARIMA(1, 4, 4)x(1, 2, 0, 12)12 - AIC:101.65508459960515\n"
     ]
    },
    {
     "name": "stderr",
     "output_type": "stream",
     "text": [
      "C:\\Users\\Byom Kesh Jha\\Anaconda3\\lib\\site-packages\\statsmodels\\base\\model.py:512: ConvergenceWarning: Maximum Likelihood optimization failed to converge. Check mle_retvals\n",
      "  \"Check mle_retvals\", ConvergenceWarning)\n"
     ]
    },
    {
     "name": "stdout",
     "output_type": "stream",
     "text": [
      "ARIMA(1, 4, 4)x(2, 0, 0, 12)12 - AIC:307.07027197511536\n"
     ]
    },
    {
     "name": "stderr",
     "output_type": "stream",
     "text": [
      "C:\\Users\\Byom Kesh Jha\\Anaconda3\\lib\\site-packages\\statsmodels\\base\\model.py:512: ConvergenceWarning: Maximum Likelihood optimization failed to converge. Check mle_retvals\n",
      "  \"Check mle_retvals\", ConvergenceWarning)\n"
     ]
    },
    {
     "name": "stdout",
     "output_type": "stream",
     "text": [
      "ARIMA(1, 4, 4)x(2, 0, 1, 12)12 - AIC:nan\n"
     ]
    },
    {
     "name": "stderr",
     "output_type": "stream",
     "text": [
      "C:\\Users\\Byom Kesh Jha\\Anaconda3\\lib\\site-packages\\statsmodels\\base\\model.py:512: ConvergenceWarning: Maximum Likelihood optimization failed to converge. Check mle_retvals\n",
      "  \"Check mle_retvals\", ConvergenceWarning)\n"
     ]
    },
    {
     "name": "stdout",
     "output_type": "stream",
     "text": [
      "ARIMA(1, 4, 4)x(2, 1, 0, 12)12 - AIC:112.68828823329146\n"
     ]
    },
    {
     "name": "stderr",
     "output_type": "stream",
     "text": [
      "C:\\Users\\Byom Kesh Jha\\Anaconda3\\lib\\site-packages\\statsmodels\\base\\model.py:512: ConvergenceWarning: Maximum Likelihood optimization failed to converge. Check mle_retvals\n",
      "  \"Check mle_retvals\", ConvergenceWarning)\n"
     ]
    },
    {
     "name": "stdout",
     "output_type": "stream",
     "text": [
      "ARIMA(1, 4, 4)x(3, 0, 0, 12)12 - AIC:124.01455529642347\n"
     ]
    },
    {
     "name": "stderr",
     "output_type": "stream",
     "text": [
      "C:\\Users\\Byom Kesh Jha\\Anaconda3\\lib\\site-packages\\statsmodels\\base\\model.py:512: ConvergenceWarning: Maximum Likelihood optimization failed to converge. Check mle_retvals\n",
      "  \"Check mle_retvals\", ConvergenceWarning)\n"
     ]
    },
    {
     "name": "stdout",
     "output_type": "stream",
     "text": [
      "ARIMA(1, 4, 4)x(3, 0, 1, 12)12 - AIC:nan\n",
      "ARIMA(2, 0, 0)x(0, 0, 0, 12)12 - AIC:673.0244705850718\n"
     ]
    },
    {
     "name": "stderr",
     "output_type": "stream",
     "text": [
      "C:\\Users\\Byom Kesh Jha\\Anaconda3\\lib\\site-packages\\statsmodels\\base\\model.py:512: ConvergenceWarning: Maximum Likelihood optimization failed to converge. Check mle_retvals\n",
      "  \"Check mle_retvals\", ConvergenceWarning)\n"
     ]
    },
    {
     "name": "stdout",
     "output_type": "stream",
     "text": [
      "ARIMA(2, 0, 0)x(0, 0, 1, 12)12 - AIC:1466.3778123765485\n",
      "ARIMA(2, 0, 0)x(0, 1, 0, 12)12 - AIC:468.3152343271877\n",
      "ARIMA(2, 0, 0)x(0, 2, 0, 12)12 - AIC:326.14328628856873\n",
      "ARIMA(2, 0, 0)x(0, 3, 0, 12)12 - AIC:159.62653413742024\n",
      "ARIMA(2, 0, 0)x(1, 0, 0, 12)12 - AIC:469.6045539473415\n"
     ]
    },
    {
     "name": "stderr",
     "output_type": "stream",
     "text": [
      "C:\\Users\\Byom Kesh Jha\\Anaconda3\\lib\\site-packages\\statsmodels\\base\\model.py:512: ConvergenceWarning: Maximum Likelihood optimization failed to converge. Check mle_retvals\n",
      "  \"Check mle_retvals\", ConvergenceWarning)\n"
     ]
    },
    {
     "name": "stdout",
     "output_type": "stream",
     "text": [
      "ARIMA(2, 0, 0)x(1, 0, 1, 12)12 - AIC:1336.2069646204677\n",
      "ARIMA(2, 0, 0)x(1, 1, 0, 12)12 - AIC:293.56946448404625\n",
      "ARIMA(2, 0, 0)x(1, 2, 0, 12)12 - AIC:134.47815433024542\n",
      "ARIMA(2, 0, 0)x(2, 0, 0, 12)12 - AIC:295.5281909747925\n",
      "ARIMA(2, 0, 0)x(2, 0, 1, 12)12 - AIC:874.4979747025252\n",
      "ARIMA(2, 0, 0)x(2, 1, 0, 12)12 - AIC:136.04020418830706\n",
      "ARIMA(2, 0, 0)x(3, 0, 0, 12)12 - AIC:135.81891090156822\n"
     ]
    },
    {
     "name": "stderr",
     "output_type": "stream",
     "text": [
      "C:\\Users\\Byom Kesh Jha\\Anaconda3\\lib\\site-packages\\statsmodels\\base\\model.py:512: ConvergenceWarning: Maximum Likelihood optimization failed to converge. Check mle_retvals\n",
      "  \"Check mle_retvals\", ConvergenceWarning)\n"
     ]
    },
    {
     "name": "stdout",
     "output_type": "stream",
     "text": [
      "ARIMA(2, 0, 0)x(3, 0, 1, 12)12 - AIC:353.33318816831013\n",
      "ARIMA(2, 0, 1)x(0, 0, 0, 12)12 - AIC:665.794483975598\n",
      "ARIMA(2, 0, 1)x(0, 0, 1, 12)12 - AIC:2689.2155714341093\n",
      "ARIMA(2, 0, 1)x(0, 1, 0, 12)12 - AIC:469.80692109570083\n",
      "ARIMA(2, 0, 1)x(0, 2, 0, 12)12 - AIC:326.6148901290549\n",
      "ARIMA(2, 0, 1)x(0, 3, 0, 12)12 - AIC:160.6421305615483\n",
      "ARIMA(2, 0, 1)x(1, 0, 0, 12)12 - AIC:471.1558179534499\n",
      "ARIMA(2, 0, 1)x(1, 0, 1, 12)12 - AIC:3750.3594685716516\n",
      "ARIMA(2, 0, 1)x(1, 1, 0, 12)12 - AIC:294.1493643322969\n",
      "ARIMA(2, 0, 1)x(1, 2, 0, 12)12 - AIC:136.4782962333715\n",
      "ARIMA(2, 0, 1)x(2, 0, 0, 12)12 - AIC:295.933370138248\n",
      "ARIMA(2, 0, 1)x(2, 0, 1, 12)12 - AIC:872.0609340733771\n"
     ]
    },
    {
     "name": "stderr",
     "output_type": "stream",
     "text": [
      "C:\\Users\\Byom Kesh Jha\\Anaconda3\\lib\\site-packages\\statsmodels\\base\\model.py:512: ConvergenceWarning: Maximum Likelihood optimization failed to converge. Check mle_retvals\n",
      "  \"Check mle_retvals\", ConvergenceWarning)\n"
     ]
    },
    {
     "name": "stdout",
     "output_type": "stream",
     "text": [
      "ARIMA(2, 0, 1)x(2, 1, 0, 12)12 - AIC:133.59411252437513\n"
     ]
    },
    {
     "name": "stderr",
     "output_type": "stream",
     "text": [
      "C:\\Users\\Byom Kesh Jha\\Anaconda3\\lib\\site-packages\\statsmodels\\base\\model.py:512: ConvergenceWarning: Maximum Likelihood optimization failed to converge. Check mle_retvals\n",
      "  \"Check mle_retvals\", ConvergenceWarning)\n"
     ]
    },
    {
     "name": "stdout",
     "output_type": "stream",
     "text": [
      "ARIMA(2, 0, 1)x(3, 0, 0, 12)12 - AIC:132.94558623933847\n"
     ]
    },
    {
     "name": "stderr",
     "output_type": "stream",
     "text": [
      "C:\\Users\\Byom Kesh Jha\\Anaconda3\\lib\\site-packages\\statsmodels\\base\\model.py:512: ConvergenceWarning: Maximum Likelihood optimization failed to converge. Check mle_retvals\n",
      "  \"Check mle_retvals\", ConvergenceWarning)\n"
     ]
    },
    {
     "name": "stdout",
     "output_type": "stream",
     "text": [
      "ARIMA(2, 0, 1)x(3, 0, 1, 12)12 - AIC:406.3527630353348\n",
      "ARIMA(2, 0, 2)x(0, 0, 0, 12)12 - AIC:653.681863091355\n",
      "ARIMA(2, 0, 2)x(0, 0, 1, 12)12 - AIC:2615.328899852709\n",
      "ARIMA(2, 0, 2)x(0, 1, 0, 12)12 - AIC:453.6893814578955\n",
      "ARIMA(2, 0, 2)x(0, 2, 0, 12)12 - AIC:314.45821367123494\n",
      "ARIMA(2, 0, 2)x(0, 3, 0, 12)12 - AIC:147.460258941648\n",
      "ARIMA(2, 0, 2)x(1, 0, 0, 12)12 - AIC:471.84787707679413\n",
      "ARIMA(2, 0, 2)x(1, 0, 1, 12)12 - AIC:2493.328126793045\n"
     ]
    },
    {
     "name": "stderr",
     "output_type": "stream",
     "text": [
      "C:\\Users\\Byom Kesh Jha\\Anaconda3\\lib\\site-packages\\statsmodels\\base\\model.py:512: ConvergenceWarning: Maximum Likelihood optimization failed to converge. Check mle_retvals\n",
      "  \"Check mle_retvals\", ConvergenceWarning)\n",
      "C:\\Users\\Byom Kesh Jha\\Anaconda3\\lib\\site-packages\\statsmodels\\base\\model.py:512: ConvergenceWarning: Maximum Likelihood optimization failed to converge. Check mle_retvals\n",
      "  \"Check mle_retvals\", ConvergenceWarning)\n"
     ]
    },
    {
     "name": "stdout",
     "output_type": "stream",
     "text": [
      "ARIMA(2, 0, 2)x(1, 1, 0, 12)12 - AIC:288.56155159386446\n",
      "ARIMA(2, 0, 2)x(1, 2, 0, 12)12 - AIC:135.25203412559074\n"
     ]
    },
    {
     "name": "stderr",
     "output_type": "stream",
     "text": [
      "C:\\Users\\Byom Kesh Jha\\Anaconda3\\lib\\site-packages\\statsmodels\\base\\model.py:512: ConvergenceWarning: Maximum Likelihood optimization failed to converge. Check mle_retvals\n",
      "  \"Check mle_retvals\", ConvergenceWarning)\n"
     ]
    },
    {
     "name": "stdout",
     "output_type": "stream",
     "text": [
      "ARIMA(2, 0, 2)x(2, 0, 0, 12)12 - AIC:292.30470138653595\n"
     ]
    },
    {
     "name": "stderr",
     "output_type": "stream",
     "text": [
      "C:\\Users\\Byom Kesh Jha\\Anaconda3\\lib\\site-packages\\statsmodels\\base\\model.py:512: ConvergenceWarning: Maximum Likelihood optimization failed to converge. Check mle_retvals\n",
      "  \"Check mle_retvals\", ConvergenceWarning)\n"
     ]
    },
    {
     "name": "stdout",
     "output_type": "stream",
     "text": [
      "ARIMA(2, 0, 2)x(2, 0, 1, 12)12 - AIC:988.4582262933379\n"
     ]
    },
    {
     "name": "stderr",
     "output_type": "stream",
     "text": [
      "C:\\Users\\Byom Kesh Jha\\Anaconda3\\lib\\site-packages\\statsmodels\\base\\model.py:512: ConvergenceWarning: Maximum Likelihood optimization failed to converge. Check mle_retvals\n",
      "  \"Check mle_retvals\", ConvergenceWarning)\n"
     ]
    },
    {
     "name": "stdout",
     "output_type": "stream",
     "text": [
      "ARIMA(2, 0, 2)x(2, 1, 0, 12)12 - AIC:133.4503145165606\n"
     ]
    },
    {
     "name": "stderr",
     "output_type": "stream",
     "text": [
      "C:\\Users\\Byom Kesh Jha\\Anaconda3\\lib\\site-packages\\statsmodels\\base\\model.py:512: ConvergenceWarning: Maximum Likelihood optimization failed to converge. Check mle_retvals\n",
      "  \"Check mle_retvals\", ConvergenceWarning)\n"
     ]
    },
    {
     "name": "stdout",
     "output_type": "stream",
     "text": [
      "ARIMA(2, 0, 2)x(3, 0, 0, 12)12 - AIC:140.60218761690197\n"
     ]
    },
    {
     "name": "stderr",
     "output_type": "stream",
     "text": [
      "C:\\Users\\Byom Kesh Jha\\Anaconda3\\lib\\site-packages\\statsmodels\\base\\model.py:512: ConvergenceWarning: Maximum Likelihood optimization failed to converge. Check mle_retvals\n",
      "  \"Check mle_retvals\", ConvergenceWarning)\n"
     ]
    },
    {
     "name": "stdout",
     "output_type": "stream",
     "text": [
      "ARIMA(2, 0, 2)x(3, 0, 1, 12)12 - AIC:396.8132351569991\n",
      "ARIMA(2, 0, 3)x(0, 0, 0, 12)12 - AIC:641.2426080038517\n",
      "ARIMA(2, 0, 3)x(0, 0, 1, 12)12 - AIC:2952.718570546983\n",
      "ARIMA(2, 0, 3)x(0, 1, 0, 12)12 - AIC:443.3476864538909\n",
      "ARIMA(2, 0, 3)x(0, 2, 0, 12)12 - AIC:295.7291711407206\n"
     ]
    },
    {
     "name": "stderr",
     "output_type": "stream",
     "text": [
      "C:\\Users\\Byom Kesh Jha\\Anaconda3\\lib\\site-packages\\statsmodels\\base\\model.py:512: ConvergenceWarning: Maximum Likelihood optimization failed to converge. Check mle_retvals\n",
      "  \"Check mle_retvals\", ConvergenceWarning)\n"
     ]
    },
    {
     "name": "stdout",
     "output_type": "stream",
     "text": [
      "ARIMA(2, 0, 3)x(0, 3, 0, 12)12 - AIC:nan\n"
     ]
    },
    {
     "name": "stderr",
     "output_type": "stream",
     "text": [
      "C:\\Users\\Byom Kesh Jha\\Anaconda3\\lib\\site-packages\\statsmodels\\base\\model.py:512: ConvergenceWarning: Maximum Likelihood optimization failed to converge. Check mle_retvals\n",
      "  \"Check mle_retvals\", ConvergenceWarning)\n"
     ]
    },
    {
     "name": "stdout",
     "output_type": "stream",
     "text": [
      "ARIMA(2, 0, 3)x(1, 0, 0, 12)12 - AIC:473.5122455460496\n",
      "ARIMA(2, 0, 3)x(1, 0, 1, 12)12 - AIC:3554646.321387901\n",
      "ARIMA(2, 0, 3)x(1, 1, 0, 12)12 - AIC:291.8487515323253\n"
     ]
    },
    {
     "name": "stderr",
     "output_type": "stream",
     "text": [
      "C:\\Users\\Byom Kesh Jha\\Anaconda3\\lib\\site-packages\\statsmodels\\base\\model.py:512: ConvergenceWarning: Maximum Likelihood optimization failed to converge. Check mle_retvals\n",
      "  \"Check mle_retvals\", ConvergenceWarning)\n"
     ]
    },
    {
     "name": "stdout",
     "output_type": "stream",
     "text": [
      "ARIMA(2, 0, 3)x(1, 2, 0, 12)12 - AIC:138.565964576598\n"
     ]
    },
    {
     "name": "stderr",
     "output_type": "stream",
     "text": [
      "C:\\Users\\Byom Kesh Jha\\Anaconda3\\lib\\site-packages\\statsmodels\\base\\model.py:512: ConvergenceWarning: Maximum Likelihood optimization failed to converge. Check mle_retvals\n",
      "  \"Check mle_retvals\", ConvergenceWarning)\n"
     ]
    },
    {
     "name": "stdout",
     "output_type": "stream",
     "text": [
      "ARIMA(2, 0, 3)x(2, 0, 0, 12)12 - AIC:293.9547559003195\n"
     ]
    },
    {
     "name": "stderr",
     "output_type": "stream",
     "text": [
      "C:\\Users\\Byom Kesh Jha\\Anaconda3\\lib\\site-packages\\statsmodels\\base\\model.py:512: ConvergenceWarning: Maximum Likelihood optimization failed to converge. Check mle_retvals\n",
      "  \"Check mle_retvals\", ConvergenceWarning)\n"
     ]
    },
    {
     "name": "stdout",
     "output_type": "stream",
     "text": [
      "ARIMA(2, 0, 3)x(2, 0, 1, 12)12 - AIC:800.897963582031\n"
     ]
    },
    {
     "name": "stderr",
     "output_type": "stream",
     "text": [
      "C:\\Users\\Byom Kesh Jha\\Anaconda3\\lib\\site-packages\\statsmodels\\base\\model.py:512: ConvergenceWarning: Maximum Likelihood optimization failed to converge. Check mle_retvals\n",
      "  \"Check mle_retvals\", ConvergenceWarning)\n"
     ]
    },
    {
     "name": "stdout",
     "output_type": "stream",
     "text": [
      "ARIMA(2, 0, 3)x(2, 1, 0, 12)12 - AIC:141.83078363612455\n"
     ]
    },
    {
     "name": "stderr",
     "output_type": "stream",
     "text": [
      "C:\\Users\\Byom Kesh Jha\\Anaconda3\\lib\\site-packages\\statsmodels\\base\\model.py:512: ConvergenceWarning: Maximum Likelihood optimization failed to converge. Check mle_retvals\n",
      "  \"Check mle_retvals\", ConvergenceWarning)\n"
     ]
    },
    {
     "name": "stdout",
     "output_type": "stream",
     "text": [
      "ARIMA(2, 0, 3)x(3, 0, 0, 12)12 - AIC:145.0703460195198\n",
      "ARIMA(2, 0, 3)x(3, 0, 1, 12)12 - AIC:408.60630852888806\n",
      "ARIMA(2, 0, 4)x(0, 0, 0, 12)12 - AIC:627.1492014152719\n",
      "ARIMA(2, 0, 4)x(0, 0, 1, 12)12 - AIC:2457.240420130649\n"
     ]
    },
    {
     "name": "stderr",
     "output_type": "stream",
     "text": [
      "C:\\Users\\Byom Kesh Jha\\Anaconda3\\lib\\site-packages\\statsmodels\\base\\model.py:512: ConvergenceWarning: Maximum Likelihood optimization failed to converge. Check mle_retvals\n",
      "  \"Check mle_retvals\", ConvergenceWarning)\n"
     ]
    },
    {
     "name": "stdout",
     "output_type": "stream",
     "text": [
      "ARIMA(2, 0, 4)x(0, 1, 0, 12)12 - AIC:426.35212841997776\n",
      "ARIMA(2, 0, 4)x(0, 2, 0, 12)12 - AIC:284.011995512804\n"
     ]
    },
    {
     "name": "stderr",
     "output_type": "stream",
     "text": [
      "C:\\Users\\Byom Kesh Jha\\Anaconda3\\lib\\site-packages\\statsmodels\\base\\model.py:512: ConvergenceWarning: Maximum Likelihood optimization failed to converge. Check mle_retvals\n",
      "  \"Check mle_retvals\", ConvergenceWarning)\n"
     ]
    },
    {
     "name": "stdout",
     "output_type": "stream",
     "text": [
      "ARIMA(2, 0, 4)x(1, 0, 0, 12)12 - AIC:472.94042045554255\n",
      "ARIMA(2, 0, 4)x(1, 0, 1, 12)12 - AIC:2341.266486093004\n",
      "ARIMA(2, 0, 4)x(1, 1, 0, 12)12 - AIC:293.6741861330524\n"
     ]
    },
    {
     "name": "stderr",
     "output_type": "stream",
     "text": [
      "C:\\Users\\Byom Kesh Jha\\Anaconda3\\lib\\site-packages\\statsmodels\\base\\model.py:512: ConvergenceWarning: Maximum Likelihood optimization failed to converge. Check mle_retvals\n",
      "  \"Check mle_retvals\", ConvergenceWarning)\n"
     ]
    },
    {
     "name": "stdout",
     "output_type": "stream",
     "text": [
      "ARIMA(2, 0, 4)x(1, 2, 0, 12)12 - AIC:135.55865510400986\n"
     ]
    },
    {
     "name": "stderr",
     "output_type": "stream",
     "text": [
      "C:\\Users\\Byom Kesh Jha\\Anaconda3\\lib\\site-packages\\statsmodels\\base\\model.py:512: ConvergenceWarning: Maximum Likelihood optimization failed to converge. Check mle_retvals\n",
      "  \"Check mle_retvals\", ConvergenceWarning)\n"
     ]
    },
    {
     "name": "stdout",
     "output_type": "stream",
     "text": [
      "ARIMA(2, 0, 4)x(2, 0, 0, 12)12 - AIC:306.8687851655898\n",
      "ARIMA(2, 0, 4)x(2, 0, 1, 12)12 - AIC:880.2769081911049\n"
     ]
    },
    {
     "name": "stderr",
     "output_type": "stream",
     "text": [
      "C:\\Users\\Byom Kesh Jha\\Anaconda3\\lib\\site-packages\\statsmodels\\base\\model.py:512: ConvergenceWarning: Maximum Likelihood optimization failed to converge. Check mle_retvals\n",
      "  \"Check mle_retvals\", ConvergenceWarning)\n"
     ]
    },
    {
     "name": "stdout",
     "output_type": "stream",
     "text": [
      "ARIMA(2, 0, 4)x(2, 1, 0, 12)12 - AIC:129.77815386746914\n"
     ]
    },
    {
     "name": "stderr",
     "output_type": "stream",
     "text": [
      "C:\\Users\\Byom Kesh Jha\\Anaconda3\\lib\\site-packages\\statsmodels\\base\\model.py:512: ConvergenceWarning: Maximum Likelihood optimization failed to converge. Check mle_retvals\n",
      "  \"Check mle_retvals\", ConvergenceWarning)\n"
     ]
    },
    {
     "name": "stdout",
     "output_type": "stream",
     "text": [
      "ARIMA(2, 0, 4)x(3, 0, 0, 12)12 - AIC:136.10861212331395\n"
     ]
    },
    {
     "name": "stderr",
     "output_type": "stream",
     "text": [
      "C:\\Users\\Byom Kesh Jha\\Anaconda3\\lib\\site-packages\\statsmodels\\base\\model.py:512: ConvergenceWarning: Maximum Likelihood optimization failed to converge. Check mle_retvals\n",
      "  \"Check mle_retvals\", ConvergenceWarning)\n"
     ]
    },
    {
     "name": "stdout",
     "output_type": "stream",
     "text": [
      "ARIMA(2, 0, 4)x(3, 0, 1, 12)12 - AIC:364.1563876610944\n",
      "ARIMA(2, 1, 0)x(0, 0, 0, 12)12 - AIC:651.8913365664913\n"
     ]
    },
    {
     "name": "stderr",
     "output_type": "stream",
     "text": [
      "C:\\Users\\Byom Kesh Jha\\Anaconda3\\lib\\site-packages\\statsmodels\\base\\model.py:512: ConvergenceWarning: Maximum Likelihood optimization failed to converge. Check mle_retvals\n",
      "  \"Check mle_retvals\", ConvergenceWarning)\n"
     ]
    },
    {
     "name": "stdout",
     "output_type": "stream",
     "text": [
      "ARIMA(2, 1, 0)x(0, 0, 1, 12)12 - AIC:1417.6539739222203\n",
      "ARIMA(2, 1, 0)x(0, 1, 0, 12)12 - AIC:464.8919482420157\n",
      "ARIMA(2, 1, 0)x(0, 2, 0, 12)12 - AIC:318.6712257569024\n",
      "ARIMA(2, 1, 0)x(0, 3, 0, 12)12 - AIC:146.39082675310894\n",
      "ARIMA(2, 1, 0)x(1, 0, 0, 12)12 - AIC:461.97779691394516\n"
     ]
    },
    {
     "name": "stderr",
     "output_type": "stream",
     "text": [
      "C:\\Users\\Byom Kesh Jha\\Anaconda3\\lib\\site-packages\\statsmodels\\base\\model.py:512: ConvergenceWarning: Maximum Likelihood optimization failed to converge. Check mle_retvals\n",
      "  \"Check mle_retvals\", ConvergenceWarning)\n"
     ]
    },
    {
     "name": "stdout",
     "output_type": "stream",
     "text": [
      "ARIMA(2, 1, 0)x(1, 0, 1, 12)12 - AIC:1332.7691206444763\n",
      "ARIMA(2, 1, 0)x(1, 1, 0, 12)12 - AIC:288.39356504176783\n",
      "ARIMA(2, 1, 0)x(1, 2, 0, 12)12 - AIC:127.6047141881529\n",
      "ARIMA(2, 1, 0)x(2, 0, 0, 12)12 - AIC:288.7598698371294\n"
     ]
    },
    {
     "name": "stderr",
     "output_type": "stream",
     "text": [
      "C:\\Users\\Byom Kesh Jha\\Anaconda3\\lib\\site-packages\\statsmodels\\base\\model.py:512: ConvergenceWarning: Maximum Likelihood optimization failed to converge. Check mle_retvals\n",
      "  \"Check mle_retvals\", ConvergenceWarning)\n"
     ]
    },
    {
     "name": "stdout",
     "output_type": "stream",
     "text": [
      "ARIMA(2, 1, 0)x(2, 0, 1, 12)12 - AIC:827.2598165616963\n",
      "ARIMA(2, 1, 0)x(2, 1, 0, 12)12 - AIC:126.86910500705339\n",
      "ARIMA(2, 1, 0)x(3, 0, 0, 12)12 - AIC:125.65280413016922\n"
     ]
    },
    {
     "name": "stderr",
     "output_type": "stream",
     "text": [
      "C:\\Users\\Byom Kesh Jha\\Anaconda3\\lib\\site-packages\\statsmodels\\base\\model.py:512: ConvergenceWarning: Maximum Likelihood optimization failed to converge. Check mle_retvals\n",
      "  \"Check mle_retvals\", ConvergenceWarning)\n"
     ]
    },
    {
     "name": "stdout",
     "output_type": "stream",
     "text": [
      "ARIMA(2, 1, 0)x(3, 0, 1, 12)12 - AIC:344.52238608369004\n",
      "ARIMA(2, 1, 1)x(0, 0, 0, 12)12 - AIC:653.7027592625517\n",
      "ARIMA(2, 1, 1)x(0, 0, 1, 12)12 - AIC:8315.060856760027\n",
      "ARIMA(2, 1, 1)x(0, 1, 0, 12)12 - AIC:461.57371821057825\n",
      "ARIMA(2, 1, 1)x(0, 2, 0, 12)12 - AIC:319.4751765740987\n",
      "ARIMA(2, 1, 1)x(0, 3, 0, 12)12 - AIC:148.2341451874855\n",
      "ARIMA(2, 1, 1)x(1, 0, 0, 12)12 - AIC:457.91198004858353\n",
      "ARIMA(2, 1, 1)x(1, 0, 1, 12)12 - AIC:2716.0675381757997\n",
      "ARIMA(2, 1, 1)x(1, 1, 0, 12)12 - AIC:287.85574031075976\n"
     ]
    },
    {
     "name": "stderr",
     "output_type": "stream",
     "text": [
      "C:\\Users\\Byom Kesh Jha\\Anaconda3\\lib\\site-packages\\statsmodels\\base\\model.py:512: ConvergenceWarning: Maximum Likelihood optimization failed to converge. Check mle_retvals\n",
      "  \"Check mle_retvals\", ConvergenceWarning)\n"
     ]
    },
    {
     "name": "stdout",
     "output_type": "stream",
     "text": [
      "ARIMA(2, 1, 1)x(1, 2, 0, 12)12 - AIC:124.6809054862104\n",
      "ARIMA(2, 1, 1)x(2, 0, 0, 12)12 - AIC:287.84509321013354\n",
      "ARIMA(2, 1, 1)x(2, 0, 1, 12)12 - AIC:900.6202978976249\n",
      "ARIMA(2, 1, 1)x(2, 1, 0, 12)12 - AIC:126.32876517028515\n",
      "ARIMA(2, 1, 1)x(3, 0, 0, 12)12 - AIC:123.36205846052364\n",
      "ARIMA(2, 1, 1)x(3, 0, 1, 12)12 - AIC:397.21744556450005\n",
      "ARIMA(2, 1, 2)x(0, 0, 0, 12)12 - AIC:642.1210464589961\n"
     ]
    },
    {
     "name": "stderr",
     "output_type": "stream",
     "text": [
      "C:\\Users\\Byom Kesh Jha\\Anaconda3\\lib\\site-packages\\statsmodels\\base\\model.py:512: ConvergenceWarning: Maximum Likelihood optimization failed to converge. Check mle_retvals\n",
      "  \"Check mle_retvals\", ConvergenceWarning)\n"
     ]
    },
    {
     "name": "stdout",
     "output_type": "stream",
     "text": [
      "ARIMA(2, 1, 2)x(0, 0, 1, 12)12 - AIC:2532.498902462865\n",
      "ARIMA(2, 1, 2)x(0, 1, 0, 12)12 - AIC:450.07118888755355\n",
      "ARIMA(2, 1, 2)x(0, 2, 0, 12)12 - AIC:305.9445167324319\n"
     ]
    },
    {
     "name": "stderr",
     "output_type": "stream",
     "text": [
      "C:\\Users\\Byom Kesh Jha\\Anaconda3\\lib\\site-packages\\statsmodels\\base\\model.py:512: ConvergenceWarning: Maximum Likelihood optimization failed to converge. Check mle_retvals\n",
      "  \"Check mle_retvals\", ConvergenceWarning)\n"
     ]
    },
    {
     "name": "stdout",
     "output_type": "stream",
     "text": [
      "ARIMA(2, 1, 2)x(0, 3, 0, 12)12 - AIC:133.04367381850528\n",
      "ARIMA(2, 1, 2)x(1, 0, 0, 12)12 - AIC:459.04510671664394\n"
     ]
    },
    {
     "name": "stderr",
     "output_type": "stream",
     "text": [
      "C:\\Users\\Byom Kesh Jha\\Anaconda3\\lib\\site-packages\\statsmodels\\base\\model.py:512: ConvergenceWarning: Maximum Likelihood optimization failed to converge. Check mle_retvals\n",
      "  \"Check mle_retvals\", ConvergenceWarning)\n"
     ]
    },
    {
     "name": "stdout",
     "output_type": "stream",
     "text": [
      "ARIMA(2, 1, 2)x(1, 0, 1, 12)12 - AIC:nan\n"
     ]
    },
    {
     "name": "stderr",
     "output_type": "stream",
     "text": [
      "C:\\Users\\Byom Kesh Jha\\Anaconda3\\lib\\site-packages\\statsmodels\\base\\model.py:512: ConvergenceWarning: Maximum Likelihood optimization failed to converge. Check mle_retvals\n",
      "  \"Check mle_retvals\", ConvergenceWarning)\n"
     ]
    },
    {
     "name": "stdout",
     "output_type": "stream",
     "text": [
      "ARIMA(2, 1, 2)x(1, 1, 0, 12)12 - AIC:287.5622471474278\n"
     ]
    },
    {
     "name": "stderr",
     "output_type": "stream",
     "text": [
      "C:\\Users\\Byom Kesh Jha\\Anaconda3\\lib\\site-packages\\statsmodels\\base\\model.py:512: ConvergenceWarning: Maximum Likelihood optimization failed to converge. Check mle_retvals\n",
      "  \"Check mle_retvals\", ConvergenceWarning)\n"
     ]
    },
    {
     "name": "stdout",
     "output_type": "stream",
     "text": [
      "ARIMA(2, 1, 2)x(1, 2, 0, 12)12 - AIC:127.40049545476683\n",
      "ARIMA(2, 1, 2)x(2, 0, 0, 12)12 - AIC:288.5720384861061\n"
     ]
    },
    {
     "name": "stderr",
     "output_type": "stream",
     "text": [
      "C:\\Users\\Byom Kesh Jha\\Anaconda3\\lib\\site-packages\\statsmodels\\base\\model.py:512: ConvergenceWarning: Maximum Likelihood optimization failed to converge. Check mle_retvals\n",
      "  \"Check mle_retvals\", ConvergenceWarning)\n"
     ]
    },
    {
     "name": "stdout",
     "output_type": "stream",
     "text": [
      "ARIMA(2, 1, 2)x(2, 0, 1, 12)12 - AIC:779.9398388806376\n"
     ]
    },
    {
     "name": "stderr",
     "output_type": "stream",
     "text": [
      "C:\\Users\\Byom Kesh Jha\\Anaconda3\\lib\\site-packages\\statsmodels\\base\\model.py:512: ConvergenceWarning: Maximum Likelihood optimization failed to converge. Check mle_retvals\n",
      "  \"Check mle_retvals\", ConvergenceWarning)\n"
     ]
    },
    {
     "name": "stdout",
     "output_type": "stream",
     "text": [
      "ARIMA(2, 1, 2)x(2, 1, 0, 12)12 - AIC:127.91172280347088\n"
     ]
    },
    {
     "name": "stderr",
     "output_type": "stream",
     "text": [
      "C:\\Users\\Byom Kesh Jha\\Anaconda3\\lib\\site-packages\\statsmodels\\base\\model.py:512: ConvergenceWarning: Maximum Likelihood optimization failed to converge. Check mle_retvals\n",
      "  \"Check mle_retvals\", ConvergenceWarning)\n"
     ]
    },
    {
     "name": "stdout",
     "output_type": "stream",
     "text": [
      "ARIMA(2, 1, 2)x(3, 0, 0, 12)12 - AIC:120.80683000409256\n"
     ]
    },
    {
     "name": "stderr",
     "output_type": "stream",
     "text": [
      "C:\\Users\\Byom Kesh Jha\\Anaconda3\\lib\\site-packages\\statsmodels\\base\\model.py:512: ConvergenceWarning: Maximum Likelihood optimization failed to converge. Check mle_retvals\n",
      "  \"Check mle_retvals\", ConvergenceWarning)\n"
     ]
    },
    {
     "name": "stdout",
     "output_type": "stream",
     "text": [
      "ARIMA(2, 1, 2)x(3, 0, 1, 12)12 - AIC:397.82316326662874\n",
      "ARIMA(2, 1, 3)x(0, 0, 0, 12)12 - AIC:621.2090970599626\n",
      "ARIMA(2, 1, 3)x(0, 0, 1, 12)12 - AIC:3159.493659760543\n",
      "ARIMA(2, 1, 3)x(0, 1, 0, 12)12 - AIC:438.07148131794787\n",
      "ARIMA(2, 1, 3)x(0, 2, 0, 12)12 - AIC:290.7478286767871\n"
     ]
    },
    {
     "name": "stderr",
     "output_type": "stream",
     "text": [
      "C:\\Users\\Byom Kesh Jha\\Anaconda3\\lib\\site-packages\\statsmodels\\base\\model.py:512: ConvergenceWarning: Maximum Likelihood optimization failed to converge. Check mle_retvals\n",
      "  \"Check mle_retvals\", ConvergenceWarning)\n"
     ]
    },
    {
     "name": "stdout",
     "output_type": "stream",
     "text": [
      "ARIMA(2, 1, 3)x(0, 3, 0, 12)12 - AIC:nan\n"
     ]
    },
    {
     "name": "stderr",
     "output_type": "stream",
     "text": [
      "C:\\Users\\Byom Kesh Jha\\Anaconda3\\lib\\site-packages\\statsmodels\\base\\model.py:512: ConvergenceWarning: Maximum Likelihood optimization failed to converge. Check mle_retvals\n",
      "  \"Check mle_retvals\", ConvergenceWarning)\n"
     ]
    },
    {
     "name": "stdout",
     "output_type": "stream",
     "text": [
      "ARIMA(2, 1, 3)x(1, 0, 0, 12)12 - AIC:461.04140338591554\n",
      "ARIMA(2, 1, 3)x(1, 0, 1, 12)12 - AIC:2620.2470995412864\n"
     ]
    },
    {
     "name": "stderr",
     "output_type": "stream",
     "text": [
      "C:\\Users\\Byom Kesh Jha\\Anaconda3\\lib\\site-packages\\statsmodels\\base\\model.py:512: ConvergenceWarning: Maximum Likelihood optimization failed to converge. Check mle_retvals\n",
      "  \"Check mle_retvals\", ConvergenceWarning)\n"
     ]
    },
    {
     "name": "stdout",
     "output_type": "stream",
     "text": [
      "ARIMA(2, 1, 3)x(1, 1, 0, 12)12 - AIC:284.86385298864104\n"
     ]
    },
    {
     "name": "stderr",
     "output_type": "stream",
     "text": [
      "C:\\Users\\Byom Kesh Jha\\Anaconda3\\lib\\site-packages\\statsmodels\\base\\model.py:512: ConvergenceWarning: Maximum Likelihood optimization failed to converge. Check mle_retvals\n",
      "  \"Check mle_retvals\", ConvergenceWarning)\n"
     ]
    },
    {
     "name": "stdout",
     "output_type": "stream",
     "text": [
      "ARIMA(2, 1, 3)x(1, 2, 0, 12)12 - AIC:121.76484648502552\n",
      "ARIMA(2, 1, 3)x(2, 0, 0, 12)12 - AIC:292.2929933522463\n"
     ]
    },
    {
     "name": "stderr",
     "output_type": "stream",
     "text": [
      "C:\\Users\\Byom Kesh Jha\\Anaconda3\\lib\\site-packages\\statsmodels\\base\\model.py:512: ConvergenceWarning: Maximum Likelihood optimization failed to converge. Check mle_retvals\n",
      "  \"Check mle_retvals\", ConvergenceWarning)\n"
     ]
    },
    {
     "name": "stdout",
     "output_type": "stream",
     "text": [
      "ARIMA(2, 1, 3)x(2, 0, 1, 12)12 - AIC:891.233155138128\n"
     ]
    },
    {
     "name": "stderr",
     "output_type": "stream",
     "text": [
      "C:\\Users\\Byom Kesh Jha\\Anaconda3\\lib\\site-packages\\statsmodels\\base\\model.py:512: ConvergenceWarning: Maximum Likelihood optimization failed to converge. Check mle_retvals\n",
      "  \"Check mle_retvals\", ConvergenceWarning)\n"
     ]
    },
    {
     "name": "stdout",
     "output_type": "stream",
     "text": [
      "ARIMA(2, 1, 3)x(2, 1, 0, 12)12 - AIC:130.45542185033293\n"
     ]
    },
    {
     "name": "stderr",
     "output_type": "stream",
     "text": [
      "C:\\Users\\Byom Kesh Jha\\Anaconda3\\lib\\site-packages\\statsmodels\\base\\model.py:512: ConvergenceWarning: Maximum Likelihood optimization failed to converge. Check mle_retvals\n",
      "  \"Check mle_retvals\", ConvergenceWarning)\n"
     ]
    },
    {
     "name": "stdout",
     "output_type": "stream",
     "text": [
      "ARIMA(2, 1, 3)x(3, 0, 0, 12)12 - AIC:126.22296928296053\n",
      "ARIMA(2, 1, 3)x(3, 0, 1, 12)12 - AIC:401.2174455642137\n",
      "ARIMA(2, 1, 4)x(0, 0, 0, 12)12 - AIC:609.0237338072927\n"
     ]
    },
    {
     "name": "stderr",
     "output_type": "stream",
     "text": [
      "C:\\Users\\Byom Kesh Jha\\Anaconda3\\lib\\site-packages\\statsmodels\\base\\model.py:512: ConvergenceWarning: Maximum Likelihood optimization failed to converge. Check mle_retvals\n",
      "  \"Check mle_retvals\", ConvergenceWarning)\n"
     ]
    },
    {
     "name": "stdout",
     "output_type": "stream",
     "text": [
      "ARIMA(2, 1, 4)x(0, 0, 1, 12)12 - AIC:2372.074055036298\n",
      "ARIMA(2, 1, 4)x(0, 1, 0, 12)12 - AIC:423.6629036823857\n",
      "ARIMA(2, 1, 4)x(0, 2, 0, 12)12 - AIC:270.926582441175\n",
      "ARIMA(2, 1, 4)x(1, 0, 0, 12)12 - AIC:461.79283499685755\n",
      "ARIMA(2, 1, 4)x(1, 0, 1, 12)12 - AIC:2473.97806858595\n"
     ]
    },
    {
     "name": "stderr",
     "output_type": "stream",
     "text": [
      "C:\\Users\\Byom Kesh Jha\\Anaconda3\\lib\\site-packages\\statsmodels\\base\\model.py:512: ConvergenceWarning: Maximum Likelihood optimization failed to converge. Check mle_retvals\n",
      "  \"Check mle_retvals\", ConvergenceWarning)\n"
     ]
    },
    {
     "name": "stdout",
     "output_type": "stream",
     "text": [
      "ARIMA(2, 1, 4)x(1, 1, 0, 12)12 - AIC:287.7391216421391\n"
     ]
    },
    {
     "name": "stderr",
     "output_type": "stream",
     "text": [
      "C:\\Users\\Byom Kesh Jha\\Anaconda3\\lib\\site-packages\\statsmodels\\base\\model.py:512: ConvergenceWarning: Maximum Likelihood optimization failed to converge. Check mle_retvals\n",
      "  \"Check mle_retvals\", ConvergenceWarning)\n"
     ]
    },
    {
     "name": "stdout",
     "output_type": "stream",
     "text": [
      "ARIMA(2, 1, 4)x(1, 2, 0, 12)12 - AIC:129.6588691678147\n"
     ]
    },
    {
     "name": "stderr",
     "output_type": "stream",
     "text": [
      "C:\\Users\\Byom Kesh Jha\\Anaconda3\\lib\\site-packages\\statsmodels\\base\\model.py:512: ConvergenceWarning: Maximum Likelihood optimization failed to converge. Check mle_retvals\n",
      "  \"Check mle_retvals\", ConvergenceWarning)\n"
     ]
    },
    {
     "name": "stdout",
     "output_type": "stream",
     "text": [
      "ARIMA(2, 1, 4)x(2, 0, 0, 12)12 - AIC:290.35588141491235\n"
     ]
    },
    {
     "name": "stderr",
     "output_type": "stream",
     "text": [
      "C:\\Users\\Byom Kesh Jha\\Anaconda3\\lib\\site-packages\\statsmodels\\base\\model.py:512: ConvergenceWarning: Maximum Likelihood optimization failed to converge. Check mle_retvals\n",
      "  \"Check mle_retvals\", ConvergenceWarning)\n"
     ]
    },
    {
     "name": "stdout",
     "output_type": "stream",
     "text": [
      "ARIMA(2, 1, 4)x(2, 0, 1, 12)12 - AIC:1040.0740113970978\n"
     ]
    },
    {
     "name": "stderr",
     "output_type": "stream",
     "text": [
      "C:\\Users\\Byom Kesh Jha\\Anaconda3\\lib\\site-packages\\statsmodels\\base\\model.py:512: ConvergenceWarning: Maximum Likelihood optimization failed to converge. Check mle_retvals\n",
      "  \"Check mle_retvals\", ConvergenceWarning)\n"
     ]
    },
    {
     "name": "stdout",
     "output_type": "stream",
     "text": [
      "ARIMA(2, 1, 4)x(2, 1, 0, 12)12 - AIC:131.1680834753836\n"
     ]
    },
    {
     "name": "stderr",
     "output_type": "stream",
     "text": [
      "C:\\Users\\Byom Kesh Jha\\Anaconda3\\lib\\site-packages\\statsmodels\\base\\model.py:512: ConvergenceWarning: Maximum Likelihood optimization failed to converge. Check mle_retvals\n",
      "  \"Check mle_retvals\", ConvergenceWarning)\n"
     ]
    },
    {
     "name": "stdout",
     "output_type": "stream",
     "text": [
      "ARIMA(2, 1, 4)x(3, 0, 0, 12)12 - AIC:129.84781077659176\n"
     ]
    },
    {
     "name": "stderr",
     "output_type": "stream",
     "text": [
      "C:\\Users\\Byom Kesh Jha\\Anaconda3\\lib\\site-packages\\statsmodels\\base\\model.py:512: ConvergenceWarning: Maximum Likelihood optimization failed to converge. Check mle_retvals\n",
      "  \"Check mle_retvals\", ConvergenceWarning)\n"
     ]
    },
    {
     "name": "stdout",
     "output_type": "stream",
     "text": [
      "ARIMA(2, 1, 4)x(3, 0, 1, 12)12 - AIC:358.9675172846106\n",
      "ARIMA(2, 2, 0)x(0, 0, 0, 12)12 - AIC:656.9291821241188\n"
     ]
    },
    {
     "name": "stderr",
     "output_type": "stream",
     "text": [
      "C:\\Users\\Byom Kesh Jha\\Anaconda3\\lib\\site-packages\\statsmodels\\base\\model.py:512: ConvergenceWarning: Maximum Likelihood optimization failed to converge. Check mle_retvals\n",
      "  \"Check mle_retvals\", ConvergenceWarning)\n"
     ]
    },
    {
     "name": "stdout",
     "output_type": "stream",
     "text": [
      "ARIMA(2, 2, 0)x(0, 0, 1, 12)12 - AIC:1376.3043073894607\n",
      "ARIMA(2, 2, 0)x(0, 1, 0, 12)12 - AIC:467.7456111917659\n",
      "ARIMA(2, 2, 0)x(0, 2, 0, 12)12 - AIC:311.6995205193398\n",
      "ARIMA(2, 2, 0)x(0, 3, 0, 12)12 - AIC:131.62946507852007\n",
      "ARIMA(2, 2, 0)x(1, 0, 0, 12)12 - AIC:464.76088503901667\n",
      "ARIMA(2, 2, 0)x(1, 0, 1, 12)12 - AIC:1370.1365541824878\n",
      "ARIMA(2, 2, 0)x(1, 1, 0, 12)12 - AIC:286.0955354148168\n",
      "ARIMA(2, 2, 0)x(1, 2, 0, 12)12 - AIC:117.90430574029676\n",
      "ARIMA(2, 2, 0)x(2, 0, 0, 12)12 - AIC:283.1555485839329\n"
     ]
    },
    {
     "name": "stderr",
     "output_type": "stream",
     "text": [
      "C:\\Users\\Byom Kesh Jha\\Anaconda3\\lib\\site-packages\\statsmodels\\base\\model.py:512: ConvergenceWarning: Maximum Likelihood optimization failed to converge. Check mle_retvals\n",
      "  \"Check mle_retvals\", ConvergenceWarning)\n"
     ]
    },
    {
     "name": "stdout",
     "output_type": "stream",
     "text": [
      "ARIMA(2, 2, 0)x(2, 0, 1, 12)12 - AIC:915.3498382957309\n",
      "ARIMA(2, 2, 0)x(2, 1, 0, 12)12 - AIC:117.49144309451614\n",
      "ARIMA(2, 2, 0)x(3, 0, 0, 12)12 - AIC:106.35385962683743\n",
      "ARIMA(2, 2, 0)x(3, 0, 1, 12)12 - AIC:108.35385963581318\n",
      "ARIMA(2, 2, 1)x(0, 0, 0, 12)12 - AIC:643.7507440372119\n",
      "ARIMA(2, 2, 1)x(0, 0, 1, 12)12 - AIC:2598.5111565184097\n",
      "ARIMA(2, 2, 1)x(0, 1, 0, 12)12 - AIC:457.7096702182405\n",
      "ARIMA(2, 2, 1)x(0, 2, 0, 12)12 - AIC:309.3853855181814\n",
      "ARIMA(2, 2, 1)x(0, 3, 0, 12)12 - AIC:132.3071684194999\n",
      "ARIMA(2, 2, 1)x(1, 0, 0, 12)12 - AIC:455.0965992766256\n",
      "ARIMA(2, 2, 1)x(1, 0, 1, 12)12 - AIC:5385.412863955078\n",
      "ARIMA(2, 2, 1)x(1, 1, 0, 12)12 - AIC:279.45199079144976\n",
      "ARIMA(2, 2, 1)x(1, 2, 0, 12)12 - AIC:117.3599606655366\n",
      "ARIMA(2, 2, 1)x(2, 0, 0, 12)12 - AIC:279.4551139175667\n"
     ]
    },
    {
     "name": "stderr",
     "output_type": "stream",
     "text": [
      "C:\\Users\\Byom Kesh Jha\\Anaconda3\\lib\\site-packages\\statsmodels\\base\\model.py:512: ConvergenceWarning: Maximum Likelihood optimization failed to converge. Check mle_retvals\n",
      "  \"Check mle_retvals\", ConvergenceWarning)\n"
     ]
    },
    {
     "name": "stdout",
     "output_type": "stream",
     "text": [
      "ARIMA(2, 2, 1)x(2, 0, 1, 12)12 - AIC:734.1333842898082\n"
     ]
    },
    {
     "name": "stderr",
     "output_type": "stream",
     "text": [
      "C:\\Users\\Byom Kesh Jha\\Anaconda3\\lib\\site-packages\\statsmodels\\base\\model.py:512: ConvergenceWarning: Maximum Likelihood optimization failed to converge. Check mle_retvals\n",
      "  \"Check mle_retvals\", ConvergenceWarning)\n"
     ]
    },
    {
     "name": "stdout",
     "output_type": "stream",
     "text": [
      "ARIMA(2, 2, 1)x(2, 1, 0, 12)12 - AIC:116.265974143678\n"
     ]
    },
    {
     "name": "stderr",
     "output_type": "stream",
     "text": [
      "C:\\Users\\Byom Kesh Jha\\Anaconda3\\lib\\site-packages\\statsmodels\\base\\model.py:512: ConvergenceWarning: Maximum Likelihood optimization failed to converge. Check mle_retvals\n",
      "  \"Check mle_retvals\", ConvergenceWarning)\n"
     ]
    },
    {
     "name": "stdout",
     "output_type": "stream",
     "text": [
      "ARIMA(2, 2, 1)x(3, 0, 0, 12)12 - AIC:111.12765437838902\n"
     ]
    },
    {
     "name": "stderr",
     "output_type": "stream",
     "text": [
      "C:\\Users\\Byom Kesh Jha\\Anaconda3\\lib\\site-packages\\statsmodels\\base\\model.py:512: ConvergenceWarning: Maximum Likelihood optimization failed to converge. Check mle_retvals\n",
      "  \"Check mle_retvals\", ConvergenceWarning)\n"
     ]
    },
    {
     "name": "stdout",
     "output_type": "stream",
     "text": [
      "ARIMA(2, 2, 1)x(3, 0, 1, 12)12 - AIC:119.02322180819763\n",
      "ARIMA(2, 2, 2)x(0, 0, 0, 12)12 - AIC:631.2678875785975\n",
      "ARIMA(2, 2, 2)x(0, 0, 1, 12)12 - AIC:46163.3089704875\n",
      "ARIMA(2, 2, 2)x(0, 1, 0, 12)12 - AIC:445.24599241070985\n",
      "ARIMA(2, 2, 2)x(0, 2, 0, 12)12 - AIC:296.4650356310897\n"
     ]
    },
    {
     "name": "stderr",
     "output_type": "stream",
     "text": [
      "C:\\Users\\Byom Kesh Jha\\Anaconda3\\lib\\site-packages\\statsmodels\\base\\model.py:512: ConvergenceWarning: Maximum Likelihood optimization failed to converge. Check mle_retvals\n",
      "  \"Check mle_retvals\", ConvergenceWarning)\n"
     ]
    },
    {
     "name": "stdout",
     "output_type": "stream",
     "text": [
      "ARIMA(2, 2, 2)x(0, 3, 0, 12)12 - AIC:nan\n",
      "ARIMA(2, 2, 2)x(1, 0, 0, 12)12 - AIC:452.31401808197853\n",
      "ARIMA(2, 2, 2)x(1, 0, 1, 12)12 - AIC:2457.084098947851\n"
     ]
    },
    {
     "name": "stderr",
     "output_type": "stream",
     "text": [
      "C:\\Users\\Byom Kesh Jha\\Anaconda3\\lib\\site-packages\\statsmodels\\base\\model.py:512: ConvergenceWarning: Maximum Likelihood optimization failed to converge. Check mle_retvals\n",
      "  \"Check mle_retvals\", ConvergenceWarning)\n"
     ]
    },
    {
     "name": "stdout",
     "output_type": "stream",
     "text": [
      "ARIMA(2, 2, 2)x(1, 1, 0, 12)12 - AIC:281.4449947674045\n"
     ]
    },
    {
     "name": "stderr",
     "output_type": "stream",
     "text": [
      "C:\\Users\\Byom Kesh Jha\\Anaconda3\\lib\\site-packages\\statsmodels\\base\\model.py:512: ConvergenceWarning: Maximum Likelihood optimization failed to converge. Check mle_retvals\n",
      "  \"Check mle_retvals\", ConvergenceWarning)\n"
     ]
    },
    {
     "name": "stdout",
     "output_type": "stream",
     "text": [
      "ARIMA(2, 2, 2)x(1, 2, 0, 12)12 - AIC:115.96970723205169\n",
      "ARIMA(2, 2, 2)x(2, 0, 0, 12)12 - AIC:281.31746769117075\n"
     ]
    },
    {
     "name": "stderr",
     "output_type": "stream",
     "text": [
      "C:\\Users\\Byom Kesh Jha\\Anaconda3\\lib\\site-packages\\statsmodels\\base\\model.py:512: ConvergenceWarning: Maximum Likelihood optimization failed to converge. Check mle_retvals\n",
      "  \"Check mle_retvals\", ConvergenceWarning)\n"
     ]
    },
    {
     "name": "stdout",
     "output_type": "stream",
     "text": [
      "ARIMA(2, 2, 2)x(2, 0, 1, 12)12 - AIC:975.356848940075\n"
     ]
    },
    {
     "name": "stderr",
     "output_type": "stream",
     "text": [
      "C:\\Users\\Byom Kesh Jha\\Anaconda3\\lib\\site-packages\\statsmodels\\base\\model.py:512: ConvergenceWarning: Maximum Likelihood optimization failed to converge. Check mle_retvals\n",
      "  \"Check mle_retvals\", ConvergenceWarning)\n"
     ]
    },
    {
     "name": "stdout",
     "output_type": "stream",
     "text": [
      "ARIMA(2, 2, 2)x(2, 1, 0, 12)12 - AIC:119.4111238269825\n"
     ]
    },
    {
     "name": "stderr",
     "output_type": "stream",
     "text": [
      "C:\\Users\\Byom Kesh Jha\\Anaconda3\\lib\\site-packages\\statsmodels\\base\\model.py:512: ConvergenceWarning: Maximum Likelihood optimization failed to converge. Check mle_retvals\n",
      "  \"Check mle_retvals\", ConvergenceWarning)\n"
     ]
    },
    {
     "name": "stdout",
     "output_type": "stream",
     "text": [
      "ARIMA(2, 2, 2)x(3, 0, 0, 12)12 - AIC:126.19158072643947\n"
     ]
    },
    {
     "name": "stderr",
     "output_type": "stream",
     "text": [
      "C:\\Users\\Byom Kesh Jha\\Anaconda3\\lib\\site-packages\\statsmodels\\base\\model.py:512: ConvergenceWarning: Maximum Likelihood optimization failed to converge. Check mle_retvals\n",
      "  \"Check mle_retvals\", ConvergenceWarning)\n"
     ]
    },
    {
     "name": "stdout",
     "output_type": "stream",
     "text": [
      "ARIMA(2, 2, 2)x(3, 0, 1, 12)12 - AIC:127.48171231131903\n",
      "ARIMA(2, 2, 3)x(0, 0, 0, 12)12 - AIC:614.1025343591434\n",
      "ARIMA(2, 2, 3)x(0, 0, 1, 12)12 - AIC:2350.508253793643\n"
     ]
    },
    {
     "name": "stderr",
     "output_type": "stream",
     "text": [
      "C:\\Users\\Byom Kesh Jha\\Anaconda3\\lib\\site-packages\\statsmodels\\base\\model.py:512: ConvergenceWarning: Maximum Likelihood optimization failed to converge. Check mle_retvals\n",
      "  \"Check mle_retvals\", ConvergenceWarning)\n",
      "C:\\Users\\Byom Kesh Jha\\Anaconda3\\lib\\site-packages\\statsmodels\\base\\model.py:512: ConvergenceWarning: Maximum Likelihood optimization failed to converge. Check mle_retvals\n",
      "  \"Check mle_retvals\", ConvergenceWarning)\n"
     ]
    },
    {
     "name": "stdout",
     "output_type": "stream",
     "text": [
      "ARIMA(2, 2, 3)x(0, 1, 0, 12)12 - AIC:430.02536011895995\n"
     ]
    },
    {
     "name": "stderr",
     "output_type": "stream",
     "text": [
      "C:\\Users\\Byom Kesh Jha\\Anaconda3\\lib\\site-packages\\statsmodels\\base\\model.py:512: ConvergenceWarning: Maximum Likelihood optimization failed to converge. Check mle_retvals\n",
      "  \"Check mle_retvals\", ConvergenceWarning)\n"
     ]
    },
    {
     "name": "stdout",
     "output_type": "stream",
     "text": [
      "ARIMA(2, 2, 3)x(0, 2, 0, 12)12 - AIC:280.84353232762646\n"
     ]
    },
    {
     "name": "stderr",
     "output_type": "stream",
     "text": [
      "C:\\Users\\Byom Kesh Jha\\Anaconda3\\lib\\site-packages\\statsmodels\\base\\model.py:512: ConvergenceWarning: Maximum Likelihood optimization failed to converge. Check mle_retvals\n",
      "  \"Check mle_retvals\", ConvergenceWarning)\n"
     ]
    },
    {
     "name": "stdout",
     "output_type": "stream",
     "text": [
      "ARIMA(2, 2, 3)x(0, 3, 0, 12)12 - AIC:nan\n"
     ]
    },
    {
     "name": "stderr",
     "output_type": "stream",
     "text": [
      "C:\\Users\\Byom Kesh Jha\\Anaconda3\\lib\\site-packages\\statsmodels\\base\\model.py:512: ConvergenceWarning: Maximum Likelihood optimization failed to converge. Check mle_retvals\n",
      "  \"Check mle_retvals\", ConvergenceWarning)\n",
      "C:\\Users\\Byom Kesh Jha\\Anaconda3\\lib\\site-packages\\statsmodels\\base\\model.py:512: ConvergenceWarning: Maximum Likelihood optimization failed to converge. Check mle_retvals\n",
      "  \"Check mle_retvals\", ConvergenceWarning)\n"
     ]
    },
    {
     "name": "stdout",
     "output_type": "stream",
     "text": [
      "ARIMA(2, 2, 3)x(1, 0, 0, 12)12 - AIC:458.5269500609555\n",
      "ARIMA(2, 2, 3)x(1, 0, 1, 12)12 - AIC:2375.3466397820566\n",
      "ARIMA(2, 2, 3)x(1, 1, 0, 12)12 - AIC:283.36034759665023\n",
      "ARIMA(2, 2, 3)x(1, 2, 0, 12)12 - AIC:108.59905734583322\n",
      "ARIMA(2, 2, 3)x(2, 0, 0, 12)12 - AIC:281.0381633988028\n"
     ]
    },
    {
     "name": "stderr",
     "output_type": "stream",
     "text": [
      "C:\\Users\\Byom Kesh Jha\\Anaconda3\\lib\\site-packages\\statsmodels\\base\\model.py:512: ConvergenceWarning: Maximum Likelihood optimization failed to converge. Check mle_retvals\n",
      "  \"Check mle_retvals\", ConvergenceWarning)\n"
     ]
    },
    {
     "name": "stdout",
     "output_type": "stream",
     "text": [
      "ARIMA(2, 2, 3)x(2, 0, 1, 12)12 - AIC:747.5960581730956\n",
      "ARIMA(2, 2, 3)x(2, 1, 0, 12)12 - AIC:118.3256132332426\n"
     ]
    },
    {
     "name": "stderr",
     "output_type": "stream",
     "text": [
      "C:\\Users\\Byom Kesh Jha\\Anaconda3\\lib\\site-packages\\statsmodels\\base\\model.py:512: ConvergenceWarning: Maximum Likelihood optimization failed to converge. Check mle_retvals\n",
      "  \"Check mle_retvals\", ConvergenceWarning)\n"
     ]
    },
    {
     "name": "stdout",
     "output_type": "stream",
     "text": [
      "ARIMA(2, 2, 3)x(3, 0, 0, 12)12 - AIC:115.57692635454531\n"
     ]
    },
    {
     "name": "stderr",
     "output_type": "stream",
     "text": [
      "C:\\Users\\Byom Kesh Jha\\Anaconda3\\lib\\site-packages\\statsmodels\\base\\model.py:512: ConvergenceWarning: Maximum Likelihood optimization failed to converge. Check mle_retvals\n",
      "  \"Check mle_retvals\", ConvergenceWarning)\n"
     ]
    },
    {
     "name": "stdout",
     "output_type": "stream",
     "text": [
      "ARIMA(2, 2, 3)x(3, 0, 1, 12)12 - AIC:122.05543763539117\n",
      "ARIMA(2, 2, 4)x(0, 0, 0, 12)12 - AIC:598.2501960525324\n"
     ]
    },
    {
     "name": "stderr",
     "output_type": "stream",
     "text": [
      "C:\\Users\\Byom Kesh Jha\\Anaconda3\\lib\\site-packages\\statsmodels\\base\\model.py:512: ConvergenceWarning: Maximum Likelihood optimization failed to converge. Check mle_retvals\n",
      "  \"Check mle_retvals\", ConvergenceWarning)\n"
     ]
    },
    {
     "name": "stdout",
     "output_type": "stream",
     "text": [
      "ARIMA(2, 2, 4)x(0, 0, 1, 12)12 - AIC:2259.3214418046423\n",
      "ARIMA(2, 2, 4)x(0, 1, 0, 12)12 - AIC:416.43440739311814\n"
     ]
    },
    {
     "name": "stderr",
     "output_type": "stream",
     "text": [
      "C:\\Users\\Byom Kesh Jha\\Anaconda3\\lib\\site-packages\\statsmodels\\base\\model.py:512: ConvergenceWarning: Maximum Likelihood optimization failed to converge. Check mle_retvals\n",
      "  \"Check mle_retvals\", ConvergenceWarning)\n"
     ]
    },
    {
     "name": "stdout",
     "output_type": "stream",
     "text": [
      "ARIMA(2, 2, 4)x(0, 2, 0, 12)12 - AIC:259.4450643923785\n"
     ]
    },
    {
     "name": "stderr",
     "output_type": "stream",
     "text": [
      "C:\\Users\\Byom Kesh Jha\\Anaconda3\\lib\\site-packages\\statsmodels\\base\\model.py:512: ConvergenceWarning: Maximum Likelihood optimization failed to converge. Check mle_retvals\n",
      "  \"Check mle_retvals\", ConvergenceWarning)\n"
     ]
    },
    {
     "name": "stdout",
     "output_type": "stream",
     "text": [
      "ARIMA(2, 2, 4)x(1, 0, 0, 12)12 - AIC:456.9931020454538\n",
      "ARIMA(2, 2, 4)x(1, 0, 1, 12)12 - AIC:2456.519358050811\n"
     ]
    },
    {
     "name": "stderr",
     "output_type": "stream",
     "text": [
      "C:\\Users\\Byom Kesh Jha\\Anaconda3\\lib\\site-packages\\statsmodels\\base\\model.py:512: ConvergenceWarning: Maximum Likelihood optimization failed to converge. Check mle_retvals\n",
      "  \"Check mle_retvals\", ConvergenceWarning)\n"
     ]
    },
    {
     "name": "stdout",
     "output_type": "stream",
     "text": [
      "ARIMA(2, 2, 4)x(1, 1, 0, 12)12 - AIC:280.47782768086546\n"
     ]
    },
    {
     "name": "stderr",
     "output_type": "stream",
     "text": [
      "C:\\Users\\Byom Kesh Jha\\Anaconda3\\lib\\site-packages\\statsmodels\\base\\model.py:512: ConvergenceWarning: Maximum Likelihood optimization failed to converge. Check mle_retvals\n",
      "  \"Check mle_retvals\", ConvergenceWarning)\n"
     ]
    },
    {
     "name": "stdout",
     "output_type": "stream",
     "text": [
      "ARIMA(2, 2, 4)x(1, 2, 0, 12)12 - AIC:110.90474651805596\n",
      "ARIMA(2, 2, 4)x(2, 0, 0, 12)12 - AIC:280.69491973646296\n"
     ]
    },
    {
     "name": "stderr",
     "output_type": "stream",
     "text": [
      "C:\\Users\\Byom Kesh Jha\\Anaconda3\\lib\\site-packages\\statsmodels\\base\\model.py:512: ConvergenceWarning: Maximum Likelihood optimization failed to converge. Check mle_retvals\n",
      "  \"Check mle_retvals\", ConvergenceWarning)\n"
     ]
    },
    {
     "name": "stdout",
     "output_type": "stream",
     "text": [
      "ARIMA(2, 2, 4)x(2, 0, 1, 12)12 - AIC:921.0678357979788\n"
     ]
    },
    {
     "name": "stderr",
     "output_type": "stream",
     "text": [
      "C:\\Users\\Byom Kesh Jha\\Anaconda3\\lib\\site-packages\\statsmodels\\base\\model.py:512: ConvergenceWarning: Maximum Likelihood optimization failed to converge. Check mle_retvals\n",
      "  \"Check mle_retvals\", ConvergenceWarning)\n"
     ]
    },
    {
     "name": "stdout",
     "output_type": "stream",
     "text": [
      "ARIMA(2, 2, 4)x(2, 1, 0, 12)12 - AIC:120.01321365073395\n"
     ]
    },
    {
     "name": "stderr",
     "output_type": "stream",
     "text": [
      "C:\\Users\\Byom Kesh Jha\\Anaconda3\\lib\\site-packages\\statsmodels\\base\\model.py:512: ConvergenceWarning: Maximum Likelihood optimization failed to converge. Check mle_retvals\n",
      "  \"Check mle_retvals\", ConvergenceWarning)\n"
     ]
    },
    {
     "name": "stdout",
     "output_type": "stream",
     "text": [
      "ARIMA(2, 2, 4)x(3, 0, 0, 12)12 - AIC:124.29236557414521\n"
     ]
    },
    {
     "name": "stderr",
     "output_type": "stream",
     "text": [
      "C:\\Users\\Byom Kesh Jha\\Anaconda3\\lib\\site-packages\\statsmodels\\base\\model.py:512: ConvergenceWarning: Maximum Likelihood optimization failed to converge. Check mle_retvals\n",
      "  \"Check mle_retvals\", ConvergenceWarning)\n"
     ]
    },
    {
     "name": "stdout",
     "output_type": "stream",
     "text": [
      "ARIMA(2, 2, 4)x(3, 0, 1, 12)12 - AIC:123.87795481130976\n",
      "ARIMA(2, 3, 0)x(0, 0, 0, 12)12 - AIC:677.3875952622642\n"
     ]
    },
    {
     "name": "stderr",
     "output_type": "stream",
     "text": [
      "C:\\Users\\Byom Kesh Jha\\Anaconda3\\lib\\site-packages\\statsmodels\\base\\model.py:512: ConvergenceWarning: Maximum Likelihood optimization failed to converge. Check mle_retvals\n",
      "  \"Check mle_retvals\", ConvergenceWarning)\n"
     ]
    },
    {
     "name": "stdout",
     "output_type": "stream",
     "text": [
      "ARIMA(2, 3, 0)x(0, 0, 1, 12)12 - AIC:1107.8353757878626\n",
      "ARIMA(2, 3, 0)x(0, 1, 0, 12)12 - AIC:478.3413055061057\n",
      "ARIMA(2, 3, 0)x(0, 2, 0, 12)12 - AIC:308.18679609274466\n",
      "ARIMA(2, 3, 0)x(0, 3, 0, 12)12 - AIC:118.26360504160056\n",
      "ARIMA(2, 3, 0)x(1, 0, 0, 12)12 - AIC:475.8189401176634\n",
      "ARIMA(2, 3, 0)x(1, 0, 1, 12)12 - AIC:1239.8805477584735\n",
      "ARIMA(2, 3, 0)x(1, 1, 0, 12)12 - AIC:288.01650238000127\n",
      "ARIMA(2, 3, 0)x(1, 2, 0, 12)12 - AIC:104.46607348731823\n",
      "ARIMA(2, 3, 0)x(2, 0, 0, 12)12 - AIC:284.7606067256414\n"
     ]
    },
    {
     "name": "stderr",
     "output_type": "stream",
     "text": [
      "C:\\Users\\Byom Kesh Jha\\Anaconda3\\lib\\site-packages\\statsmodels\\base\\model.py:512: ConvergenceWarning: Maximum Likelihood optimization failed to converge. Check mle_retvals\n",
      "  \"Check mle_retvals\", ConvergenceWarning)\n"
     ]
    },
    {
     "name": "stdout",
     "output_type": "stream",
     "text": [
      "ARIMA(2, 3, 0)x(2, 0, 1, 12)12 - AIC:742.176205609978\n",
      "ARIMA(2, 3, 0)x(2, 1, 0, 12)12 - AIC:100.96223302153582\n"
     ]
    },
    {
     "name": "stderr",
     "output_type": "stream",
     "text": [
      "C:\\Users\\Byom Kesh Jha\\Anaconda3\\lib\\site-packages\\statsmodels\\base\\model.py:512: ConvergenceWarning: Maximum Likelihood optimization failed to converge. Check mle_retvals\n",
      "  \"Check mle_retvals\", ConvergenceWarning)\n"
     ]
    },
    {
     "name": "stdout",
     "output_type": "stream",
     "text": [
      "ARIMA(2, 3, 0)x(3, 0, 0, 12)12 - AIC:88.2433386864185\n"
     ]
    },
    {
     "name": "stderr",
     "output_type": "stream",
     "text": [
      "C:\\Users\\Byom Kesh Jha\\Anaconda3\\lib\\site-packages\\statsmodels\\base\\model.py:512: ConvergenceWarning: Maximum Likelihood optimization failed to converge. Check mle_retvals\n",
      "  \"Check mle_retvals\", ConvergenceWarning)\n"
     ]
    },
    {
     "name": "stdout",
     "output_type": "stream",
     "text": [
      "ARIMA(2, 3, 0)x(3, 0, 1, 12)12 - AIC:288.37374973076726\n",
      "ARIMA(2, 3, 1)x(0, 0, 0, 12)12 - AIC:648.6341223879579\n",
      "ARIMA(2, 3, 1)x(0, 0, 1, 12)12 - AIC:2324.9194639903612\n",
      "ARIMA(2, 3, 1)x(0, 1, 0, 12)12 - AIC:461.30282032759595\n",
      "ARIMA(2, 3, 1)x(0, 2, 0, 12)12 - AIC:301.78275328044634\n",
      "ARIMA(2, 3, 1)x(0, 3, 0, 12)12 - AIC:118.41505055673109\n",
      "ARIMA(2, 3, 1)x(1, 0, 0, 12)12 - AIC:457.9310045037712\n",
      "ARIMA(2, 3, 1)x(1, 0, 1, 12)12 - AIC:2387.6091391966115\n",
      "ARIMA(2, 3, 1)x(1, 1, 0, 12)12 - AIC:279.29094260487847\n",
      "ARIMA(2, 3, 1)x(1, 2, 0, 12)12 - AIC:105.42322763474706\n",
      "ARIMA(2, 3, 1)x(2, 0, 0, 12)12 - AIC:276.33047432259957\n"
     ]
    },
    {
     "name": "stderr",
     "output_type": "stream",
     "text": [
      "C:\\Users\\Byom Kesh Jha\\Anaconda3\\lib\\site-packages\\statsmodels\\base\\model.py:512: ConvergenceWarning: Maximum Likelihood optimization failed to converge. Check mle_retvals\n",
      "  \"Check mle_retvals\", ConvergenceWarning)\n"
     ]
    },
    {
     "name": "stdout",
     "output_type": "stream",
     "text": [
      "ARIMA(2, 3, 1)x(2, 0, 1, 12)12 - AIC:726.1065399218309\n"
     ]
    },
    {
     "name": "stderr",
     "output_type": "stream",
     "text": [
      "C:\\Users\\Byom Kesh Jha\\Anaconda3\\lib\\site-packages\\statsmodels\\base\\model.py:512: ConvergenceWarning: Maximum Likelihood optimization failed to converge. Check mle_retvals\n",
      "  \"Check mle_retvals\", ConvergenceWarning)\n"
     ]
    },
    {
     "name": "stdout",
     "output_type": "stream",
     "text": [
      "ARIMA(2, 3, 1)x(2, 1, 0, 12)12 - AIC:96.52467854460042\n"
     ]
    },
    {
     "name": "stderr",
     "output_type": "stream",
     "text": [
      "C:\\Users\\Byom Kesh Jha\\Anaconda3\\lib\\site-packages\\statsmodels\\base\\model.py:512: ConvergenceWarning: Maximum Likelihood optimization failed to converge. Check mle_retvals\n",
      "  \"Check mle_retvals\", ConvergenceWarning)\n"
     ]
    },
    {
     "name": "stdout",
     "output_type": "stream",
     "text": [
      "ARIMA(2, 3, 1)x(3, 0, 0, 12)12 - AIC:101.713627374027\n"
     ]
    },
    {
     "name": "stderr",
     "output_type": "stream",
     "text": [
      "C:\\Users\\Byom Kesh Jha\\Anaconda3\\lib\\site-packages\\statsmodels\\base\\model.py:512: ConvergenceWarning: Maximum Likelihood optimization failed to converge. Check mle_retvals\n",
      "  \"Check mle_retvals\", ConvergenceWarning)\n"
     ]
    },
    {
     "name": "stdout",
     "output_type": "stream",
     "text": [
      "ARIMA(2, 3, 1)x(3, 0, 1, 12)12 - AIC:277.17392444995363\n",
      "ARIMA(2, 3, 2)x(0, 0, 0, 12)12 - AIC:624.2203147232003\n",
      "ARIMA(2, 3, 2)x(0, 0, 1, 12)12 - AIC:2202.944285946225\n",
      "ARIMA(2, 3, 2)x(0, 1, 0, 12)12 - AIC:435.81995942080584\n",
      "ARIMA(2, 3, 2)x(0, 2, 0, 12)12 - AIC:284.050825383593\n"
     ]
    },
    {
     "name": "stderr",
     "output_type": "stream",
     "text": [
      "C:\\Users\\Byom Kesh Jha\\Anaconda3\\lib\\site-packages\\statsmodels\\base\\model.py:512: ConvergenceWarning: Maximum Likelihood optimization failed to converge. Check mle_retvals\n",
      "  \"Check mle_retvals\", ConvergenceWarning)\n"
     ]
    },
    {
     "name": "stdout",
     "output_type": "stream",
     "text": [
      "ARIMA(2, 3, 2)x(0, 3, 0, 12)12 - AIC:nan\n",
      "ARIMA(2, 3, 2)x(1, 0, 0, 12)12 - AIC:451.7788976211766\n",
      "ARIMA(2, 3, 2)x(1, 0, 1, 12)12 - AIC:2311.2185018567443\n"
     ]
    },
    {
     "name": "stderr",
     "output_type": "stream",
     "text": [
      "C:\\Users\\Byom Kesh Jha\\Anaconda3\\lib\\site-packages\\statsmodels\\base\\model.py:512: ConvergenceWarning: Maximum Likelihood optimization failed to converge. Check mle_retvals\n",
      "  \"Check mle_retvals\", ConvergenceWarning)\n"
     ]
    },
    {
     "name": "stdout",
     "output_type": "stream",
     "text": [
      "ARIMA(2, 3, 2)x(1, 1, 0, 12)12 - AIC:274.679335319934\n"
     ]
    },
    {
     "name": "stderr",
     "output_type": "stream",
     "text": [
      "C:\\Users\\Byom Kesh Jha\\Anaconda3\\lib\\site-packages\\statsmodels\\base\\model.py:512: ConvergenceWarning: Maximum Likelihood optimization failed to converge. Check mle_retvals\n",
      "  \"Check mle_retvals\", ConvergenceWarning)\n"
     ]
    },
    {
     "name": "stdout",
     "output_type": "stream",
     "text": [
      "ARIMA(2, 3, 2)x(1, 2, 0, 12)12 - AIC:106.0236665784298\n",
      "ARIMA(2, 3, 2)x(2, 0, 0, 12)12 - AIC:276.490168256296\n"
     ]
    },
    {
     "name": "stderr",
     "output_type": "stream",
     "text": [
      "C:\\Users\\Byom Kesh Jha\\Anaconda3\\lib\\site-packages\\statsmodels\\base\\model.py:512: ConvergenceWarning: Maximum Likelihood optimization failed to converge. Check mle_retvals\n",
      "  \"Check mle_retvals\", ConvergenceWarning)\n"
     ]
    },
    {
     "name": "stdout",
     "output_type": "stream",
     "text": [
      "ARIMA(2, 3, 2)x(2, 0, 1, 12)12 - AIC:759.9283447202262\n"
     ]
    },
    {
     "name": "stderr",
     "output_type": "stream",
     "text": [
      "C:\\Users\\Byom Kesh Jha\\Anaconda3\\lib\\site-packages\\statsmodels\\base\\model.py:512: ConvergenceWarning: Maximum Likelihood optimization failed to converge. Check mle_retvals\n",
      "  \"Check mle_retvals\", ConvergenceWarning)\n"
     ]
    },
    {
     "name": "stdout",
     "output_type": "stream",
     "text": [
      "ARIMA(2, 3, 2)x(2, 1, 0, 12)12 - AIC:109.34424216473192\n"
     ]
    },
    {
     "name": "stderr",
     "output_type": "stream",
     "text": [
      "C:\\Users\\Byom Kesh Jha\\Anaconda3\\lib\\site-packages\\statsmodels\\base\\model.py:512: ConvergenceWarning: Maximum Likelihood optimization failed to converge. Check mle_retvals\n",
      "  \"Check mle_retvals\", ConvergenceWarning)\n"
     ]
    },
    {
     "name": "stdout",
     "output_type": "stream",
     "text": [
      "ARIMA(2, 3, 2)x(3, 0, 0, 12)12 - AIC:115.60852464294128\n"
     ]
    },
    {
     "name": "stderr",
     "output_type": "stream",
     "text": [
      "C:\\Users\\Byom Kesh Jha\\Anaconda3\\lib\\site-packages\\statsmodels\\base\\model.py:512: ConvergenceWarning: Maximum Likelihood optimization failed to converge. Check mle_retvals\n",
      "  \"Check mle_retvals\", ConvergenceWarning)\n"
     ]
    },
    {
     "name": "stdout",
     "output_type": "stream",
     "text": [
      "ARIMA(2, 3, 2)x(3, 0, 1, 12)12 - AIC:252.52322250399638\n",
      "ARIMA(2, 3, 3)x(0, 0, 0, 12)12 - AIC:611.6681258757543\n",
      "ARIMA(2, 3, 3)x(0, 0, 1, 12)12 - AIC:10853.297395361933\n"
     ]
    },
    {
     "name": "stderr",
     "output_type": "stream",
     "text": [
      "C:\\Users\\Byom Kesh Jha\\Anaconda3\\lib\\site-packages\\statsmodels\\base\\model.py:512: ConvergenceWarning: Maximum Likelihood optimization failed to converge. Check mle_retvals\n",
      "  \"Check mle_retvals\", ConvergenceWarning)\n"
     ]
    },
    {
     "name": "stdout",
     "output_type": "stream",
     "text": [
      "ARIMA(2, 3, 3)x(0, 1, 0, 12)12 - AIC:423.2932272193507\n",
      "ARIMA(2, 3, 3)x(0, 2, 0, 12)12 - AIC:266.51396377521553\n"
     ]
    },
    {
     "name": "stderr",
     "output_type": "stream",
     "text": [
      "C:\\Users\\Byom Kesh Jha\\Anaconda3\\lib\\site-packages\\statsmodels\\base\\model.py:512: ConvergenceWarning: Maximum Likelihood optimization failed to converge. Check mle_retvals\n",
      "  \"Check mle_retvals\", ConvergenceWarning)\n"
     ]
    },
    {
     "name": "stdout",
     "output_type": "stream",
     "text": [
      "ARIMA(2, 3, 3)x(1, 0, 0, 12)12 - AIC:453.68720644203756\n",
      "ARIMA(2, 3, 3)x(1, 0, 1, 12)12 - AIC:2234.060870596622\n"
     ]
    },
    {
     "name": "stderr",
     "output_type": "stream",
     "text": [
      "C:\\Users\\Byom Kesh Jha\\Anaconda3\\lib\\site-packages\\statsmodels\\base\\model.py:512: ConvergenceWarning: Maximum Likelihood optimization failed to converge. Check mle_retvals\n",
      "  \"Check mle_retvals\", ConvergenceWarning)\n"
     ]
    },
    {
     "name": "stdout",
     "output_type": "stream",
     "text": [
      "ARIMA(2, 3, 3)x(1, 1, 0, 12)12 - AIC:276.31610351791034\n"
     ]
    },
    {
     "name": "stderr",
     "output_type": "stream",
     "text": [
      "C:\\Users\\Byom Kesh Jha\\Anaconda3\\lib\\site-packages\\statsmodels\\base\\model.py:512: ConvergenceWarning: Maximum Likelihood optimization failed to converge. Check mle_retvals\n",
      "  \"Check mle_retvals\", ConvergenceWarning)\n"
     ]
    },
    {
     "name": "stdout",
     "output_type": "stream",
     "text": [
      "ARIMA(2, 3, 3)x(1, 2, 0, 12)12 - AIC:107.56140334140196\n",
      "ARIMA(2, 3, 3)x(2, 0, 0, 12)12 - AIC:280.20286703291407\n",
      "ARIMA(2, 3, 3)x(2, 0, 1, 12)12 - AIC:1468.0769554768397\n"
     ]
    },
    {
     "name": "stderr",
     "output_type": "stream",
     "text": [
      "C:\\Users\\Byom Kesh Jha\\Anaconda3\\lib\\site-packages\\statsmodels\\base\\model.py:512: ConvergenceWarning: Maximum Likelihood optimization failed to converge. Check mle_retvals\n",
      "  \"Check mle_retvals\", ConvergenceWarning)\n"
     ]
    },
    {
     "name": "stdout",
     "output_type": "stream",
     "text": [
      "ARIMA(2, 3, 3)x(2, 1, 0, 12)12 - AIC:110.5274813578432\n"
     ]
    },
    {
     "name": "stderr",
     "output_type": "stream",
     "text": [
      "C:\\Users\\Byom Kesh Jha\\Anaconda3\\lib\\site-packages\\statsmodels\\base\\model.py:512: ConvergenceWarning: Maximum Likelihood optimization failed to converge. Check mle_retvals\n",
      "  \"Check mle_retvals\", ConvergenceWarning)\n"
     ]
    },
    {
     "name": "stdout",
     "output_type": "stream",
     "text": [
      "ARIMA(2, 3, 3)x(3, 0, 0, 12)12 - AIC:116.77583270510851\n",
      "ARIMA(2, 3, 3)x(3, 0, 1, 12)12 - AIC:551.9581547138102\n",
      "ARIMA(2, 3, 4)x(0, 0, 0, 12)12 - AIC:592.7156579152525\n",
      "ARIMA(2, 3, 4)x(0, 0, 1, 12)12 - AIC:2682.136073146585\n"
     ]
    },
    {
     "name": "stderr",
     "output_type": "stream",
     "text": [
      "C:\\Users\\Byom Kesh Jha\\Anaconda3\\lib\\site-packages\\statsmodels\\base\\model.py:512: ConvergenceWarning: Maximum Likelihood optimization failed to converge. Check mle_retvals\n",
      "  \"Check mle_retvals\", ConvergenceWarning)\n"
     ]
    },
    {
     "name": "stdout",
     "output_type": "stream",
     "text": [
      "ARIMA(2, 3, 4)x(0, 1, 0, 12)12 - AIC:410.8062283311604\n",
      "ARIMA(2, 3, 4)x(0, 2, 0, 12)12 - AIC:253.19640464359856\n"
     ]
    },
    {
     "name": "stderr",
     "output_type": "stream",
     "text": [
      "C:\\Users\\Byom Kesh Jha\\Anaconda3\\lib\\site-packages\\statsmodels\\base\\model.py:512: ConvergenceWarning: Maximum Likelihood optimization failed to converge. Check mle_retvals\n",
      "  \"Check mle_retvals\", ConvergenceWarning)\n"
     ]
    },
    {
     "name": "stdout",
     "output_type": "stream",
     "text": [
      "ARIMA(2, 3, 4)x(1, 0, 0, 12)12 - AIC:461.4623288936544\n",
      "ARIMA(2, 3, 4)x(1, 0, 1, 12)12 - AIC:46618.3180300578\n"
     ]
    },
    {
     "name": "stderr",
     "output_type": "stream",
     "text": [
      "C:\\Users\\Byom Kesh Jha\\Anaconda3\\lib\\site-packages\\statsmodels\\base\\model.py:512: ConvergenceWarning: Maximum Likelihood optimization failed to converge. Check mle_retvals\n",
      "  \"Check mle_retvals\", ConvergenceWarning)\n"
     ]
    },
    {
     "name": "stdout",
     "output_type": "stream",
     "text": [
      "ARIMA(2, 3, 4)x(1, 1, 0, 12)12 - AIC:277.45174035671675\n"
     ]
    },
    {
     "name": "stderr",
     "output_type": "stream",
     "text": [
      "C:\\Users\\Byom Kesh Jha\\Anaconda3\\lib\\site-packages\\statsmodels\\base\\model.py:512: ConvergenceWarning: Maximum Likelihood optimization failed to converge. Check mle_retvals\n",
      "  \"Check mle_retvals\", ConvergenceWarning)\n"
     ]
    },
    {
     "name": "stdout",
     "output_type": "stream",
     "text": [
      "ARIMA(2, 3, 4)x(1, 2, 0, 12)12 - AIC:105.23229718290744\n"
     ]
    },
    {
     "name": "stderr",
     "output_type": "stream",
     "text": [
      "C:\\Users\\Byom Kesh Jha\\Anaconda3\\lib\\site-packages\\statsmodels\\base\\model.py:512: ConvergenceWarning: Maximum Likelihood optimization failed to converge. Check mle_retvals\n",
      "  \"Check mle_retvals\", ConvergenceWarning)\n"
     ]
    },
    {
     "name": "stdout",
     "output_type": "stream",
     "text": [
      "ARIMA(2, 3, 4)x(2, 0, 0, 12)12 - AIC:272.677820568455\n",
      "ARIMA(2, 3, 4)x(2, 0, 1, 12)12 - AIC:760.6847356450692\n"
     ]
    },
    {
     "name": "stderr",
     "output_type": "stream",
     "text": [
      "C:\\Users\\Byom Kesh Jha\\Anaconda3\\lib\\site-packages\\statsmodels\\base\\model.py:512: ConvergenceWarning: Maximum Likelihood optimization failed to converge. Check mle_retvals\n",
      "  \"Check mle_retvals\", ConvergenceWarning)\n"
     ]
    },
    {
     "name": "stdout",
     "output_type": "stream",
     "text": [
      "ARIMA(2, 3, 4)x(2, 1, 0, 12)12 - AIC:111.42974026332432\n"
     ]
    },
    {
     "name": "stderr",
     "output_type": "stream",
     "text": [
      "C:\\Users\\Byom Kesh Jha\\Anaconda3\\lib\\site-packages\\statsmodels\\base\\model.py:512: ConvergenceWarning: Maximum Likelihood optimization failed to converge. Check mle_retvals\n",
      "  \"Check mle_retvals\", ConvergenceWarning)\n"
     ]
    },
    {
     "name": "stdout",
     "output_type": "stream",
     "text": [
      "ARIMA(2, 3, 4)x(3, 0, 0, 12)12 - AIC:117.22730307480296\n"
     ]
    },
    {
     "name": "stderr",
     "output_type": "stream",
     "text": [
      "C:\\Users\\Byom Kesh Jha\\Anaconda3\\lib\\site-packages\\statsmodels\\base\\model.py:512: ConvergenceWarning: Maximum Likelihood optimization failed to converge. Check mle_retvals\n",
      "  \"Check mle_retvals\", ConvergenceWarning)\n"
     ]
    },
    {
     "name": "stdout",
     "output_type": "stream",
     "text": [
      "ARIMA(2, 3, 4)x(3, 0, 1, 12)12 - AIC:280.5838469071035\n",
      "ARIMA(2, 4, 0)x(0, 0, 0, 12)12 - AIC:703.8468061273048\n"
     ]
    },
    {
     "name": "stderr",
     "output_type": "stream",
     "text": [
      "C:\\Users\\Byom Kesh Jha\\Anaconda3\\lib\\site-packages\\statsmodels\\base\\model.py:512: ConvergenceWarning: Maximum Likelihood optimization failed to converge. Check mle_retvals\n",
      "  \"Check mle_retvals\", ConvergenceWarning)\n"
     ]
    },
    {
     "name": "stdout",
     "output_type": "stream",
     "text": [
      "ARIMA(2, 4, 0)x(0, 0, 1, 12)12 - AIC:1375.6730530885704\n",
      "ARIMA(2, 4, 0)x(0, 1, 0, 12)12 - AIC:490.96469262926126\n",
      "ARIMA(2, 4, 0)x(0, 2, 0, 12)12 - AIC:306.3314322896925\n",
      "ARIMA(2, 4, 0)x(0, 3, 0, 12)12 - AIC:106.80118966359726\n",
      "ARIMA(2, 4, 0)x(1, 0, 0, 12)12 - AIC:489.63152974568624\n"
     ]
    },
    {
     "name": "stderr",
     "output_type": "stream",
     "text": [
      "C:\\Users\\Byom Kesh Jha\\Anaconda3\\lib\\site-packages\\statsmodels\\base\\model.py:512: ConvergenceWarning: Maximum Likelihood optimization failed to converge. Check mle_retvals\n",
      "  \"Check mle_retvals\", ConvergenceWarning)\n"
     ]
    },
    {
     "name": "stdout",
     "output_type": "stream",
     "text": [
      "ARIMA(2, 4, 0)x(1, 0, 1, 12)12 - AIC:1127.6782043597789\n",
      "ARIMA(2, 4, 0)x(1, 1, 0, 12)12 - AIC:290.4440584694952\n",
      "ARIMA(2, 4, 0)x(1, 2, 0, 12)12 - AIC:93.0342875695055\n",
      "ARIMA(2, 4, 0)x(2, 0, 0, 12)12 - AIC:288.2597122611969\n"
     ]
    },
    {
     "name": "stderr",
     "output_type": "stream",
     "text": [
      "C:\\Users\\Byom Kesh Jha\\Anaconda3\\lib\\site-packages\\statsmodels\\base\\model.py:512: ConvergenceWarning: Maximum Likelihood optimization failed to converge. Check mle_retvals\n",
      "  \"Check mle_retvals\", ConvergenceWarning)\n"
     ]
    },
    {
     "name": "stdout",
     "output_type": "stream",
     "text": [
      "ARIMA(2, 4, 0)x(2, 0, 1, 12)12 - AIC:625.7152139682597\n",
      "ARIMA(2, 4, 0)x(2, 1, 0, 12)12 - AIC:80.53982618601299\n"
     ]
    },
    {
     "name": "stderr",
     "output_type": "stream",
     "text": [
      "C:\\Users\\Byom Kesh Jha\\Anaconda3\\lib\\site-packages\\statsmodels\\base\\model.py:512: ConvergenceWarning: Maximum Likelihood optimization failed to converge. Check mle_retvals\n",
      "  \"Check mle_retvals\", ConvergenceWarning)\n"
     ]
    },
    {
     "name": "stdout",
     "output_type": "stream",
     "text": [
      "ARIMA(2, 4, 0)x(3, 0, 0, 12)12 - AIC:105.64859509974495\n"
     ]
    },
    {
     "name": "stderr",
     "output_type": "stream",
     "text": [
      "C:\\Users\\Byom Kesh Jha\\Anaconda3\\lib\\site-packages\\statsmodels\\base\\model.py:512: ConvergenceWarning: Maximum Likelihood optimization failed to converge. Check mle_retvals\n",
      "  \"Check mle_retvals\", ConvergenceWarning)\n"
     ]
    },
    {
     "name": "stdout",
     "output_type": "stream",
     "text": [
      "ARIMA(2, 4, 0)x(3, 0, 1, 12)12 - AIC:256.6367449330436\n",
      "ARIMA(2, 4, 1)x(0, 0, 0, 12)12 - AIC:667.3163954783676\n",
      "ARIMA(2, 4, 1)x(0, 0, 1, 12)12 - AIC:3248.430560433596\n",
      "ARIMA(2, 4, 1)x(0, 1, 0, 12)12 - AIC:466.4223775965156\n",
      "ARIMA(2, 4, 1)x(0, 2, 0, 12)12 - AIC:294.70420987212316\n",
      "ARIMA(2, 4, 1)x(0, 3, 0, 12)12 - AIC:105.2686091923878\n",
      "ARIMA(2, 4, 1)x(1, 0, 0, 12)12 - AIC:464.3642576964297\n",
      "ARIMA(2, 4, 1)x(1, 0, 1, 12)12 - AIC:2319.173646601312\n",
      "ARIMA(2, 4, 1)x(1, 1, 0, 12)12 - AIC:276.5274688372075\n",
      "ARIMA(2, 4, 1)x(1, 2, 0, 12)12 - AIC:92.60452320791116\n",
      "ARIMA(2, 4, 1)x(2, 0, 0, 12)12 - AIC:274.8222735530606\n"
     ]
    },
    {
     "name": "stderr",
     "output_type": "stream",
     "text": [
      "C:\\Users\\Byom Kesh Jha\\Anaconda3\\lib\\site-packages\\statsmodels\\base\\model.py:512: ConvergenceWarning: Maximum Likelihood optimization failed to converge. Check mle_retvals\n",
      "  \"Check mle_retvals\", ConvergenceWarning)\n"
     ]
    },
    {
     "name": "stdout",
     "output_type": "stream",
     "text": [
      "ARIMA(2, 4, 1)x(2, 0, 1, 12)12 - AIC:522.1284490950686\n"
     ]
    },
    {
     "name": "stderr",
     "output_type": "stream",
     "text": [
      "C:\\Users\\Byom Kesh Jha\\Anaconda3\\lib\\site-packages\\statsmodels\\base\\model.py:512: ConvergenceWarning: Maximum Likelihood optimization failed to converge. Check mle_retvals\n",
      "  \"Check mle_retvals\", ConvergenceWarning)\n"
     ]
    },
    {
     "name": "stdout",
     "output_type": "stream",
     "text": [
      "ARIMA(2, 4, 1)x(2, 1, 0, 12)12 - AIC:89.5222642123813\n"
     ]
    },
    {
     "name": "stderr",
     "output_type": "stream",
     "text": [
      "C:\\Users\\Byom Kesh Jha\\Anaconda3\\lib\\site-packages\\statsmodels\\base\\model.py:512: ConvergenceWarning: Maximum Likelihood optimization failed to converge. Check mle_retvals\n",
      "  \"Check mle_retvals\", ConvergenceWarning)\n"
     ]
    },
    {
     "name": "stdout",
     "output_type": "stream",
     "text": [
      "ARIMA(2, 4, 1)x(3, 0, 0, 12)12 - AIC:104.17257531848904\n"
     ]
    },
    {
     "name": "stderr",
     "output_type": "stream",
     "text": [
      "C:\\Users\\Byom Kesh Jha\\Anaconda3\\lib\\site-packages\\statsmodels\\base\\model.py:512: ConvergenceWarning: Maximum Likelihood optimization failed to converge. Check mle_retvals\n",
      "  \"Check mle_retvals\", ConvergenceWarning)\n"
     ]
    },
    {
     "name": "stdout",
     "output_type": "stream",
     "text": [
      "ARIMA(2, 4, 1)x(3, 0, 1, 12)12 - AIC:224.3013767555418\n",
      "ARIMA(2, 4, 2)x(0, 0, 0, 12)12 - AIC:627.6654399723094\n",
      "ARIMA(2, 4, 2)x(0, 0, 1, 12)12 - AIC:2661.6372858630707\n",
      "ARIMA(2, 4, 2)x(0, 1, 0, 12)12 - AIC:435.02692070092127\n",
      "ARIMA(2, 4, 2)x(0, 2, 0, 12)12 - AIC:274.1744820353845\n"
     ]
    },
    {
     "name": "stderr",
     "output_type": "stream",
     "text": [
      "C:\\Users\\Byom Kesh Jha\\Anaconda3\\lib\\site-packages\\statsmodels\\base\\model.py:512: ConvergenceWarning: Maximum Likelihood optimization failed to converge. Check mle_retvals\n",
      "  \"Check mle_retvals\", ConvergenceWarning)\n"
     ]
    },
    {
     "name": "stdout",
     "output_type": "stream",
     "text": [
      "ARIMA(2, 4, 2)x(0, 3, 0, 12)12 - AIC:nan\n",
      "ARIMA(2, 4, 2)x(1, 0, 0, 12)12 - AIC:449.07156723696085\n",
      "ARIMA(2, 4, 2)x(1, 0, 1, 12)12 - AIC:12384.364423380175\n"
     ]
    },
    {
     "name": "stderr",
     "output_type": "stream",
     "text": [
      "C:\\Users\\Byom Kesh Jha\\Anaconda3\\lib\\site-packages\\statsmodels\\base\\model.py:512: ConvergenceWarning: Maximum Likelihood optimization failed to converge. Check mle_retvals\n",
      "  \"Check mle_retvals\", ConvergenceWarning)\n"
     ]
    },
    {
     "name": "stdout",
     "output_type": "stream",
     "text": [
      "ARIMA(2, 4, 2)x(1, 1, 0, 12)12 - AIC:268.20662718856585\n",
      "ARIMA(2, 4, 2)x(1, 2, 0, 12)12 - AIC:98.87055884338533\n",
      "ARIMA(2, 4, 2)x(2, 0, 0, 12)12 - AIC:269.1286426734065\n"
     ]
    },
    {
     "name": "stderr",
     "output_type": "stream",
     "text": [
      "C:\\Users\\Byom Kesh Jha\\Anaconda3\\lib\\site-packages\\statsmodels\\base\\model.py:512: ConvergenceWarning: Maximum Likelihood optimization failed to converge. Check mle_retvals\n",
      "  \"Check mle_retvals\", ConvergenceWarning)\n"
     ]
    },
    {
     "name": "stdout",
     "output_type": "stream",
     "text": [
      "ARIMA(2, 4, 2)x(2, 0, 1, 12)12 - AIC:570.7185468144606\n"
     ]
    },
    {
     "name": "stderr",
     "output_type": "stream",
     "text": [
      "C:\\Users\\Byom Kesh Jha\\Anaconda3\\lib\\site-packages\\statsmodels\\base\\model.py:512: ConvergenceWarning: Maximum Likelihood optimization failed to converge. Check mle_retvals\n",
      "  \"Check mle_retvals\", ConvergenceWarning)\n"
     ]
    },
    {
     "name": "stdout",
     "output_type": "stream",
     "text": [
      "ARIMA(2, 4, 2)x(2, 1, 0, 12)12 - AIC:101.21509736691857\n"
     ]
    },
    {
     "name": "stderr",
     "output_type": "stream",
     "text": [
      "C:\\Users\\Byom Kesh Jha\\Anaconda3\\lib\\site-packages\\statsmodels\\base\\model.py:512: ConvergenceWarning: Maximum Likelihood optimization failed to converge. Check mle_retvals\n",
      "  \"Check mle_retvals\", ConvergenceWarning)\n"
     ]
    },
    {
     "name": "stdout",
     "output_type": "stream",
     "text": [
      "ARIMA(2, 4, 2)x(3, 0, 0, 12)12 - AIC:106.00075576304727\n",
      "ARIMA(2, 4, 2)x(3, 0, 1, 12)12 - AIC:252.9198397177257\n"
     ]
    },
    {
     "name": "stderr",
     "output_type": "stream",
     "text": [
      "C:\\Users\\Byom Kesh Jha\\Anaconda3\\lib\\site-packages\\statsmodels\\base\\model.py:512: ConvergenceWarning: Maximum Likelihood optimization failed to converge. Check mle_retvals\n",
      "  \"Check mle_retvals\", ConvergenceWarning)\n"
     ]
    },
    {
     "name": "stdout",
     "output_type": "stream",
     "text": [
      "ARIMA(2, 4, 3)x(0, 0, 0, 12)12 - AIC:614.1636512809962\n",
      "ARIMA(2, 4, 3)x(0, 0, 1, 12)12 - AIC:2179.2872287689734\n"
     ]
    },
    {
     "name": "stderr",
     "output_type": "stream",
     "text": [
      "C:\\Users\\Byom Kesh Jha\\Anaconda3\\lib\\site-packages\\statsmodels\\base\\model.py:512: ConvergenceWarning: Maximum Likelihood optimization failed to converge. Check mle_retvals\n",
      "  \"Check mle_retvals\", ConvergenceWarning)\n"
     ]
    },
    {
     "name": "stdout",
     "output_type": "stream",
     "text": [
      "ARIMA(2, 4, 3)x(0, 1, 0, 12)12 - AIC:422.7111814171798\n",
      "ARIMA(2, 4, 3)x(0, 2, 0, 12)12 - AIC:257.62144591880167\n"
     ]
    },
    {
     "name": "stderr",
     "output_type": "stream",
     "text": [
      "C:\\Users\\Byom Kesh Jha\\Anaconda3\\lib\\site-packages\\statsmodels\\base\\model.py:512: ConvergenceWarning: Maximum Likelihood optimization failed to converge. Check mle_retvals\n",
      "  \"Check mle_retvals\", ConvergenceWarning)\n"
     ]
    },
    {
     "name": "stdout",
     "output_type": "stream",
     "text": [
      "ARIMA(2, 4, 3)x(1, 0, 0, 12)12 - AIC:446.3501410333622\n",
      "ARIMA(2, 4, 3)x(1, 0, 1, 12)12 - AIC:2167.1073729580207\n",
      "ARIMA(2, 4, 3)x(1, 1, 0, 12)12 - AIC:277.5642531039969\n"
     ]
    },
    {
     "name": "stderr",
     "output_type": "stream",
     "text": [
      "C:\\Users\\Byom Kesh Jha\\Anaconda3\\lib\\site-packages\\statsmodels\\base\\model.py:512: ConvergenceWarning: Maximum Likelihood optimization failed to converge. Check mle_retvals\n",
      "  \"Check mle_retvals\", ConvergenceWarning)\n"
     ]
    },
    {
     "name": "stdout",
     "output_type": "stream",
     "text": [
      "ARIMA(2, 4, 3)x(1, 2, 0, 12)12 - AIC:94.03271791185527\n"
     ]
    },
    {
     "name": "stderr",
     "output_type": "stream",
     "text": [
      "C:\\Users\\Byom Kesh Jha\\Anaconda3\\lib\\site-packages\\statsmodels\\base\\model.py:512: ConvergenceWarning: Maximum Likelihood optimization failed to converge. Check mle_retvals\n",
      "  \"Check mle_retvals\", ConvergenceWarning)\n"
     ]
    },
    {
     "name": "stdout",
     "output_type": "stream",
     "text": [
      "ARIMA(2, 4, 3)x(2, 0, 0, 12)12 - AIC:271.9985101061546\n",
      "ARIMA(2, 4, 3)x(2, 0, 1, 12)12 - AIC:1381.2239246857246\n"
     ]
    },
    {
     "name": "stderr",
     "output_type": "stream",
     "text": [
      "C:\\Users\\Byom Kesh Jha\\Anaconda3\\lib\\site-packages\\statsmodels\\base\\model.py:512: ConvergenceWarning: Maximum Likelihood optimization failed to converge. Check mle_retvals\n",
      "  \"Check mle_retvals\", ConvergenceWarning)\n"
     ]
    },
    {
     "name": "stdout",
     "output_type": "stream",
     "text": [
      "ARIMA(2, 4, 3)x(2, 1, 0, 12)12 - AIC:102.36590755935629\n"
     ]
    },
    {
     "name": "stderr",
     "output_type": "stream",
     "text": [
      "C:\\Users\\Byom Kesh Jha\\Anaconda3\\lib\\site-packages\\statsmodels\\base\\model.py:512: ConvergenceWarning: Maximum Likelihood optimization failed to converge. Check mle_retvals\n",
      "  \"Check mle_retvals\", ConvergenceWarning)\n"
     ]
    },
    {
     "name": "stdout",
     "output_type": "stream",
     "text": [
      "ARIMA(2, 4, 3)x(3, 0, 0, 12)12 - AIC:107.20987315825055\n"
     ]
    },
    {
     "name": "stderr",
     "output_type": "stream",
     "text": [
      "C:\\Users\\Byom Kesh Jha\\Anaconda3\\lib\\site-packages\\statsmodels\\base\\model.py:512: ConvergenceWarning: Maximum Likelihood optimization failed to converge. Check mle_retvals\n",
      "  \"Check mle_retvals\", ConvergenceWarning)\n"
     ]
    },
    {
     "name": "stdout",
     "output_type": "stream",
     "text": [
      "ARIMA(2, 4, 3)x(3, 0, 1, 12)12 - AIC:479.5390563921802\n",
      "ARIMA(2, 4, 4)x(0, 0, 0, 12)12 - AIC:608.5061295090347\n",
      "ARIMA(2, 4, 4)x(0, 0, 1, 12)12 - AIC:2173.445645797145\n"
     ]
    },
    {
     "name": "stderr",
     "output_type": "stream",
     "text": [
      "C:\\Users\\Byom Kesh Jha\\Anaconda3\\lib\\site-packages\\statsmodels\\base\\model.py:512: ConvergenceWarning: Maximum Likelihood optimization failed to converge. Check mle_retvals\n",
      "  \"Check mle_retvals\", ConvergenceWarning)\n"
     ]
    },
    {
     "name": "stdout",
     "output_type": "stream",
     "text": [
      "ARIMA(2, 4, 4)x(0, 1, 0, 12)12 - AIC:411.74118801321345\n"
     ]
    },
    {
     "name": "stderr",
     "output_type": "stream",
     "text": [
      "C:\\Users\\Byom Kesh Jha\\Anaconda3\\lib\\site-packages\\statsmodels\\base\\model.py:512: ConvergenceWarning: Maximum Likelihood optimization failed to converge. Check mle_retvals\n",
      "  \"Check mle_retvals\", ConvergenceWarning)\n"
     ]
    },
    {
     "name": "stdout",
     "output_type": "stream",
     "text": [
      "ARIMA(2, 4, 4)x(0, 2, 0, 12)12 - AIC:242.3101289210505\n"
     ]
    },
    {
     "name": "stderr",
     "output_type": "stream",
     "text": [
      "C:\\Users\\Byom Kesh Jha\\Anaconda3\\lib\\site-packages\\statsmodels\\base\\model.py:512: ConvergenceWarning: Maximum Likelihood optimization failed to converge. Check mle_retvals\n",
      "  \"Check mle_retvals\", ConvergenceWarning)\n"
     ]
    },
    {
     "name": "stdout",
     "output_type": "stream",
     "text": [
      "ARIMA(2, 4, 4)x(1, 0, 0, 12)12 - AIC:467.8288378287606\n"
     ]
    },
    {
     "name": "stderr",
     "output_type": "stream",
     "text": [
      "C:\\Users\\Byom Kesh Jha\\Anaconda3\\lib\\site-packages\\statsmodels\\base\\model.py:512: ConvergenceWarning: Maximum Likelihood optimization failed to converge. Check mle_retvals\n",
      "  \"Check mle_retvals\", ConvergenceWarning)\n"
     ]
    },
    {
     "name": "stdout",
     "output_type": "stream",
     "text": [
      "ARIMA(2, 4, 4)x(1, 0, 1, 12)12 - AIC:2085.4091526425536\n"
     ]
    },
    {
     "name": "stderr",
     "output_type": "stream",
     "text": [
      "C:\\Users\\Byom Kesh Jha\\Anaconda3\\lib\\site-packages\\statsmodels\\base\\model.py:512: ConvergenceWarning: Maximum Likelihood optimization failed to converge. Check mle_retvals\n",
      "  \"Check mle_retvals\", ConvergenceWarning)\n"
     ]
    },
    {
     "name": "stdout",
     "output_type": "stream",
     "text": [
      "ARIMA(2, 4, 4)x(1, 1, 0, 12)12 - AIC:275.92474147665916\n"
     ]
    },
    {
     "name": "stderr",
     "output_type": "stream",
     "text": [
      "C:\\Users\\Byom Kesh Jha\\Anaconda3\\lib\\site-packages\\statsmodels\\base\\model.py:512: ConvergenceWarning: Maximum Likelihood optimization failed to converge. Check mle_retvals\n",
      "  \"Check mle_retvals\", ConvergenceWarning)\n"
     ]
    },
    {
     "name": "stdout",
     "output_type": "stream",
     "text": [
      "ARIMA(2, 4, 4)x(1, 2, 0, 12)12 - AIC:89.1378179191469\n"
     ]
    },
    {
     "name": "stderr",
     "output_type": "stream",
     "text": [
      "C:\\Users\\Byom Kesh Jha\\Anaconda3\\lib\\site-packages\\statsmodels\\base\\model.py:512: ConvergenceWarning: Maximum Likelihood optimization failed to converge. Check mle_retvals\n",
      "  \"Check mle_retvals\", ConvergenceWarning)\n"
     ]
    },
    {
     "name": "stdout",
     "output_type": "stream",
     "text": [
      "ARIMA(2, 4, 4)x(2, 0, 0, 12)12 - AIC:269.25857022493176\n"
     ]
    },
    {
     "name": "stderr",
     "output_type": "stream",
     "text": [
      "C:\\Users\\Byom Kesh Jha\\Anaconda3\\lib\\site-packages\\statsmodels\\base\\model.py:512: ConvergenceWarning: Maximum Likelihood optimization failed to converge. Check mle_retvals\n",
      "  \"Check mle_retvals\", ConvergenceWarning)\n"
     ]
    },
    {
     "name": "stdout",
     "output_type": "stream",
     "text": [
      "ARIMA(2, 4, 4)x(2, 0, 1, 12)12 - AIC:594.0820118530105\n"
     ]
    },
    {
     "name": "stderr",
     "output_type": "stream",
     "text": [
      "C:\\Users\\Byom Kesh Jha\\Anaconda3\\lib\\site-packages\\statsmodels\\base\\model.py:512: ConvergenceWarning: Maximum Likelihood optimization failed to converge. Check mle_retvals\n",
      "  \"Check mle_retvals\", ConvergenceWarning)\n"
     ]
    },
    {
     "name": "stdout",
     "output_type": "stream",
     "text": [
      "ARIMA(2, 4, 4)x(2, 1, 0, 12)12 - AIC:102.84203317470815\n"
     ]
    },
    {
     "name": "stderr",
     "output_type": "stream",
     "text": [
      "C:\\Users\\Byom Kesh Jha\\Anaconda3\\lib\\site-packages\\statsmodels\\base\\model.py:512: ConvergenceWarning: Maximum Likelihood optimization failed to converge. Check mle_retvals\n",
      "  \"Check mle_retvals\", ConvergenceWarning)\n"
     ]
    },
    {
     "name": "stdout",
     "output_type": "stream",
     "text": [
      "ARIMA(2, 4, 4)x(3, 0, 0, 12)12 - AIC:107.93928802499694\n"
     ]
    },
    {
     "name": "stderr",
     "output_type": "stream",
     "text": [
      "C:\\Users\\Byom Kesh Jha\\Anaconda3\\lib\\site-packages\\statsmodels\\base\\model.py:512: ConvergenceWarning: Maximum Likelihood optimization failed to converge. Check mle_retvals\n",
      "  \"Check mle_retvals\", ConvergenceWarning)\n"
     ]
    },
    {
     "name": "stdout",
     "output_type": "stream",
     "text": [
      "ARIMA(2, 4, 4)x(3, 0, 1, 12)12 - AIC:204.06786598822515\n",
      "ARIMA(3, 0, 0)x(0, 0, 0, 12)12 - AIC:653.8737499305207\n"
     ]
    },
    {
     "name": "stderr",
     "output_type": "stream",
     "text": [
      "C:\\Users\\Byom Kesh Jha\\Anaconda3\\lib\\site-packages\\statsmodels\\base\\model.py:512: ConvergenceWarning: Maximum Likelihood optimization failed to converge. Check mle_retvals\n",
      "  \"Check mle_retvals\", ConvergenceWarning)\n"
     ]
    },
    {
     "name": "stdout",
     "output_type": "stream",
     "text": [
      "ARIMA(3, 0, 0)x(0, 0, 1, 12)12 - AIC:nan\n",
      "ARIMA(3, 0, 0)x(0, 1, 0, 12)12 - AIC:456.9187501203781\n",
      "ARIMA(3, 0, 0)x(0, 2, 0, 12)12 - AIC:311.35422330665085\n",
      "ARIMA(3, 0, 0)x(0, 3, 0, 12)12 - AIC:143.83514050265813\n",
      "ARIMA(3, 0, 0)x(1, 0, 0, 12)12 - AIC:458.45592277649274\n",
      "ARIMA(3, 0, 0)x(1, 0, 1, 12)12 - AIC:1301.6533319246516\n",
      "ARIMA(3, 0, 0)x(1, 1, 0, 12)12 - AIC:282.0729704327314\n",
      "ARIMA(3, 0, 0)x(1, 2, 0, 12)12 - AIC:124.47440213250981\n",
      "ARIMA(3, 0, 0)x(2, 0, 0, 12)12 - AIC:283.7896297120799\n"
     ]
    },
    {
     "name": "stderr",
     "output_type": "stream",
     "text": [
      "C:\\Users\\Byom Kesh Jha\\Anaconda3\\lib\\site-packages\\statsmodels\\base\\model.py:512: ConvergenceWarning: Maximum Likelihood optimization failed to converge. Check mle_retvals\n",
      "  \"Check mle_retvals\", ConvergenceWarning)\n"
     ]
    },
    {
     "name": "stdout",
     "output_type": "stream",
     "text": [
      "ARIMA(3, 0, 0)x(2, 0, 1, 12)12 - AIC:873.1129913987277\n",
      "ARIMA(3, 0, 0)x(2, 1, 0, 12)12 - AIC:125.94005838159077\n"
     ]
    },
    {
     "name": "stderr",
     "output_type": "stream",
     "text": [
      "C:\\Users\\Byom Kesh Jha\\Anaconda3\\lib\\site-packages\\statsmodels\\base\\model.py:512: ConvergenceWarning: Maximum Likelihood optimization failed to converge. Check mle_retvals\n",
      "  \"Check mle_retvals\", ConvergenceWarning)\n"
     ]
    },
    {
     "name": "stdout",
     "output_type": "stream",
     "text": [
      "ARIMA(3, 0, 0)x(3, 0, 0, 12)12 - AIC:116.66617593172717\n"
     ]
    },
    {
     "name": "stderr",
     "output_type": "stream",
     "text": [
      "C:\\Users\\Byom Kesh Jha\\Anaconda3\\lib\\site-packages\\statsmodels\\base\\model.py:512: ConvergenceWarning: Maximum Likelihood optimization failed to converge. Check mle_retvals\n",
      "  \"Check mle_retvals\", ConvergenceWarning)\n"
     ]
    },
    {
     "name": "stdout",
     "output_type": "stream",
     "text": [
      "ARIMA(3, 0, 0)x(3, 0, 1, 12)12 - AIC:386.79080721405467\n",
      "ARIMA(3, 0, 1)x(0, 0, 0, 12)12 - AIC:655.6931994845986\n",
      "ARIMA(3, 0, 1)x(0, 0, 1, 12)12 - AIC:2691.2944505439336\n",
      "ARIMA(3, 0, 1)x(0, 1, 0, 12)12 - AIC:455.5149740263881\n",
      "ARIMA(3, 0, 1)x(0, 2, 0, 12)12 - AIC:313.18014125555436\n",
      "ARIMA(3, 0, 1)x(0, 3, 0, 12)12 - AIC:145.3529120905007\n",
      "ARIMA(3, 0, 1)x(1, 0, 0, 12)12 - AIC:456.4878603736846\n",
      "ARIMA(3, 0, 1)x(1, 0, 1, 12)12 - AIC:2488.9169209471384\n",
      "ARIMA(3, 0, 1)x(1, 1, 0, 12)12 - AIC:278.36055544849233\n",
      "ARIMA(3, 0, 1)x(1, 2, 0, 12)12 - AIC:124.26397562523489\n"
     ]
    },
    {
     "name": "stderr",
     "output_type": "stream",
     "text": [
      "C:\\Users\\Byom Kesh Jha\\Anaconda3\\lib\\site-packages\\statsmodels\\base\\model.py:512: ConvergenceWarning: Maximum Likelihood optimization failed to converge. Check mle_retvals\n",
      "  \"Check mle_retvals\", ConvergenceWarning)\n"
     ]
    },
    {
     "name": "stdout",
     "output_type": "stream",
     "text": [
      "ARIMA(3, 0, 1)x(2, 0, 0, 12)12 - AIC:284.813201998143\n"
     ]
    },
    {
     "name": "stderr",
     "output_type": "stream",
     "text": [
      "C:\\Users\\Byom Kesh Jha\\Anaconda3\\lib\\site-packages\\statsmodels\\base\\model.py:512: ConvergenceWarning: Maximum Likelihood optimization failed to converge. Check mle_retvals\n",
      "  \"Check mle_retvals\", ConvergenceWarning)\n"
     ]
    },
    {
     "name": "stdout",
     "output_type": "stream",
     "text": [
      "ARIMA(3, 0, 1)x(2, 0, 1, 12)12 - AIC:835.3984565151962\n"
     ]
    },
    {
     "name": "stderr",
     "output_type": "stream",
     "text": [
      "C:\\Users\\Byom Kesh Jha\\Anaconda3\\lib\\site-packages\\statsmodels\\base\\model.py:512: ConvergenceWarning: Maximum Likelihood optimization failed to converge. Check mle_retvals\n",
      "  \"Check mle_retvals\", ConvergenceWarning)\n"
     ]
    },
    {
     "name": "stdout",
     "output_type": "stream",
     "text": [
      "ARIMA(3, 0, 1)x(2, 1, 0, 12)12 - AIC:124.43808771939045\n"
     ]
    },
    {
     "name": "stderr",
     "output_type": "stream",
     "text": [
      "C:\\Users\\Byom Kesh Jha\\Anaconda3\\lib\\site-packages\\statsmodels\\base\\model.py:512: ConvergenceWarning: Maximum Likelihood optimization failed to converge. Check mle_retvals\n",
      "  \"Check mle_retvals\", ConvergenceWarning)\n"
     ]
    },
    {
     "name": "stdout",
     "output_type": "stream",
     "text": [
      "ARIMA(3, 0, 1)x(3, 0, 0, 12)12 - AIC:116.38933469979774\n"
     ]
    },
    {
     "name": "stderr",
     "output_type": "stream",
     "text": [
      "C:\\Users\\Byom Kesh Jha\\Anaconda3\\lib\\site-packages\\statsmodels\\base\\model.py:512: ConvergenceWarning: Maximum Likelihood optimization failed to converge. Check mle_retvals\n",
      "  \"Check mle_retvals\", ConvergenceWarning)\n"
     ]
    },
    {
     "name": "stdout",
     "output_type": "stream",
     "text": [
      "ARIMA(3, 0, 1)x(3, 0, 1, 12)12 - AIC:369.33151659535855\n",
      "ARIMA(3, 0, 2)x(0, 0, 0, 12)12 - AIC:657.4521155216571\n",
      "ARIMA(3, 0, 2)x(0, 0, 1, 12)12 - AIC:567781.4803624644\n",
      "ARIMA(3, 0, 2)x(0, 1, 0, 12)12 - AIC:457.2359871512374\n",
      "ARIMA(3, 0, 2)x(0, 2, 0, 12)12 - AIC:314.95312374163365\n",
      "ARIMA(3, 0, 2)x(0, 3, 0, 12)12 - AIC:144.86369355139422\n",
      "ARIMA(3, 0, 2)x(1, 0, 0, 12)12 - AIC:457.33725580364\n",
      "ARIMA(3, 0, 2)x(1, 0, 1, 12)12 - AIC:6191.223680192516\n"
     ]
    },
    {
     "name": "stderr",
     "output_type": "stream",
     "text": [
      "C:\\Users\\Byom Kesh Jha\\Anaconda3\\lib\\site-packages\\statsmodels\\base\\model.py:512: ConvergenceWarning: Maximum Likelihood optimization failed to converge. Check mle_retvals\n",
      "  \"Check mle_retvals\", ConvergenceWarning)\n"
     ]
    },
    {
     "name": "stdout",
     "output_type": "stream",
     "text": [
      "ARIMA(3, 0, 2)x(1, 1, 0, 12)12 - AIC:275.3331392955941\n"
     ]
    },
    {
     "name": "stderr",
     "output_type": "stream",
     "text": [
      "C:\\Users\\Byom Kesh Jha\\Anaconda3\\lib\\site-packages\\statsmodels\\base\\model.py:512: ConvergenceWarning: Maximum Likelihood optimization failed to converge. Check mle_retvals\n",
      "  \"Check mle_retvals\", ConvergenceWarning)\n"
     ]
    },
    {
     "name": "stdout",
     "output_type": "stream",
     "text": [
      "ARIMA(3, 0, 2)x(1, 2, 0, 12)12 - AIC:125.54563720123546\n"
     ]
    },
    {
     "name": "stderr",
     "output_type": "stream",
     "text": [
      "C:\\Users\\Byom Kesh Jha\\Anaconda3\\lib\\site-packages\\statsmodels\\base\\model.py:512: ConvergenceWarning: Maximum Likelihood optimization failed to converge. Check mle_retvals\n",
      "  \"Check mle_retvals\", ConvergenceWarning)\n"
     ]
    },
    {
     "name": "stdout",
     "output_type": "stream",
     "text": [
      "ARIMA(3, 0, 2)x(2, 0, 0, 12)12 - AIC:292.3075584570206\n"
     ]
    },
    {
     "name": "stderr",
     "output_type": "stream",
     "text": [
      "C:\\Users\\Byom Kesh Jha\\Anaconda3\\lib\\site-packages\\statsmodels\\base\\model.py:512: ConvergenceWarning: Maximum Likelihood optimization failed to converge. Check mle_retvals\n",
      "  \"Check mle_retvals\", ConvergenceWarning)\n"
     ]
    },
    {
     "name": "stdout",
     "output_type": "stream",
     "text": [
      "ARIMA(3, 0, 2)x(2, 0, 1, 12)12 - AIC:780.7004307922856\n"
     ]
    },
    {
     "name": "stderr",
     "output_type": "stream",
     "text": [
      "C:\\Users\\Byom Kesh Jha\\Anaconda3\\lib\\site-packages\\statsmodels\\base\\model.py:512: ConvergenceWarning: Maximum Likelihood optimization failed to converge. Check mle_retvals\n",
      "  \"Check mle_retvals\", ConvergenceWarning)\n"
     ]
    },
    {
     "name": "stdout",
     "output_type": "stream",
     "text": [
      "ARIMA(3, 0, 2)x(2, 1, 0, 12)12 - AIC:129.54672344830104\n"
     ]
    },
    {
     "name": "stderr",
     "output_type": "stream",
     "text": [
      "C:\\Users\\Byom Kesh Jha\\Anaconda3\\lib\\site-packages\\statsmodels\\base\\model.py:512: ConvergenceWarning: Maximum Likelihood optimization failed to converge. Check mle_retvals\n",
      "  \"Check mle_retvals\", ConvergenceWarning)\n"
     ]
    },
    {
     "name": "stdout",
     "output_type": "stream",
     "text": [
      "ARIMA(3, 0, 2)x(3, 0, 0, 12)12 - AIC:125.32687769383033\n"
     ]
    },
    {
     "name": "stderr",
     "output_type": "stream",
     "text": [
      "C:\\Users\\Byom Kesh Jha\\Anaconda3\\lib\\site-packages\\statsmodels\\base\\model.py:512: ConvergenceWarning: Maximum Likelihood optimization failed to converge. Check mle_retvals\n",
      "  \"Check mle_retvals\", ConvergenceWarning)\n"
     ]
    },
    {
     "name": "stdout",
     "output_type": "stream",
     "text": [
      "ARIMA(3, 0, 2)x(3, 0, 1, 12)12 - AIC:347.00904231158233\n",
      "ARIMA(3, 0, 3)x(0, 0, 0, 12)12 - AIC:636.8297959421844\n",
      "ARIMA(3, 0, 3)x(0, 0, 1, 12)12 - AIC:683626.0912194076\n",
      "ARIMA(3, 0, 3)x(0, 1, 0, 12)12 - AIC:440.39562451066763\n",
      "ARIMA(3, 0, 3)x(0, 2, 0, 12)12 - AIC:293.62511790948696\n"
     ]
    },
    {
     "name": "stderr",
     "output_type": "stream",
     "text": [
      "C:\\Users\\Byom Kesh Jha\\Anaconda3\\lib\\site-packages\\statsmodels\\base\\model.py:512: ConvergenceWarning: Maximum Likelihood optimization failed to converge. Check mle_retvals\n",
      "  \"Check mle_retvals\", ConvergenceWarning)\n"
     ]
    },
    {
     "name": "stdout",
     "output_type": "stream",
     "text": [
      "ARIMA(3, 0, 3)x(0, 3, 0, 12)12 - AIC:nan\n"
     ]
    },
    {
     "name": "stderr",
     "output_type": "stream",
     "text": [
      "C:\\Users\\Byom Kesh Jha\\Anaconda3\\lib\\site-packages\\statsmodels\\base\\model.py:512: ConvergenceWarning: Maximum Likelihood optimization failed to converge. Check mle_retvals\n",
      "  \"Check mle_retvals\", ConvergenceWarning)\n"
     ]
    },
    {
     "name": "stdout",
     "output_type": "stream",
     "text": [
      "ARIMA(3, 0, 3)x(1, 0, 0, 12)12 - AIC:464.7725339283069\n",
      "ARIMA(3, 0, 3)x(1, 0, 1, 12)12 - AIC:778086.04239655\n"
     ]
    },
    {
     "name": "stderr",
     "output_type": "stream",
     "text": [
      "C:\\Users\\Byom Kesh Jha\\Anaconda3\\lib\\site-packages\\statsmodels\\base\\model.py:512: ConvergenceWarning: Maximum Likelihood optimization failed to converge. Check mle_retvals\n",
      "  \"Check mle_retvals\", ConvergenceWarning)\n"
     ]
    },
    {
     "name": "stdout",
     "output_type": "stream",
     "text": [
      "ARIMA(3, 0, 3)x(1, 1, 0, 12)12 - AIC:277.6310048302479\n"
     ]
    },
    {
     "name": "stderr",
     "output_type": "stream",
     "text": [
      "C:\\Users\\Byom Kesh Jha\\Anaconda3\\lib\\site-packages\\statsmodels\\base\\model.py:512: ConvergenceWarning: Maximum Likelihood optimization failed to converge. Check mle_retvals\n",
      "  \"Check mle_retvals\", ConvergenceWarning)\n"
     ]
    },
    {
     "name": "stdout",
     "output_type": "stream",
     "text": [
      "ARIMA(3, 0, 3)x(1, 2, 0, 12)12 - AIC:114.5297479477537\n"
     ]
    },
    {
     "name": "stderr",
     "output_type": "stream",
     "text": [
      "C:\\Users\\Byom Kesh Jha\\Anaconda3\\lib\\site-packages\\statsmodels\\base\\model.py:512: ConvergenceWarning: Maximum Likelihood optimization failed to converge. Check mle_retvals\n",
      "  \"Check mle_retvals\", ConvergenceWarning)\n"
     ]
    },
    {
     "name": "stdout",
     "output_type": "stream",
     "text": [
      "ARIMA(3, 0, 3)x(2, 0, 0, 12)12 - AIC:303.17002144454835\n"
     ]
    },
    {
     "name": "stderr",
     "output_type": "stream",
     "text": [
      "C:\\Users\\Byom Kesh Jha\\Anaconda3\\lib\\site-packages\\statsmodels\\base\\model.py:512: ConvergenceWarning: Maximum Likelihood optimization failed to converge. Check mle_retvals\n",
      "  \"Check mle_retvals\", ConvergenceWarning)\n"
     ]
    },
    {
     "name": "stdout",
     "output_type": "stream",
     "text": [
      "ARIMA(3, 0, 3)x(2, 0, 1, 12)12 - AIC:813.6240514873955\n"
     ]
    },
    {
     "name": "stderr",
     "output_type": "stream",
     "text": [
      "C:\\Users\\Byom Kesh Jha\\Anaconda3\\lib\\site-packages\\statsmodels\\base\\model.py:512: ConvergenceWarning: Maximum Likelihood optimization failed to converge. Check mle_retvals\n",
      "  \"Check mle_retvals\", ConvergenceWarning)\n"
     ]
    },
    {
     "name": "stdout",
     "output_type": "stream",
     "text": [
      "ARIMA(3, 0, 3)x(2, 1, 0, 12)12 - AIC:130.64545266882686\n"
     ]
    },
    {
     "name": "stderr",
     "output_type": "stream",
     "text": [
      "C:\\Users\\Byom Kesh Jha\\Anaconda3\\lib\\site-packages\\statsmodels\\base\\model.py:512: ConvergenceWarning: Maximum Likelihood optimization failed to converge. Check mle_retvals\n",
      "  \"Check mle_retvals\", ConvergenceWarning)\n"
     ]
    },
    {
     "name": "stdout",
     "output_type": "stream",
     "text": [
      "ARIMA(3, 0, 3)x(3, 0, 0, 12)12 - AIC:127.01225042287443\n"
     ]
    },
    {
     "name": "stderr",
     "output_type": "stream",
     "text": [
      "C:\\Users\\Byom Kesh Jha\\Anaconda3\\lib\\site-packages\\statsmodels\\base\\model.py:512: ConvergenceWarning: Maximum Likelihood optimization failed to converge. Check mle_retvals\n",
      "  \"Check mle_retvals\", ConvergenceWarning)\n"
     ]
    },
    {
     "name": "stdout",
     "output_type": "stream",
     "text": [
      "ARIMA(3, 0, 3)x(3, 0, 1, 12)12 - AIC:348.155875017191\n"
     ]
    },
    {
     "name": "stderr",
     "output_type": "stream",
     "text": [
      "C:\\Users\\Byom Kesh Jha\\Anaconda3\\lib\\site-packages\\statsmodels\\base\\model.py:512: ConvergenceWarning: Maximum Likelihood optimization failed to converge. Check mle_retvals\n",
      "  \"Check mle_retvals\", ConvergenceWarning)\n"
     ]
    },
    {
     "name": "stdout",
     "output_type": "stream",
     "text": [
      "ARIMA(3, 0, 4)x(0, 0, 0, 12)12 - AIC:627.5707222246089\n"
     ]
    },
    {
     "name": "stderr",
     "output_type": "stream",
     "text": [
      "C:\\Users\\Byom Kesh Jha\\Anaconda3\\lib\\site-packages\\statsmodels\\base\\model.py:512: ConvergenceWarning: Maximum Likelihood optimization failed to converge. Check mle_retvals\n",
      "  \"Check mle_retvals\", ConvergenceWarning)\n"
     ]
    },
    {
     "name": "stdout",
     "output_type": "stream",
     "text": [
      "ARIMA(3, 0, 4)x(0, 0, 1, 12)12 - AIC:2455.710106038193\n",
      "ARIMA(3, 0, 4)x(0, 1, 0, 12)12 - AIC:429.84820685819074\n"
     ]
    },
    {
     "name": "stderr",
     "output_type": "stream",
     "text": [
      "C:\\Users\\Byom Kesh Jha\\Anaconda3\\lib\\site-packages\\statsmodels\\base\\model.py:512: ConvergenceWarning: Maximum Likelihood optimization failed to converge. Check mle_retvals\n",
      "  \"Check mle_retvals\", ConvergenceWarning)\n"
     ]
    },
    {
     "name": "stdout",
     "output_type": "stream",
     "text": [
      "ARIMA(3, 0, 4)x(0, 2, 0, 12)12 - AIC:283.27103401458163\n"
     ]
    },
    {
     "name": "stderr",
     "output_type": "stream",
     "text": [
      "C:\\Users\\Byom Kesh Jha\\Anaconda3\\lib\\site-packages\\statsmodels\\base\\model.py:512: ConvergenceWarning: Maximum Likelihood optimization failed to converge. Check mle_retvals\n",
      "  \"Check mle_retvals\", ConvergenceWarning)\n"
     ]
    },
    {
     "name": "stdout",
     "output_type": "stream",
     "text": [
      "ARIMA(3, 0, 4)x(1, 0, 0, 12)12 - AIC:458.2981459371351\n",
      "ARIMA(3, 0, 4)x(1, 0, 1, 12)12 - AIC:2341.490761202429"
     ]
    },
    {
     "name": "stderr",
     "output_type": "stream",
     "text": [
      "C:\\Users\\Byom Kesh Jha\\Anaconda3\\lib\\site-packages\\statsmodels\\base\\model.py:512: ConvergenceWarning: Maximum Likelihood optimization failed to converge. Check mle_retvals\n",
      "  \"Check mle_retvals\", ConvergenceWarning)\n"
     ]
    },
    {
     "name": "stdout",
     "output_type": "stream",
     "text": [
      "\n",
      "ARIMA(3, 0, 4)x(1, 1, 0, 12)12 - AIC:282.8844996662175\n",
      "ARIMA(3, 0, 4)x(1, 2, 0, 12)12 - AIC:127.58271940384327\n"
     ]
    },
    {
     "name": "stderr",
     "output_type": "stream",
     "text": [
      "C:\\Users\\Byom Kesh Jha\\Anaconda3\\lib\\site-packages\\statsmodels\\base\\model.py:512: ConvergenceWarning: Maximum Likelihood optimization failed to converge. Check mle_retvals\n",
      "  \"Check mle_retvals\", ConvergenceWarning)\n"
     ]
    },
    {
     "name": "stdout",
     "output_type": "stream",
     "text": [
      "ARIMA(3, 0, 4)x(2, 0, 0, 12)12 - AIC:293.4987528528243\n"
     ]
    },
    {
     "name": "stderr",
     "output_type": "stream",
     "text": [
      "C:\\Users\\Byom Kesh Jha\\Anaconda3\\lib\\site-packages\\statsmodels\\base\\model.py:512: ConvergenceWarning: Maximum Likelihood optimization failed to converge. Check mle_retvals\n",
      "  \"Check mle_retvals\", ConvergenceWarning)\n"
     ]
    },
    {
     "name": "stdout",
     "output_type": "stream",
     "text": [
      "ARIMA(3, 0, 4)x(2, 0, 1, 12)12 - AIC:674.8237423186775\n"
     ]
    },
    {
     "name": "stderr",
     "output_type": "stream",
     "text": [
      "C:\\Users\\Byom Kesh Jha\\Anaconda3\\lib\\site-packages\\statsmodels\\base\\model.py:512: ConvergenceWarning: Maximum Likelihood optimization failed to converge. Check mle_retvals\n",
      "  \"Check mle_retvals\", ConvergenceWarning)\n"
     ]
    },
    {
     "name": "stdout",
     "output_type": "stream",
     "text": [
      "ARIMA(3, 0, 4)x(2, 1, 0, 12)12 - AIC:131.236642284551\n"
     ]
    },
    {
     "name": "stderr",
     "output_type": "stream",
     "text": [
      "C:\\Users\\Byom Kesh Jha\\Anaconda3\\lib\\site-packages\\statsmodels\\base\\model.py:512: ConvergenceWarning: Maximum Likelihood optimization failed to converge. Check mle_retvals\n",
      "  \"Check mle_retvals\", ConvergenceWarning)\n"
     ]
    },
    {
     "name": "stdout",
     "output_type": "stream",
     "text": [
      "ARIMA(3, 0, 4)x(3, 0, 0, 12)12 - AIC:139.35581481518668\n"
     ]
    },
    {
     "name": "stderr",
     "output_type": "stream",
     "text": [
      "C:\\Users\\Byom Kesh Jha\\Anaconda3\\lib\\site-packages\\statsmodels\\base\\model.py:512: ConvergenceWarning: Maximum Likelihood optimization failed to converge. Check mle_retvals\n",
      "  \"Check mle_retvals\", ConvergenceWarning)\n"
     ]
    },
    {
     "name": "stdout",
     "output_type": "stream",
     "text": [
      "ARIMA(3, 0, 4)x(3, 0, 1, 12)12 - AIC:346.67701650775916\n",
      "ARIMA(3, 1, 0)x(0, 0, 0, 12)12 - AIC:640.3198272231436\n",
      "ARIMA(3, 1, 0)x(0, 0, 1, 12)12 - AIC:2032.3499406334613\n",
      "ARIMA(3, 1, 0)x(0, 1, 0, 12)12 - AIC:452.64596329098447\n",
      "ARIMA(3, 1, 0)x(0, 2, 0, 12)12 - AIC:304.42384508944565\n",
      "ARIMA(3, 1, 0)x(0, 3, 0, 12)12 - AIC:131.4874042356752\n",
      "ARIMA(3, 1, 0)x(1, 0, 0, 12)12 - AIC:450.470765209896\n"
     ]
    },
    {
     "name": "stderr",
     "output_type": "stream",
     "text": [
      "C:\\Users\\Byom Kesh Jha\\Anaconda3\\lib\\site-packages\\statsmodels\\base\\model.py:512: ConvergenceWarning: Maximum Likelihood optimization failed to converge. Check mle_retvals\n",
      "  \"Check mle_retvals\", ConvergenceWarning)\n"
     ]
    },
    {
     "name": "stdout",
     "output_type": "stream",
     "text": [
      "ARIMA(3, 1, 0)x(1, 0, 1, 12)12 - AIC:1033.3718664015373\n",
      "ARIMA(3, 1, 0)x(1, 1, 0, 12)12 - AIC:277.0734716771067\n",
      "ARIMA(3, 1, 0)x(1, 2, 0, 12)12 - AIC:116.12065248925285\n",
      "ARIMA(3, 1, 0)x(2, 0, 0, 12)12 - AIC:277.2445863951222\n",
      "ARIMA(3, 1, 0)x(2, 0, 1, 12)12 - AIC:810.2918333572073\n",
      "ARIMA(3, 1, 0)x(2, 1, 0, 12)12 - AIC:113.99050646039416\n"
     ]
    },
    {
     "name": "stderr",
     "output_type": "stream",
     "text": [
      "C:\\Users\\Byom Kesh Jha\\Anaconda3\\lib\\site-packages\\statsmodels\\base\\model.py:512: ConvergenceWarning: Maximum Likelihood optimization failed to converge. Check mle_retvals\n",
      "  \"Check mle_retvals\", ConvergenceWarning)\n"
     ]
    },
    {
     "name": "stdout",
     "output_type": "stream",
     "text": [
      "ARIMA(3, 1, 0)x(3, 0, 0, 12)12 - AIC:102.77274308129975\n"
     ]
    },
    {
     "name": "stderr",
     "output_type": "stream",
     "text": [
      "C:\\Users\\Byom Kesh Jha\\Anaconda3\\lib\\site-packages\\statsmodels\\base\\model.py:512: ConvergenceWarning: Maximum Likelihood optimization failed to converge. Check mle_retvals\n",
      "  \"Check mle_retvals\", ConvergenceWarning)\n"
     ]
    },
    {
     "name": "stdout",
     "output_type": "stream",
     "text": [
      "ARIMA(3, 1, 0)x(3, 0, 1, 12)12 - AIC:337.80053053747963\n",
      "ARIMA(3, 1, 1)x(0, 0, 0, 12)12 - AIC:642.3134749077759\n"
     ]
    },
    {
     "name": "stderr",
     "output_type": "stream",
     "text": [
      "C:\\Users\\Byom Kesh Jha\\Anaconda3\\lib\\site-packages\\statsmodels\\base\\model.py:512: ConvergenceWarning: Maximum Likelihood optimization failed to converge. Check mle_retvals\n",
      "  \"Check mle_retvals\", ConvergenceWarning)\n"
     ]
    },
    {
     "name": "stdout",
     "output_type": "stream",
     "text": [
      "ARIMA(3, 1, 1)x(0, 0, 1, 12)12 - AIC:2609.3369845788584\n",
      "ARIMA(3, 1, 1)x(0, 1, 0, 12)12 - AIC:450.32327890362507\n",
      "ARIMA(3, 1, 1)x(0, 2, 0, 12)12 - AIC:305.0829754543934\n",
      "ARIMA(3, 1, 1)x(0, 3, 0, 12)12 - AIC:134.50215012890726\n",
      "ARIMA(3, 1, 1)x(1, 0, 0, 12)12 - AIC:446.0831332656604\n",
      "ARIMA(3, 1, 1)x(1, 0, 1, 12)12 - AIC:340676.50292741996\n"
     ]
    },
    {
     "name": "stderr",
     "output_type": "stream",
     "text": [
      "C:\\Users\\Byom Kesh Jha\\Anaconda3\\lib\\site-packages\\statsmodels\\base\\model.py:512: ConvergenceWarning: Maximum Likelihood optimization failed to converge. Check mle_retvals\n",
      "  \"Check mle_retvals\", ConvergenceWarning)\n"
     ]
    },
    {
     "name": "stdout",
     "output_type": "stream",
     "text": [
      "ARIMA(3, 1, 1)x(1, 1, 0, 12)12 - AIC:271.62872915308384\n",
      "ARIMA(3, 1, 1)x(1, 2, 0, 12)12 - AIC:114.46141728327022\n",
      "ARIMA(3, 1, 1)x(2, 0, 0, 12)12 - AIC:276.51766339830925\n"
     ]
    },
    {
     "name": "stderr",
     "output_type": "stream",
     "text": [
      "C:\\Users\\Byom Kesh Jha\\Anaconda3\\lib\\site-packages\\statsmodels\\base\\model.py:512: ConvergenceWarning: Maximum Likelihood optimization failed to converge. Check mle_retvals\n",
      "  \"Check mle_retvals\", ConvergenceWarning)\n"
     ]
    },
    {
     "name": "stdout",
     "output_type": "stream",
     "text": [
      "ARIMA(3, 1, 1)x(2, 0, 1, 12)12 - AIC:835.73932760058\n",
      "ARIMA(3, 1, 1)x(2, 1, 0, 12)12 - AIC:113.99011558363678\n"
     ]
    },
    {
     "name": "stderr",
     "output_type": "stream",
     "text": [
      "C:\\Users\\Byom Kesh Jha\\Anaconda3\\lib\\site-packages\\statsmodels\\base\\model.py:512: ConvergenceWarning: Maximum Likelihood optimization failed to converge. Check mle_retvals\n",
      "  \"Check mle_retvals\", ConvergenceWarning)\n"
     ]
    },
    {
     "name": "stdout",
     "output_type": "stream",
     "text": [
      "ARIMA(3, 1, 1)x(3, 0, 0, 12)12 - AIC:117.49899703653968\n"
     ]
    },
    {
     "name": "stderr",
     "output_type": "stream",
     "text": [
      "C:\\Users\\Byom Kesh Jha\\Anaconda3\\lib\\site-packages\\statsmodels\\base\\model.py:512: ConvergenceWarning: Maximum Likelihood optimization failed to converge. Check mle_retvals\n",
      "  \"Check mle_retvals\", ConvergenceWarning)\n"
     ]
    },
    {
     "name": "stdout",
     "output_type": "stream",
     "text": [
      "ARIMA(3, 1, 1)x(3, 0, 1, 12)12 - AIC:342.23014514678243\n",
      "ARIMA(3, 1, 2)x(0, 0, 0, 12)12 - AIC:641.4486900473356\n",
      "ARIMA(3, 1, 2)x(0, 0, 1, 12)12 - AIC:nan\n"
     ]
    },
    {
     "name": "stderr",
     "output_type": "stream",
     "text": [
      "C:\\Users\\Byom Kesh Jha\\Anaconda3\\lib\\site-packages\\statsmodels\\base\\model.py:512: ConvergenceWarning: Maximum Likelihood optimization failed to converge. Check mle_retvals\n",
      "  \"Check mle_retvals\", ConvergenceWarning)\n"
     ]
    },
    {
     "name": "stdout",
     "output_type": "stream",
     "text": [
      "ARIMA(3, 1, 2)x(0, 1, 0, 12)12 - AIC:452.06860740593424\n",
      "ARIMA(3, 1, 2)x(0, 2, 0, 12)12 - AIC:307.075405650834\n"
     ]
    },
    {
     "name": "stderr",
     "output_type": "stream",
     "text": [
      "C:\\Users\\Byom Kesh Jha\\Anaconda3\\lib\\site-packages\\statsmodels\\base\\model.py:512: ConvergenceWarning: Maximum Likelihood optimization failed to converge. Check mle_retvals\n",
      "  \"Check mle_retvals\", ConvergenceWarning)\n"
     ]
    },
    {
     "name": "stdout",
     "output_type": "stream",
     "text": [
      "ARIMA(3, 1, 2)x(0, 3, 0, 12)12 - AIC:nan\n",
      "ARIMA(3, 1, 2)x(1, 0, 0, 12)12 - AIC:448.1486940622991\n",
      "ARIMA(3, 1, 2)x(1, 0, 1, 12)12 - AIC:2595.4155384350106\n"
     ]
    },
    {
     "name": "stderr",
     "output_type": "stream",
     "text": [
      "C:\\Users\\Byom Kesh Jha\\Anaconda3\\lib\\site-packages\\statsmodels\\base\\model.py:512: ConvergenceWarning: Maximum Likelihood optimization failed to converge. Check mle_retvals\n",
      "  \"Check mle_retvals\", ConvergenceWarning)\n"
     ]
    },
    {
     "name": "stdout",
     "output_type": "stream",
     "text": [
      "ARIMA(3, 1, 2)x(1, 1, 0, 12)12 - AIC:277.5444792539676\n"
     ]
    },
    {
     "name": "stderr",
     "output_type": "stream",
     "text": [
      "C:\\Users\\Byom Kesh Jha\\Anaconda3\\lib\\site-packages\\statsmodels\\base\\model.py:512: ConvergenceWarning: Maximum Likelihood optimization failed to converge. Check mle_retvals\n",
      "  \"Check mle_retvals\", ConvergenceWarning)\n"
     ]
    },
    {
     "name": "stdout",
     "output_type": "stream",
     "text": [
      "ARIMA(3, 1, 2)x(1, 2, 0, 12)12 - AIC:119.92328771553457\n"
     ]
    },
    {
     "name": "stderr",
     "output_type": "stream",
     "text": [
      "C:\\Users\\Byom Kesh Jha\\Anaconda3\\lib\\site-packages\\statsmodels\\base\\model.py:512: ConvergenceWarning: Maximum Likelihood optimization failed to converge. Check mle_retvals\n",
      "  \"Check mle_retvals\", ConvergenceWarning)\n"
     ]
    },
    {
     "name": "stdout",
     "output_type": "stream",
     "text": [
      "ARIMA(3, 1, 2)x(2, 0, 0, 12)12 - AIC:279.04142224437476\n"
     ]
    },
    {
     "name": "stderr",
     "output_type": "stream",
     "text": [
      "C:\\Users\\Byom Kesh Jha\\Anaconda3\\lib\\site-packages\\statsmodels\\base\\model.py:512: ConvergenceWarning: Maximum Likelihood optimization failed to converge. Check mle_retvals\n",
      "  \"Check mle_retvals\", ConvergenceWarning)\n"
     ]
    },
    {
     "name": "stdout",
     "output_type": "stream",
     "text": [
      "ARIMA(3, 1, 2)x(2, 0, 1, 12)12 - AIC:1648.4204847574267\n"
     ]
    },
    {
     "name": "stderr",
     "output_type": "stream",
     "text": [
      "C:\\Users\\Byom Kesh Jha\\Anaconda3\\lib\\site-packages\\statsmodels\\base\\model.py:512: ConvergenceWarning: Maximum Likelihood optimization failed to converge. Check mle_retvals\n",
      "  \"Check mle_retvals\", ConvergenceWarning)\n"
     ]
    },
    {
     "name": "stdout",
     "output_type": "stream",
     "text": [
      "ARIMA(3, 1, 2)x(2, 1, 0, 12)12 - AIC:112.64437174785104\n"
     ]
    },
    {
     "name": "stderr",
     "output_type": "stream",
     "text": [
      "C:\\Users\\Byom Kesh Jha\\Anaconda3\\lib\\site-packages\\statsmodels\\base\\model.py:512: ConvergenceWarning: Maximum Likelihood optimization failed to converge. Check mle_retvals\n",
      "  \"Check mle_retvals\", ConvergenceWarning)\n"
     ]
    },
    {
     "name": "stdout",
     "output_type": "stream",
     "text": [
      "ARIMA(3, 1, 2)x(3, 0, 0, 12)12 - AIC:126.02292346204698\n"
     ]
    },
    {
     "name": "stderr",
     "output_type": "stream",
     "text": [
      "C:\\Users\\Byom Kesh Jha\\Anaconda3\\lib\\site-packages\\statsmodels\\base\\model.py:512: ConvergenceWarning: Maximum Likelihood optimization failed to converge. Check mle_retvals\n",
      "  \"Check mle_retvals\", ConvergenceWarning)\n"
     ]
    },
    {
     "name": "stdout",
     "output_type": "stream",
     "text": [
      "ARIMA(3, 1, 2)x(3, 0, 1, 12)12 - AIC:640.1369957231154\n",
      "ARIMA(3, 1, 3)x(0, 0, 0, 12)12 - AIC:617.1600779439839\n",
      "ARIMA(3, 1, 3)x(0, 0, 1, 12)12 - AIC:2452.5562455025847\n"
     ]
    },
    {
     "name": "stderr",
     "output_type": "stream",
     "text": [
      "C:\\Users\\Byom Kesh Jha\\Anaconda3\\lib\\site-packages\\statsmodels\\base\\model.py:512: ConvergenceWarning: Maximum Likelihood optimization failed to converge. Check mle_retvals\n",
      "  \"Check mle_retvals\", ConvergenceWarning)\n"
     ]
    },
    {
     "name": "stdout",
     "output_type": "stream",
     "text": [
      "ARIMA(3, 1, 3)x(0, 1, 0, 12)12 - AIC:438.12028904622593\n",
      "ARIMA(3, 1, 3)x(0, 2, 0, 12)12 - AIC:294.0295201971762\n"
     ]
    },
    {
     "name": "stderr",
     "output_type": "stream",
     "text": [
      "C:\\Users\\Byom Kesh Jha\\Anaconda3\\lib\\site-packages\\statsmodels\\base\\model.py:512: ConvergenceWarning: Maximum Likelihood optimization failed to converge. Check mle_retvals\n",
      "  \"Check mle_retvals\", ConvergenceWarning)\n"
     ]
    },
    {
     "name": "stdout",
     "output_type": "stream",
     "text": [
      "ARIMA(3, 1, 3)x(0, 3, 0, 12)12 - AIC:nan\n",
      "ARIMA(3, 1, 3)x(1, 0, 0, 12)12 - AIC:444.7258225462093\n",
      "ARIMA(3, 1, 3)x(1, 0, 1, 12)12 - AIC:2720.2336810773636\n",
      "ARIMA(3, 1, 3)x(1, 1, 0, 12)12 - AIC:277.4795985327393\n"
     ]
    },
    {
     "name": "stderr",
     "output_type": "stream",
     "text": [
      "C:\\Users\\Byom Kesh Jha\\Anaconda3\\lib\\site-packages\\statsmodels\\base\\model.py:512: ConvergenceWarning: Maximum Likelihood optimization failed to converge. Check mle_retvals\n",
      "  \"Check mle_retvals\", ConvergenceWarning)\n"
     ]
    },
    {
     "name": "stdout",
     "output_type": "stream",
     "text": [
      "ARIMA(3, 1, 3)x(1, 2, 0, 12)12 - AIC:112.53440226632753\n",
      "ARIMA(3, 1, 3)x(2, 0, 0, 12)12 - AIC:277.51513877823004\n",
      "ARIMA(3, 1, 3)x(2, 0, 1, 12)12 - AIC:780.0749317392464\n"
     ]
    },
    {
     "name": "stderr",
     "output_type": "stream",
     "text": [
      "C:\\Users\\Byom Kesh Jha\\Anaconda3\\lib\\site-packages\\statsmodels\\base\\model.py:512: ConvergenceWarning: Maximum Likelihood optimization failed to converge. Check mle_retvals\n",
      "  \"Check mle_retvals\", ConvergenceWarning)\n"
     ]
    },
    {
     "name": "stdout",
     "output_type": "stream",
     "text": [
      "ARIMA(3, 1, 3)x(2, 1, 0, 12)12 - AIC:118.73499390047975\n"
     ]
    },
    {
     "name": "stderr",
     "output_type": "stream",
     "text": [
      "C:\\Users\\Byom Kesh Jha\\Anaconda3\\lib\\site-packages\\statsmodels\\base\\model.py:512: ConvergenceWarning: Maximum Likelihood optimization failed to converge. Check mle_retvals\n",
      "  \"Check mle_retvals\", ConvergenceWarning)\n"
     ]
    },
    {
     "name": "stdout",
     "output_type": "stream",
     "text": [
      "ARIMA(3, 1, 3)x(3, 0, 0, 12)12 - AIC:115.12785840825116\n"
     ]
    },
    {
     "name": "stderr",
     "output_type": "stream",
     "text": [
      "C:\\Users\\Byom Kesh Jha\\Anaconda3\\lib\\site-packages\\statsmodels\\base\\model.py:512: ConvergenceWarning: Maximum Likelihood optimization failed to converge. Check mle_retvals\n",
      "  \"Check mle_retvals\", ConvergenceWarning)\n"
     ]
    },
    {
     "name": "stdout",
     "output_type": "stream",
     "text": [
      "ARIMA(3, 1, 3)x(3, 0, 1, 12)12 - AIC:316.2689686108451\n"
     ]
    },
    {
     "name": "stderr",
     "output_type": "stream",
     "text": [
      "C:\\Users\\Byom Kesh Jha\\Anaconda3\\lib\\site-packages\\statsmodels\\base\\model.py:512: ConvergenceWarning: Maximum Likelihood optimization failed to converge. Check mle_retvals\n",
      "  \"Check mle_retvals\", ConvergenceWarning)\n"
     ]
    },
    {
     "name": "stdout",
     "output_type": "stream",
     "text": [
      "ARIMA(3, 1, 4)x(0, 0, 0, 12)12 - AIC:605.8429568531558\n"
     ]
    },
    {
     "name": "stderr",
     "output_type": "stream",
     "text": [
      "C:\\Users\\Byom Kesh Jha\\Anaconda3\\lib\\site-packages\\statsmodels\\base\\model.py:512: ConvergenceWarning: Maximum Likelihood optimization failed to converge. Check mle_retvals\n",
      "  \"Check mle_retvals\", ConvergenceWarning)\n"
     ]
    },
    {
     "name": "stdout",
     "output_type": "stream",
     "text": [
      "ARIMA(3, 1, 4)x(0, 0, 1, 12)12 - AIC:2359.378513642439\n",
      "ARIMA(3, 1, 4)x(0, 1, 0, 12)12 - AIC:422.32110678191447\n"
     ]
    },
    {
     "name": "stderr",
     "output_type": "stream",
     "text": [
      "C:\\Users\\Byom Kesh Jha\\Anaconda3\\lib\\site-packages\\statsmodels\\base\\model.py:512: ConvergenceWarning: Maximum Likelihood optimization failed to converge. Check mle_retvals\n",
      "  \"Check mle_retvals\", ConvergenceWarning)\n"
     ]
    },
    {
     "name": "stdout",
     "output_type": "stream",
     "text": [
      "ARIMA(3, 1, 4)x(0, 2, 0, 12)12 - AIC:263.5192249630409\n"
     ]
    },
    {
     "name": "stderr",
     "output_type": "stream",
     "text": [
      "C:\\Users\\Byom Kesh Jha\\Anaconda3\\lib\\site-packages\\statsmodels\\base\\model.py:512: ConvergenceWarning: Maximum Likelihood optimization failed to converge. Check mle_retvals\n",
      "  \"Check mle_retvals\", ConvergenceWarning)\n"
     ]
    },
    {
     "name": "stdout",
     "output_type": "stream",
     "text": [
      "ARIMA(3, 1, 4)x(1, 0, 0, 12)12 - AIC:446.9017402428362\n",
      "ARIMA(3, 1, 4)x(1, 0, 1, 12)12 - AIC:2344.565864325425\n"
     ]
    },
    {
     "name": "stderr",
     "output_type": "stream",
     "text": [
      "C:\\Users\\Byom Kesh Jha\\Anaconda3\\lib\\site-packages\\statsmodels\\base\\model.py:512: ConvergenceWarning: Maximum Likelihood optimization failed to converge. Check mle_retvals\n",
      "  \"Check mle_retvals\", ConvergenceWarning)\n"
     ]
    },
    {
     "name": "stdout",
     "output_type": "stream",
     "text": [
      "ARIMA(3, 1, 4)x(1, 1, 0, 12)12 - AIC:278.46360685146703\n"
     ]
    },
    {
     "name": "stderr",
     "output_type": "stream",
     "text": [
      "C:\\Users\\Byom Kesh Jha\\Anaconda3\\lib\\site-packages\\statsmodels\\base\\model.py:512: ConvergenceWarning: Maximum Likelihood optimization failed to converge. Check mle_retvals\n",
      "  \"Check mle_retvals\", ConvergenceWarning)\n"
     ]
    },
    {
     "name": "stdout",
     "output_type": "stream",
     "text": [
      "ARIMA(3, 1, 4)x(1, 2, 0, 12)12 - AIC:118.34947817273616\n"
     ]
    },
    {
     "name": "stderr",
     "output_type": "stream",
     "text": [
      "C:\\Users\\Byom Kesh Jha\\Anaconda3\\lib\\site-packages\\statsmodels\\base\\model.py:512: ConvergenceWarning: Maximum Likelihood optimization failed to converge. Check mle_retvals\n",
      "  \"Check mle_retvals\", ConvergenceWarning)\n"
     ]
    },
    {
     "name": "stdout",
     "output_type": "stream",
     "text": [
      "ARIMA(3, 1, 4)x(2, 0, 0, 12)12 - AIC:279.24966850731147\n",
      "ARIMA(3, 1, 4)x(2, 0, 1, 12)12 - AIC:1573.260564577755\n"
     ]
    },
    {
     "name": "stderr",
     "output_type": "stream",
     "text": [
      "C:\\Users\\Byom Kesh Jha\\Anaconda3\\lib\\site-packages\\statsmodels\\base\\model.py:512: ConvergenceWarning: Maximum Likelihood optimization failed to converge. Check mle_retvals\n",
      "  \"Check mle_retvals\", ConvergenceWarning)\n"
     ]
    },
    {
     "name": "stdout",
     "output_type": "stream",
     "text": [
      "ARIMA(3, 1, 4)x(2, 1, 0, 12)12 - AIC:120.75300378588238\n"
     ]
    },
    {
     "name": "stderr",
     "output_type": "stream",
     "text": [
      "C:\\Users\\Byom Kesh Jha\\Anaconda3\\lib\\site-packages\\statsmodels\\base\\model.py:512: ConvergenceWarning: Maximum Likelihood optimization failed to converge. Check mle_retvals\n",
      "  \"Check mle_retvals\", ConvergenceWarning)\n"
     ]
    },
    {
     "name": "stdout",
     "output_type": "stream",
     "text": [
      "ARIMA(3, 1, 4)x(3, 0, 0, 12)12 - AIC:124.30383488954742\n"
     ]
    },
    {
     "name": "stderr",
     "output_type": "stream",
     "text": [
      "C:\\Users\\Byom Kesh Jha\\Anaconda3\\lib\\site-packages\\statsmodels\\base\\model.py:512: ConvergenceWarning: Maximum Likelihood optimization failed to converge. Check mle_retvals\n",
      "  \"Check mle_retvals\", ConvergenceWarning)\n"
     ]
    },
    {
     "name": "stdout",
     "output_type": "stream",
     "text": [
      "ARIMA(3, 1, 4)x(3, 0, 1, 12)12 - AIC:nan\n",
      "ARIMA(3, 2, 0)x(0, 0, 0, 12)12 - AIC:640.5696567447214\n",
      "ARIMA(3, 2, 0)x(0, 0, 1, 12)12 - AIC:1798.7297977907979\n",
      "ARIMA(3, 2, 0)x(0, 1, 0, 12)12 - AIC:450.0531537584567\n",
      "ARIMA(3, 2, 0)x(0, 2, 0, 12)12 - AIC:297.6653022354135\n",
      "ARIMA(3, 2, 0)x(0, 3, 0, 12)12 - AIC:117.62867287400545\n",
      "ARIMA(3, 2, 0)x(1, 0, 0, 12)12 - AIC:448.5029985003778\n",
      "ARIMA(3, 2, 0)x(1, 0, 1, 12)12 - AIC:1325.2676908276082\n",
      "ARIMA(3, 2, 0)x(1, 1, 0, 12)12 - AIC:267.43464326123024\n",
      "ARIMA(3, 2, 0)x(1, 2, 0, 12)12 - AIC:105.27721432140221\n",
      "ARIMA(3, 2, 0)x(2, 0, 0, 12)12 - AIC:268.9479416275224\n"
     ]
    },
    {
     "name": "stderr",
     "output_type": "stream",
     "text": [
      "C:\\Users\\Byom Kesh Jha\\Anaconda3\\lib\\site-packages\\statsmodels\\base\\model.py:512: ConvergenceWarning: Maximum Likelihood optimization failed to converge. Check mle_retvals\n",
      "  \"Check mle_retvals\", ConvergenceWarning)\n"
     ]
    },
    {
     "name": "stdout",
     "output_type": "stream",
     "text": [
      "ARIMA(3, 2, 0)x(2, 0, 1, 12)12 - AIC:357.71386444303346\n",
      "ARIMA(3, 2, 0)x(2, 1, 0, 12)12 - AIC:105.07284608407399\n"
     ]
    },
    {
     "name": "stderr",
     "output_type": "stream",
     "text": [
      "C:\\Users\\Byom Kesh Jha\\Anaconda3\\lib\\site-packages\\statsmodels\\base\\model.py:512: ConvergenceWarning: Maximum Likelihood optimization failed to converge. Check mle_retvals\n",
      "  \"Check mle_retvals\", ConvergenceWarning)\n"
     ]
    },
    {
     "name": "stdout",
     "output_type": "stream",
     "text": [
      "ARIMA(3, 2, 0)x(3, 0, 0, 12)12 - AIC:99.10184663765729\n"
     ]
    },
    {
     "name": "stderr",
     "output_type": "stream",
     "text": [
      "C:\\Users\\Byom Kesh Jha\\Anaconda3\\lib\\site-packages\\statsmodels\\base\\model.py:512: ConvergenceWarning: Maximum Likelihood optimization failed to converge. Check mle_retvals\n",
      "  \"Check mle_retvals\", ConvergenceWarning)\n"
     ]
    },
    {
     "name": "stdout",
     "output_type": "stream",
     "text": [
      "ARIMA(3, 2, 0)x(3, 0, 1, 12)12 - AIC:104.2026204467036\n",
      "ARIMA(3, 2, 1)x(0, 0, 0, 12)12 - AIC:631.2871815931152\n"
     ]
    },
    {
     "name": "stderr",
     "output_type": "stream",
     "text": [
      "C:\\Users\\Byom Kesh Jha\\Anaconda3\\lib\\site-packages\\statsmodels\\base\\model.py:512: ConvergenceWarning: Maximum Likelihood optimization failed to converge. Check mle_retvals\n",
      "  \"Check mle_retvals\", ConvergenceWarning)\n"
     ]
    },
    {
     "name": "stdout",
     "output_type": "stream",
     "text": [
      "ARIMA(3, 2, 1)x(0, 0, 1, 12)12 - AIC:2509.003421072047\n",
      "ARIMA(3, 2, 1)x(0, 1, 0, 12)12 - AIC:444.7388986526738\n",
      "ARIMA(3, 2, 1)x(0, 2, 0, 12)12 - AIC:295.48375718734866\n",
      "ARIMA(3, 2, 1)x(0, 3, 0, 12)12 - AIC:117.65491395690866\n",
      "ARIMA(3, 2, 1)x(1, 0, 0, 12)12 - AIC:442.7155747005868\n",
      "ARIMA(3, 2, 1)x(1, 0, 1, 12)12 - AIC:3040.5557862416877\n",
      "ARIMA(3, 2, 1)x(1, 1, 0, 12)12 - AIC:268.0294390064004\n",
      "ARIMA(3, 2, 1)x(1, 2, 0, 12)12 - AIC:107.25928301233235\n",
      "ARIMA(3, 2, 1)x(2, 0, 0, 12)12 - AIC:268.3344787519591\n"
     ]
    },
    {
     "name": "stderr",
     "output_type": "stream",
     "text": [
      "C:\\Users\\Byom Kesh Jha\\Anaconda3\\lib\\site-packages\\statsmodels\\base\\model.py:512: ConvergenceWarning: Maximum Likelihood optimization failed to converge. Check mle_retvals\n",
      "  \"Check mle_retvals\", ConvergenceWarning)\n"
     ]
    },
    {
     "name": "stdout",
     "output_type": "stream",
     "text": [
      "ARIMA(3, 2, 1)x(2, 0, 1, 12)12 - AIC:653.0149457505745\n"
     ]
    },
    {
     "name": "stderr",
     "output_type": "stream",
     "text": [
      "C:\\Users\\Byom Kesh Jha\\Anaconda3\\lib\\site-packages\\statsmodels\\base\\model.py:512: ConvergenceWarning: Maximum Likelihood optimization failed to converge. Check mle_retvals\n",
      "  \"Check mle_retvals\", ConvergenceWarning)\n"
     ]
    },
    {
     "name": "stdout",
     "output_type": "stream",
     "text": [
      "ARIMA(3, 2, 1)x(2, 1, 0, 12)12 - AIC:104.25400221956704\n"
     ]
    },
    {
     "name": "stderr",
     "output_type": "stream",
     "text": [
      "C:\\Users\\Byom Kesh Jha\\Anaconda3\\lib\\site-packages\\statsmodels\\base\\model.py:512: ConvergenceWarning: Maximum Likelihood optimization failed to converge. Check mle_retvals\n",
      "  \"Check mle_retvals\", ConvergenceWarning)\n"
     ]
    },
    {
     "name": "stdout",
     "output_type": "stream",
     "text": [
      "ARIMA(3, 2, 1)x(3, 0, 0, 12)12 - AIC:108.73227423166261\n"
     ]
    },
    {
     "name": "stderr",
     "output_type": "stream",
     "text": [
      "C:\\Users\\Byom Kesh Jha\\Anaconda3\\lib\\site-packages\\statsmodels\\base\\model.py:512: ConvergenceWarning: Maximum Likelihood optimization failed to converge. Check mle_retvals\n",
      "  \"Check mle_retvals\", ConvergenceWarning)\n"
     ]
    },
    {
     "name": "stdout",
     "output_type": "stream",
     "text": [
      "ARIMA(3, 2, 1)x(3, 0, 1, 12)12 - AIC:114.08190224277193\n"
     ]
    },
    {
     "name": "stderr",
     "output_type": "stream",
     "text": [
      "C:\\Users\\Byom Kesh Jha\\Anaconda3\\lib\\site-packages\\statsmodels\\base\\model.py:512: ConvergenceWarning: Maximum Likelihood optimization failed to converge. Check mle_retvals\n",
      "  \"Check mle_retvals\", ConvergenceWarning)\n",
      "C:\\Users\\Byom Kesh Jha\\Anaconda3\\lib\\site-packages\\statsmodels\\base\\model.py:512: ConvergenceWarning: Maximum Likelihood optimization failed to converge. Check mle_retvals\n",
      "  \"Check mle_retvals\", ConvergenceWarning)\n"
     ]
    },
    {
     "name": "stdout",
     "output_type": "stream",
     "text": [
      "ARIMA(3, 2, 2)x(0, 0, 0, 12)12 - AIC:632.3858052766274\n",
      "ARIMA(3, 2, 2)x(0, 0, 1, 12)12 - AIC:nan\n"
     ]
    },
    {
     "name": "stderr",
     "output_type": "stream",
     "text": [
      "C:\\Users\\Byom Kesh Jha\\Anaconda3\\lib\\site-packages\\statsmodels\\base\\model.py:512: ConvergenceWarning: Maximum Likelihood optimization failed to converge. Check mle_retvals\n",
      "  \"Check mle_retvals\", ConvergenceWarning)\n"
     ]
    },
    {
     "name": "stdout",
     "output_type": "stream",
     "text": [
      "ARIMA(3, 2, 2)x(0, 1, 0, 12)12 - AIC:446.4145191926523\n",
      "ARIMA(3, 2, 2)x(0, 2, 0, 12)12 - AIC:299.07293523113896\n"
     ]
    },
    {
     "name": "stderr",
     "output_type": "stream",
     "text": [
      "C:\\Users\\Byom Kesh Jha\\Anaconda3\\lib\\site-packages\\statsmodels\\base\\model.py:512: ConvergenceWarning: Maximum Likelihood optimization failed to converge. Check mle_retvals\n",
      "  \"Check mle_retvals\", ConvergenceWarning)\n"
     ]
    },
    {
     "name": "stdout",
     "output_type": "stream",
     "text": [
      "ARIMA(3, 2, 2)x(0, 3, 0, 12)12 - AIC:nan\n"
     ]
    },
    {
     "name": "stderr",
     "output_type": "stream",
     "text": [
      "C:\\Users\\Byom Kesh Jha\\Anaconda3\\lib\\site-packages\\statsmodels\\base\\model.py:512: ConvergenceWarning: Maximum Likelihood optimization failed to converge. Check mle_retvals\n",
      "  \"Check mle_retvals\", ConvergenceWarning)\n"
     ]
    },
    {
     "name": "stdout",
     "output_type": "stream",
     "text": [
      "ARIMA(3, 2, 2)x(1, 0, 0, 12)12 - AIC:445.4516772050678\n",
      "ARIMA(3, 2, 2)x(1, 0, 1, 12)12 - AIC:2493.206545823005\n"
     ]
    },
    {
     "name": "stderr",
     "output_type": "stream",
     "text": [
      "C:\\Users\\Byom Kesh Jha\\Anaconda3\\lib\\site-packages\\statsmodels\\base\\model.py:512: ConvergenceWarning: Maximum Likelihood optimization failed to converge. Check mle_retvals\n",
      "  \"Check mle_retvals\", ConvergenceWarning)\n"
     ]
    },
    {
     "name": "stdout",
     "output_type": "stream",
     "text": [
      "ARIMA(3, 2, 2)x(1, 1, 0, 12)12 - AIC:269.58232451865064\n"
     ]
    },
    {
     "name": "stderr",
     "output_type": "stream",
     "text": [
      "C:\\Users\\Byom Kesh Jha\\Anaconda3\\lib\\site-packages\\statsmodels\\base\\model.py:512: ConvergenceWarning: Maximum Likelihood optimization failed to converge. Check mle_retvals\n",
      "  \"Check mle_retvals\", ConvergenceWarning)\n"
     ]
    },
    {
     "name": "stdout",
     "output_type": "stream",
     "text": [
      "ARIMA(3, 2, 2)x(1, 2, 0, 12)12 - AIC:101.96125678597775\n"
     ]
    },
    {
     "name": "stderr",
     "output_type": "stream",
     "text": [
      "C:\\Users\\Byom Kesh Jha\\Anaconda3\\lib\\site-packages\\statsmodels\\base\\model.py:512: ConvergenceWarning: Maximum Likelihood optimization failed to converge. Check mle_retvals\n",
      "  \"Check mle_retvals\", ConvergenceWarning)\n"
     ]
    },
    {
     "name": "stdout",
     "output_type": "stream",
     "text": [
      "ARIMA(3, 2, 2)x(2, 0, 0, 12)12 - AIC:267.32241283079213\n"
     ]
    },
    {
     "name": "stderr",
     "output_type": "stream",
     "text": [
      "C:\\Users\\Byom Kesh Jha\\Anaconda3\\lib\\site-packages\\statsmodels\\base\\model.py:512: ConvergenceWarning: Maximum Likelihood optimization failed to converge. Check mle_retvals\n",
      "  \"Check mle_retvals\", ConvergenceWarning)\n"
     ]
    },
    {
     "name": "stdout",
     "output_type": "stream",
     "text": [
      "ARIMA(3, 2, 2)x(2, 0, 1, 12)12 - AIC:nan\n"
     ]
    },
    {
     "name": "stderr",
     "output_type": "stream",
     "text": [
      "C:\\Users\\Byom Kesh Jha\\Anaconda3\\lib\\site-packages\\statsmodels\\base\\model.py:512: ConvergenceWarning: Maximum Likelihood optimization failed to converge. Check mle_retvals\n",
      "  \"Check mle_retvals\", ConvergenceWarning)\n"
     ]
    },
    {
     "name": "stdout",
     "output_type": "stream",
     "text": [
      "ARIMA(3, 2, 2)x(2, 1, 0, 12)12 - AIC:102.49191741863505\n"
     ]
    },
    {
     "name": "stderr",
     "output_type": "stream",
     "text": [
      "C:\\Users\\Byom Kesh Jha\\Anaconda3\\lib\\site-packages\\statsmodels\\base\\model.py:512: ConvergenceWarning: Maximum Likelihood optimization failed to converge. Check mle_retvals\n",
      "  \"Check mle_retvals\", ConvergenceWarning)\n"
     ]
    },
    {
     "name": "stdout",
     "output_type": "stream",
     "text": [
      "ARIMA(3, 2, 2)x(3, 0, 0, 12)12 - AIC:109.76100410648934\n"
     ]
    },
    {
     "name": "stderr",
     "output_type": "stream",
     "text": [
      "C:\\Users\\Byom Kesh Jha\\Anaconda3\\lib\\site-packages\\statsmodels\\base\\model.py:512: ConvergenceWarning: Maximum Likelihood optimization failed to converge. Check mle_retvals\n",
      "  \"Check mle_retvals\", ConvergenceWarning)\n"
     ]
    },
    {
     "name": "stdout",
     "output_type": "stream",
     "text": [
      "ARIMA(3, 2, 2)x(3, 0, 1, 12)12 - AIC:111.30233129243854\n",
      "ARIMA(3, 2, 3)x(0, 0, 0, 12)12 - AIC:611.960426649816\n",
      "ARIMA(3, 2, 3)x(0, 0, 1, 12)12 - AIC:5634.987060278651\n"
     ]
    },
    {
     "name": "stderr",
     "output_type": "stream",
     "text": [
      "C:\\Users\\Byom Kesh Jha\\Anaconda3\\lib\\site-packages\\statsmodels\\base\\model.py:512: ConvergenceWarning: Maximum Likelihood optimization failed to converge. Check mle_retvals\n",
      "  \"Check mle_retvals\", ConvergenceWarning)\n"
     ]
    },
    {
     "name": "stdout",
     "output_type": "stream",
     "text": [
      "ARIMA(3, 2, 3)x(0, 1, 0, 12)12 - AIC:431.34326974894134\n"
     ]
    },
    {
     "name": "stderr",
     "output_type": "stream",
     "text": [
      "C:\\Users\\Byom Kesh Jha\\Anaconda3\\lib\\site-packages\\statsmodels\\base\\model.py:512: ConvergenceWarning: Maximum Likelihood optimization failed to converge. Check mle_retvals\n",
      "  \"Check mle_retvals\", ConvergenceWarning)\n"
     ]
    },
    {
     "name": "stdout",
     "output_type": "stream",
     "text": [
      "ARIMA(3, 2, 3)x(0, 2, 0, 12)12 - AIC:283.6401569078221\n"
     ]
    },
    {
     "name": "stderr",
     "output_type": "stream",
     "text": [
      "C:\\Users\\Byom Kesh Jha\\Anaconda3\\lib\\site-packages\\statsmodels\\base\\model.py:512: ConvergenceWarning: Maximum Likelihood optimization failed to converge. Check mle_retvals\n",
      "  \"Check mle_retvals\", ConvergenceWarning)\n"
     ]
    },
    {
     "name": "stdout",
     "output_type": "stream",
     "text": [
      "ARIMA(3, 2, 3)x(0, 3, 0, 12)12 - AIC:nan\n"
     ]
    },
    {
     "name": "stderr",
     "output_type": "stream",
     "text": [
      "C:\\Users\\Byom Kesh Jha\\Anaconda3\\lib\\site-packages\\statsmodels\\base\\model.py:512: ConvergenceWarning: Maximum Likelihood optimization failed to converge. Check mle_retvals\n",
      "  \"Check mle_retvals\", ConvergenceWarning)\n"
     ]
    },
    {
     "name": "stdout",
     "output_type": "stream",
     "text": [
      "ARIMA(3, 2, 3)x(1, 0, 0, 12)12 - AIC:441.31484151430163\n",
      "ARIMA(3, 2, 3)x(1, 0, 1, 12)12 - AIC:2690.7420144902394\n",
      "ARIMA(3, 2, 3)x(1, 1, 0, 12)12 - AIC:262.2955683938877\n"
     ]
    },
    {
     "name": "stderr",
     "output_type": "stream",
     "text": [
      "C:\\Users\\Byom Kesh Jha\\Anaconda3\\lib\\site-packages\\statsmodels\\base\\model.py:512: ConvergenceWarning: Maximum Likelihood optimization failed to converge. Check mle_retvals\n",
      "  \"Check mle_retvals\", ConvergenceWarning)\n"
     ]
    },
    {
     "name": "stdout",
     "output_type": "stream",
     "text": [
      "ARIMA(3, 2, 3)x(1, 2, 0, 12)12 - AIC:100.887911214835\n"
     ]
    },
    {
     "name": "stderr",
     "output_type": "stream",
     "text": [
      "C:\\Users\\Byom Kesh Jha\\Anaconda3\\lib\\site-packages\\statsmodels\\base\\model.py:512: ConvergenceWarning: Maximum Likelihood optimization failed to converge. Check mle_retvals\n",
      "  \"Check mle_retvals\", ConvergenceWarning)\n"
     ]
    },
    {
     "name": "stdout",
     "output_type": "stream",
     "text": [
      "ARIMA(3, 2, 3)x(2, 0, 0, 12)12 - AIC:271.1466203454878\n"
     ]
    },
    {
     "name": "stderr",
     "output_type": "stream",
     "text": [
      "C:\\Users\\Byom Kesh Jha\\Anaconda3\\lib\\site-packages\\statsmodels\\base\\model.py:512: ConvergenceWarning: Maximum Likelihood optimization failed to converge. Check mle_retvals\n",
      "  \"Check mle_retvals\", ConvergenceWarning)\n"
     ]
    },
    {
     "name": "stdout",
     "output_type": "stream",
     "text": [
      "ARIMA(3, 2, 3)x(2, 0, 1, 12)12 - AIC:799.3033551631329\n"
     ]
    },
    {
     "name": "stderr",
     "output_type": "stream",
     "text": [
      "C:\\Users\\Byom Kesh Jha\\Anaconda3\\lib\\site-packages\\statsmodels\\base\\model.py:512: ConvergenceWarning: Maximum Likelihood optimization failed to converge. Check mle_retvals\n",
      "  \"Check mle_retvals\", ConvergenceWarning)\n"
     ]
    },
    {
     "name": "stdout",
     "output_type": "stream",
     "text": [
      "ARIMA(3, 2, 3)x(2, 1, 0, 12)12 - AIC:107.28302136487584\n"
     ]
    },
    {
     "name": "stderr",
     "output_type": "stream",
     "text": [
      "C:\\Users\\Byom Kesh Jha\\Anaconda3\\lib\\site-packages\\statsmodels\\base\\model.py:512: ConvergenceWarning: Maximum Likelihood optimization failed to converge. Check mle_retvals\n",
      "  \"Check mle_retvals\", ConvergenceWarning)\n"
     ]
    },
    {
     "name": "stdout",
     "output_type": "stream",
     "text": [
      "ARIMA(3, 2, 3)x(3, 0, 0, 12)12 - AIC:103.57768399867412\n"
     ]
    },
    {
     "name": "stderr",
     "output_type": "stream",
     "text": [
      "C:\\Users\\Byom Kesh Jha\\Anaconda3\\lib\\site-packages\\statsmodels\\base\\model.py:512: ConvergenceWarning: Maximum Likelihood optimization failed to converge. Check mle_retvals\n",
      "  \"Check mle_retvals\", ConvergenceWarning)\n"
     ]
    },
    {
     "name": "stdout",
     "output_type": "stream",
     "text": [
      "ARIMA(3, 2, 3)x(3, 0, 1, 12)12 - AIC:116.71972872282619\n"
     ]
    },
    {
     "name": "stderr",
     "output_type": "stream",
     "text": [
      "C:\\Users\\Byom Kesh Jha\\Anaconda3\\lib\\site-packages\\statsmodels\\base\\model.py:512: ConvergenceWarning: Maximum Likelihood optimization failed to converge. Check mle_retvals\n",
      "  \"Check mle_retvals\", ConvergenceWarning)\n"
     ]
    },
    {
     "name": "stdout",
     "output_type": "stream",
     "text": [
      "ARIMA(3, 2, 4)x(0, 0, 0, 12)12 - AIC:600.7044587902699\n"
     ]
    },
    {
     "name": "stderr",
     "output_type": "stream",
     "text": [
      "C:\\Users\\Byom Kesh Jha\\Anaconda3\\lib\\site-packages\\statsmodels\\base\\model.py:512: ConvergenceWarning: Maximum Likelihood optimization failed to converge. Check mle_retvals\n",
      "  \"Check mle_retvals\", ConvergenceWarning)\n"
     ]
    },
    {
     "name": "stdout",
     "output_type": "stream",
     "text": [
      "ARIMA(3, 2, 4)x(0, 0, 1, 12)12 - AIC:2258.7021854594614\n",
      "ARIMA(3, 2, 4)x(0, 1, 0, 12)12 - AIC:418.2556766945777\n"
     ]
    },
    {
     "name": "stderr",
     "output_type": "stream",
     "text": [
      "C:\\Users\\Byom Kesh Jha\\Anaconda3\\lib\\site-packages\\statsmodels\\base\\model.py:512: ConvergenceWarning: Maximum Likelihood optimization failed to converge. Check mle_retvals\n",
      "  \"Check mle_retvals\", ConvergenceWarning)\n"
     ]
    },
    {
     "name": "stdout",
     "output_type": "stream",
     "text": [
      "ARIMA(3, 2, 4)x(0, 2, 0, 12)12 - AIC:257.13568394087554\n"
     ]
    },
    {
     "name": "stderr",
     "output_type": "stream",
     "text": [
      "C:\\Users\\Byom Kesh Jha\\Anaconda3\\lib\\site-packages\\statsmodels\\base\\model.py:512: ConvergenceWarning: Maximum Likelihood optimization failed to converge. Check mle_retvals\n",
      "  \"Check mle_retvals\", ConvergenceWarning)\n"
     ]
    },
    {
     "name": "stdout",
     "output_type": "stream",
     "text": [
      "ARIMA(3, 2, 4)x(1, 0, 0, 12)12 - AIC:442.8312545364887\n"
     ]
    },
    {
     "name": "stderr",
     "output_type": "stream",
     "text": [
      "C:\\Users\\Byom Kesh Jha\\Anaconda3\\lib\\site-packages\\statsmodels\\base\\model.py:512: ConvergenceWarning: Maximum Likelihood optimization failed to converge. Check mle_retvals\n",
      "  \"Check mle_retvals\", ConvergenceWarning)\n"
     ]
    },
    {
     "name": "stdout",
     "output_type": "stream",
     "text": [
      "ARIMA(3, 2, 4)x(1, 0, 1, 12)12 - AIC:2282.788136780361\n"
     ]
    },
    {
     "name": "stderr",
     "output_type": "stream",
     "text": [
      "C:\\Users\\Byom Kesh Jha\\Anaconda3\\lib\\site-packages\\statsmodels\\base\\model.py:512: ConvergenceWarning: Maximum Likelihood optimization failed to converge. Check mle_retvals\n",
      "  \"Check mle_retvals\", ConvergenceWarning)\n"
     ]
    },
    {
     "name": "stdout",
     "output_type": "stream",
     "text": [
      "ARIMA(3, 2, 4)x(1, 1, 0, 12)12 - AIC:269.4933971133379\n"
     ]
    },
    {
     "name": "stderr",
     "output_type": "stream",
     "text": [
      "C:\\Users\\Byom Kesh Jha\\Anaconda3\\lib\\site-packages\\statsmodels\\base\\model.py:512: ConvergenceWarning: Maximum Likelihood optimization failed to converge. Check mle_retvals\n",
      "  \"Check mle_retvals\", ConvergenceWarning)\n"
     ]
    },
    {
     "name": "stdout",
     "output_type": "stream",
     "text": [
      "ARIMA(3, 2, 4)x(1, 2, 0, 12)12 - AIC:100.95290038172558\n"
     ]
    },
    {
     "name": "stderr",
     "output_type": "stream",
     "text": [
      "C:\\Users\\Byom Kesh Jha\\Anaconda3\\lib\\site-packages\\statsmodels\\base\\model.py:512: ConvergenceWarning: Maximum Likelihood optimization failed to converge. Check mle_retvals\n",
      "  \"Check mle_retvals\", ConvergenceWarning)\n"
     ]
    },
    {
     "name": "stdout",
     "output_type": "stream",
     "text": [
      "ARIMA(3, 2, 4)x(2, 0, 0, 12)12 - AIC:269.88470521003103\n",
      "ARIMA(3, 2, 4)x(2, 0, 1, 12)12 - AIC:1070.6068242949852\n"
     ]
    },
    {
     "name": "stderr",
     "output_type": "stream",
     "text": [
      "C:\\Users\\Byom Kesh Jha\\Anaconda3\\lib\\site-packages\\statsmodels\\base\\model.py:512: ConvergenceWarning: Maximum Likelihood optimization failed to converge. Check mle_retvals\n",
      "  \"Check mle_retvals\", ConvergenceWarning)\n"
     ]
    },
    {
     "name": "stdout",
     "output_type": "stream",
     "text": [
      "ARIMA(3, 2, 4)x(2, 1, 0, 12)12 - AIC:107.77471684597434\n"
     ]
    },
    {
     "name": "stderr",
     "output_type": "stream",
     "text": [
      "C:\\Users\\Byom Kesh Jha\\Anaconda3\\lib\\site-packages\\statsmodels\\base\\model.py:512: ConvergenceWarning: Maximum Likelihood optimization failed to converge. Check mle_retvals\n",
      "  \"Check mle_retvals\", ConvergenceWarning)\n"
     ]
    },
    {
     "name": "stdout",
     "output_type": "stream",
     "text": [
      "ARIMA(3, 2, 4)x(3, 0, 0, 12)12 - AIC:112.60089117677606\n"
     ]
    },
    {
     "name": "stderr",
     "output_type": "stream",
     "text": [
      "C:\\Users\\Byom Kesh Jha\\Anaconda3\\lib\\site-packages\\statsmodels\\base\\model.py:512: ConvergenceWarning: Maximum Likelihood optimization failed to converge. Check mle_retvals\n",
      "  \"Check mle_retvals\", ConvergenceWarning)\n"
     ]
    },
    {
     "name": "stdout",
     "output_type": "stream",
     "text": [
      "ARIMA(3, 2, 4)x(3, 0, 1, 12)12 - AIC:114.64826866359385\n",
      "ARIMA(3, 3, 0)x(0, 0, 0, 12)12 - AIC:649.6312544383602\n"
     ]
    },
    {
     "name": "stderr",
     "output_type": "stream",
     "text": [
      "C:\\Users\\Byom Kesh Jha\\Anaconda3\\lib\\site-packages\\statsmodels\\base\\model.py:512: ConvergenceWarning: Maximum Likelihood optimization failed to converge. Check mle_retvals\n",
      "  \"Check mle_retvals\", ConvergenceWarning)\n"
     ]
    },
    {
     "name": "stdout",
     "output_type": "stream",
     "text": [
      "ARIMA(3, 3, 0)x(0, 0, 1, 12)12 - AIC:1148.838706718723\n",
      "ARIMA(3, 3, 0)x(0, 1, 0, 12)12 - AIC:448.70176979129167\n",
      "ARIMA(3, 3, 0)x(0, 2, 0, 12)12 - AIC:289.1746877517457\n",
      "ARIMA(3, 3, 0)x(0, 3, 0, 12)12 - AIC:102.6727731308342\n",
      "ARIMA(3, 3, 0)x(1, 0, 0, 12)12 - AIC:447.89210425470685\n"
     ]
    },
    {
     "name": "stderr",
     "output_type": "stream",
     "text": [
      "C:\\Users\\Byom Kesh Jha\\Anaconda3\\lib\\site-packages\\statsmodels\\base\\model.py:512: ConvergenceWarning: Maximum Likelihood optimization failed to converge. Check mle_retvals\n",
      "  \"Check mle_retvals\", ConvergenceWarning)\n"
     ]
    },
    {
     "name": "stdout",
     "output_type": "stream",
     "text": [
      "ARIMA(3, 3, 0)x(1, 0, 1, 12)12 - AIC:1338.7713029653248\n",
      "ARIMA(3, 3, 0)x(1, 1, 0, 12)12 - AIC:263.65265635804775\n",
      "ARIMA(3, 3, 0)x(1, 2, 0, 12)12 - AIC:92.16060900873308\n",
      "ARIMA(3, 3, 0)x(2, 0, 0, 12)12 - AIC:265.02604058148563\n"
     ]
    },
    {
     "name": "stderr",
     "output_type": "stream",
     "text": [
      "C:\\Users\\Byom Kesh Jha\\Anaconda3\\lib\\site-packages\\statsmodels\\base\\model.py:512: ConvergenceWarning: Maximum Likelihood optimization failed to converge. Check mle_retvals\n",
      "  \"Check mle_retvals\", ConvergenceWarning)\n"
     ]
    },
    {
     "name": "stdout",
     "output_type": "stream",
     "text": [
      "ARIMA(3, 3, 0)x(2, 0, 1, 12)12 - AIC:692.9860617568036\n"
     ]
    },
    {
     "name": "stderr",
     "output_type": "stream",
     "text": [
      "C:\\Users\\Byom Kesh Jha\\Anaconda3\\lib\\site-packages\\statsmodels\\base\\model.py:512: ConvergenceWarning: Maximum Likelihood optimization failed to converge. Check mle_retvals\n",
      "  \"Check mle_retvals\", ConvergenceWarning)\n"
     ]
    },
    {
     "name": "stdout",
     "output_type": "stream",
     "text": [
      "ARIMA(3, 3, 0)x(2, 1, 0, 12)12 - AIC:83.6977644696994\n",
      "ARIMA(3, 3, 0)x(3, 0, 0, 12)12 - AIC:99.65677975890793\n"
     ]
    },
    {
     "name": "stderr",
     "output_type": "stream",
     "text": [
      "C:\\Users\\Byom Kesh Jha\\Anaconda3\\lib\\site-packages\\statsmodels\\base\\model.py:512: ConvergenceWarning: Maximum Likelihood optimization failed to converge. Check mle_retvals\n",
      "  \"Check mle_retvals\", ConvergenceWarning)\n"
     ]
    },
    {
     "name": "stdout",
     "output_type": "stream",
     "text": [
      "ARIMA(3, 3, 0)x(3, 0, 1, 12)12 - AIC:231.49227913988173\n",
      "ARIMA(3, 3, 1)x(0, 0, 0, 12)12 - AIC:632.1467780585339\n",
      "ARIMA(3, 3, 1)x(0, 0, 1, 12)12 - AIC:13023.612257550332\n",
      "ARIMA(3, 3, 1)x(0, 1, 0, 12)12 - AIC:440.09403643038445\n",
      "ARIMA(3, 3, 1)x(0, 2, 0, 12)12 - AIC:284.5592615816615\n",
      "ARIMA(3, 3, 1)x(0, 3, 0, 12)12 - AIC:103.89587808707401\n",
      "ARIMA(3, 3, 1)x(1, 0, 0, 12)12 - AIC:438.8162655489845\n"
     ]
    },
    {
     "name": "stderr",
     "output_type": "stream",
     "text": [
      "C:\\Users\\Byom Kesh Jha\\Anaconda3\\lib\\site-packages\\statsmodels\\base\\model.py:512: ConvergenceWarning: Maximum Likelihood optimization failed to converge. Check mle_retvals\n",
      "  \"Check mle_retvals\", ConvergenceWarning)\n"
     ]
    },
    {
     "name": "stdout",
     "output_type": "stream",
     "text": [
      "ARIMA(3, 3, 1)x(1, 0, 1, 12)12 - AIC:nan\n",
      "ARIMA(3, 3, 1)x(1, 1, 0, 12)12 - AIC:260.62035817639725\n",
      "ARIMA(3, 3, 1)x(1, 2, 0, 12)12 - AIC:93.15858822588429\n",
      "ARIMA(3, 3, 1)x(2, 0, 0, 12)12 - AIC:264.86577592263257\n"
     ]
    },
    {
     "name": "stderr",
     "output_type": "stream",
     "text": [
      "C:\\Users\\Byom Kesh Jha\\Anaconda3\\lib\\site-packages\\statsmodels\\base\\model.py:512: ConvergenceWarning: Maximum Likelihood optimization failed to converge. Check mle_retvals\n",
      "  \"Check mle_retvals\", ConvergenceWarning)\n"
     ]
    },
    {
     "name": "stdout",
     "output_type": "stream",
     "text": [
      "ARIMA(3, 3, 1)x(2, 0, 1, 12)12 - AIC:692.5088440905084\n"
     ]
    },
    {
     "name": "stderr",
     "output_type": "stream",
     "text": [
      "C:\\Users\\Byom Kesh Jha\\Anaconda3\\lib\\site-packages\\statsmodels\\base\\model.py:512: ConvergenceWarning: Maximum Likelihood optimization failed to converge. Check mle_retvals\n",
      "  \"Check mle_retvals\", ConvergenceWarning)\n"
     ]
    },
    {
     "name": "stdout",
     "output_type": "stream",
     "text": [
      "ARIMA(3, 3, 1)x(2, 1, 0, 12)12 - AIC:85.26646206340834\n"
     ]
    },
    {
     "name": "stderr",
     "output_type": "stream",
     "text": [
      "C:\\Users\\Byom Kesh Jha\\Anaconda3\\lib\\site-packages\\statsmodels\\base\\model.py:512: ConvergenceWarning: Maximum Likelihood optimization failed to converge. Check mle_retvals\n",
      "  \"Check mle_retvals\", ConvergenceWarning)\n"
     ]
    },
    {
     "name": "stdout",
     "output_type": "stream",
     "text": [
      "ARIMA(3, 3, 1)x(3, 0, 0, 12)12 - AIC:101.79965074139042\n"
     ]
    },
    {
     "name": "stderr",
     "output_type": "stream",
     "text": [
      "C:\\Users\\Byom Kesh Jha\\Anaconda3\\lib\\site-packages\\statsmodels\\base\\model.py:512: ConvergenceWarning: Maximum Likelihood optimization failed to converge. Check mle_retvals\n",
      "  \"Check mle_retvals\", ConvergenceWarning)\n"
     ]
    },
    {
     "name": "stdout",
     "output_type": "stream",
     "text": [
      "ARIMA(3, 3, 1)x(3, 0, 1, 12)12 - AIC:242.23848453150256\n",
      "ARIMA(3, 3, 2)x(0, 0, 0, 12)12 - AIC:636.8570213151434\n",
      "ARIMA(3, 3, 2)x(0, 0, 1, 12)12 - AIC:1055385.141153131\n",
      "ARIMA(3, 3, 2)x(0, 1, 0, 12)12 - AIC:442.0886782270529\n",
      "ARIMA(3, 3, 2)x(0, 2, 0, 12)12 - AIC:286.1715740834773\n"
     ]
    },
    {
     "name": "stderr",
     "output_type": "stream",
     "text": [
      "C:\\Users\\Byom Kesh Jha\\Anaconda3\\lib\\site-packages\\statsmodels\\base\\model.py:512: ConvergenceWarning: Maximum Likelihood optimization failed to converge. Check mle_retvals\n",
      "  \"Check mle_retvals\", ConvergenceWarning)\n"
     ]
    },
    {
     "name": "stdout",
     "output_type": "stream",
     "text": [
      "ARIMA(3, 3, 2)x(0, 3, 0, 12)12 - AIC:nan\n"
     ]
    },
    {
     "name": "stderr",
     "output_type": "stream",
     "text": [
      "C:\\Users\\Byom Kesh Jha\\Anaconda3\\lib\\site-packages\\statsmodels\\base\\model.py:512: ConvergenceWarning: Maximum Likelihood optimization failed to converge. Check mle_retvals\n",
      "  \"Check mle_retvals\", ConvergenceWarning)\n"
     ]
    },
    {
     "name": "stdout",
     "output_type": "stream",
     "text": [
      "ARIMA(3, 3, 2)x(1, 0, 0, 12)12 - AIC:435.84850724678876\n",
      "ARIMA(3, 3, 2)x(1, 0, 1, 12)12 - AIC:2307.7649082262014\n",
      "ARIMA(3, 3, 2)x(1, 1, 0, 12)12 - AIC:261.6706347036471\n"
     ]
    },
    {
     "name": "stderr",
     "output_type": "stream",
     "text": [
      "C:\\Users\\Byom Kesh Jha\\Anaconda3\\lib\\site-packages\\statsmodels\\base\\model.py:512: ConvergenceWarning: Maximum Likelihood optimization failed to converge. Check mle_retvals\n",
      "  \"Check mle_retvals\", ConvergenceWarning)\n"
     ]
    },
    {
     "name": "stdout",
     "output_type": "stream",
     "text": [
      "ARIMA(3, 3, 2)x(1, 2, 0, 12)12 - AIC:98.2769134538674\n"
     ]
    },
    {
     "name": "stderr",
     "output_type": "stream",
     "text": [
      "C:\\Users\\Byom Kesh Jha\\Anaconda3\\lib\\site-packages\\statsmodels\\base\\model.py:512: ConvergenceWarning: Maximum Likelihood optimization failed to converge. Check mle_retvals\n",
      "  \"Check mle_retvals\", ConvergenceWarning)\n"
     ]
    },
    {
     "name": "stdout",
     "output_type": "stream",
     "text": [
      "ARIMA(3, 3, 2)x(2, 0, 0, 12)12 - AIC:262.3654519356687\n"
     ]
    },
    {
     "name": "stderr",
     "output_type": "stream",
     "text": [
      "C:\\Users\\Byom Kesh Jha\\Anaconda3\\lib\\site-packages\\statsmodels\\base\\model.py:512: ConvergenceWarning: Maximum Likelihood optimization failed to converge. Check mle_retvals\n",
      "  \"Check mle_retvals\", ConvergenceWarning)\n"
     ]
    },
    {
     "name": "stdout",
     "output_type": "stream",
     "text": [
      "ARIMA(3, 3, 2)x(2, 0, 1, 12)12 - AIC:667.5254923852332\n"
     ]
    },
    {
     "name": "stderr",
     "output_type": "stream",
     "text": [
      "C:\\Users\\Byom Kesh Jha\\Anaconda3\\lib\\site-packages\\statsmodels\\base\\model.py:512: ConvergenceWarning: Maximum Likelihood optimization failed to converge. Check mle_retvals\n",
      "  \"Check mle_retvals\", ConvergenceWarning)\n"
     ]
    },
    {
     "name": "stdout",
     "output_type": "stream",
     "text": [
      "ARIMA(3, 3, 2)x(2, 1, 0, 12)12 - AIC:97.54281991261544\n"
     ]
    },
    {
     "name": "stderr",
     "output_type": "stream",
     "text": [
      "C:\\Users\\Byom Kesh Jha\\Anaconda3\\lib\\site-packages\\statsmodels\\base\\model.py:512: ConvergenceWarning: Maximum Likelihood optimization failed to converge. Check mle_retvals\n",
      "  \"Check mle_retvals\", ConvergenceWarning)\n"
     ]
    },
    {
     "name": "stdout",
     "output_type": "stream",
     "text": [
      "ARIMA(3, 3, 2)x(3, 0, 0, 12)12 - AIC:102.4688444394834\n"
     ]
    },
    {
     "name": "stderr",
     "output_type": "stream",
     "text": [
      "C:\\Users\\Byom Kesh Jha\\Anaconda3\\lib\\site-packages\\statsmodels\\base\\model.py:512: ConvergenceWarning: Maximum Likelihood optimization failed to converge. Check mle_retvals\n",
      "  \"Check mle_retvals\", ConvergenceWarning)\n"
     ]
    },
    {
     "name": "stdout",
     "output_type": "stream",
     "text": [
      "ARIMA(3, 3, 2)x(3, 0, 1, 12)12 - AIC:246.13675482343453\n"
     ]
    },
    {
     "name": "stderr",
     "output_type": "stream",
     "text": [
      "C:\\Users\\Byom Kesh Jha\\Anaconda3\\lib\\site-packages\\statsmodels\\base\\model.py:512: ConvergenceWarning: Maximum Likelihood optimization failed to converge. Check mle_retvals\n",
      "  \"Check mle_retvals\", ConvergenceWarning)\n"
     ]
    },
    {
     "name": "stdout",
     "output_type": "stream",
     "text": [
      "ARIMA(3, 3, 3)x(0, 0, 0, 12)12 - AIC:612.5433820383578\n"
     ]
    },
    {
     "name": "stderr",
     "output_type": "stream",
     "text": [
      "C:\\Users\\Byom Kesh Jha\\Anaconda3\\lib\\site-packages\\statsmodels\\base\\model.py:512: ConvergenceWarning: Maximum Likelihood optimization failed to converge. Check mle_retvals\n",
      "  \"Check mle_retvals\", ConvergenceWarning)\n"
     ]
    },
    {
     "name": "stdout",
     "output_type": "stream",
     "text": [
      "ARIMA(3, 3, 3)x(0, 0, 1, 12)12 - AIC:2124.756126055904\n"
     ]
    },
    {
     "name": "stderr",
     "output_type": "stream",
     "text": [
      "C:\\Users\\Byom Kesh Jha\\Anaconda3\\lib\\site-packages\\statsmodels\\base\\model.py:512: ConvergenceWarning: Maximum Likelihood optimization failed to converge. Check mle_retvals\n",
      "  \"Check mle_retvals\", ConvergenceWarning)\n"
     ]
    },
    {
     "name": "stdout",
     "output_type": "stream",
     "text": [
      "ARIMA(3, 3, 3)x(0, 1, 0, 12)12 - AIC:428.88375726174826\n",
      "ARIMA(3, 3, 3)x(0, 2, 0, 12)12 - AIC:268.43493375387845\n"
     ]
    },
    {
     "name": "stderr",
     "output_type": "stream",
     "text": [
      "C:\\Users\\Byom Kesh Jha\\Anaconda3\\lib\\site-packages\\statsmodels\\base\\model.py:512: ConvergenceWarning: Maximum Likelihood optimization failed to converge. Check mle_retvals\n",
      "  \"Check mle_retvals\", ConvergenceWarning)\n"
     ]
    },
    {
     "name": "stdout",
     "output_type": "stream",
     "text": [
      "ARIMA(3, 3, 3)x(1, 0, 0, 12)12 - AIC:443.8695588081036\n",
      "ARIMA(3, 3, 3)x(1, 0, 1, 12)12 - AIC:2317.8482962222506\n"
     ]
    },
    {
     "name": "stderr",
     "output_type": "stream",
     "text": [
      "C:\\Users\\Byom Kesh Jha\\Anaconda3\\lib\\site-packages\\statsmodels\\base\\model.py:512: ConvergenceWarning: Maximum Likelihood optimization failed to converge. Check mle_retvals\n",
      "  \"Check mle_retvals\", ConvergenceWarning)\n"
     ]
    },
    {
     "name": "stdout",
     "output_type": "stream",
     "text": [
      "ARIMA(3, 3, 3)x(1, 1, 0, 12)12 - AIC:263.3712650787442\n"
     ]
    },
    {
     "name": "stderr",
     "output_type": "stream",
     "text": [
      "C:\\Users\\Byom Kesh Jha\\Anaconda3\\lib\\site-packages\\statsmodels\\base\\model.py:512: ConvergenceWarning: Maximum Likelihood optimization failed to converge. Check mle_retvals\n",
      "  \"Check mle_retvals\", ConvergenceWarning)\n"
     ]
    },
    {
     "name": "stdout",
     "output_type": "stream",
     "text": [
      "ARIMA(3, 3, 3)x(1, 2, 0, 12)12 - AIC:95.50863575698986\n"
     ]
    },
    {
     "name": "stderr",
     "output_type": "stream",
     "text": [
      "C:\\Users\\Byom Kesh Jha\\Anaconda3\\lib\\site-packages\\statsmodels\\base\\model.py:512: ConvergenceWarning: Maximum Likelihood optimization failed to converge. Check mle_retvals\n",
      "  \"Check mle_retvals\", ConvergenceWarning)\n"
     ]
    },
    {
     "name": "stdout",
     "output_type": "stream",
     "text": [
      "ARIMA(3, 3, 3)x(2, 0, 0, 12)12 - AIC:265.0923018939121\n",
      "ARIMA(3, 3, 3)x(2, 0, 1, 12)12 - AIC:733.9166479912603\n"
     ]
    },
    {
     "name": "stderr",
     "output_type": "stream",
     "text": [
      "C:\\Users\\Byom Kesh Jha\\Anaconda3\\lib\\site-packages\\statsmodels\\base\\model.py:512: ConvergenceWarning: Maximum Likelihood optimization failed to converge. Check mle_retvals\n",
      "  \"Check mle_retvals\", ConvergenceWarning)\n"
     ]
    },
    {
     "name": "stdout",
     "output_type": "stream",
     "text": [
      "ARIMA(3, 3, 3)x(2, 1, 0, 12)12 - AIC:96.65974180329478\n"
     ]
    },
    {
     "name": "stderr",
     "output_type": "stream",
     "text": [
      "C:\\Users\\Byom Kesh Jha\\Anaconda3\\lib\\site-packages\\statsmodels\\base\\model.py:512: ConvergenceWarning: Maximum Likelihood optimization failed to converge. Check mle_retvals\n",
      "  \"Check mle_retvals\", ConvergenceWarning)\n"
     ]
    },
    {
     "name": "stdout",
     "output_type": "stream",
     "text": [
      "ARIMA(3, 3, 3)x(3, 0, 0, 12)12 - AIC:103.75135669260777\n"
     ]
    },
    {
     "name": "stderr",
     "output_type": "stream",
     "text": [
      "C:\\Users\\Byom Kesh Jha\\Anaconda3\\lib\\site-packages\\statsmodels\\base\\model.py:512: ConvergenceWarning: Maximum Likelihood optimization failed to converge. Check mle_retvals\n",
      "  \"Check mle_retvals\", ConvergenceWarning)\n"
     ]
    },
    {
     "name": "stdout",
     "output_type": "stream",
     "text": [
      "ARIMA(3, 3, 3)x(3, 0, 1, 12)12 - AIC:247.57154163082052\n",
      "ARIMA(3, 3, 4)x(0, 0, 0, 12)12 - AIC:591.5283422664079\n",
      "ARIMA(3, 3, 4)x(0, 0, 1, 12)12 - AIC:2051.5826490589293\n"
     ]
    },
    {
     "name": "stderr",
     "output_type": "stream",
     "text": [
      "C:\\Users\\Byom Kesh Jha\\Anaconda3\\lib\\site-packages\\statsmodels\\base\\model.py:512: ConvergenceWarning: Maximum Likelihood optimization failed to converge. Check mle_retvals\n",
      "  \"Check mle_retvals\", ConvergenceWarning)\n",
      "C:\\Users\\Byom Kesh Jha\\Anaconda3\\lib\\site-packages\\statsmodels\\base\\model.py:512: ConvergenceWarning: Maximum Likelihood optimization failed to converge. Check mle_retvals\n",
      "  \"Check mle_retvals\", ConvergenceWarning)\n"
     ]
    },
    {
     "name": "stdout",
     "output_type": "stream",
     "text": [
      "ARIMA(3, 3, 4)x(0, 1, 0, 12)12 - AIC:409.2358414061712\n"
     ]
    },
    {
     "name": "stderr",
     "output_type": "stream",
     "text": [
      "C:\\Users\\Byom Kesh Jha\\Anaconda3\\lib\\site-packages\\statsmodels\\base\\model.py:512: ConvergenceWarning: Maximum Likelihood optimization failed to converge. Check mle_retvals\n",
      "  \"Check mle_retvals\", ConvergenceWarning)\n"
     ]
    },
    {
     "name": "stdout",
     "output_type": "stream",
     "text": [
      "ARIMA(3, 3, 4)x(0, 2, 0, 12)12 - AIC:253.3844256762561\n"
     ]
    },
    {
     "name": "stderr",
     "output_type": "stream",
     "text": [
      "C:\\Users\\Byom Kesh Jha\\Anaconda3\\lib\\site-packages\\statsmodels\\base\\model.py:512: ConvergenceWarning: Maximum Likelihood optimization failed to converge. Check mle_retvals\n",
      "  \"Check mle_retvals\", ConvergenceWarning)\n"
     ]
    },
    {
     "name": "stdout",
     "output_type": "stream",
     "text": [
      "ARIMA(3, 3, 4)x(1, 0, 0, 12)12 - AIC:438.54002809411674\n",
      "ARIMA(3, 3, 4)x(1, 0, 1, 12)12 - AIC:2152.882445379175\n"
     ]
    },
    {
     "name": "stderr",
     "output_type": "stream",
     "text": [
      "C:\\Users\\Byom Kesh Jha\\Anaconda3\\lib\\site-packages\\statsmodels\\base\\model.py:512: ConvergenceWarning: Maximum Likelihood optimization failed to converge. Check mle_retvals\n",
      "  \"Check mle_retvals\", ConvergenceWarning)\n"
     ]
    },
    {
     "name": "stdout",
     "output_type": "stream",
     "text": [
      "ARIMA(3, 3, 4)x(1, 1, 0, 12)12 - AIC:264.31145475915923\n"
     ]
    },
    {
     "name": "stderr",
     "output_type": "stream",
     "text": [
      "C:\\Users\\Byom Kesh Jha\\Anaconda3\\lib\\site-packages\\statsmodels\\base\\model.py:512: ConvergenceWarning: Maximum Likelihood optimization failed to converge. Check mle_retvals\n",
      "  \"Check mle_retvals\", ConvergenceWarning)\n"
     ]
    },
    {
     "name": "stdout",
     "output_type": "stream",
     "text": [
      "ARIMA(3, 3, 4)x(1, 2, 0, 12)12 - AIC:91.39962543331494\n"
     ]
    },
    {
     "name": "stderr",
     "output_type": "stream",
     "text": [
      "C:\\Users\\Byom Kesh Jha\\Anaconda3\\lib\\site-packages\\statsmodels\\base\\model.py:512: ConvergenceWarning: Maximum Likelihood optimization failed to converge. Check mle_retvals\n",
      "  \"Check mle_retvals\", ConvergenceWarning)\n"
     ]
    },
    {
     "name": "stdout",
     "output_type": "stream",
     "text": [
      "ARIMA(3, 3, 4)x(2, 0, 0, 12)12 - AIC:274.187857573736\n"
     ]
    },
    {
     "name": "stderr",
     "output_type": "stream",
     "text": [
      "C:\\Users\\Byom Kesh Jha\\Anaconda3\\lib\\site-packages\\statsmodels\\base\\model.py:512: ConvergenceWarning: Maximum Likelihood optimization failed to converge. Check mle_retvals\n",
      "  \"Check mle_retvals\", ConvergenceWarning)\n"
     ]
    },
    {
     "name": "stdout",
     "output_type": "stream",
     "text": [
      "ARIMA(3, 3, 4)x(2, 0, 1, 12)12 - AIC:825.6686663558373\n",
      "ARIMA(3, 3, 4)x(2, 1, 0, 12)12 - AIC:95.93992559795342\n"
     ]
    },
    {
     "name": "stderr",
     "output_type": "stream",
     "text": [
      "C:\\Users\\Byom Kesh Jha\\Anaconda3\\lib\\site-packages\\statsmodels\\base\\model.py:512: ConvergenceWarning: Maximum Likelihood optimization failed to converge. Check mle_retvals\n",
      "  \"Check mle_retvals\", ConvergenceWarning)\n"
     ]
    },
    {
     "name": "stdout",
     "output_type": "stream",
     "text": [
      "ARIMA(3, 3, 4)x(3, 0, 0, 12)12 - AIC:104.67566428656013\n"
     ]
    },
    {
     "name": "stderr",
     "output_type": "stream",
     "text": [
      "C:\\Users\\Byom Kesh Jha\\Anaconda3\\lib\\site-packages\\statsmodels\\base\\model.py:512: ConvergenceWarning: Maximum Likelihood optimization failed to converge. Check mle_retvals\n",
      "  \"Check mle_retvals\", ConvergenceWarning)\n"
     ]
    },
    {
     "name": "stdout",
     "output_type": "stream",
     "text": [
      "ARIMA(3, 3, 4)x(3, 0, 1, 12)12 - AIC:290.65772114785875\n",
      "ARIMA(3, 4, 0)x(0, 0, 0, 12)12 - AIC:665.5718027599083\n"
     ]
    },
    {
     "name": "stderr",
     "output_type": "stream",
     "text": [
      "C:\\Users\\Byom Kesh Jha\\Anaconda3\\lib\\site-packages\\statsmodels\\base\\model.py:512: ConvergenceWarning: Maximum Likelihood optimization failed to converge. Check mle_retvals\n",
      "  \"Check mle_retvals\", ConvergenceWarning)\n",
      "C:\\Users\\Byom Kesh Jha\\Anaconda3\\lib\\site-packages\\statsmodels\\base\\model.py:512: ConvergenceWarning: Maximum Likelihood optimization failed to converge. Check mle_retvals\n",
      "  \"Check mle_retvals\", ConvergenceWarning)\n"
     ]
    },
    {
     "name": "stdout",
     "output_type": "stream",
     "text": [
      "ARIMA(3, 4, 0)x(0, 0, 1, 12)12 - AIC:1241.5494980521255\n",
      "ARIMA(3, 4, 0)x(0, 1, 0, 12)12 - AIC:455.38946006293514\n",
      "ARIMA(3, 4, 0)x(0, 2, 0, 12)12 - AIC:280.43775132617515\n",
      "ARIMA(3, 4, 0)x(0, 3, 0, 12)12 - AIC:86.20240906127927\n",
      "ARIMA(3, 4, 0)x(1, 0, 0, 12)12 - AIC:454.22505910665984\n"
     ]
    },
    {
     "name": "stderr",
     "output_type": "stream",
     "text": [
      "C:\\Users\\Byom Kesh Jha\\Anaconda3\\lib\\site-packages\\statsmodels\\base\\model.py:512: ConvergenceWarning: Maximum Likelihood optimization failed to converge. Check mle_retvals\n",
      "  \"Check mle_retvals\", ConvergenceWarning)\n"
     ]
    },
    {
     "name": "stdout",
     "output_type": "stream",
     "text": [
      "ARIMA(3, 4, 0)x(1, 0, 1, 12)12 - AIC:940.3509505773941\n",
      "ARIMA(3, 4, 0)x(1, 1, 0, 12)12 - AIC:259.27914666695403\n",
      "ARIMA(3, 4, 0)x(1, 2, 0, 12)12 - AIC:77.65648449064301\n",
      "ARIMA(3, 4, 0)x(2, 0, 0, 12)12 - AIC:260.0353566359656\n"
     ]
    },
    {
     "name": "stderr",
     "output_type": "stream",
     "text": [
      "C:\\Users\\Byom Kesh Jha\\Anaconda3\\lib\\site-packages\\statsmodels\\base\\model.py:512: ConvergenceWarning: Maximum Likelihood optimization failed to converge. Check mle_retvals\n",
      "  \"Check mle_retvals\", ConvergenceWarning)\n"
     ]
    },
    {
     "name": "stdout",
     "output_type": "stream",
     "text": [
      "ARIMA(3, 4, 0)x(2, 0, 1, 12)12 - AIC:626.9987841035573\n"
     ]
    },
    {
     "name": "stderr",
     "output_type": "stream",
     "text": [
      "C:\\Users\\Byom Kesh Jha\\Anaconda3\\lib\\site-packages\\statsmodels\\base\\model.py:512: ConvergenceWarning: Maximum Likelihood optimization failed to converge. Check mle_retvals\n",
      "  \"Check mle_retvals\", ConvergenceWarning)\n"
     ]
    },
    {
     "name": "stdout",
     "output_type": "stream",
     "text": [
      "ARIMA(3, 4, 0)x(2, 1, 0, 12)12 - AIC:73.69312934960317\n"
     ]
    },
    {
     "name": "stderr",
     "output_type": "stream",
     "text": [
      "C:\\Users\\Byom Kesh Jha\\Anaconda3\\lib\\site-packages\\statsmodels\\base\\model.py:512: ConvergenceWarning: Maximum Likelihood optimization failed to converge. Check mle_retvals\n",
      "  \"Check mle_retvals\", ConvergenceWarning)\n"
     ]
    },
    {
     "name": "stdout",
     "output_type": "stream",
     "text": [
      "ARIMA(3, 4, 0)x(3, 0, 0, 12)12 - AIC:89.0505293777284\n"
     ]
    },
    {
     "name": "stderr",
     "output_type": "stream",
     "text": [
      "C:\\Users\\Byom Kesh Jha\\Anaconda3\\lib\\site-packages\\statsmodels\\base\\model.py:512: ConvergenceWarning: Maximum Likelihood optimization failed to converge. Check mle_retvals\n",
      "  \"Check mle_retvals\", ConvergenceWarning)\n"
     ]
    },
    {
     "name": "stdout",
     "output_type": "stream",
     "text": [
      "ARIMA(3, 4, 0)x(3, 0, 1, 12)12 - AIC:201.5924866141626\n",
      "ARIMA(3, 4, 1)x(0, 0, 0, 12)12 - AIC:640.4182251080072\n",
      "ARIMA(3, 4, 1)x(0, 0, 1, 12)12 - AIC:40625.970157489195\n",
      "ARIMA(3, 4, 1)x(0, 1, 0, 12)12 - AIC:439.0809871262181\n",
      "ARIMA(3, 4, 1)x(0, 2, 0, 12)12 - AIC:273.20843425760904\n",
      "ARIMA(3, 4, 1)x(0, 3, 0, 12)12 - AIC:87.06137932558977\n",
      "ARIMA(3, 4, 1)x(1, 0, 0, 12)12 - AIC:438.32418102961356\n",
      "ARIMA(3, 4, 1)x(1, 0, 1, 12)12 - AIC:2245.754180281889\n",
      "ARIMA(3, 4, 1)x(1, 1, 0, 12)12 - AIC:253.84924426455194\n"
     ]
    },
    {
     "name": "stderr",
     "output_type": "stream",
     "text": [
      "C:\\Users\\Byom Kesh Jha\\Anaconda3\\lib\\site-packages\\statsmodels\\base\\model.py:512: ConvergenceWarning: Maximum Likelihood optimization failed to converge. Check mle_retvals\n",
      "  \"Check mle_retvals\", ConvergenceWarning)\n"
     ]
    },
    {
     "name": "stdout",
     "output_type": "stream",
     "text": [
      "ARIMA(3, 4, 1)x(1, 2, 0, 12)12 - AIC:81.06254098343763\n",
      "ARIMA(3, 4, 1)x(2, 0, 0, 12)12 - AIC:255.5719857651428\n"
     ]
    },
    {
     "name": "stderr",
     "output_type": "stream",
     "text": [
      "C:\\Users\\Byom Kesh Jha\\Anaconda3\\lib\\site-packages\\statsmodels\\base\\model.py:512: ConvergenceWarning: Maximum Likelihood optimization failed to converge. Check mle_retvals\n",
      "  \"Check mle_retvals\", ConvergenceWarning)\n"
     ]
    },
    {
     "name": "stdout",
     "output_type": "stream",
     "text": [
      "ARIMA(3, 4, 1)x(2, 0, 1, 12)12 - AIC:736.9695203359902\n"
     ]
    },
    {
     "name": "stderr",
     "output_type": "stream",
     "text": [
      "C:\\Users\\Byom Kesh Jha\\Anaconda3\\lib\\site-packages\\statsmodels\\base\\model.py:512: ConvergenceWarning: Maximum Likelihood optimization failed to converge. Check mle_retvals\n",
      "  \"Check mle_retvals\", ConvergenceWarning)\n"
     ]
    },
    {
     "name": "stdout",
     "output_type": "stream",
     "text": [
      "ARIMA(3, 4, 1)x(2, 1, 0, 12)12 - AIC:86.26683839961127\n"
     ]
    },
    {
     "name": "stderr",
     "output_type": "stream",
     "text": [
      "C:\\Users\\Byom Kesh Jha\\Anaconda3\\lib\\site-packages\\statsmodels\\base\\model.py:512: ConvergenceWarning: Maximum Likelihood optimization failed to converge. Check mle_retvals\n",
      "  \"Check mle_retvals\", ConvergenceWarning)\n"
     ]
    },
    {
     "name": "stdout",
     "output_type": "stream",
     "text": [
      "ARIMA(3, 4, 1)x(3, 0, 0, 12)12 - AIC:91.30087914793926\n"
     ]
    },
    {
     "name": "stderr",
     "output_type": "stream",
     "text": [
      "C:\\Users\\Byom Kesh Jha\\Anaconda3\\lib\\site-packages\\statsmodels\\base\\model.py:512: ConvergenceWarning: Maximum Likelihood optimization failed to converge. Check mle_retvals\n",
      "  \"Check mle_retvals\", ConvergenceWarning)\n"
     ]
    },
    {
     "name": "stdout",
     "output_type": "stream",
     "text": [
      "ARIMA(3, 4, 1)x(3, 0, 1, 12)12 - AIC:209.7821900177191\n"
     ]
    },
    {
     "name": "stderr",
     "output_type": "stream",
     "text": [
      "C:\\Users\\Byom Kesh Jha\\Anaconda3\\lib\\site-packages\\statsmodels\\base\\model.py:512: ConvergenceWarning: Maximum Likelihood optimization failed to converge. Check mle_retvals\n",
      "  \"Check mle_retvals\", ConvergenceWarning)\n"
     ]
    },
    {
     "name": "stdout",
     "output_type": "stream",
     "text": [
      "ARIMA(3, 4, 2)x(0, 0, 0, 12)12 - AIC:626.5835427184497\n",
      "ARIMA(3, 4, 2)x(0, 0, 1, 12)12 - AIC:2246.611641993999\n",
      "ARIMA(3, 4, 2)x(0, 1, 0, 12)12 - AIC:433.80385578439063\n",
      "ARIMA(3, 4, 2)x(0, 2, 0, 12)12 - AIC:275.19722731966624\n"
     ]
    },
    {
     "name": "stderr",
     "output_type": "stream",
     "text": [
      "C:\\Users\\Byom Kesh Jha\\Anaconda3\\lib\\site-packages\\statsmodels\\base\\model.py:512: ConvergenceWarning: Maximum Likelihood optimization failed to converge. Check mle_retvals\n",
      "  \"Check mle_retvals\", ConvergenceWarning)\n"
     ]
    },
    {
     "name": "stdout",
     "output_type": "stream",
     "text": [
      "ARIMA(3, 4, 2)x(0, 3, 0, 12)12 - AIC:nan\n",
      "ARIMA(3, 4, 2)x(1, 0, 0, 12)12 - AIC:432.6010665778253\n",
      "ARIMA(3, 4, 2)x(1, 0, 1, 12)12 - AIC:6888.864711968168\n",
      "ARIMA(3, 4, 2)x(1, 1, 0, 12)12 - AIC:254.5399900968911\n"
     ]
    },
    {
     "name": "stderr",
     "output_type": "stream",
     "text": [
      "C:\\Users\\Byom Kesh Jha\\Anaconda3\\lib\\site-packages\\statsmodels\\base\\model.py:512: ConvergenceWarning: Maximum Likelihood optimization failed to converge. Check mle_retvals\n",
      "  \"Check mle_retvals\", ConvergenceWarning)\n"
     ]
    },
    {
     "name": "stdout",
     "output_type": "stream",
     "text": [
      "ARIMA(3, 4, 2)x(1, 2, 0, 12)12 - AIC:85.3925747693003\n"
     ]
    },
    {
     "name": "stderr",
     "output_type": "stream",
     "text": [
      "C:\\Users\\Byom Kesh Jha\\Anaconda3\\lib\\site-packages\\statsmodels\\base\\model.py:512: ConvergenceWarning: Maximum Likelihood optimization failed to converge. Check mle_retvals\n",
      "  \"Check mle_retvals\", ConvergenceWarning)\n"
     ]
    },
    {
     "name": "stdout",
     "output_type": "stream",
     "text": [
      "ARIMA(3, 4, 2)x(2, 0, 0, 12)12 - AIC:255.40583567196063\n"
     ]
    },
    {
     "name": "stderr",
     "output_type": "stream",
     "text": [
      "C:\\Users\\Byom Kesh Jha\\Anaconda3\\lib\\site-packages\\statsmodels\\base\\model.py:512: ConvergenceWarning: Maximum Likelihood optimization failed to converge. Check mle_retvals\n",
      "  \"Check mle_retvals\", ConvergenceWarning)\n"
     ]
    },
    {
     "name": "stdout",
     "output_type": "stream",
     "text": [
      "ARIMA(3, 4, 2)x(2, 0, 1, 12)12 - AIC:615.6582193830002\n"
     ]
    },
    {
     "name": "stderr",
     "output_type": "stream",
     "text": [
      "C:\\Users\\Byom Kesh Jha\\Anaconda3\\lib\\site-packages\\statsmodels\\base\\model.py:512: ConvergenceWarning: Maximum Likelihood optimization failed to converge. Check mle_retvals\n",
      "  \"Check mle_retvals\", ConvergenceWarning)\n"
     ]
    },
    {
     "name": "stdout",
     "output_type": "stream",
     "text": [
      "ARIMA(3, 4, 2)x(2, 1, 0, 12)12 - AIC:82.92805935949895\n"
     ]
    },
    {
     "name": "stderr",
     "output_type": "stream",
     "text": [
      "C:\\Users\\Byom Kesh Jha\\Anaconda3\\lib\\site-packages\\statsmodels\\base\\model.py:512: ConvergenceWarning: Maximum Likelihood optimization failed to converge. Check mle_retvals\n",
      "  \"Check mle_retvals\", ConvergenceWarning)\n"
     ]
    },
    {
     "name": "stdout",
     "output_type": "stream",
     "text": [
      "ARIMA(3, 4, 2)x(3, 0, 0, 12)12 - AIC:91.04624242033594\n"
     ]
    },
    {
     "name": "stderr",
     "output_type": "stream",
     "text": [
      "C:\\Users\\Byom Kesh Jha\\Anaconda3\\lib\\site-packages\\statsmodels\\base\\model.py:512: ConvergenceWarning: Maximum Likelihood optimization failed to converge. Check mle_retvals\n",
      "  \"Check mle_retvals\", ConvergenceWarning)\n"
     ]
    },
    {
     "name": "stdout",
     "output_type": "stream",
     "text": [
      "ARIMA(3, 4, 2)x(3, 0, 1, 12)12 - AIC:215.22846388234183\n"
     ]
    },
    {
     "name": "stderr",
     "output_type": "stream",
     "text": [
      "C:\\Users\\Byom Kesh Jha\\Anaconda3\\lib\\site-packages\\statsmodels\\base\\model.py:512: ConvergenceWarning: Maximum Likelihood optimization failed to converge. Check mle_retvals\n",
      "  \"Check mle_retvals\", ConvergenceWarning)\n"
     ]
    },
    {
     "name": "stdout",
     "output_type": "stream",
     "text": [
      "ARIMA(3, 4, 3)x(0, 0, 0, 12)12 - AIC:619.7285112216568\n",
      "ARIMA(3, 4, 3)x(0, 0, 1, 12)12 - AIC:2226.356172191054\n"
     ]
    },
    {
     "name": "stderr",
     "output_type": "stream",
     "text": [
      "C:\\Users\\Byom Kesh Jha\\Anaconda3\\lib\\site-packages\\statsmodels\\base\\model.py:512: ConvergenceWarning: Maximum Likelihood optimization failed to converge. Check mle_retvals\n",
      "  \"Check mle_retvals\", ConvergenceWarning)\n"
     ]
    },
    {
     "name": "stdout",
     "output_type": "stream",
     "text": [
      "ARIMA(3, 4, 3)x(0, 1, 0, 12)12 - AIC:421.26239780418086\n"
     ]
    },
    {
     "name": "stderr",
     "output_type": "stream",
     "text": [
      "C:\\Users\\Byom Kesh Jha\\Anaconda3\\lib\\site-packages\\statsmodels\\base\\model.py:512: ConvergenceWarning: Maximum Likelihood optimization failed to converge. Check mle_retvals\n",
      "  \"Check mle_retvals\", ConvergenceWarning)\n"
     ]
    },
    {
     "name": "stdout",
     "output_type": "stream",
     "text": [
      "ARIMA(3, 4, 3)x(0, 2, 0, 12)12 - AIC:258.8551024606704\n"
     ]
    },
    {
     "name": "stderr",
     "output_type": "stream",
     "text": [
      "C:\\Users\\Byom Kesh Jha\\Anaconda3\\lib\\site-packages\\statsmodels\\base\\model.py:512: ConvergenceWarning: Maximum Likelihood optimization failed to converge. Check mle_retvals\n",
      "  \"Check mle_retvals\", ConvergenceWarning)\n"
     ]
    },
    {
     "name": "stdout",
     "output_type": "stream",
     "text": [
      "ARIMA(3, 4, 3)x(1, 0, 0, 12)12 - AIC:445.1736035955258\n",
      "ARIMA(3, 4, 3)x(1, 0, 1, 12)12 - AIC:56502.6973907451\n"
     ]
    },
    {
     "name": "stderr",
     "output_type": "stream",
     "text": [
      "C:\\Users\\Byom Kesh Jha\\Anaconda3\\lib\\site-packages\\statsmodels\\base\\model.py:512: ConvergenceWarning: Maximum Likelihood optimization failed to converge. Check mle_retvals\n",
      "  \"Check mle_retvals\", ConvergenceWarning)\n"
     ]
    },
    {
     "name": "stdout",
     "output_type": "stream",
     "text": [
      "ARIMA(3, 4, 3)x(1, 1, 0, 12)12 - AIC:256.56985908001957\n"
     ]
    },
    {
     "name": "stderr",
     "output_type": "stream",
     "text": [
      "C:\\Users\\Byom Kesh Jha\\Anaconda3\\lib\\site-packages\\statsmodels\\base\\model.py:512: ConvergenceWarning: Maximum Likelihood optimization failed to converge. Check mle_retvals\n",
      "  \"Check mle_retvals\", ConvergenceWarning)\n"
     ]
    },
    {
     "name": "stdout",
     "output_type": "stream",
     "text": [
      "ARIMA(3, 4, 3)x(1, 2, 0, 12)12 - AIC:82.31810323418097\n"
     ]
    },
    {
     "name": "stderr",
     "output_type": "stream",
     "text": [
      "C:\\Users\\Byom Kesh Jha\\Anaconda3\\lib\\site-packages\\statsmodels\\base\\model.py:512: ConvergenceWarning: Maximum Likelihood optimization failed to converge. Check mle_retvals\n",
      "  \"Check mle_retvals\", ConvergenceWarning)\n"
     ]
    },
    {
     "name": "stdout",
     "output_type": "stream",
     "text": [
      "ARIMA(3, 4, 3)x(2, 0, 0, 12)12 - AIC:256.71717963584047\n",
      "ARIMA(3, 4, 3)x(2, 0, 1, 12)12 - AIC:1348.613507697475\n"
     ]
    },
    {
     "name": "stderr",
     "output_type": "stream",
     "text": [
      "C:\\Users\\Byom Kesh Jha\\Anaconda3\\lib\\site-packages\\statsmodels\\base\\model.py:512: ConvergenceWarning: Maximum Likelihood optimization failed to converge. Check mle_retvals\n",
      "  \"Check mle_retvals\", ConvergenceWarning)\n"
     ]
    },
    {
     "name": "stdout",
     "output_type": "stream",
     "text": [
      "ARIMA(3, 4, 3)x(2, 1, 0, 12)12 - AIC:87.0948369817565\n"
     ]
    },
    {
     "name": "stderr",
     "output_type": "stream",
     "text": [
      "C:\\Users\\Byom Kesh Jha\\Anaconda3\\lib\\site-packages\\statsmodels\\base\\model.py:512: ConvergenceWarning: Maximum Likelihood optimization failed to converge. Check mle_retvals\n",
      "  \"Check mle_retvals\", ConvergenceWarning)\n"
     ]
    },
    {
     "name": "stdout",
     "output_type": "stream",
     "text": [
      "ARIMA(3, 4, 3)x(3, 0, 0, 12)12 - AIC:92.61019606769985\n",
      "ARIMA(3, 4, 3)x(3, 0, 1, 12)12 - AIC:403.1085266107282\n"
     ]
    },
    {
     "name": "stderr",
     "output_type": "stream",
     "text": [
      "C:\\Users\\Byom Kesh Jha\\Anaconda3\\lib\\site-packages\\statsmodels\\base\\model.py:512: ConvergenceWarning: Maximum Likelihood optimization failed to converge. Check mle_retvals\n",
      "  \"Check mle_retvals\", ConvergenceWarning)\n"
     ]
    },
    {
     "name": "stdout",
     "output_type": "stream",
     "text": [
      "ARIMA(3, 4, 4)x(0, 0, 0, 12)12 - AIC:602.4505686544725\n",
      "ARIMA(3, 4, 4)x(0, 0, 1, 12)12 - AIC:2131.335222999291\n"
     ]
    },
    {
     "name": "stderr",
     "output_type": "stream",
     "text": [
      "C:\\Users\\Byom Kesh Jha\\Anaconda3\\lib\\site-packages\\statsmodels\\base\\model.py:512: ConvergenceWarning: Maximum Likelihood optimization failed to converge. Check mle_retvals\n",
      "  \"Check mle_retvals\", ConvergenceWarning)\n"
     ]
    },
    {
     "name": "stdout",
     "output_type": "stream",
     "text": [
      "ARIMA(3, 4, 4)x(0, 1, 0, 12)12 - AIC:405.65726376182334\n",
      "ARIMA(3, 4, 4)x(0, 2, 0, 12)12 - AIC:244.09666235059765\n"
     ]
    },
    {
     "name": "stderr",
     "output_type": "stream",
     "text": [
      "C:\\Users\\Byom Kesh Jha\\Anaconda3\\lib\\site-packages\\statsmodels\\base\\model.py:512: ConvergenceWarning: Maximum Likelihood optimization failed to converge. Check mle_retvals\n",
      "  \"Check mle_retvals\", ConvergenceWarning)\n"
     ]
    },
    {
     "name": "stdout",
     "output_type": "stream",
     "text": [
      "ARIMA(3, 4, 4)x(1, 0, 0, 12)12 - AIC:442.1257866021251\n",
      "ARIMA(3, 4, 4)x(1, 0, 1, 12)12 - AIC:2148.1443353701566\n"
     ]
    },
    {
     "name": "stderr",
     "output_type": "stream",
     "text": [
      "C:\\Users\\Byom Kesh Jha\\Anaconda3\\lib\\site-packages\\statsmodels\\base\\model.py:512: ConvergenceWarning: Maximum Likelihood optimization failed to converge. Check mle_retvals\n",
      "  \"Check mle_retvals\", ConvergenceWarning)\n"
     ]
    },
    {
     "name": "stdout",
     "output_type": "stream",
     "text": [
      "ARIMA(3, 4, 4)x(1, 1, 0, 12)12 - AIC:256.4453635315066\n"
     ]
    },
    {
     "name": "stderr",
     "output_type": "stream",
     "text": [
      "C:\\Users\\Byom Kesh Jha\\Anaconda3\\lib\\site-packages\\statsmodels\\base\\model.py:512: ConvergenceWarning: Maximum Likelihood optimization failed to converge. Check mle_retvals\n",
      "  \"Check mle_retvals\", ConvergenceWarning)\n"
     ]
    },
    {
     "name": "stdout",
     "output_type": "stream",
     "text": [
      "ARIMA(3, 4, 4)x(1, 2, 0, 12)12 - AIC:79.29167484832374\n"
     ]
    },
    {
     "name": "stderr",
     "output_type": "stream",
     "text": [
      "C:\\Users\\Byom Kesh Jha\\Anaconda3\\lib\\site-packages\\statsmodels\\base\\model.py:512: ConvergenceWarning: Maximum Likelihood optimization failed to converge. Check mle_retvals\n",
      "  \"Check mle_retvals\", ConvergenceWarning)\n"
     ]
    },
    {
     "name": "stdout",
     "output_type": "stream",
     "text": [
      "ARIMA(3, 4, 4)x(2, 0, 0, 12)12 - AIC:264.2743587970797\n"
     ]
    },
    {
     "name": "stderr",
     "output_type": "stream",
     "text": [
      "C:\\Users\\Byom Kesh Jha\\Anaconda3\\lib\\site-packages\\statsmodels\\base\\model.py:512: ConvergenceWarning: Maximum Likelihood optimization failed to converge. Check mle_retvals\n",
      "  \"Check mle_retvals\", ConvergenceWarning)\n"
     ]
    },
    {
     "name": "stdout",
     "output_type": "stream",
     "text": [
      "ARIMA(3, 4, 4)x(2, 0, 1, 12)12 - AIC:662.590828623504\n"
     ]
    },
    {
     "name": "stderr",
     "output_type": "stream",
     "text": [
      "C:\\Users\\Byom Kesh Jha\\Anaconda3\\lib\\site-packages\\statsmodels\\base\\model.py:512: ConvergenceWarning: Maximum Likelihood optimization failed to converge. Check mle_retvals\n",
      "  \"Check mle_retvals\", ConvergenceWarning)\n"
     ]
    },
    {
     "name": "stdout",
     "output_type": "stream",
     "text": [
      "ARIMA(3, 4, 4)x(2, 1, 0, 12)12 - AIC:87.16128316356824\n"
     ]
    },
    {
     "name": "stderr",
     "output_type": "stream",
     "text": [
      "C:\\Users\\Byom Kesh Jha\\Anaconda3\\lib\\site-packages\\statsmodels\\base\\model.py:512: ConvergenceWarning: Maximum Likelihood optimization failed to converge. Check mle_retvals\n",
      "  \"Check mle_retvals\", ConvergenceWarning)\n"
     ]
    },
    {
     "name": "stdout",
     "output_type": "stream",
     "text": [
      "ARIMA(3, 4, 4)x(3, 0, 0, 12)12 - AIC:93.60068318551681\n"
     ]
    },
    {
     "name": "stderr",
     "output_type": "stream",
     "text": [
      "C:\\Users\\Byom Kesh Jha\\Anaconda3\\lib\\site-packages\\statsmodels\\base\\model.py:512: ConvergenceWarning: Maximum Likelihood optimization failed to converge. Check mle_retvals\n",
      "  \"Check mle_retvals\", ConvergenceWarning)\n"
     ]
    },
    {
     "name": "stdout",
     "output_type": "stream",
     "text": [
      "ARIMA(3, 4, 4)x(3, 0, 1, 12)12 - AIC:195.34519177647806\n",
      "ARIMA(4, 0, 0)x(0, 0, 0, 12)12 - AIC:642.2815923071829\n"
     ]
    },
    {
     "name": "stderr",
     "output_type": "stream",
     "text": [
      "C:\\Users\\Byom Kesh Jha\\Anaconda3\\lib\\site-packages\\statsmodels\\base\\model.py:512: ConvergenceWarning: Maximum Likelihood optimization failed to converge. Check mle_retvals\n",
      "  \"Check mle_retvals\", ConvergenceWarning)\n"
     ]
    },
    {
     "name": "stdout",
     "output_type": "stream",
     "text": [
      "ARIMA(4, 0, 0)x(0, 0, 1, 12)12 - AIC:1604.3457870591571\n",
      "ARIMA(4, 0, 0)x(0, 1, 0, 12)12 - AIC:444.0361866679666\n",
      "ARIMA(4, 0, 0)x(0, 2, 0, 12)12 - AIC:294.59014191160173\n",
      "ARIMA(4, 0, 0)x(0, 3, 0, 12)12 - AIC:128.29528467354194\n",
      "ARIMA(4, 0, 0)x(1, 0, 0, 12)12 - AIC:445.51662263684943\n",
      "ARIMA(4, 0, 0)x(1, 0, 1, 12)12 - AIC:1263.4197873212365\n",
      "ARIMA(4, 0, 0)x(1, 1, 0, 12)12 - AIC:269.4303529494588\n",
      "ARIMA(4, 0, 0)x(1, 2, 0, 12)12 - AIC:113.69338431615677\n",
      "ARIMA(4, 0, 0)x(2, 0, 0, 12)12 - AIC:270.7868191517201\n"
     ]
    },
    {
     "name": "stderr",
     "output_type": "stream",
     "text": [
      "C:\\Users\\Byom Kesh Jha\\Anaconda3\\lib\\site-packages\\statsmodels\\base\\model.py:512: ConvergenceWarning: Maximum Likelihood optimization failed to converge. Check mle_retvals\n",
      "  \"Check mle_retvals\", ConvergenceWarning)\n"
     ]
    },
    {
     "name": "stdout",
     "output_type": "stream",
     "text": [
      "ARIMA(4, 0, 0)x(2, 0, 1, 12)12 - AIC:852.3596060357797\n",
      "ARIMA(4, 0, 0)x(2, 1, 0, 12)12 - AIC:111.55224936502536\n"
     ]
    },
    {
     "name": "stderr",
     "output_type": "stream",
     "text": [
      "C:\\Users\\Byom Kesh Jha\\Anaconda3\\lib\\site-packages\\statsmodels\\base\\model.py:512: ConvergenceWarning: Maximum Likelihood optimization failed to converge. Check mle_retvals\n",
      "  \"Check mle_retvals\", ConvergenceWarning)\n"
     ]
    },
    {
     "name": "stdout",
     "output_type": "stream",
     "text": [
      "ARIMA(4, 0, 0)x(3, 0, 0, 12)12 - AIC:117.47985376595078\n"
     ]
    },
    {
     "name": "stderr",
     "output_type": "stream",
     "text": [
      "C:\\Users\\Byom Kesh Jha\\Anaconda3\\lib\\site-packages\\statsmodels\\base\\model.py:512: ConvergenceWarning: Maximum Likelihood optimization failed to converge. Check mle_retvals\n",
      "  \"Check mle_retvals\", ConvergenceWarning)\n"
     ]
    },
    {
     "name": "stdout",
     "output_type": "stream",
     "text": [
      "ARIMA(4, 0, 0)x(3, 0, 1, 12)12 - AIC:341.71759670010886\n",
      "ARIMA(4, 0, 1)x(0, 0, 0, 12)12 - AIC:644.284579814682\n",
      "ARIMA(4, 0, 1)x(0, 0, 1, 12)12 - AIC:6628631.126375925\n",
      "ARIMA(4, 0, 1)x(0, 1, 0, 12)12 - AIC:442.81499777577307\n",
      "ARIMA(4, 0, 1)x(0, 2, 0, 12)12 - AIC:296.3489016034763\n",
      "ARIMA(4, 0, 1)x(0, 3, 0, 12)12 - AIC:126.57833474362667\n",
      "ARIMA(4, 0, 1)x(1, 0, 0, 12)12 - AIC:442.12388585503703\n",
      "ARIMA(4, 0, 1)x(1, 0, 1, 12)12 - AIC:2416.4232621192386\n",
      "ARIMA(4, 0, 1)x(1, 1, 0, 12)12 - AIC:265.4977405575795\n"
     ]
    },
    {
     "name": "stderr",
     "output_type": "stream",
     "text": [
      "C:\\Users\\Byom Kesh Jha\\Anaconda3\\lib\\site-packages\\statsmodels\\base\\model.py:512: ConvergenceWarning: Maximum Likelihood optimization failed to converge. Check mle_retvals\n",
      "  \"Check mle_retvals\", ConvergenceWarning)\n"
     ]
    },
    {
     "name": "stdout",
     "output_type": "stream",
     "text": [
      "ARIMA(4, 0, 1)x(1, 2, 0, 12)12 - AIC:109.1412489245626\n"
     ]
    },
    {
     "name": "stderr",
     "output_type": "stream",
     "text": [
      "C:\\Users\\Byom Kesh Jha\\Anaconda3\\lib\\site-packages\\statsmodels\\base\\model.py:512: ConvergenceWarning: Maximum Likelihood optimization failed to converge. Check mle_retvals\n",
      "  \"Check mle_retvals\", ConvergenceWarning)\n"
     ]
    },
    {
     "name": "stdout",
     "output_type": "stream",
     "text": [
      "ARIMA(4, 0, 1)x(2, 0, 0, 12)12 - AIC:271.726488524236\n"
     ]
    },
    {
     "name": "stderr",
     "output_type": "stream",
     "text": [
      "C:\\Users\\Byom Kesh Jha\\Anaconda3\\lib\\site-packages\\statsmodels\\base\\model.py:512: ConvergenceWarning: Maximum Likelihood optimization failed to converge. Check mle_retvals\n",
      "  \"Check mle_retvals\", ConvergenceWarning)\n"
     ]
    },
    {
     "name": "stdout",
     "output_type": "stream",
     "text": [
      "ARIMA(4, 0, 1)x(2, 0, 1, 12)12 - AIC:642.3133088209081\n"
     ]
    },
    {
     "name": "stderr",
     "output_type": "stream",
     "text": [
      "C:\\Users\\Byom Kesh Jha\\Anaconda3\\lib\\site-packages\\statsmodels\\base\\model.py:512: ConvergenceWarning: Maximum Likelihood optimization failed to converge. Check mle_retvals\n",
      "  \"Check mle_retvals\", ConvergenceWarning)\n"
     ]
    },
    {
     "name": "stdout",
     "output_type": "stream",
     "text": [
      "ARIMA(4, 0, 1)x(2, 1, 0, 12)12 - AIC:107.11542845490874\n"
     ]
    },
    {
     "name": "stderr",
     "output_type": "stream",
     "text": [
      "C:\\Users\\Byom Kesh Jha\\Anaconda3\\lib\\site-packages\\statsmodels\\base\\model.py:512: ConvergenceWarning: Maximum Likelihood optimization failed to converge. Check mle_retvals\n",
      "  \"Check mle_retvals\", ConvergenceWarning)\n"
     ]
    },
    {
     "name": "stdout",
     "output_type": "stream",
     "text": [
      "ARIMA(4, 0, 1)x(3, 0, 0, 12)12 - AIC:122.94209906255594\n"
     ]
    },
    {
     "name": "stderr",
     "output_type": "stream",
     "text": [
      "C:\\Users\\Byom Kesh Jha\\Anaconda3\\lib\\site-packages\\statsmodels\\base\\model.py:512: ConvergenceWarning: Maximum Likelihood optimization failed to converge. Check mle_retvals\n",
      "  \"Check mle_retvals\", ConvergenceWarning)\n"
     ]
    },
    {
     "name": "stdout",
     "output_type": "stream",
     "text": [
      "ARIMA(4, 0, 1)x(3, 0, 1, 12)12 - AIC:278.59862632659525\n"
     ]
    },
    {
     "name": "stderr",
     "output_type": "stream",
     "text": [
      "C:\\Users\\Byom Kesh Jha\\Anaconda3\\lib\\site-packages\\statsmodels\\base\\model.py:512: ConvergenceWarning: Maximum Likelihood optimization failed to converge. Check mle_retvals\n",
      "  \"Check mle_retvals\", ConvergenceWarning)\n",
      "C:\\Users\\Byom Kesh Jha\\Anaconda3\\lib\\site-packages\\statsmodels\\base\\model.py:512: ConvergenceWarning: Maximum Likelihood optimization failed to converge. Check mle_retvals\n",
      "  \"Check mle_retvals\", ConvergenceWarning)\n"
     ]
    },
    {
     "name": "stdout",
     "output_type": "stream",
     "text": [
      "ARIMA(4, 0, 2)x(0, 0, 0, 12)12 - AIC:637.7407372107696\n",
      "ARIMA(4, 0, 2)x(0, 0, 1, 12)12 - AIC:nan\n"
     ]
    },
    {
     "name": "stderr",
     "output_type": "stream",
     "text": [
      "C:\\Users\\Byom Kesh Jha\\Anaconda3\\lib\\site-packages\\statsmodels\\base\\model.py:512: ConvergenceWarning: Maximum Likelihood optimization failed to converge. Check mle_retvals\n",
      "  \"Check mle_retvals\", ConvergenceWarning)\n"
     ]
    },
    {
     "name": "stdout",
     "output_type": "stream",
     "text": [
      "ARIMA(4, 0, 2)x(0, 1, 0, 12)12 - AIC:443.9236199514986\n"
     ]
    },
    {
     "name": "stderr",
     "output_type": "stream",
     "text": [
      "C:\\Users\\Byom Kesh Jha\\Anaconda3\\lib\\site-packages\\statsmodels\\base\\model.py:512: ConvergenceWarning: Maximum Likelihood optimization failed to converge. Check mle_retvals\n",
      "  \"Check mle_retvals\", ConvergenceWarning)\n"
     ]
    },
    {
     "name": "stdout",
     "output_type": "stream",
     "text": [
      "ARIMA(4, 0, 2)x(0, 2, 0, 12)12 - AIC:297.55996896047355\n"
     ]
    },
    {
     "name": "stderr",
     "output_type": "stream",
     "text": [
      "C:\\Users\\Byom Kesh Jha\\Anaconda3\\lib\\site-packages\\statsmodels\\base\\model.py:512: ConvergenceWarning: Maximum Likelihood optimization failed to converge. Check mle_retvals\n",
      "  \"Check mle_retvals\", ConvergenceWarning)\n"
     ]
    },
    {
     "name": "stdout",
     "output_type": "stream",
     "text": [
      "ARIMA(4, 0, 2)x(0, 3, 0, 12)12 - AIC:nan\n"
     ]
    },
    {
     "name": "stderr",
     "output_type": "stream",
     "text": [
      "C:\\Users\\Byom Kesh Jha\\Anaconda3\\lib\\site-packages\\statsmodels\\base\\model.py:512: ConvergenceWarning: Maximum Likelihood optimization failed to converge. Check mle_retvals\n",
      "  \"Check mle_retvals\", ConvergenceWarning)\n",
      "C:\\Users\\Byom Kesh Jha\\Anaconda3\\lib\\site-packages\\statsmodels\\base\\model.py:512: ConvergenceWarning: Maximum Likelihood optimization failed to converge. Check mle_retvals\n",
      "  \"Check mle_retvals\", ConvergenceWarning)\n"
     ]
    },
    {
     "name": "stdout",
     "output_type": "stream",
     "text": [
      "ARIMA(4, 0, 2)x(1, 0, 0, 12)12 - AIC:457.1488321004874\n",
      "ARIMA(4, 0, 2)x(1, 0, 1, 12)12 - AIC:nan\n"
     ]
    },
    {
     "name": "stderr",
     "output_type": "stream",
     "text": [
      "C:\\Users\\Byom Kesh Jha\\Anaconda3\\lib\\site-packages\\statsmodels\\base\\model.py:512: ConvergenceWarning: Maximum Likelihood optimization failed to converge. Check mle_retvals\n",
      "  \"Check mle_retvals\", ConvergenceWarning)\n"
     ]
    },
    {
     "name": "stdout",
     "output_type": "stream",
     "text": [
      "ARIMA(4, 0, 2)x(1, 1, 0, 12)12 - AIC:273.2385425277504\n"
     ]
    },
    {
     "name": "stderr",
     "output_type": "stream",
     "text": [
      "C:\\Users\\Byom Kesh Jha\\Anaconda3\\lib\\site-packages\\statsmodels\\base\\model.py:512: ConvergenceWarning: Maximum Likelihood optimization failed to converge. Check mle_retvals\n",
      "  \"Check mle_retvals\", ConvergenceWarning)\n"
     ]
    },
    {
     "name": "stdout",
     "output_type": "stream",
     "text": [
      "ARIMA(4, 0, 2)x(1, 2, 0, 12)12 - AIC:121.77988579849128\n"
     ]
    },
    {
     "name": "stderr",
     "output_type": "stream",
     "text": [
      "C:\\Users\\Byom Kesh Jha\\Anaconda3\\lib\\site-packages\\statsmodels\\base\\model.py:512: ConvergenceWarning: Maximum Likelihood optimization failed to converge. Check mle_retvals\n",
      "  \"Check mle_retvals\", ConvergenceWarning)\n"
     ]
    },
    {
     "name": "stdout",
     "output_type": "stream",
     "text": [
      "ARIMA(4, 0, 2)x(2, 0, 0, 12)12 - AIC:289.77095349281154\n",
      "ARIMA(4, 0, 2)x(2, 0, 1, 12)12 - AIC:1689.4292577926303\n"
     ]
    },
    {
     "name": "stderr",
     "output_type": "stream",
     "text": [
      "C:\\Users\\Byom Kesh Jha\\Anaconda3\\lib\\site-packages\\statsmodels\\base\\model.py:512: ConvergenceWarning: Maximum Likelihood optimization failed to converge. Check mle_retvals\n",
      "  \"Check mle_retvals\", ConvergenceWarning)\n"
     ]
    },
    {
     "name": "stdout",
     "output_type": "stream",
     "text": [
      "ARIMA(4, 0, 2)x(2, 1, 0, 12)12 - AIC:119.11036197648164\n"
     ]
    },
    {
     "name": "stderr",
     "output_type": "stream",
     "text": [
      "C:\\Users\\Byom Kesh Jha\\Anaconda3\\lib\\site-packages\\statsmodels\\base\\model.py:512: ConvergenceWarning: Maximum Likelihood optimization failed to converge. Check mle_retvals\n",
      "  \"Check mle_retvals\", ConvergenceWarning)\n"
     ]
    },
    {
     "name": "stdout",
     "output_type": "stream",
     "text": [
      "ARIMA(4, 0, 2)x(3, 0, 0, 12)12 - AIC:127.9546336373912\n",
      "ARIMA(4, 0, 2)x(3, 0, 1, 12)12 - AIC:648.4938913674118\n"
     ]
    },
    {
     "name": "stderr",
     "output_type": "stream",
     "text": [
      "C:\\Users\\Byom Kesh Jha\\Anaconda3\\lib\\site-packages\\statsmodels\\base\\model.py:512: ConvergenceWarning: Maximum Likelihood optimization failed to converge. Check mle_retvals\n",
      "  \"Check mle_retvals\", ConvergenceWarning)\n"
     ]
    },
    {
     "name": "stdout",
     "output_type": "stream",
     "text": [
      "ARIMA(4, 0, 3)x(0, 0, 0, 12)12 - AIC:635.2337315201331\n",
      "ARIMA(4, 0, 3)x(0, 0, 1, 12)12 - AIC:2536.522862614086\n"
     ]
    },
    {
     "name": "stderr",
     "output_type": "stream",
     "text": [
      "C:\\Users\\Byom Kesh Jha\\Anaconda3\\lib\\site-packages\\statsmodels\\base\\model.py:512: ConvergenceWarning: Maximum Likelihood optimization failed to converge. Check mle_retvals\n",
      "  \"Check mle_retvals\", ConvergenceWarning)\n"
     ]
    },
    {
     "name": "stdout",
     "output_type": "stream",
     "text": [
      "ARIMA(4, 0, 3)x(0, 1, 0, 12)12 - AIC:442.37347319199944\n"
     ]
    },
    {
     "name": "stderr",
     "output_type": "stream",
     "text": [
      "C:\\Users\\Byom Kesh Jha\\Anaconda3\\lib\\site-packages\\statsmodels\\base\\model.py:512: ConvergenceWarning: Maximum Likelihood optimization failed to converge. Check mle_retvals\n",
      "  \"Check mle_retvals\", ConvergenceWarning)\n"
     ]
    },
    {
     "name": "stdout",
     "output_type": "stream",
     "text": [
      "ARIMA(4, 0, 3)x(0, 2, 0, 12)12 - AIC:299.1805039766146\n"
     ]
    },
    {
     "name": "stderr",
     "output_type": "stream",
     "text": [
      "C:\\Users\\Byom Kesh Jha\\Anaconda3\\lib\\site-packages\\statsmodels\\base\\model.py:512: ConvergenceWarning: Maximum Likelihood optimization failed to converge. Check mle_retvals\n",
      "  \"Check mle_retvals\", ConvergenceWarning)\n"
     ]
    },
    {
     "name": "stdout",
     "output_type": "stream",
     "text": [
      "ARIMA(4, 0, 3)x(0, 3, 0, 12)12 - AIC:nan\n"
     ]
    },
    {
     "name": "stderr",
     "output_type": "stream",
     "text": [
      "C:\\Users\\Byom Kesh Jha\\Anaconda3\\lib\\site-packages\\statsmodels\\base\\model.py:512: ConvergenceWarning: Maximum Likelihood optimization failed to converge. Check mle_retvals\n",
      "  \"Check mle_retvals\", ConvergenceWarning)\n"
     ]
    },
    {
     "name": "stdout",
     "output_type": "stream",
     "text": [
      "ARIMA(4, 0, 3)x(1, 0, 0, 12)12 - AIC:455.4299680241295\n",
      "ARIMA(4, 0, 3)x(1, 0, 1, 12)12 - AIC:2415.8167072030997\n"
     ]
    },
    {
     "name": "stderr",
     "output_type": "stream",
     "text": [
      "C:\\Users\\Byom Kesh Jha\\Anaconda3\\lib\\site-packages\\statsmodels\\base\\model.py:512: ConvergenceWarning: Maximum Likelihood optimization failed to converge. Check mle_retvals\n",
      "  \"Check mle_retvals\", ConvergenceWarning)\n"
     ]
    },
    {
     "name": "stdout",
     "output_type": "stream",
     "text": [
      "ARIMA(4, 0, 3)x(1, 1, 0, 12)12 - AIC:269.1323978197643\n"
     ]
    },
    {
     "name": "stderr",
     "output_type": "stream",
     "text": [
      "C:\\Users\\Byom Kesh Jha\\Anaconda3\\lib\\site-packages\\statsmodels\\base\\model.py:512: ConvergenceWarning: Maximum Likelihood optimization failed to converge. Check mle_retvals\n",
      "  \"Check mle_retvals\", ConvergenceWarning)\n"
     ]
    },
    {
     "name": "stdout",
     "output_type": "stream",
     "text": [
      "ARIMA(4, 0, 3)x(1, 2, 0, 12)12 - AIC:108.29803834760851\n"
     ]
    },
    {
     "name": "stderr",
     "output_type": "stream",
     "text": [
      "C:\\Users\\Byom Kesh Jha\\Anaconda3\\lib\\site-packages\\statsmodels\\base\\model.py:512: ConvergenceWarning: Maximum Likelihood optimization failed to converge. Check mle_retvals\n",
      "  \"Check mle_retvals\", ConvergenceWarning)\n"
     ]
    },
    {
     "name": "stdout",
     "output_type": "stream",
     "text": [
      "ARIMA(4, 0, 3)x(2, 0, 0, 12)12 - AIC:289.3664329515519\n"
     ]
    },
    {
     "name": "stderr",
     "output_type": "stream",
     "text": [
      "C:\\Users\\Byom Kesh Jha\\Anaconda3\\lib\\site-packages\\statsmodels\\base\\model.py:512: ConvergenceWarning: Maximum Likelihood optimization failed to converge. Check mle_retvals\n",
      "  \"Check mle_retvals\", ConvergenceWarning)\n"
     ]
    },
    {
     "name": "stdout",
     "output_type": "stream",
     "text": [
      "ARIMA(4, 0, 3)x(2, 0, 1, 12)12 - AIC:695.1240979637955\n"
     ]
    },
    {
     "name": "stderr",
     "output_type": "stream",
     "text": [
      "C:\\Users\\Byom Kesh Jha\\Anaconda3\\lib\\site-packages\\statsmodels\\base\\model.py:512: ConvergenceWarning: Maximum Likelihood optimization failed to converge. Check mle_retvals\n",
      "  \"Check mle_retvals\", ConvergenceWarning)\n"
     ]
    },
    {
     "name": "stdout",
     "output_type": "stream",
     "text": [
      "ARIMA(4, 0, 3)x(2, 1, 0, 12)12 - AIC:119.33702808684544\n"
     ]
    },
    {
     "name": "stderr",
     "output_type": "stream",
     "text": [
      "C:\\Users\\Byom Kesh Jha\\Anaconda3\\lib\\site-packages\\statsmodels\\base\\model.py:512: ConvergenceWarning: Maximum Likelihood optimization failed to converge. Check mle_retvals\n",
      "  \"Check mle_retvals\", ConvergenceWarning)\n"
     ]
    },
    {
     "name": "stdout",
     "output_type": "stream",
     "text": [
      "ARIMA(4, 0, 3)x(3, 0, 0, 12)12 - AIC:128.43721952594842\n",
      "ARIMA(4, 0, 3)x(3, 0, 1, 12)12 - AIC:337.8958695256799\n"
     ]
    },
    {
     "name": "stderr",
     "output_type": "stream",
     "text": [
      "C:\\Users\\Byom Kesh Jha\\Anaconda3\\lib\\site-packages\\statsmodels\\base\\model.py:512: ConvergenceWarning: Maximum Likelihood optimization failed to converge. Check mle_retvals\n",
      "  \"Check mle_retvals\", ConvergenceWarning)\n"
     ]
    },
    {
     "name": "stdout",
     "output_type": "stream",
     "text": [
      "ARIMA(4, 0, 4)x(0, 0, 0, 12)12 - AIC:623.3897805775666\n",
      "ARIMA(4, 0, 4)x(0, 0, 1, 12)12 - AIC:30954.738512485746\n"
     ]
    },
    {
     "name": "stderr",
     "output_type": "stream",
     "text": [
      "C:\\Users\\Byom Kesh Jha\\Anaconda3\\lib\\site-packages\\statsmodels\\base\\model.py:512: ConvergenceWarning: Maximum Likelihood optimization failed to converge. Check mle_retvals\n",
      "  \"Check mle_retvals\", ConvergenceWarning)\n"
     ]
    },
    {
     "name": "stdout",
     "output_type": "stream",
     "text": [
      "ARIMA(4, 0, 4)x(0, 1, 0, 12)12 - AIC:424.22457250359116\n"
     ]
    },
    {
     "name": "stderr",
     "output_type": "stream",
     "text": [
      "C:\\Users\\Byom Kesh Jha\\Anaconda3\\lib\\site-packages\\statsmodels\\base\\model.py:512: ConvergenceWarning: Maximum Likelihood optimization failed to converge. Check mle_retvals\n",
      "  \"Check mle_retvals\", ConvergenceWarning)\n"
     ]
    },
    {
     "name": "stdout",
     "output_type": "stream",
     "text": [
      "ARIMA(4, 0, 4)x(0, 2, 0, 12)12 - AIC:278.5339970274358\n"
     ]
    },
    {
     "name": "stderr",
     "output_type": "stream",
     "text": [
      "C:\\Users\\Byom Kesh Jha\\Anaconda3\\lib\\site-packages\\statsmodels\\base\\model.py:512: ConvergenceWarning: Maximum Likelihood optimization failed to converge. Check mle_retvals\n",
      "  \"Check mle_retvals\", ConvergenceWarning)\n"
     ]
    },
    {
     "name": "stdout",
     "output_type": "stream",
     "text": [
      "ARIMA(4, 0, 4)x(1, 0, 0, 12)12 - AIC:457.08842595660576\n",
      "ARIMA(4, 0, 4)x(1, 0, 1, 12)12 - AIC:2342.433714601366\n"
     ]
    },
    {
     "name": "stderr",
     "output_type": "stream",
     "text": [
      "C:\\Users\\Byom Kesh Jha\\Anaconda3\\lib\\site-packages\\statsmodels\\base\\model.py:512: ConvergenceWarning: Maximum Likelihood optimization failed to converge. Check mle_retvals\n",
      "  \"Check mle_retvals\", ConvergenceWarning)\n"
     ]
    },
    {
     "name": "stdout",
     "output_type": "stream",
     "text": [
      "ARIMA(4, 0, 4)x(1, 1, 0, 12)12 - AIC:272.3149863717658\n"
     ]
    },
    {
     "name": "stderr",
     "output_type": "stream",
     "text": [
      "C:\\Users\\Byom Kesh Jha\\Anaconda3\\lib\\site-packages\\statsmodels\\base\\model.py:512: ConvergenceWarning: Maximum Likelihood optimization failed to converge. Check mle_retvals\n",
      "  \"Check mle_retvals\", ConvergenceWarning)\n"
     ]
    },
    {
     "name": "stdout",
     "output_type": "stream",
     "text": [
      "ARIMA(4, 0, 4)x(1, 2, 0, 12)12 - AIC:117.10964013617085\n"
     ]
    },
    {
     "name": "stderr",
     "output_type": "stream",
     "text": [
      "C:\\Users\\Byom Kesh Jha\\Anaconda3\\lib\\site-packages\\statsmodels\\base\\model.py:512: ConvergenceWarning: Maximum Likelihood optimization failed to converge. Check mle_retvals\n",
      "  \"Check mle_retvals\", ConvergenceWarning)\n"
     ]
    },
    {
     "name": "stdout",
     "output_type": "stream",
     "text": [
      "ARIMA(4, 0, 4)x(2, 0, 0, 12)12 - AIC:290.9699700494875\n"
     ]
    },
    {
     "name": "stderr",
     "output_type": "stream",
     "text": [
      "C:\\Users\\Byom Kesh Jha\\Anaconda3\\lib\\site-packages\\statsmodels\\base\\model.py:512: ConvergenceWarning: Maximum Likelihood optimization failed to converge. Check mle_retvals\n",
      "  \"Check mle_retvals\", ConvergenceWarning)\n"
     ]
    },
    {
     "name": "stdout",
     "output_type": "stream",
     "text": [
      "ARIMA(4, 0, 4)x(2, 0, 1, 12)12 - AIC:1397.6420813325192\n"
     ]
    },
    {
     "name": "stderr",
     "output_type": "stream",
     "text": [
      "C:\\Users\\Byom Kesh Jha\\Anaconda3\\lib\\site-packages\\statsmodels\\base\\model.py:512: ConvergenceWarning: Maximum Likelihood optimization failed to converge. Check mle_retvals\n",
      "  \"Check mle_retvals\", ConvergenceWarning)\n"
     ]
    },
    {
     "name": "stdout",
     "output_type": "stream",
     "text": [
      "ARIMA(4, 0, 4)x(2, 1, 0, 12)12 - AIC:119.96218116250931\n"
     ]
    },
    {
     "name": "stderr",
     "output_type": "stream",
     "text": [
      "C:\\Users\\Byom Kesh Jha\\Anaconda3\\lib\\site-packages\\statsmodels\\base\\model.py:512: ConvergenceWarning: Maximum Likelihood optimization failed to converge. Check mle_retvals\n",
      "  \"Check mle_retvals\", ConvergenceWarning)\n"
     ]
    },
    {
     "name": "stdout",
     "output_type": "stream",
     "text": [
      "ARIMA(4, 0, 4)x(3, 0, 0, 12)12 - AIC:130.06227643572544\n"
     ]
    },
    {
     "name": "stderr",
     "output_type": "stream",
     "text": [
      "C:\\Users\\Byom Kesh Jha\\Anaconda3\\lib\\site-packages\\statsmodels\\base\\model.py:512: ConvergenceWarning: Maximum Likelihood optimization failed to converge. Check mle_retvals\n",
      "  \"Check mle_retvals\", ConvergenceWarning)\n"
     ]
    },
    {
     "name": "stdout",
     "output_type": "stream",
     "text": [
      "ARIMA(4, 0, 4)x(3, 0, 1, 12)12 - AIC:306.6597815358997\n",
      "ARIMA(4, 1, 0)x(0, 0, 0, 12)12 - AIC:628.61268994995\n"
     ]
    },
    {
     "name": "stderr",
     "output_type": "stream",
     "text": [
      "C:\\Users\\Byom Kesh Jha\\Anaconda3\\lib\\site-packages\\statsmodels\\base\\model.py:512: ConvergenceWarning: Maximum Likelihood optimization failed to converge. Check mle_retvals\n",
      "  \"Check mle_retvals\", ConvergenceWarning)\n"
     ]
    },
    {
     "name": "stdout",
     "output_type": "stream",
     "text": [
      "ARIMA(4, 1, 0)x(0, 0, 1, 12)12 - AIC:1420.661858117066\n",
      "ARIMA(4, 1, 0)x(0, 1, 0, 12)12 - AIC:441.7149713927926\n",
      "ARIMA(4, 1, 0)x(0, 2, 0, 12)12 - AIC:291.5205092176417\n",
      "ARIMA(4, 1, 0)x(0, 3, 0, 12)12 - AIC:118.45520374490764\n",
      "ARIMA(4, 1, 0)x(1, 0, 0, 12)12 - AIC:439.6735804127824\n",
      "ARIMA(4, 1, 0)x(1, 0, 1, 12)12 - AIC:1069.4065089366525\n",
      "ARIMA(4, 1, 0)x(1, 1, 0, 12)12 - AIC:263.64300457193394\n",
      "ARIMA(4, 1, 0)x(1, 2, 0, 12)12 - AIC:102.13684169266187\n",
      "ARIMA(4, 1, 0)x(2, 0, 0, 12)12 - AIC:265.1426560192651\n"
     ]
    },
    {
     "name": "stderr",
     "output_type": "stream",
     "text": [
      "C:\\Users\\Byom Kesh Jha\\Anaconda3\\lib\\site-packages\\statsmodels\\base\\model.py:512: ConvergenceWarning: Maximum Likelihood optimization failed to converge. Check mle_retvals\n",
      "  \"Check mle_retvals\", ConvergenceWarning)\n"
     ]
    },
    {
     "name": "stdout",
     "output_type": "stream",
     "text": [
      "ARIMA(4, 1, 0)x(2, 0, 1, 12)12 - AIC:786.4952328266706\n",
      "ARIMA(4, 1, 0)x(2, 1, 0, 12)12 - AIC:104.11128672099608\n"
     ]
    },
    {
     "name": "stderr",
     "output_type": "stream",
     "text": [
      "C:\\Users\\Byom Kesh Jha\\Anaconda3\\lib\\site-packages\\statsmodels\\base\\model.py:512: ConvergenceWarning: Maximum Likelihood optimization failed to converge. Check mle_retvals\n",
      "  \"Check mle_retvals\", ConvergenceWarning)\n"
     ]
    },
    {
     "name": "stdout",
     "output_type": "stream",
     "text": [
      "ARIMA(4, 1, 0)x(3, 0, 0, 12)12 - AIC:108.75177707400954\n"
     ]
    },
    {
     "name": "stderr",
     "output_type": "stream",
     "text": [
      "C:\\Users\\Byom Kesh Jha\\Anaconda3\\lib\\site-packages\\statsmodels\\base\\model.py:512: ConvergenceWarning: Maximum Likelihood optimization failed to converge. Check mle_retvals\n",
      "  \"Check mle_retvals\", ConvergenceWarning)\n"
     ]
    },
    {
     "name": "stdout",
     "output_type": "stream",
     "text": [
      "ARIMA(4, 1, 0)x(3, 0, 1, 12)12 - AIC:300.7878620351854\n",
      "ARIMA(4, 1, 1)x(0, 0, 0, 12)12 - AIC:624.1582220695734\n",
      "ARIMA(4, 1, 1)x(0, 0, 1, 12)12 - AIC:4101.646184035608\n",
      "ARIMA(4, 1, 1)x(0, 1, 0, 12)12 - AIC:439.33201518949437\n",
      "ARIMA(4, 1, 1)x(0, 2, 0, 12)12 - AIC:292.28140545718117\n",
      "ARIMA(4, 1, 1)x(0, 3, 0, 12)12 - AIC:119.05797359186415\n",
      "ARIMA(4, 1, 1)x(1, 0, 0, 12)12 - AIC:435.91297141793194\n",
      "ARIMA(4, 1, 1)x(1, 0, 1, 12)12 - AIC:4408.858197590416\n",
      "ARIMA(4, 1, 1)x(1, 1, 0, 12)12 - AIC:264.5376969037077\n"
     ]
    },
    {
     "name": "stderr",
     "output_type": "stream",
     "text": [
      "C:\\Users\\Byom Kesh Jha\\Anaconda3\\lib\\site-packages\\statsmodels\\base\\model.py:512: ConvergenceWarning: Maximum Likelihood optimization failed to converge. Check mle_retvals\n",
      "  \"Check mle_retvals\", ConvergenceWarning)\n"
     ]
    },
    {
     "name": "stdout",
     "output_type": "stream",
     "text": [
      "ARIMA(4, 1, 1)x(1, 2, 0, 12)12 - AIC:105.11534984993278\n",
      "ARIMA(4, 1, 1)x(2, 0, 0, 12)12 - AIC:264.3814207343603\n"
     ]
    },
    {
     "name": "stderr",
     "output_type": "stream",
     "text": [
      "C:\\Users\\Byom Kesh Jha\\Anaconda3\\lib\\site-packages\\statsmodels\\base\\model.py:512: ConvergenceWarning: Maximum Likelihood optimization failed to converge. Check mle_retvals\n",
      "  \"Check mle_retvals\", ConvergenceWarning)\n"
     ]
    },
    {
     "name": "stdout",
     "output_type": "stream",
     "text": [
      "ARIMA(4, 1, 1)x(2, 0, 1, 12)12 - AIC:545.7311798822936\n"
     ]
    },
    {
     "name": "stderr",
     "output_type": "stream",
     "text": [
      "C:\\Users\\Byom Kesh Jha\\Anaconda3\\lib\\site-packages\\statsmodels\\base\\model.py:512: ConvergenceWarning: Maximum Likelihood optimization failed to converge. Check mle_retvals\n",
      "  \"Check mle_retvals\", ConvergenceWarning)\n"
     ]
    },
    {
     "name": "stdout",
     "output_type": "stream",
     "text": [
      "ARIMA(4, 1, 1)x(2, 1, 0, 12)12 - AIC:102.10966147490586\n"
     ]
    },
    {
     "name": "stderr",
     "output_type": "stream",
     "text": [
      "C:\\Users\\Byom Kesh Jha\\Anaconda3\\lib\\site-packages\\statsmodels\\base\\model.py:512: ConvergenceWarning: Maximum Likelihood optimization failed to converge. Check mle_retvals\n",
      "  \"Check mle_retvals\", ConvergenceWarning)\n"
     ]
    },
    {
     "name": "stdout",
     "output_type": "stream",
     "text": [
      "ARIMA(4, 1, 1)x(3, 0, 0, 12)12 - AIC:111.72990866638544\n"
     ]
    },
    {
     "name": "stderr",
     "output_type": "stream",
     "text": [
      "C:\\Users\\Byom Kesh Jha\\Anaconda3\\lib\\site-packages\\statsmodels\\base\\model.py:512: ConvergenceWarning: Maximum Likelihood optimization failed to converge. Check mle_retvals\n",
      "  \"Check mle_retvals\", ConvergenceWarning)\n"
     ]
    },
    {
     "name": "stdout",
     "output_type": "stream",
     "text": [
      "ARIMA(4, 1, 1)x(3, 0, 1, 12)12 - AIC:215.8080568370209\n"
     ]
    },
    {
     "name": "stderr",
     "output_type": "stream",
     "text": [
      "C:\\Users\\Byom Kesh Jha\\Anaconda3\\lib\\site-packages\\statsmodels\\base\\model.py:512: ConvergenceWarning: Maximum Likelihood optimization failed to converge. Check mle_retvals\n",
      "  \"Check mle_retvals\", ConvergenceWarning)\n",
      "C:\\Users\\Byom Kesh Jha\\Anaconda3\\lib\\site-packages\\statsmodels\\base\\model.py:512: ConvergenceWarning: Maximum Likelihood optimization failed to converge. Check mle_retvals\n",
      "  \"Check mle_retvals\", ConvergenceWarning)\n"
     ]
    },
    {
     "name": "stdout",
     "output_type": "stream",
     "text": [
      "ARIMA(4, 1, 2)x(0, 0, 0, 12)12 - AIC:623.4739337094185\n",
      "ARIMA(4, 1, 2)x(0, 0, 1, 12)12 - AIC:2603.511532771394\n",
      "ARIMA(4, 1, 2)x(0, 1, 0, 12)12 - AIC:445.5255905144106\n",
      "ARIMA(4, 1, 2)x(0, 2, 0, 12)12 - AIC:294.2243768461569\n"
     ]
    },
    {
     "name": "stderr",
     "output_type": "stream",
     "text": [
      "C:\\Users\\Byom Kesh Jha\\Anaconda3\\lib\\site-packages\\statsmodels\\base\\model.py:512: ConvergenceWarning: Maximum Likelihood optimization failed to converge. Check mle_retvals\n",
      "  \"Check mle_retvals\", ConvergenceWarning)\n"
     ]
    },
    {
     "name": "stdout",
     "output_type": "stream",
     "text": [
      "ARIMA(4, 1, 2)x(0, 3, 0, 12)12 - AIC:nan\n"
     ]
    },
    {
     "name": "stderr",
     "output_type": "stream",
     "text": [
      "C:\\Users\\Byom Kesh Jha\\Anaconda3\\lib\\site-packages\\statsmodels\\base\\model.py:512: ConvergenceWarning: Maximum Likelihood optimization failed to converge. Check mle_retvals\n",
      "  \"Check mle_retvals\", ConvergenceWarning)\n",
      "C:\\Users\\Byom Kesh Jha\\Anaconda3\\lib\\site-packages\\statsmodels\\base\\model.py:512: ConvergenceWarning: Maximum Likelihood optimization failed to converge. Check mle_retvals\n",
      "  \"Check mle_retvals\", ConvergenceWarning)\n"
     ]
    },
    {
     "name": "stdout",
     "output_type": "stream",
     "text": [
      "ARIMA(4, 1, 2)x(1, 0, 0, 12)12 - AIC:439.0587609211135\n",
      "ARIMA(4, 1, 2)x(1, 0, 1, 12)12 - AIC:2511.2873787804538\n",
      "ARIMA(4, 1, 2)x(1, 1, 0, 12)12 - AIC:520.9751666046809\n"
     ]
    },
    {
     "name": "stderr",
     "output_type": "stream",
     "text": [
      "C:\\Users\\Byom Kesh Jha\\Anaconda3\\lib\\site-packages\\statsmodels\\base\\model.py:512: ConvergenceWarning: Maximum Likelihood optimization failed to converge. Check mle_retvals\n",
      "  \"Check mle_retvals\", ConvergenceWarning)\n"
     ]
    },
    {
     "name": "stdout",
     "output_type": "stream",
     "text": [
      "ARIMA(4, 1, 2)x(1, 2, 0, 12)12 - AIC:108.02210897576396\n"
     ]
    },
    {
     "name": "stderr",
     "output_type": "stream",
     "text": [
      "C:\\Users\\Byom Kesh Jha\\Anaconda3\\lib\\site-packages\\statsmodels\\base\\model.py:512: ConvergenceWarning: Maximum Likelihood optimization failed to converge. Check mle_retvals\n",
      "  \"Check mle_retvals\", ConvergenceWarning)\n"
     ]
    },
    {
     "name": "stdout",
     "output_type": "stream",
     "text": [
      "ARIMA(4, 1, 2)x(2, 0, 0, 12)12 - AIC:267.1007556127137\n"
     ]
    },
    {
     "name": "stderr",
     "output_type": "stream",
     "text": [
      "C:\\Users\\Byom Kesh Jha\\Anaconda3\\lib\\site-packages\\statsmodels\\base\\model.py:512: ConvergenceWarning: Maximum Likelihood optimization failed to converge. Check mle_retvals\n",
      "  \"Check mle_retvals\", ConvergenceWarning)\n"
     ]
    },
    {
     "name": "stdout",
     "output_type": "stream",
     "text": [
      "ARIMA(4, 1, 2)x(2, 0, 1, 12)12 - AIC:901.5597668924833\n",
      "ARIMA(4, 1, 2)x(2, 1, 0, 12)12 - AIC:208.51562509721512\n"
     ]
    },
    {
     "name": "stderr",
     "output_type": "stream",
     "text": [
      "C:\\Users\\Byom Kesh Jha\\Anaconda3\\lib\\site-packages\\statsmodels\\base\\model.py:512: ConvergenceWarning: Maximum Likelihood optimization failed to converge. Check mle_retvals\n",
      "  \"Check mle_retvals\", ConvergenceWarning)\n"
     ]
    },
    {
     "name": "stdout",
     "output_type": "stream",
     "text": [
      "ARIMA(4, 1, 2)x(3, 0, 0, 12)12 - AIC:114.39864797966744\n"
     ]
    },
    {
     "name": "stderr",
     "output_type": "stream",
     "text": [
      "C:\\Users\\Byom Kesh Jha\\Anaconda3\\lib\\site-packages\\statsmodels\\base\\model.py:512: ConvergenceWarning: Maximum Likelihood optimization failed to converge. Check mle_retvals\n",
      "  \"Check mle_retvals\", ConvergenceWarning)\n"
     ]
    },
    {
     "name": "stdout",
     "output_type": "stream",
     "text": [
      "ARIMA(4, 1, 2)x(3, 0, 1, 12)12 - AIC:300.58327263657327\n",
      "ARIMA(4, 1, 3)x(0, 0, 0, 12)12 - AIC:618.9973188844236\n",
      "ARIMA(4, 1, 3)x(0, 0, 1, 12)12 - AIC:2452.5506118562434\n"
     ]
    },
    {
     "name": "stderr",
     "output_type": "stream",
     "text": [
      "C:\\Users\\Byom Kesh Jha\\Anaconda3\\lib\\site-packages\\statsmodels\\base\\model.py:512: ConvergenceWarning: Maximum Likelihood optimization failed to converge. Check mle_retvals\n",
      "  \"Check mle_retvals\", ConvergenceWarning)\n"
     ]
    },
    {
     "name": "stdout",
     "output_type": "stream",
     "text": [
      "ARIMA(4, 1, 3)x(0, 1, 0, 12)12 - AIC:441.5585712255477\n",
      "ARIMA(4, 1, 3)x(0, 2, 0, 12)12 - AIC:292.3028267255586\n"
     ]
    },
    {
     "name": "stderr",
     "output_type": "stream",
     "text": [
      "C:\\Users\\Byom Kesh Jha\\Anaconda3\\lib\\site-packages\\statsmodels\\base\\model.py:512: ConvergenceWarning: Maximum Likelihood optimization failed to converge. Check mle_retvals\n",
      "  \"Check mle_retvals\", ConvergenceWarning)\n"
     ]
    },
    {
     "name": "stdout",
     "output_type": "stream",
     "text": [
      "ARIMA(4, 1, 3)x(0, 3, 0, 12)12 - AIC:nan\n"
     ]
    },
    {
     "name": "stderr",
     "output_type": "stream",
     "text": [
      "C:\\Users\\Byom Kesh Jha\\Anaconda3\\lib\\site-packages\\statsmodels\\base\\model.py:512: ConvergenceWarning: Maximum Likelihood optimization failed to converge. Check mle_retvals\n",
      "  \"Check mle_retvals\", ConvergenceWarning)\n"
     ]
    },
    {
     "name": "stdout",
     "output_type": "stream",
     "text": [
      "ARIMA(4, 1, 3)x(1, 0, 0, 12)12 - AIC:434.554590937656\n",
      "ARIMA(4, 1, 3)x(1, 0, 1, 12)12 - AIC:2481.9361022483627\n"
     ]
    },
    {
     "name": "stderr",
     "output_type": "stream",
     "text": [
      "C:\\Users\\Byom Kesh Jha\\Anaconda3\\lib\\site-packages\\statsmodels\\base\\model.py:512: ConvergenceWarning: Maximum Likelihood optimization failed to converge. Check mle_retvals\n",
      "  \"Check mle_retvals\", ConvergenceWarning)\n"
     ]
    },
    {
     "name": "stdout",
     "output_type": "stream",
     "text": [
      "ARIMA(4, 1, 3)x(1, 1, 0, 12)12 - AIC:263.17643982849097\n"
     ]
    },
    {
     "name": "stderr",
     "output_type": "stream",
     "text": [
      "C:\\Users\\Byom Kesh Jha\\Anaconda3\\lib\\site-packages\\statsmodels\\base\\model.py:512: ConvergenceWarning: Maximum Likelihood optimization failed to converge. Check mle_retvals\n",
      "  \"Check mle_retvals\", ConvergenceWarning)\n"
     ]
    },
    {
     "name": "stdout",
     "output_type": "stream",
     "text": [
      "ARIMA(4, 1, 3)x(1, 2, 0, 12)12 - AIC:102.15315228805777\n"
     ]
    },
    {
     "name": "stderr",
     "output_type": "stream",
     "text": [
      "C:\\Users\\Byom Kesh Jha\\Anaconda3\\lib\\site-packages\\statsmodels\\base\\model.py:512: ConvergenceWarning: Maximum Likelihood optimization failed to converge. Check mle_retvals\n",
      "  \"Check mle_retvals\", ConvergenceWarning)\n"
     ]
    },
    {
     "name": "stdout",
     "output_type": "stream",
     "text": [
      "ARIMA(4, 1, 3)x(2, 0, 0, 12)12 - AIC:257.38137967967054\n",
      "ARIMA(4, 1, 3)x(2, 0, 1, 12)12 - AIC:1562.991969952271\n"
     ]
    },
    {
     "name": "stderr",
     "output_type": "stream",
     "text": [
      "C:\\Users\\Byom Kesh Jha\\Anaconda3\\lib\\site-packages\\statsmodels\\base\\model.py:512: ConvergenceWarning: Maximum Likelihood optimization failed to converge. Check mle_retvals\n",
      "  \"Check mle_retvals\", ConvergenceWarning)\n"
     ]
    },
    {
     "name": "stdout",
     "output_type": "stream",
     "text": [
      "ARIMA(4, 1, 3)x(2, 1, 0, 12)12 - AIC:106.1631551953471\n"
     ]
    },
    {
     "name": "stderr",
     "output_type": "stream",
     "text": [
      "C:\\Users\\Byom Kesh Jha\\Anaconda3\\lib\\site-packages\\statsmodels\\base\\model.py:512: ConvergenceWarning: Maximum Likelihood optimization failed to converge. Check mle_retvals\n",
      "  \"Check mle_retvals\", ConvergenceWarning)\n"
     ]
    },
    {
     "name": "stdout",
     "output_type": "stream",
     "text": [
      "ARIMA(4, 1, 3)x(3, 0, 0, 12)12 - AIC:114.34334892310609\n"
     ]
    },
    {
     "name": "stderr",
     "output_type": "stream",
     "text": [
      "C:\\Users\\Byom Kesh Jha\\Anaconda3\\lib\\site-packages\\statsmodels\\base\\model.py:512: ConvergenceWarning: Maximum Likelihood optimization failed to converge. Check mle_retvals\n",
      "  \"Check mle_retvals\", ConvergenceWarning)\n"
     ]
    },
    {
     "name": "stdout",
     "output_type": "stream",
     "text": [
      "ARIMA(4, 1, 3)x(3, 0, 1, 12)12 - AIC:570.1296187875026\n"
     ]
    },
    {
     "name": "stderr",
     "output_type": "stream",
     "text": [
      "C:\\Users\\Byom Kesh Jha\\Anaconda3\\lib\\site-packages\\statsmodels\\base\\model.py:512: ConvergenceWarning: Maximum Likelihood optimization failed to converge. Check mle_retvals\n",
      "  \"Check mle_retvals\", ConvergenceWarning)\n"
     ]
    },
    {
     "name": "stdout",
     "output_type": "stream",
     "text": [
      "ARIMA(4, 1, 4)x(0, 0, 0, 12)12 - AIC:601.9649133477266\n",
      "ARIMA(4, 1, 4)x(0, 0, 1, 12)12 - AIC:2359.7765315109364\n"
     ]
    },
    {
     "name": "stderr",
     "output_type": "stream",
     "text": [
      "C:\\Users\\Byom Kesh Jha\\Anaconda3\\lib\\site-packages\\statsmodels\\base\\model.py:512: ConvergenceWarning: Maximum Likelihood optimization failed to converge. Check mle_retvals\n",
      "  \"Check mle_retvals\", ConvergenceWarning)\n"
     ]
    },
    {
     "name": "stdout",
     "output_type": "stream",
     "text": [
      "ARIMA(4, 1, 4)x(0, 1, 0, 12)12 - AIC:419.57185155136386\n"
     ]
    },
    {
     "name": "stderr",
     "output_type": "stream",
     "text": [
      "C:\\Users\\Byom Kesh Jha\\Anaconda3\\lib\\site-packages\\statsmodels\\base\\model.py:512: ConvergenceWarning: Maximum Likelihood optimization failed to converge. Check mle_retvals\n",
      "  \"Check mle_retvals\", ConvergenceWarning)\n"
     ]
    },
    {
     "name": "stdout",
     "output_type": "stream",
     "text": [
      "ARIMA(4, 1, 4)x(0, 2, 0, 12)12 - AIC:263.11148625155874\n"
     ]
    },
    {
     "name": "stderr",
     "output_type": "stream",
     "text": [
      "C:\\Users\\Byom Kesh Jha\\Anaconda3\\lib\\site-packages\\statsmodels\\base\\model.py:512: ConvergenceWarning: Maximum Likelihood optimization failed to converge. Check mle_retvals\n",
      "  \"Check mle_retvals\", ConvergenceWarning)\n"
     ]
    },
    {
     "name": "stdout",
     "output_type": "stream",
     "text": [
      "ARIMA(4, 1, 4)x(1, 0, 0, 12)12 - AIC:438.38017180601804\n"
     ]
    },
    {
     "name": "stderr",
     "output_type": "stream",
     "text": [
      "C:\\Users\\Byom Kesh Jha\\Anaconda3\\lib\\site-packages\\statsmodels\\base\\model.py:512: ConvergenceWarning: Maximum Likelihood optimization failed to converge. Check mle_retvals\n",
      "  \"Check mle_retvals\", ConvergenceWarning)\n"
     ]
    },
    {
     "name": "stdout",
     "output_type": "stream",
     "text": [
      "ARIMA(4, 1, 4)x(1, 0, 1, 12)12 - AIC:nan\n"
     ]
    },
    {
     "name": "stderr",
     "output_type": "stream",
     "text": [
      "C:\\Users\\Byom Kesh Jha\\Anaconda3\\lib\\site-packages\\statsmodels\\base\\model.py:512: ConvergenceWarning: Maximum Likelihood optimization failed to converge. Check mle_retvals\n",
      "  \"Check mle_retvals\", ConvergenceWarning)\n"
     ]
    },
    {
     "name": "stdout",
     "output_type": "stream",
     "text": [
      "ARIMA(4, 1, 4)x(1, 1, 0, 12)12 - AIC:265.55609902415404\n"
     ]
    },
    {
     "name": "stderr",
     "output_type": "stream",
     "text": [
      "C:\\Users\\Byom Kesh Jha\\Anaconda3\\lib\\site-packages\\statsmodels\\base\\model.py:512: ConvergenceWarning: Maximum Likelihood optimization failed to converge. Check mle_retvals\n",
      "  \"Check mle_retvals\", ConvergenceWarning)\n"
     ]
    },
    {
     "name": "stdout",
     "output_type": "stream",
     "text": [
      "ARIMA(4, 1, 4)x(1, 2, 0, 12)12 - AIC:104.81798041085786\n"
     ]
    },
    {
     "name": "stderr",
     "output_type": "stream",
     "text": [
      "C:\\Users\\Byom Kesh Jha\\Anaconda3\\lib\\site-packages\\statsmodels\\base\\model.py:512: ConvergenceWarning: Maximum Likelihood optimization failed to converge. Check mle_retvals\n",
      "  \"Check mle_retvals\", ConvergenceWarning)\n"
     ]
    },
    {
     "name": "stdout",
     "output_type": "stream",
     "text": [
      "ARIMA(4, 1, 4)x(2, 0, 0, 12)12 - AIC:270.5773349314461\n",
      "ARIMA(4, 1, 4)x(2, 0, 1, 12)12 - AIC:1496.4176515606719\n"
     ]
    },
    {
     "name": "stderr",
     "output_type": "stream",
     "text": [
      "C:\\Users\\Byom Kesh Jha\\Anaconda3\\lib\\site-packages\\statsmodels\\base\\model.py:512: ConvergenceWarning: Maximum Likelihood optimization failed to converge. Check mle_retvals\n",
      "  \"Check mle_retvals\", ConvergenceWarning)\n"
     ]
    },
    {
     "name": "stdout",
     "output_type": "stream",
     "text": [
      "ARIMA(4, 1, 4)x(2, 1, 0, 12)12 - AIC:109.9566242263621\n"
     ]
    },
    {
     "name": "stderr",
     "output_type": "stream",
     "text": [
      "C:\\Users\\Byom Kesh Jha\\Anaconda3\\lib\\site-packages\\statsmodels\\base\\model.py:512: ConvergenceWarning: Maximum Likelihood optimization failed to converge. Check mle_retvals\n",
      "  \"Check mle_retvals\", ConvergenceWarning)\n"
     ]
    },
    {
     "name": "stdout",
     "output_type": "stream",
     "text": [
      "ARIMA(4, 1, 4)x(3, 0, 0, 12)12 - AIC:112.76921701560751\n",
      "ARIMA(4, 1, 4)x(3, 0, 1, 12)12 - AIC:583.7949355582856\n",
      "ARIMA(4, 2, 0)x(0, 0, 0, 12)12 - AIC:628.2503066530093\n"
     ]
    },
    {
     "name": "stderr",
     "output_type": "stream",
     "text": [
      "C:\\Users\\Byom Kesh Jha\\Anaconda3\\lib\\site-packages\\statsmodels\\base\\model.py:512: ConvergenceWarning: Maximum Likelihood optimization failed to converge. Check mle_retvals\n",
      "  \"Check mle_retvals\", ConvergenceWarning)\n"
     ]
    },
    {
     "name": "stdout",
     "output_type": "stream",
     "text": [
      "ARIMA(4, 2, 0)x(0, 0, 1, 12)12 - AIC:1406.6983371787312\n",
      "ARIMA(4, 2, 0)x(0, 1, 0, 12)12 - AIC:437.2136542087352\n",
      "ARIMA(4, 2, 0)x(0, 2, 0, 12)12 - AIC:282.04715477785857\n",
      "ARIMA(4, 2, 0)x(0, 3, 0, 12)12 - AIC:104.02588407951825\n",
      "ARIMA(4, 2, 0)x(1, 0, 0, 12)12 - AIC:435.97278492263894\n"
     ]
    },
    {
     "name": "stderr",
     "output_type": "stream",
     "text": [
      "C:\\Users\\Byom Kesh Jha\\Anaconda3\\lib\\site-packages\\statsmodels\\base\\model.py:512: ConvergenceWarning: Maximum Likelihood optimization failed to converge. Check mle_retvals\n",
      "  \"Check mle_retvals\", ConvergenceWarning)\n"
     ]
    },
    {
     "name": "stdout",
     "output_type": "stream",
     "text": [
      "ARIMA(4, 2, 0)x(1, 0, 1, 12)12 - AIC:1428.4654704147842\n",
      "ARIMA(4, 2, 0)x(1, 1, 0, 12)12 - AIC:256.5490952996287\n",
      "ARIMA(4, 2, 0)x(1, 2, 0, 12)12 - AIC:89.05037400438451\n",
      "ARIMA(4, 2, 0)x(2, 0, 0, 12)12 - AIC:258.1131464506709\n"
     ]
    },
    {
     "name": "stderr",
     "output_type": "stream",
     "text": [
      "C:\\Users\\Byom Kesh Jha\\Anaconda3\\lib\\site-packages\\statsmodels\\base\\model.py:512: ConvergenceWarning: Maximum Likelihood optimization failed to converge. Check mle_retvals\n",
      "  \"Check mle_retvals\", ConvergenceWarning)\n"
     ]
    },
    {
     "name": "stdout",
     "output_type": "stream",
     "text": [
      "ARIMA(4, 2, 0)x(2, 0, 1, 12)12 - AIC:824.3449477982746\n"
     ]
    },
    {
     "name": "stderr",
     "output_type": "stream",
     "text": [
      "C:\\Users\\Byom Kesh Jha\\Anaconda3\\lib\\site-packages\\statsmodels\\base\\model.py:512: ConvergenceWarning: Maximum Likelihood optimization failed to converge. Check mle_retvals\n",
      "  \"Check mle_retvals\", ConvergenceWarning)\n"
     ]
    },
    {
     "name": "stdout",
     "output_type": "stream",
     "text": [
      "ARIMA(4, 2, 0)x(2, 1, 0, 12)12 - AIC:60.5150408389777\n"
     ]
    },
    {
     "name": "stderr",
     "output_type": "stream",
     "text": [
      "C:\\Users\\Byom Kesh Jha\\Anaconda3\\lib\\site-packages\\statsmodels\\base\\model.py:512: ConvergenceWarning: Maximum Likelihood optimization failed to converge. Check mle_retvals\n",
      "  \"Check mle_retvals\", ConvergenceWarning)\n"
     ]
    },
    {
     "name": "stdout",
     "output_type": "stream",
     "text": [
      "ARIMA(4, 2, 0)x(3, 0, 0, 12)12 - AIC:98.07022258959546\n"
     ]
    },
    {
     "name": "stderr",
     "output_type": "stream",
     "text": [
      "C:\\Users\\Byom Kesh Jha\\Anaconda3\\lib\\site-packages\\statsmodels\\base\\model.py:512: ConvergenceWarning: Maximum Likelihood optimization failed to converge. Check mle_retvals\n",
      "  \"Check mle_retvals\", ConvergenceWarning)\n"
     ]
    },
    {
     "name": "stdout",
     "output_type": "stream",
     "text": [
      "ARIMA(4, 2, 0)x(3, 0, 1, 12)12 - AIC:99.54064807947222\n",
      "ARIMA(4, 2, 1)x(0, 0, 0, 12)12 - AIC:619.6209358266058\n",
      "ARIMA(4, 2, 1)x(0, 0, 1, 12)12 - AIC:13402.72368648964\n",
      "ARIMA(4, 2, 1)x(0, 1, 0, 12)12 - AIC:432.25009009473126\n",
      "ARIMA(4, 2, 1)x(0, 2, 0, 12)12 - AIC:281.02040384545205\n",
      "ARIMA(4, 2, 1)x(0, 3, 0, 12)12 - AIC:103.7191578507076\n",
      "ARIMA(4, 2, 1)x(1, 0, 0, 12)12 - AIC:429.13570633396876\n",
      "ARIMA(4, 2, 1)x(1, 0, 1, 12)12 - AIC:2380.49551982156\n",
      "ARIMA(4, 2, 1)x(1, 1, 0, 12)12 - AIC:252.9392433645543\n"
     ]
    },
    {
     "name": "stderr",
     "output_type": "stream",
     "text": [
      "C:\\Users\\Byom Kesh Jha\\Anaconda3\\lib\\site-packages\\statsmodels\\base\\model.py:512: ConvergenceWarning: Maximum Likelihood optimization failed to converge. Check mle_retvals\n",
      "  \"Check mle_retvals\", ConvergenceWarning)\n"
     ]
    },
    {
     "name": "stdout",
     "output_type": "stream",
     "text": [
      "ARIMA(4, 2, 1)x(1, 2, 0, 12)12 - AIC:70.77406919899892\n"
     ]
    },
    {
     "name": "stderr",
     "output_type": "stream",
     "text": [
      "C:\\Users\\Byom Kesh Jha\\Anaconda3\\lib\\site-packages\\statsmodels\\base\\model.py:512: ConvergenceWarning: Maximum Likelihood optimization failed to converge. Check mle_retvals\n",
      "  \"Check mle_retvals\", ConvergenceWarning)\n"
     ]
    },
    {
     "name": "stdout",
     "output_type": "stream",
     "text": [
      "ARIMA(4, 2, 1)x(2, 0, 0, 12)12 - AIC:254.65363900212773\n"
     ]
    },
    {
     "name": "stderr",
     "output_type": "stream",
     "text": [
      "C:\\Users\\Byom Kesh Jha\\Anaconda3\\lib\\site-packages\\statsmodels\\base\\model.py:512: ConvergenceWarning: Maximum Likelihood optimization failed to converge. Check mle_retvals\n",
      "  \"Check mle_retvals\", ConvergenceWarning)\n"
     ]
    },
    {
     "name": "stdout",
     "output_type": "stream",
     "text": [
      "ARIMA(4, 2, 1)x(2, 0, 1, 12)12 - AIC:736.2906421157625\n"
     ]
    },
    {
     "name": "stderr",
     "output_type": "stream",
     "text": [
      "C:\\Users\\Byom Kesh Jha\\Anaconda3\\lib\\site-packages\\statsmodels\\base\\model.py:512: ConvergenceWarning: Maximum Likelihood optimization failed to converge. Check mle_retvals\n",
      "  \"Check mle_retvals\", ConvergenceWarning)\n"
     ]
    },
    {
     "name": "stdout",
     "output_type": "stream",
     "text": [
      "ARIMA(4, 2, 1)x(2, 1, 0, 12)12 - AIC:70.641323324563\n"
     ]
    },
    {
     "name": "stderr",
     "output_type": "stream",
     "text": [
      "C:\\Users\\Byom Kesh Jha\\Anaconda3\\lib\\site-packages\\statsmodels\\base\\model.py:512: ConvergenceWarning: Maximum Likelihood optimization failed to converge. Check mle_retvals\n",
      "  \"Check mle_retvals\", ConvergenceWarning)\n"
     ]
    },
    {
     "name": "stdout",
     "output_type": "stream",
     "text": [
      "ARIMA(4, 2, 1)x(3, 0, 0, 12)12 - AIC:100.45367873426746\n"
     ]
    },
    {
     "name": "stderr",
     "output_type": "stream",
     "text": [
      "C:\\Users\\Byom Kesh Jha\\Anaconda3\\lib\\site-packages\\statsmodels\\base\\model.py:512: ConvergenceWarning: Maximum Likelihood optimization failed to converge. Check mle_retvals\n",
      "  \"Check mle_retvals\", ConvergenceWarning)\n"
     ]
    },
    {
     "name": "stdout",
     "output_type": "stream",
     "text": [
      "ARIMA(4, 2, 1)x(3, 0, 1, 12)12 - AIC:102.4980632448051\n",
      "ARIMA(4, 2, 2)x(0, 0, 0, 12)12 - AIC:620.0721806857093\n"
     ]
    },
    {
     "name": "stderr",
     "output_type": "stream",
     "text": [
      "C:\\Users\\Byom Kesh Jha\\Anaconda3\\lib\\site-packages\\statsmodels\\base\\model.py:512: ConvergenceWarning: Maximum Likelihood optimization failed to converge. Check mle_retvals\n",
      "  \"Check mle_retvals\", ConvergenceWarning)\n"
     ]
    },
    {
     "name": "stdout",
     "output_type": "stream",
     "text": [
      "ARIMA(4, 2, 2)x(0, 0, 1, 12)12 - AIC:2434.79748683821\n",
      "ARIMA(4, 2, 2)x(0, 1, 0, 12)12 - AIC:441.21047949854506\n",
      "ARIMA(4, 2, 2)x(0, 2, 0, 12)12 - AIC:281.7009104915389\n"
     ]
    },
    {
     "name": "stderr",
     "output_type": "stream",
     "text": [
      "C:\\Users\\Byom Kesh Jha\\Anaconda3\\lib\\site-packages\\statsmodels\\base\\model.py:512: ConvergenceWarning: Maximum Likelihood optimization failed to converge. Check mle_retvals\n",
      "  \"Check mle_retvals\", ConvergenceWarning)\n"
     ]
    },
    {
     "name": "stdout",
     "output_type": "stream",
     "text": [
      "ARIMA(4, 2, 2)x(0, 3, 0, 12)12 - AIC:nan\n"
     ]
    },
    {
     "name": "stderr",
     "output_type": "stream",
     "text": [
      "C:\\Users\\Byom Kesh Jha\\Anaconda3\\lib\\site-packages\\statsmodels\\base\\model.py:512: ConvergenceWarning: Maximum Likelihood optimization failed to converge. Check mle_retvals\n",
      "  \"Check mle_retvals\", ConvergenceWarning)\n"
     ]
    },
    {
     "name": "stdout",
     "output_type": "stream",
     "text": [
      "ARIMA(4, 2, 2)x(1, 0, 0, 12)12 - AIC:437.1320038979129\n",
      "ARIMA(4, 2, 2)x(1, 0, 1, 12)12 - AIC:2380.530616245443\n"
     ]
    },
    {
     "name": "stderr",
     "output_type": "stream",
     "text": [
      "C:\\Users\\Byom Kesh Jha\\Anaconda3\\lib\\site-packages\\statsmodels\\base\\model.py:512: ConvergenceWarning: Maximum Likelihood optimization failed to converge. Check mle_retvals\n",
      "  \"Check mle_retvals\", ConvergenceWarning)\n"
     ]
    },
    {
     "name": "stdout",
     "output_type": "stream",
     "text": [
      "ARIMA(4, 2, 2)x(1, 1, 0, 12)12 - AIC:385.9244569329489\n"
     ]
    },
    {
     "name": "stderr",
     "output_type": "stream",
     "text": [
      "C:\\Users\\Byom Kesh Jha\\Anaconda3\\lib\\site-packages\\statsmodels\\base\\model.py:512: ConvergenceWarning: Maximum Likelihood optimization failed to converge. Check mle_retvals\n",
      "  \"Check mle_retvals\", ConvergenceWarning)\n"
     ]
    },
    {
     "name": "stdout",
     "output_type": "stream",
     "text": [
      "ARIMA(4, 2, 2)x(1, 2, 0, 12)12 - AIC:96.77721938765549\n"
     ]
    },
    {
     "name": "stderr",
     "output_type": "stream",
     "text": [
      "C:\\Users\\Byom Kesh Jha\\Anaconda3\\lib\\site-packages\\statsmodels\\base\\model.py:512: ConvergenceWarning: Maximum Likelihood optimization failed to converge. Check mle_retvals\n",
      "  \"Check mle_retvals\", ConvergenceWarning)\n"
     ]
    },
    {
     "name": "stdout",
     "output_type": "stream",
     "text": [
      "ARIMA(4, 2, 2)x(2, 0, 0, 12)12 - AIC:255.0913082551664\n"
     ]
    },
    {
     "name": "stderr",
     "output_type": "stream",
     "text": [
      "C:\\Users\\Byom Kesh Jha\\Anaconda3\\lib\\site-packages\\statsmodels\\base\\model.py:512: ConvergenceWarning: Maximum Likelihood optimization failed to converge. Check mle_retvals\n",
      "  \"Check mle_retvals\", ConvergenceWarning)\n"
     ]
    },
    {
     "name": "stdout",
     "output_type": "stream",
     "text": [
      "ARIMA(4, 2, 2)x(2, 0, 1, 12)12 - AIC:716.210408890282\n"
     ]
    },
    {
     "name": "stderr",
     "output_type": "stream",
     "text": [
      "C:\\Users\\Byom Kesh Jha\\Anaconda3\\lib\\site-packages\\statsmodels\\base\\model.py:512: ConvergenceWarning: Maximum Likelihood optimization failed to converge. Check mle_retvals\n",
      "  \"Check mle_retvals\", ConvergenceWarning)\n"
     ]
    },
    {
     "name": "stdout",
     "output_type": "stream",
     "text": [
      "ARIMA(4, 2, 2)x(2, 1, 0, 12)12 - AIC:141.39076707438312\n"
     ]
    },
    {
     "name": "stderr",
     "output_type": "stream",
     "text": [
      "C:\\Users\\Byom Kesh Jha\\Anaconda3\\lib\\site-packages\\statsmodels\\base\\model.py:512: ConvergenceWarning: Maximum Likelihood optimization failed to converge. Check mle_retvals\n",
      "  \"Check mle_retvals\", ConvergenceWarning)\n"
     ]
    },
    {
     "name": "stdout",
     "output_type": "stream",
     "text": [
      "ARIMA(4, 2, 2)x(3, 0, 0, 12)12 - AIC:102.02393386350221\n"
     ]
    },
    {
     "name": "stderr",
     "output_type": "stream",
     "text": [
      "C:\\Users\\Byom Kesh Jha\\Anaconda3\\lib\\site-packages\\statsmodels\\base\\model.py:512: ConvergenceWarning: Maximum Likelihood optimization failed to converge. Check mle_retvals\n",
      "  \"Check mle_retvals\", ConvergenceWarning)\n"
     ]
    },
    {
     "name": "stdout",
     "output_type": "stream",
     "text": [
      "ARIMA(4, 2, 2)x(3, 0, 1, 12)12 - AIC:104.22086893133593\n",
      "ARIMA(4, 2, 3)x(0, 0, 0, 12)12 - AIC:616.8248017068405\n",
      "ARIMA(4, 2, 3)x(0, 0, 1, 12)12 - AIC:7826.485437194554\n",
      "ARIMA(4, 2, 3)x(0, 1, 0, 12)12 - AIC:433.60146146749116\n"
     ]
    },
    {
     "name": "stderr",
     "output_type": "stream",
     "text": [
      "C:\\Users\\Byom Kesh Jha\\Anaconda3\\lib\\site-packages\\statsmodels\\base\\model.py:512: ConvergenceWarning: Maximum Likelihood optimization failed to converge. Check mle_retvals\n",
      "  \"Check mle_retvals\", ConvergenceWarning)\n"
     ]
    },
    {
     "name": "stdout",
     "output_type": "stream",
     "text": [
      "ARIMA(4, 2, 3)x(0, 2, 0, 12)12 - AIC:283.22780219957133\n"
     ]
    },
    {
     "name": "stderr",
     "output_type": "stream",
     "text": [
      "C:\\Users\\Byom Kesh Jha\\Anaconda3\\lib\\site-packages\\statsmodels\\base\\model.py:512: ConvergenceWarning: Maximum Likelihood optimization failed to converge. Check mle_retvals\n",
      "  \"Check mle_retvals\", ConvergenceWarning)\n"
     ]
    },
    {
     "name": "stdout",
     "output_type": "stream",
     "text": [
      "ARIMA(4, 2, 3)x(0, 3, 0, 12)12 - AIC:nan\n"
     ]
    },
    {
     "name": "stderr",
     "output_type": "stream",
     "text": [
      "C:\\Users\\Byom Kesh Jha\\Anaconda3\\lib\\site-packages\\statsmodels\\base\\model.py:512: ConvergenceWarning: Maximum Likelihood optimization failed to converge. Check mle_retvals\n",
      "  \"Check mle_retvals\", ConvergenceWarning)\n"
     ]
    },
    {
     "name": "stdout",
     "output_type": "stream",
     "text": [
      "ARIMA(4, 2, 3)x(1, 0, 0, 12)12 - AIC:438.27926283137225\n",
      "ARIMA(4, 2, 3)x(1, 0, 1, 12)12 - AIC:2495.6325516034663\n"
     ]
    },
    {
     "name": "stderr",
     "output_type": "stream",
     "text": [
      "C:\\Users\\Byom Kesh Jha\\Anaconda3\\lib\\site-packages\\statsmodels\\base\\model.py:512: ConvergenceWarning: Maximum Likelihood optimization failed to converge. Check mle_retvals\n",
      "  \"Check mle_retvals\", ConvergenceWarning)\n"
     ]
    },
    {
     "name": "stdout",
     "output_type": "stream",
     "text": [
      "ARIMA(4, 2, 3)x(1, 1, 0, 12)12 - AIC:258.1923985701296\n"
     ]
    },
    {
     "name": "stderr",
     "output_type": "stream",
     "text": [
      "C:\\Users\\Byom Kesh Jha\\Anaconda3\\lib\\site-packages\\statsmodels\\base\\model.py:512: ConvergenceWarning: Maximum Likelihood optimization failed to converge. Check mle_retvals\n",
      "  \"Check mle_retvals\", ConvergenceWarning)\n"
     ]
    },
    {
     "name": "stdout",
     "output_type": "stream",
     "text": [
      "ARIMA(4, 2, 3)x(1, 2, 0, 12)12 - AIC:91.35904145154115\n"
     ]
    },
    {
     "name": "stderr",
     "output_type": "stream",
     "text": [
      "C:\\Users\\Byom Kesh Jha\\Anaconda3\\lib\\site-packages\\statsmodels\\base\\model.py:512: ConvergenceWarning: Maximum Likelihood optimization failed to converge. Check mle_retvals\n",
      "  \"Check mle_retvals\", ConvergenceWarning)\n"
     ]
    },
    {
     "name": "stdout",
     "output_type": "stream",
     "text": [
      "ARIMA(4, 2, 3)x(2, 0, 0, 12)12 - AIC:260.8668025648673\n"
     ]
    },
    {
     "name": "stderr",
     "output_type": "stream",
     "text": [
      "C:\\Users\\Byom Kesh Jha\\Anaconda3\\lib\\site-packages\\statsmodels\\base\\model.py:512: ConvergenceWarning: Maximum Likelihood optimization failed to converge. Check mle_retvals\n",
      "  \"Check mle_retvals\", ConvergenceWarning)\n"
     ]
    },
    {
     "name": "stdout",
     "output_type": "stream",
     "text": [
      "ARIMA(4, 2, 3)x(2, 0, 1, 12)12 - AIC:802.0804583896369\n"
     ]
    },
    {
     "name": "stderr",
     "output_type": "stream",
     "text": [
      "C:\\Users\\Byom Kesh Jha\\Anaconda3\\lib\\site-packages\\statsmodels\\base\\model.py:512: ConvergenceWarning: Maximum Likelihood optimization failed to converge. Check mle_retvals\n",
      "  \"Check mle_retvals\", ConvergenceWarning)\n"
     ]
    },
    {
     "name": "stdout",
     "output_type": "stream",
     "text": [
      "ARIMA(4, 2, 3)x(2, 1, 0, 12)12 - AIC:95.28118488351538\n"
     ]
    },
    {
     "name": "stderr",
     "output_type": "stream",
     "text": [
      "C:\\Users\\Byom Kesh Jha\\Anaconda3\\lib\\site-packages\\statsmodels\\base\\model.py:512: ConvergenceWarning: Maximum Likelihood optimization failed to converge. Check mle_retvals\n",
      "  \"Check mle_retvals\", ConvergenceWarning)\n"
     ]
    },
    {
     "name": "stdout",
     "output_type": "stream",
     "text": [
      "ARIMA(4, 2, 3)x(3, 0, 0, 12)12 - AIC:103.12211262929588\n"
     ]
    },
    {
     "name": "stderr",
     "output_type": "stream",
     "text": [
      "C:\\Users\\Byom Kesh Jha\\Anaconda3\\lib\\site-packages\\statsmodels\\base\\model.py:512: ConvergenceWarning: Maximum Likelihood optimization failed to converge. Check mle_retvals\n",
      "  \"Check mle_retvals\", ConvergenceWarning)\n"
     ]
    },
    {
     "name": "stdout",
     "output_type": "stream",
     "text": [
      "ARIMA(4, 2, 3)x(3, 0, 1, 12)12 - AIC:105.0676579312648\n",
      "ARIMA(4, 2, 4)x(0, 0, 0, 12)12 - AIC:601.977442123711\n",
      "ARIMA(4, 2, 4)x(0, 0, 1, 12)12 - AIC:3359.3801927343175\n",
      "ARIMA(4, 2, 4)x(0, 1, 0, 12)12 - AIC:418.4638783810811\n"
     ]
    },
    {
     "name": "stderr",
     "output_type": "stream",
     "text": [
      "C:\\Users\\Byom Kesh Jha\\Anaconda3\\lib\\site-packages\\statsmodels\\base\\model.py:512: ConvergenceWarning: Maximum Likelihood optimization failed to converge. Check mle_retvals\n",
      "  \"Check mle_retvals\", ConvergenceWarning)\n"
     ]
    },
    {
     "name": "stdout",
     "output_type": "stream",
     "text": [
      "ARIMA(4, 2, 4)x(0, 2, 0, 12)12 - AIC:262.7226552695935\n"
     ]
    },
    {
     "name": "stderr",
     "output_type": "stream",
     "text": [
      "C:\\Users\\Byom Kesh Jha\\Anaconda3\\lib\\site-packages\\statsmodels\\base\\model.py:512: ConvergenceWarning: Maximum Likelihood optimization failed to converge. Check mle_retvals\n",
      "  \"Check mle_retvals\", ConvergenceWarning)\n"
     ]
    },
    {
     "name": "stdout",
     "output_type": "stream",
     "text": [
      "ARIMA(4, 2, 4)x(1, 0, 0, 12)12 - AIC:433.7033343020437\n",
      "ARIMA(4, 2, 4)x(1, 0, 1, 12)12 - AIC:2278.5360255832566\n"
     ]
    },
    {
     "name": "stderr",
     "output_type": "stream",
     "text": [
      "C:\\Users\\Byom Kesh Jha\\Anaconda3\\lib\\site-packages\\statsmodels\\base\\model.py:512: ConvergenceWarning: Maximum Likelihood optimization failed to converge. Check mle_retvals\n",
      "  \"Check mle_retvals\", ConvergenceWarning)\n"
     ]
    },
    {
     "name": "stdout",
     "output_type": "stream",
     "text": [
      "ARIMA(4, 2, 4)x(1, 1, 0, 12)12 - AIC:256.1728945881637\n"
     ]
    },
    {
     "name": "stderr",
     "output_type": "stream",
     "text": [
      "C:\\Users\\Byom Kesh Jha\\Anaconda3\\lib\\site-packages\\statsmodels\\base\\model.py:512: ConvergenceWarning: Maximum Likelihood optimization failed to converge. Check mle_retvals\n",
      "  \"Check mle_retvals\", ConvergenceWarning)\n"
     ]
    },
    {
     "name": "stdout",
     "output_type": "stream",
     "text": [
      "ARIMA(4, 2, 4)x(1, 2, 0, 12)12 - AIC:82.49965952829724\n"
     ]
    },
    {
     "name": "stderr",
     "output_type": "stream",
     "text": [
      "C:\\Users\\Byom Kesh Jha\\Anaconda3\\lib\\site-packages\\statsmodels\\base\\model.py:512: ConvergenceWarning: Maximum Likelihood optimization failed to converge. Check mle_retvals\n",
      "  \"Check mle_retvals\", ConvergenceWarning)\n"
     ]
    },
    {
     "name": "stdout",
     "output_type": "stream",
     "text": [
      "ARIMA(4, 2, 4)x(2, 0, 0, 12)12 - AIC:259.02428021696306\n",
      "ARIMA(4, 2, 4)x(2, 0, 1, 12)12 - AIC:1460.1068355464613\n"
     ]
    },
    {
     "name": "stderr",
     "output_type": "stream",
     "text": [
      "C:\\Users\\Byom Kesh Jha\\Anaconda3\\lib\\site-packages\\statsmodels\\base\\model.py:512: ConvergenceWarning: Maximum Likelihood optimization failed to converge. Check mle_retvals\n",
      "  \"Check mle_retvals\", ConvergenceWarning)\n"
     ]
    },
    {
     "name": "stdout",
     "output_type": "stream",
     "text": [
      "ARIMA(4, 2, 4)x(2, 1, 0, 12)12 - AIC:97.08421132082219\n"
     ]
    },
    {
     "name": "stderr",
     "output_type": "stream",
     "text": [
      "C:\\Users\\Byom Kesh Jha\\Anaconda3\\lib\\site-packages\\statsmodels\\base\\model.py:512: ConvergenceWarning: Maximum Likelihood optimization failed to converge. Check mle_retvals\n",
      "  \"Check mle_retvals\", ConvergenceWarning)\n"
     ]
    },
    {
     "name": "stdout",
     "output_type": "stream",
     "text": [
      "ARIMA(4, 2, 4)x(3, 0, 0, 12)12 - AIC:100.2582358127997\n"
     ]
    },
    {
     "name": "stderr",
     "output_type": "stream",
     "text": [
      "C:\\Users\\Byom Kesh Jha\\Anaconda3\\lib\\site-packages\\statsmodels\\base\\model.py:512: ConvergenceWarning: Maximum Likelihood optimization failed to converge. Check mle_retvals\n",
      "  \"Check mle_retvals\", ConvergenceWarning)\n"
     ]
    },
    {
     "name": "stdout",
     "output_type": "stream",
     "text": [
      "ARIMA(4, 2, 4)x(3, 0, 1, 12)12 - AIC:102.25497758295954\n",
      "ARIMA(4, 3, 0)x(0, 0, 0, 12)12 - AIC:634.5650585142067\n"
     ]
    },
    {
     "name": "stderr",
     "output_type": "stream",
     "text": [
      "C:\\Users\\Byom Kesh Jha\\Anaconda3\\lib\\site-packages\\statsmodels\\base\\model.py:512: ConvergenceWarning: Maximum Likelihood optimization failed to converge. Check mle_retvals\n",
      "  \"Check mle_retvals\", ConvergenceWarning)\n"
     ]
    },
    {
     "name": "stdout",
     "output_type": "stream",
     "text": [
      "ARIMA(4, 3, 0)x(0, 0, 1, 12)12 - AIC:1184.0278162481527\n",
      "ARIMA(4, 3, 0)x(0, 1, 0, 12)12 - AIC:434.23867962035985\n",
      "ARIMA(4, 3, 0)x(0, 2, 0, 12)12 - AIC:268.0090903119067\n",
      "ARIMA(4, 3, 0)x(0, 3, 0, 12)12 - AIC:84.3872241784916\n",
      "ARIMA(4, 3, 0)x(1, 0, 0, 12)12 - AIC:434.02565738359766\n"
     ]
    },
    {
     "name": "stderr",
     "output_type": "stream",
     "text": [
      "C:\\Users\\Byom Kesh Jha\\Anaconda3\\lib\\site-packages\\statsmodels\\base\\model.py:512: ConvergenceWarning: Maximum Likelihood optimization failed to converge. Check mle_retvals\n",
      "  \"Check mle_retvals\", ConvergenceWarning)\n"
     ]
    },
    {
     "name": "stdout",
     "output_type": "stream",
     "text": [
      "ARIMA(4, 3, 0)x(1, 0, 1, 12)12 - AIC:985.1068214299321\n",
      "ARIMA(4, 3, 0)x(1, 1, 0, 12)12 - AIC:250.89449174623223\n"
     ]
    },
    {
     "name": "stderr",
     "output_type": "stream",
     "text": [
      "C:\\Users\\Byom Kesh Jha\\Anaconda3\\lib\\site-packages\\statsmodels\\base\\model.py:512: ConvergenceWarning: Maximum Likelihood optimization failed to converge. Check mle_retvals\n",
      "  \"Check mle_retvals\", ConvergenceWarning)\n"
     ]
    },
    {
     "name": "stdout",
     "output_type": "stream",
     "text": [
      "ARIMA(4, 3, 0)x(1, 2, 0, 12)12 - AIC:65.31792810537716\n",
      "ARIMA(4, 3, 0)x(2, 0, 0, 12)12 - AIC:252.3052807626659\n"
     ]
    },
    {
     "name": "stderr",
     "output_type": "stream",
     "text": [
      "C:\\Users\\Byom Kesh Jha\\Anaconda3\\lib\\site-packages\\statsmodels\\base\\model.py:512: ConvergenceWarning: Maximum Likelihood optimization failed to converge. Check mle_retvals\n",
      "  \"Check mle_retvals\", ConvergenceWarning)\n"
     ]
    },
    {
     "name": "stdout",
     "output_type": "stream",
     "text": [
      "ARIMA(4, 3, 0)x(2, 0, 1, 12)12 - AIC:647.9251906793814\n"
     ]
    },
    {
     "name": "stderr",
     "output_type": "stream",
     "text": [
      "C:\\Users\\Byom Kesh Jha\\Anaconda3\\lib\\site-packages\\statsmodels\\base\\model.py:512: ConvergenceWarning: Maximum Likelihood optimization failed to converge. Check mle_retvals\n",
      "  \"Check mle_retvals\", ConvergenceWarning)\n"
     ]
    },
    {
     "name": "stdout",
     "output_type": "stream",
     "text": [
      "ARIMA(4, 3, 0)x(2, 1, 0, 12)12 - AIC:80.44489557150393\n"
     ]
    },
    {
     "name": "stderr",
     "output_type": "stream",
     "text": [
      "C:\\Users\\Byom Kesh Jha\\Anaconda3\\lib\\site-packages\\statsmodels\\base\\model.py:512: ConvergenceWarning: Maximum Likelihood optimization failed to converge. Check mle_retvals\n",
      "  \"Check mle_retvals\", ConvergenceWarning)\n"
     ]
    },
    {
     "name": "stdout",
     "output_type": "stream",
     "text": [
      "ARIMA(4, 3, 0)x(3, 0, 0, 12)12 - AIC:87.10617656327508\n"
     ]
    },
    {
     "name": "stderr",
     "output_type": "stream",
     "text": [
      "C:\\Users\\Byom Kesh Jha\\Anaconda3\\lib\\site-packages\\statsmodels\\base\\model.py:512: ConvergenceWarning: Maximum Likelihood optimization failed to converge. Check mle_retvals\n",
      "  \"Check mle_retvals\", ConvergenceWarning)\n"
     ]
    },
    {
     "name": "stdout",
     "output_type": "stream",
     "text": [
      "ARIMA(4, 3, 0)x(3, 0, 1, 12)12 - AIC:205.83360268715836\n",
      "ARIMA(4, 3, 1)x(0, 0, 0, 12)12 - AIC:619.4484338731569\n"
     ]
    },
    {
     "name": "stderr",
     "output_type": "stream",
     "text": [
      "C:\\Users\\Byom Kesh Jha\\Anaconda3\\lib\\site-packages\\statsmodels\\base\\model.py:512: ConvergenceWarning: Maximum Likelihood optimization failed to converge. Check mle_retvals\n",
      "  \"Check mle_retvals\", ConvergenceWarning)\n"
     ]
    },
    {
     "name": "stdout",
     "output_type": "stream",
     "text": [
      "ARIMA(4, 3, 1)x(0, 0, 1, 12)12 - AIC:nan\n",
      "ARIMA(4, 3, 1)x(0, 1, 0, 12)12 - AIC:427.9601628476443\n",
      "ARIMA(4, 3, 1)x(0, 2, 0, 12)12 - AIC:265.8295219846144\n",
      "ARIMA(4, 3, 1)x(0, 3, 0, 12)12 - AIC:84.44590868287823\n",
      "ARIMA(4, 3, 1)x(1, 0, 0, 12)12 - AIC:426.7824245745438\n",
      "ARIMA(4, 3, 1)x(1, 0, 1, 12)12 - AIC:2237.6632694179893\n",
      "ARIMA(4, 3, 1)x(1, 1, 0, 12)12 - AIC:247.08527374042563\n"
     ]
    },
    {
     "name": "stderr",
     "output_type": "stream",
     "text": [
      "C:\\Users\\Byom Kesh Jha\\Anaconda3\\lib\\site-packages\\statsmodels\\base\\model.py:512: ConvergenceWarning: Maximum Likelihood optimization failed to converge. Check mle_retvals\n",
      "  \"Check mle_retvals\", ConvergenceWarning)\n"
     ]
    },
    {
     "name": "stdout",
     "output_type": "stream",
     "text": [
      "ARIMA(4, 3, 1)x(1, 2, 0, 12)12 - AIC:85.16003378050874\n",
      "ARIMA(4, 3, 1)x(2, 0, 0, 12)12 - AIC:248.7863446229842\n"
     ]
    },
    {
     "name": "stderr",
     "output_type": "stream",
     "text": [
      "C:\\Users\\Byom Kesh Jha\\Anaconda3\\lib\\site-packages\\statsmodels\\base\\model.py:512: ConvergenceWarning: Maximum Likelihood optimization failed to converge. Check mle_retvals\n",
      "  \"Check mle_retvals\", ConvergenceWarning)\n"
     ]
    },
    {
     "name": "stdout",
     "output_type": "stream",
     "text": [
      "ARIMA(4, 3, 1)x(2, 0, 1, 12)12 - AIC:746.5332775473452\n"
     ]
    },
    {
     "name": "stderr",
     "output_type": "stream",
     "text": [
      "C:\\Users\\Byom Kesh Jha\\Anaconda3\\lib\\site-packages\\statsmodels\\base\\model.py:512: ConvergenceWarning: Maximum Likelihood optimization failed to converge. Check mle_retvals\n",
      "  \"Check mle_retvals\", ConvergenceWarning)\n"
     ]
    },
    {
     "name": "stdout",
     "output_type": "stream",
     "text": [
      "ARIMA(4, 3, 1)x(2, 1, 0, 12)12 - AIC:83.97233154282256\n"
     ]
    },
    {
     "name": "stderr",
     "output_type": "stream",
     "text": [
      "C:\\Users\\Byom Kesh Jha\\Anaconda3\\lib\\site-packages\\statsmodels\\base\\model.py:512: ConvergenceWarning: Maximum Likelihood optimization failed to converge. Check mle_retvals\n",
      "  \"Check mle_retvals\", ConvergenceWarning)\n"
     ]
    },
    {
     "name": "stdout",
     "output_type": "stream",
     "text": [
      "ARIMA(4, 3, 1)x(3, 0, 0, 12)12 - AIC:89.2811153775415\n"
     ]
    },
    {
     "name": "stderr",
     "output_type": "stream",
     "text": [
      "C:\\Users\\Byom Kesh Jha\\Anaconda3\\lib\\site-packages\\statsmodels\\base\\model.py:512: ConvergenceWarning: Maximum Likelihood optimization failed to converge. Check mle_retvals\n",
      "  \"Check mle_retvals\", ConvergenceWarning)\n"
     ]
    },
    {
     "name": "stdout",
     "output_type": "stream",
     "text": [
      "ARIMA(4, 3, 1)x(3, 0, 1, 12)12 - AIC:186.29306285804444\n",
      "ARIMA(4, 3, 2)x(0, 0, 0, 12)12 - AIC:622.8888335109301\n",
      "ARIMA(4, 3, 2)x(0, 0, 1, 12)12 - AIC:2202.601439585134\n",
      "ARIMA(4, 3, 2)x(0, 1, 0, 12)12 - AIC:428.3844643140772\n"
     ]
    },
    {
     "name": "stderr",
     "output_type": "stream",
     "text": [
      "C:\\Users\\Byom Kesh Jha\\Anaconda3\\lib\\site-packages\\statsmodels\\base\\model.py:512: ConvergenceWarning: Maximum Likelihood optimization failed to converge. Check mle_retvals\n",
      "  \"Check mle_retvals\", ConvergenceWarning)\n"
     ]
    },
    {
     "name": "stdout",
     "output_type": "stream",
     "text": [
      "ARIMA(4, 3, 2)x(0, 2, 0, 12)12 - AIC:267.3785507482571\n"
     ]
    },
    {
     "name": "stderr",
     "output_type": "stream",
     "text": [
      "C:\\Users\\Byom Kesh Jha\\Anaconda3\\lib\\site-packages\\statsmodels\\base\\model.py:512: ConvergenceWarning: Maximum Likelihood optimization failed to converge. Check mle_retvals\n",
      "  \"Check mle_retvals\", ConvergenceWarning)\n"
     ]
    },
    {
     "name": "stdout",
     "output_type": "stream",
     "text": [
      "ARIMA(4, 3, 2)x(0, 3, 0, 12)12 - AIC:nan\n"
     ]
    },
    {
     "name": "stderr",
     "output_type": "stream",
     "text": [
      "C:\\Users\\Byom Kesh Jha\\Anaconda3\\lib\\site-packages\\statsmodels\\base\\model.py:512: ConvergenceWarning: Maximum Likelihood optimization failed to converge. Check mle_retvals\n",
      "  \"Check mle_retvals\", ConvergenceWarning)\n"
     ]
    },
    {
     "name": "stdout",
     "output_type": "stream",
     "text": [
      "ARIMA(4, 3, 2)x(1, 0, 0, 12)12 - AIC:431.9418836688983\n",
      "ARIMA(4, 3, 2)x(1, 0, 1, 12)12 - AIC:156259.84460750374\n"
     ]
    },
    {
     "name": "stderr",
     "output_type": "stream",
     "text": [
      "C:\\Users\\Byom Kesh Jha\\Anaconda3\\lib\\site-packages\\statsmodels\\base\\model.py:512: ConvergenceWarning: Maximum Likelihood optimization failed to converge. Check mle_retvals\n",
      "  \"Check mle_retvals\", ConvergenceWarning)\n"
     ]
    },
    {
     "name": "stdout",
     "output_type": "stream",
     "text": [
      "ARIMA(4, 3, 2)x(1, 1, 0, 12)12 - AIC:247.32158820472313\n"
     ]
    },
    {
     "name": "stderr",
     "output_type": "stream",
     "text": [
      "C:\\Users\\Byom Kesh Jha\\Anaconda3\\lib\\site-packages\\statsmodels\\base\\model.py:512: ConvergenceWarning: Maximum Likelihood optimization failed to converge. Check mle_retvals\n",
      "  \"Check mle_retvals\", ConvergenceWarning)\n"
     ]
    },
    {
     "name": "stdout",
     "output_type": "stream",
     "text": [
      "ARIMA(4, 3, 2)x(1, 2, 0, 12)12 - AIC:85.92435851969488\n"
     ]
    },
    {
     "name": "stderr",
     "output_type": "stream",
     "text": [
      "C:\\Users\\Byom Kesh Jha\\Anaconda3\\lib\\site-packages\\statsmodels\\base\\model.py:512: ConvergenceWarning: Maximum Likelihood optimization failed to converge. Check mle_retvals\n",
      "  \"Check mle_retvals\", ConvergenceWarning)\n"
     ]
    },
    {
     "name": "stdout",
     "output_type": "stream",
     "text": [
      "ARIMA(4, 3, 2)x(2, 0, 0, 12)12 - AIC:245.29742604584405\n",
      "ARIMA(4, 3, 2)x(2, 0, 1, 12)12 - AIC:1417.405277169703\n"
     ]
    },
    {
     "name": "stderr",
     "output_type": "stream",
     "text": [
      "C:\\Users\\Byom Kesh Jha\\Anaconda3\\lib\\site-packages\\statsmodels\\base\\model.py:512: ConvergenceWarning: Maximum Likelihood optimization failed to converge. Check mle_retvals\n",
      "  \"Check mle_retvals\", ConvergenceWarning)\n"
     ]
    },
    {
     "name": "stdout",
     "output_type": "stream",
     "text": [
      "ARIMA(4, 3, 2)x(2, 1, 0, 12)12 - AIC:84.67135462726874\n"
     ]
    },
    {
     "name": "stderr",
     "output_type": "stream",
     "text": [
      "C:\\Users\\Byom Kesh Jha\\Anaconda3\\lib\\site-packages\\statsmodels\\base\\model.py:512: ConvergenceWarning: Maximum Likelihood optimization failed to converge. Check mle_retvals\n",
      "  \"Check mle_retvals\", ConvergenceWarning)\n"
     ]
    },
    {
     "name": "stdout",
     "output_type": "stream",
     "text": [
      "ARIMA(4, 3, 2)x(3, 0, 0, 12)12 - AIC:88.71268858470921\n"
     ]
    },
    {
     "name": "stderr",
     "output_type": "stream",
     "text": [
      "C:\\Users\\Byom Kesh Jha\\Anaconda3\\lib\\site-packages\\statsmodels\\base\\model.py:512: ConvergenceWarning: Maximum Likelihood optimization failed to converge. Check mle_retvals\n",
      "  \"Check mle_retvals\", ConvergenceWarning)\n"
     ]
    },
    {
     "name": "stdout",
     "output_type": "stream",
     "text": [
      "ARIMA(4, 3, 2)x(3, 0, 1, 12)12 - AIC:402.43649140090815\n",
      "ARIMA(4, 3, 3)x(0, 0, 0, 12)12 - AIC:619.5975214143621\n"
     ]
    },
    {
     "name": "stderr",
     "output_type": "stream",
     "text": [
      "C:\\Users\\Byom Kesh Jha\\Anaconda3\\lib\\site-packages\\statsmodels\\base\\model.py:512: ConvergenceWarning: Maximum Likelihood optimization failed to converge. Check mle_retvals\n",
      "  \"Check mle_retvals\", ConvergenceWarning)\n"
     ]
    },
    {
     "name": "stdout",
     "output_type": "stream",
     "text": [
      "ARIMA(4, 3, 3)x(0, 0, 1, 12)12 - AIC:2126.286036022784\n",
      "ARIMA(4, 3, 3)x(0, 1, 0, 12)12 - AIC:428.46087719429283\n",
      "ARIMA(4, 3, 3)x(0, 2, 0, 12)12 - AIC:266.85403497664515\n"
     ]
    },
    {
     "name": "stderr",
     "output_type": "stream",
     "text": [
      "C:\\Users\\Byom Kesh Jha\\Anaconda3\\lib\\site-packages\\statsmodels\\base\\model.py:512: ConvergenceWarning: Maximum Likelihood optimization failed to converge. Check mle_retvals\n",
      "  \"Check mle_retvals\", ConvergenceWarning)\n"
     ]
    },
    {
     "name": "stdout",
     "output_type": "stream",
     "text": [
      "ARIMA(4, 3, 3)x(1, 0, 0, 12)12 - AIC:434.16639905797916\n",
      "ARIMA(4, 3, 3)x(1, 0, 1, 12)12 - AIC:4990.157269320353\n"
     ]
    },
    {
     "name": "stderr",
     "output_type": "stream",
     "text": [
      "C:\\Users\\Byom Kesh Jha\\Anaconda3\\lib\\site-packages\\statsmodels\\base\\model.py:512: ConvergenceWarning: Maximum Likelihood optimization failed to converge. Check mle_retvals\n",
      "  \"Check mle_retvals\", ConvergenceWarning)\n"
     ]
    },
    {
     "name": "stdout",
     "output_type": "stream",
     "text": [
      "ARIMA(4, 3, 3)x(1, 1, 0, 12)12 - AIC:248.52678692207482\n"
     ]
    },
    {
     "name": "stderr",
     "output_type": "stream",
     "text": [
      "C:\\Users\\Byom Kesh Jha\\Anaconda3\\lib\\site-packages\\statsmodels\\base\\model.py:512: ConvergenceWarning: Maximum Likelihood optimization failed to converge. Check mle_retvals\n",
      "  \"Check mle_retvals\", ConvergenceWarning)\n"
     ]
    },
    {
     "name": "stdout",
     "output_type": "stream",
     "text": [
      "ARIMA(4, 3, 3)x(1, 2, 0, 12)12 - AIC:82.72224181631583\n"
     ]
    },
    {
     "name": "stderr",
     "output_type": "stream",
     "text": [
      "C:\\Users\\Byom Kesh Jha\\Anaconda3\\lib\\site-packages\\statsmodels\\base\\model.py:512: ConvergenceWarning: Maximum Likelihood optimization failed to converge. Check mle_retvals\n",
      "  \"Check mle_retvals\", ConvergenceWarning)\n"
     ]
    },
    {
     "name": "stdout",
     "output_type": "stream",
     "text": [
      "ARIMA(4, 3, 3)x(2, 0, 0, 12)12 - AIC:259.3078882693445\n"
     ]
    },
    {
     "name": "stderr",
     "output_type": "stream",
     "text": [
      "C:\\Users\\Byom Kesh Jha\\Anaconda3\\lib\\site-packages\\statsmodels\\base\\model.py:512: ConvergenceWarning: Maximum Likelihood optimization failed to converge. Check mle_retvals\n",
      "  \"Check mle_retvals\", ConvergenceWarning)\n"
     ]
    },
    {
     "name": "stdout",
     "output_type": "stream",
     "text": [
      "ARIMA(4, 3, 3)x(2, 0, 1, 12)12 - AIC:688.9895580854948\n"
     ]
    },
    {
     "name": "stderr",
     "output_type": "stream",
     "text": [
      "C:\\Users\\Byom Kesh Jha\\Anaconda3\\lib\\site-packages\\statsmodels\\base\\model.py:512: ConvergenceWarning: Maximum Likelihood optimization failed to converge. Check mle_retvals\n",
      "  \"Check mle_retvals\", ConvergenceWarning)\n"
     ]
    },
    {
     "name": "stdout",
     "output_type": "stream",
     "text": [
      "ARIMA(4, 3, 3)x(2, 1, 0, 12)12 - AIC:85.14978773023999\n"
     ]
    },
    {
     "name": "stderr",
     "output_type": "stream",
     "text": [
      "C:\\Users\\Byom Kesh Jha\\Anaconda3\\lib\\site-packages\\statsmodels\\base\\model.py:512: ConvergenceWarning: Maximum Likelihood optimization failed to converge. Check mle_retvals\n",
      "  \"Check mle_retvals\", ConvergenceWarning)\n"
     ]
    },
    {
     "name": "stdout",
     "output_type": "stream",
     "text": [
      "ARIMA(4, 3, 3)x(3, 0, 0, 12)12 - AIC:91.11729285997659\n"
     ]
    },
    {
     "name": "stderr",
     "output_type": "stream",
     "text": [
      "C:\\Users\\Byom Kesh Jha\\Anaconda3\\lib\\site-packages\\statsmodels\\base\\model.py:512: ConvergenceWarning: Maximum Likelihood optimization failed to converge. Check mle_retvals\n",
      "  \"Check mle_retvals\", ConvergenceWarning)\n"
     ]
    },
    {
     "name": "stdout",
     "output_type": "stream",
     "text": [
      "ARIMA(4, 3, 3)x(3, 0, 1, 12)12 - AIC:183.27873617060416\n"
     ]
    },
    {
     "name": "stderr",
     "output_type": "stream",
     "text": [
      "C:\\Users\\Byom Kesh Jha\\Anaconda3\\lib\\site-packages\\statsmodels\\base\\model.py:512: ConvergenceWarning: Maximum Likelihood optimization failed to converge. Check mle_retvals\n",
      "  \"Check mle_retvals\", ConvergenceWarning)\n"
     ]
    },
    {
     "name": "stdout",
     "output_type": "stream",
     "text": [
      "ARIMA(4, 3, 4)x(0, 0, 0, 12)12 - AIC:597.1290764814398\n",
      "ARIMA(4, 3, 4)x(0, 0, 1, 12)12 - AIC:2050.5077833474297\n"
     ]
    },
    {
     "name": "stderr",
     "output_type": "stream",
     "text": [
      "C:\\Users\\Byom Kesh Jha\\Anaconda3\\lib\\site-packages\\statsmodels\\base\\model.py:512: ConvergenceWarning: Maximum Likelihood optimization failed to converge. Check mle_retvals\n",
      "  \"Check mle_retvals\", ConvergenceWarning)\n"
     ]
    },
    {
     "name": "stdout",
     "output_type": "stream",
     "text": [
      "ARIMA(4, 3, 4)x(0, 1, 0, 12)12 - AIC:419.3888878806584\n"
     ]
    },
    {
     "name": "stderr",
     "output_type": "stream",
     "text": [
      "C:\\Users\\Byom Kesh Jha\\Anaconda3\\lib\\site-packages\\statsmodels\\base\\model.py:512: ConvergenceWarning: Maximum Likelihood optimization failed to converge. Check mle_retvals\n",
      "  \"Check mle_retvals\", ConvergenceWarning)\n"
     ]
    },
    {
     "name": "stdout",
     "output_type": "stream",
     "text": [
      "ARIMA(4, 3, 4)x(0, 2, 0, 12)12 - AIC:254.9948270215425\n"
     ]
    },
    {
     "name": "stderr",
     "output_type": "stream",
     "text": [
      "C:\\Users\\Byom Kesh Jha\\Anaconda3\\lib\\site-packages\\statsmodels\\base\\model.py:512: ConvergenceWarning: Maximum Likelihood optimization failed to converge. Check mle_retvals\n",
      "  \"Check mle_retvals\", ConvergenceWarning)\n"
     ]
    },
    {
     "name": "stdout",
     "output_type": "stream",
     "text": [
      "ARIMA(4, 3, 4)x(1, 0, 0, 12)12 - AIC:433.6959915167174\n",
      "ARIMA(4, 3, 4)x(1, 0, 1, 12)12 - AIC:3343.0205906655806\n"
     ]
    },
    {
     "name": "stderr",
     "output_type": "stream",
     "text": [
      "C:\\Users\\Byom Kesh Jha\\Anaconda3\\lib\\site-packages\\statsmodels\\base\\model.py:512: ConvergenceWarning: Maximum Likelihood optimization failed to converge. Check mle_retvals\n",
      "  \"Check mle_retvals\", ConvergenceWarning)\n"
     ]
    },
    {
     "name": "stdout",
     "output_type": "stream",
     "text": [
      "ARIMA(4, 3, 4)x(1, 1, 0, 12)12 - AIC:245.8943268630751\n"
     ]
    },
    {
     "name": "stderr",
     "output_type": "stream",
     "text": [
      "C:\\Users\\Byom Kesh Jha\\Anaconda3\\lib\\site-packages\\statsmodels\\base\\model.py:512: ConvergenceWarning: Maximum Likelihood optimization failed to converge. Check mle_retvals\n",
      "  \"Check mle_retvals\", ConvergenceWarning)\n"
     ]
    },
    {
     "name": "stdout",
     "output_type": "stream",
     "text": [
      "ARIMA(4, 3, 4)x(1, 2, 0, 12)12 - AIC:73.88955697553865\n"
     ]
    },
    {
     "name": "stderr",
     "output_type": "stream",
     "text": [
      "C:\\Users\\Byom Kesh Jha\\Anaconda3\\lib\\site-packages\\statsmodels\\base\\model.py:512: ConvergenceWarning: Maximum Likelihood optimization failed to converge. Check mle_retvals\n",
      "  \"Check mle_retvals\", ConvergenceWarning)\n"
     ]
    },
    {
     "name": "stdout",
     "output_type": "stream",
     "text": [
      "ARIMA(4, 3, 4)x(2, 0, 0, 12)12 - AIC:259.0429897986571\n"
     ]
    },
    {
     "name": "stderr",
     "output_type": "stream",
     "text": [
      "C:\\Users\\Byom Kesh Jha\\Anaconda3\\lib\\site-packages\\statsmodels\\base\\model.py:512: ConvergenceWarning: Maximum Likelihood optimization failed to converge. Check mle_retvals\n",
      "  \"Check mle_retvals\", ConvergenceWarning)\n"
     ]
    },
    {
     "name": "stdout",
     "output_type": "stream",
     "text": [
      "ARIMA(4, 3, 4)x(2, 0, 1, 12)12 - AIC:687.6043432717576\n"
     ]
    },
    {
     "name": "stderr",
     "output_type": "stream",
     "text": [
      "C:\\Users\\Byom Kesh Jha\\Anaconda3\\lib\\site-packages\\statsmodels\\base\\model.py:512: ConvergenceWarning: Maximum Likelihood optimization failed to converge. Check mle_retvals\n",
      "  \"Check mle_retvals\", ConvergenceWarning)\n"
     ]
    },
    {
     "name": "stdout",
     "output_type": "stream",
     "text": [
      "ARIMA(4, 3, 4)x(2, 1, 0, 12)12 - AIC:85.32519497590022\n"
     ]
    },
    {
     "name": "stderr",
     "output_type": "stream",
     "text": [
      "C:\\Users\\Byom Kesh Jha\\Anaconda3\\lib\\site-packages\\statsmodels\\base\\model.py:512: ConvergenceWarning: Maximum Likelihood optimization failed to converge. Check mle_retvals\n",
      "  \"Check mle_retvals\", ConvergenceWarning)\n"
     ]
    },
    {
     "name": "stdout",
     "output_type": "stream",
     "text": [
      "ARIMA(4, 3, 4)x(3, 0, 0, 12)12 - AIC:92.3897848802345\n"
     ]
    },
    {
     "name": "stderr",
     "output_type": "stream",
     "text": [
      "C:\\Users\\Byom Kesh Jha\\Anaconda3\\lib\\site-packages\\statsmodels\\base\\model.py:512: ConvergenceWarning: Maximum Likelihood optimization failed to converge. Check mle_retvals\n",
      "  \"Check mle_retvals\", ConvergenceWarning)\n"
     ]
    },
    {
     "name": "stdout",
     "output_type": "stream",
     "text": [
      "ARIMA(4, 3, 4)x(3, 0, 1, 12)12 - AIC:213.23781883329815\n",
      "ARIMA(4, 4, 0)x(0, 0, 0, 12)12 - AIC:646.0645507942261\n"
     ]
    },
    {
     "name": "stderr",
     "output_type": "stream",
     "text": [
      "C:\\Users\\Byom Kesh Jha\\Anaconda3\\lib\\site-packages\\statsmodels\\base\\model.py:512: ConvergenceWarning: Maximum Likelihood optimization failed to converge. Check mle_retvals\n",
      "  \"Check mle_retvals\", ConvergenceWarning)\n"
     ]
    },
    {
     "name": "stdout",
     "output_type": "stream",
     "text": [
      "ARIMA(4, 4, 0)x(0, 0, 1, 12)12 - AIC:1213.543926982206\n",
      "ARIMA(4, 4, 0)x(0, 1, 0, 12)12 - AIC:433.3320250226694\n",
      "ARIMA(4, 4, 0)x(0, 2, 0, 12)12 - AIC:261.1167307930936\n"
     ]
    },
    {
     "name": "stderr",
     "output_type": "stream",
     "text": [
      "C:\\Users\\Byom Kesh Jha\\Anaconda3\\lib\\site-packages\\statsmodels\\base\\model.py:512: ConvergenceWarning: Maximum Likelihood optimization failed to converge. Check mle_retvals\n",
      "  \"Check mle_retvals\", ConvergenceWarning)\n"
     ]
    },
    {
     "name": "stdout",
     "output_type": "stream",
     "text": [
      "ARIMA(4, 4, 0)x(0, 3, 0, 12)12 - AIC:nan\n",
      "ARIMA(4, 4, 0)x(1, 0, 0, 12)12 - AIC:433.9823313965596\n"
     ]
    },
    {
     "name": "stderr",
     "output_type": "stream",
     "text": [
      "C:\\Users\\Byom Kesh Jha\\Anaconda3\\lib\\site-packages\\statsmodels\\base\\model.py:512: ConvergenceWarning: Maximum Likelihood optimization failed to converge. Check mle_retvals\n",
      "  \"Check mle_retvals\", ConvergenceWarning)\n"
     ]
    },
    {
     "name": "stdout",
     "output_type": "stream",
     "text": [
      "ARIMA(4, 4, 0)x(1, 0, 1, 12)12 - AIC:955.206296577548\n",
      "ARIMA(4, 4, 0)x(1, 1, 0, 12)12 - AIC:247.18852313156717\n"
     ]
    },
    {
     "name": "stderr",
     "output_type": "stream",
     "text": [
      "C:\\Users\\Byom Kesh Jha\\Anaconda3\\lib\\site-packages\\statsmodels\\base\\model.py:512: ConvergenceWarning: Maximum Likelihood optimization failed to converge. Check mle_retvals\n",
      "  \"Check mle_retvals\", ConvergenceWarning)\n"
     ]
    },
    {
     "name": "stdout",
     "output_type": "stream",
     "text": [
      "ARIMA(4, 4, 0)x(1, 2, 0, 12)12 - AIC:67.36245320927627\n",
      "ARIMA(4, 4, 0)x(2, 0, 0, 12)12 - AIC:248.19454707974558\n"
     ]
    },
    {
     "name": "stderr",
     "output_type": "stream",
     "text": [
      "C:\\Users\\Byom Kesh Jha\\Anaconda3\\lib\\site-packages\\statsmodels\\base\\model.py:512: ConvergenceWarning: Maximum Likelihood optimization failed to converge. Check mle_retvals\n",
      "  \"Check mle_retvals\", ConvergenceWarning)\n"
     ]
    },
    {
     "name": "stdout",
     "output_type": "stream",
     "text": [
      "ARIMA(4, 4, 0)x(2, 0, 1, 12)12 - AIC:622.3838074231621\n"
     ]
    },
    {
     "name": "stderr",
     "output_type": "stream",
     "text": [
      "C:\\Users\\Byom Kesh Jha\\Anaconda3\\lib\\site-packages\\statsmodels\\base\\model.py:512: ConvergenceWarning: Maximum Likelihood optimization failed to converge. Check mle_retvals\n",
      "  \"Check mle_retvals\", ConvergenceWarning)\n"
     ]
    },
    {
     "name": "stdout",
     "output_type": "stream",
     "text": [
      "ARIMA(4, 4, 0)x(2, 1, 0, 12)12 - AIC:64.36172741374608\n"
     ]
    },
    {
     "name": "stderr",
     "output_type": "stream",
     "text": [
      "C:\\Users\\Byom Kesh Jha\\Anaconda3\\lib\\site-packages\\statsmodels\\base\\model.py:512: ConvergenceWarning: Maximum Likelihood optimization failed to converge. Check mle_retvals\n",
      "  \"Check mle_retvals\", ConvergenceWarning)\n"
     ]
    },
    {
     "name": "stdout",
     "output_type": "stream",
     "text": [
      "ARIMA(4, 4, 0)x(3, 0, 0, 12)12 - AIC:74.18024154015448\n"
     ]
    },
    {
     "name": "stderr",
     "output_type": "stream",
     "text": [
      "C:\\Users\\Byom Kesh Jha\\Anaconda3\\lib\\site-packages\\statsmodels\\base\\model.py:512: ConvergenceWarning: Maximum Likelihood optimization failed to converge. Check mle_retvals\n",
      "  \"Check mle_retvals\", ConvergenceWarning)\n"
     ]
    },
    {
     "name": "stdout",
     "output_type": "stream",
     "text": [
      "ARIMA(4, 4, 0)x(3, 0, 1, 12)12 - AIC:173.53495939917977\n",
      "ARIMA(4, 4, 1)x(0, 0, 0, 12)12 - AIC:625.1989719179604\n",
      "ARIMA(4, 4, 1)x(0, 0, 1, 12)12 - AIC:2331.586484081213\n",
      "ARIMA(4, 4, 1)x(0, 1, 0, 12)12 - AIC:424.86248537317283\n",
      "ARIMA(4, 4, 1)x(0, 2, 0, 12)12 - AIC:257.7465093681332\n"
     ]
    },
    {
     "name": "stderr",
     "output_type": "stream",
     "text": [
      "C:\\Users\\Byom Kesh Jha\\Anaconda3\\lib\\site-packages\\statsmodels\\base\\model.py:512: ConvergenceWarning: Maximum Likelihood optimization failed to converge. Check mle_retvals\n",
      "  \"Check mle_retvals\", ConvergenceWarning)\n"
     ]
    },
    {
     "name": "stdout",
     "output_type": "stream",
     "text": [
      "ARIMA(4, 4, 1)x(0, 3, 0, 12)12 - AIC:nan\n"
     ]
    },
    {
     "name": "stderr",
     "output_type": "stream",
     "text": [
      "C:\\Users\\Byom Kesh Jha\\Anaconda3\\lib\\site-packages\\statsmodels\\base\\model.py:512: ConvergenceWarning: Maximum Likelihood optimization failed to converge. Check mle_retvals\n",
      "  \"Check mle_retvals\", ConvergenceWarning)\n"
     ]
    },
    {
     "name": "stdout",
     "output_type": "stream",
     "text": [
      "ARIMA(4, 4, 1)x(1, 0, 0, 12)12 - AIC:424.66581486965003\n",
      "ARIMA(4, 4, 1)x(1, 0, 1, 12)12 - AIC:9840.339362807677\n",
      "ARIMA(4, 4, 1)x(1, 1, 0, 12)12 - AIC:242.72526985258148\n"
     ]
    },
    {
     "name": "stderr",
     "output_type": "stream",
     "text": [
      "C:\\Users\\Byom Kesh Jha\\Anaconda3\\lib\\site-packages\\statsmodels\\base\\model.py:512: ConvergenceWarning: Maximum Likelihood optimization failed to converge. Check mle_retvals\n",
      "  \"Check mle_retvals\", ConvergenceWarning)\n"
     ]
    },
    {
     "name": "stdout",
     "output_type": "stream",
     "text": [
      "ARIMA(4, 4, 1)x(1, 2, 0, 12)12 - AIC:72.79251367615831\n",
      "ARIMA(4, 4, 1)x(2, 0, 0, 12)12 - AIC:243.9769343545189\n",
      "ARIMA(4, 4, 1)x(2, 0, 1, 12)12 - AIC:1230.6649409163103\n"
     ]
    },
    {
     "name": "stderr",
     "output_type": "stream",
     "text": [
      "C:\\Users\\Byom Kesh Jha\\Anaconda3\\lib\\site-packages\\statsmodels\\base\\model.py:512: ConvergenceWarning: Maximum Likelihood optimization failed to converge. Check mle_retvals\n",
      "  \"Check mle_retvals\", ConvergenceWarning)\n"
     ]
    },
    {
     "name": "stdout",
     "output_type": "stream",
     "text": [
      "ARIMA(4, 4, 1)x(2, 1, 0, 12)12 - AIC:72.60158262516968\n"
     ]
    },
    {
     "name": "stderr",
     "output_type": "stream",
     "text": [
      "C:\\Users\\Byom Kesh Jha\\Anaconda3\\lib\\site-packages\\statsmodels\\base\\model.py:512: ConvergenceWarning: Maximum Likelihood optimization failed to converge. Check mle_retvals\n",
      "  \"Check mle_retvals\", ConvergenceWarning)\n"
     ]
    },
    {
     "name": "stdout",
     "output_type": "stream",
     "text": [
      "ARIMA(4, 4, 1)x(3, 0, 0, 12)12 - AIC:77.65248127549891\n",
      "ARIMA(4, 4, 1)x(3, 0, 1, 12)12 - AIC:326.59291658862435\n",
      "ARIMA(4, 4, 2)x(0, 0, 0, 12)12 - AIC:629.7139307679865\n",
      "ARIMA(4, 4, 2)x(0, 0, 1, 12)12 - AIC:2247.1563598175376\n",
      "ARIMA(4, 4, 2)x(0, 1, 0, 12)12 - AIC:426.3499623845823\n",
      "ARIMA(4, 4, 2)x(0, 2, 0, 12)12 - AIC:259.8258015622233\n"
     ]
    },
    {
     "name": "stderr",
     "output_type": "stream",
     "text": [
      "C:\\Users\\Byom Kesh Jha\\Anaconda3\\lib\\site-packages\\statsmodels\\base\\model.py:512: ConvergenceWarning: Maximum Likelihood optimization failed to converge. Check mle_retvals\n",
      "  \"Check mle_retvals\", ConvergenceWarning)\n"
     ]
    },
    {
     "name": "stdout",
     "output_type": "stream",
     "text": [
      "ARIMA(4, 4, 2)x(0, 3, 0, 12)12 - AIC:nan\n"
     ]
    },
    {
     "name": "stderr",
     "output_type": "stream",
     "text": [
      "C:\\Users\\Byom Kesh Jha\\Anaconda3\\lib\\site-packages\\statsmodels\\base\\model.py:512: ConvergenceWarning: Maximum Likelihood optimization failed to converge. Check mle_retvals\n",
      "  \"Check mle_retvals\", ConvergenceWarning)\n"
     ]
    },
    {
     "name": "stdout",
     "output_type": "stream",
     "text": [
      "ARIMA(4, 4, 2)x(1, 0, 0, 12)12 - AIC:424.75884417076577\n",
      "ARIMA(4, 4, 2)x(1, 0, 1, 12)12 - AIC:4180.0328177599495\n"
     ]
    },
    {
     "name": "stderr",
     "output_type": "stream",
     "text": [
      "C:\\Users\\Byom Kesh Jha\\Anaconda3\\lib\\site-packages\\statsmodels\\base\\model.py:512: ConvergenceWarning: Maximum Likelihood optimization failed to converge. Check mle_retvals\n",
      "  \"Check mle_retvals\", ConvergenceWarning)\n"
     ]
    },
    {
     "name": "stdout",
     "output_type": "stream",
     "text": [
      "ARIMA(4, 4, 2)x(1, 1, 0, 12)12 - AIC:242.01846929898983\n"
     ]
    },
    {
     "name": "stderr",
     "output_type": "stream",
     "text": [
      "C:\\Users\\Byom Kesh Jha\\Anaconda3\\lib\\site-packages\\statsmodels\\base\\model.py:512: ConvergenceWarning: Maximum Likelihood optimization failed to converge. Check mle_retvals\n",
      "  \"Check mle_retvals\", ConvergenceWarning)\n"
     ]
    },
    {
     "name": "stdout",
     "output_type": "stream",
     "text": [
      "ARIMA(4, 4, 2)x(1, 2, 0, 12)12 - AIC:73.33071194086628\n"
     ]
    },
    {
     "name": "stderr",
     "output_type": "stream",
     "text": [
      "C:\\Users\\Byom Kesh Jha\\Anaconda3\\lib\\site-packages\\statsmodels\\base\\model.py:512: ConvergenceWarning: Maximum Likelihood optimization failed to converge. Check mle_retvals\n",
      "  \"Check mle_retvals\", ConvergenceWarning)\n"
     ]
    },
    {
     "name": "stdout",
     "output_type": "stream",
     "text": [
      "ARIMA(4, 4, 2)x(2, 0, 0, 12)12 - AIC:243.94514806807825\n"
     ]
    },
    {
     "name": "stderr",
     "output_type": "stream",
     "text": [
      "C:\\Users\\Byom Kesh Jha\\Anaconda3\\lib\\site-packages\\statsmodels\\base\\model.py:512: ConvergenceWarning: Maximum Likelihood optimization failed to converge. Check mle_retvals\n",
      "  \"Check mle_retvals\", ConvergenceWarning)\n"
     ]
    },
    {
     "name": "stdout",
     "output_type": "stream",
     "text": [
      "ARIMA(4, 4, 2)x(2, 0, 1, 12)12 - AIC:1226.2402317290107\n"
     ]
    },
    {
     "name": "stderr",
     "output_type": "stream",
     "text": [
      "C:\\Users\\Byom Kesh Jha\\Anaconda3\\lib\\site-packages\\statsmodels\\base\\model.py:512: ConvergenceWarning: Maximum Likelihood optimization failed to converge. Check mle_retvals\n",
      "  \"Check mle_retvals\", ConvergenceWarning)\n"
     ]
    },
    {
     "name": "stdout",
     "output_type": "stream",
     "text": [
      "ARIMA(4, 4, 2)x(2, 1, 0, 12)12 - AIC:73.60143204828016\n"
     ]
    },
    {
     "name": "stderr",
     "output_type": "stream",
     "text": [
      "C:\\Users\\Byom Kesh Jha\\Anaconda3\\lib\\site-packages\\statsmodels\\base\\model.py:512: ConvergenceWarning: Maximum Likelihood optimization failed to converge. Check mle_retvals\n",
      "  \"Check mle_retvals\", ConvergenceWarning)\n"
     ]
    },
    {
     "name": "stdout",
     "output_type": "stream",
     "text": [
      "ARIMA(4, 4, 2)x(3, 0, 0, 12)12 - AIC:78.06909451369816\n"
     ]
    },
    {
     "name": "stderr",
     "output_type": "stream",
     "text": [
      "C:\\Users\\Byom Kesh Jha\\Anaconda3\\lib\\site-packages\\statsmodels\\base\\model.py:512: ConvergenceWarning: Maximum Likelihood optimization failed to converge. Check mle_retvals\n",
      "  \"Check mle_retvals\", ConvergenceWarning)\n"
     ]
    },
    {
     "name": "stdout",
     "output_type": "stream",
     "text": [
      "ARIMA(4, 4, 2)x(3, 0, 1, 12)12 - AIC:326.9818519844614\n"
     ]
    },
    {
     "name": "stderr",
     "output_type": "stream",
     "text": [
      "C:\\Users\\Byom Kesh Jha\\Anaconda3\\lib\\site-packages\\statsmodels\\base\\model.py:512: ConvergenceWarning: Maximum Likelihood optimization failed to converge. Check mle_retvals\n",
      "  \"Check mle_retvals\", ConvergenceWarning)\n"
     ]
    },
    {
     "name": "stdout",
     "output_type": "stream",
     "text": [
      "ARIMA(4, 4, 3)x(0, 0, 0, 12)12 - AIC:619.4857766448067\n",
      "ARIMA(4, 4, 3)x(0, 0, 1, 12)12 - AIC:17568.592342883057\n",
      "ARIMA(4, 4, 3)x(0, 1, 0, 12)12 - AIC:422.9804780465347\n",
      "ARIMA(4, 4, 3)x(0, 2, 0, 12)12 - AIC:260.6376513518873\n"
     ]
    },
    {
     "name": "stderr",
     "output_type": "stream",
     "text": [
      "C:\\Users\\Byom Kesh Jha\\Anaconda3\\lib\\site-packages\\statsmodels\\base\\model.py:512: ConvergenceWarning: Maximum Likelihood optimization failed to converge. Check mle_retvals\n",
      "  \"Check mle_retvals\", ConvergenceWarning)\n"
     ]
    },
    {
     "name": "stdout",
     "output_type": "stream",
     "text": [
      "ARIMA(4, 4, 3)x(1, 0, 0, 12)12 - AIC:432.767723800674\n"
     ]
    },
    {
     "name": "stderr",
     "output_type": "stream",
     "text": [
      "C:\\Users\\Byom Kesh Jha\\Anaconda3\\lib\\site-packages\\statsmodels\\base\\model.py:512: ConvergenceWarning: Maximum Likelihood optimization failed to converge. Check mle_retvals\n",
      "  \"Check mle_retvals\", ConvergenceWarning)\n"
     ]
    },
    {
     "name": "stdout",
     "output_type": "stream",
     "text": [
      "ARIMA(4, 4, 3)x(1, 0, 1, 12)12 - AIC:nan\n"
     ]
    },
    {
     "name": "stderr",
     "output_type": "stream",
     "text": [
      "C:\\Users\\Byom Kesh Jha\\Anaconda3\\lib\\site-packages\\statsmodels\\base\\model.py:512: ConvergenceWarning: Maximum Likelihood optimization failed to converge. Check mle_retvals\n",
      "  \"Check mle_retvals\", ConvergenceWarning)\n"
     ]
    },
    {
     "name": "stdout",
     "output_type": "stream",
     "text": [
      "ARIMA(4, 4, 3)x(1, 1, 0, 12)12 - AIC:244.7470082321555\n"
     ]
    },
    {
     "name": "stderr",
     "output_type": "stream",
     "text": [
      "C:\\Users\\Byom Kesh Jha\\Anaconda3\\lib\\site-packages\\statsmodels\\base\\model.py:512: ConvergenceWarning: Maximum Likelihood optimization failed to converge. Check mle_retvals\n",
      "  \"Check mle_retvals\", ConvergenceWarning)\n"
     ]
    },
    {
     "name": "stdout",
     "output_type": "stream",
     "text": [
      "ARIMA(4, 4, 3)x(1, 2, 0, 12)12 - AIC:69.75888637609958\n"
     ]
    },
    {
     "name": "stderr",
     "output_type": "stream",
     "text": [
      "C:\\Users\\Byom Kesh Jha\\Anaconda3\\lib\\site-packages\\statsmodels\\base\\model.py:512: ConvergenceWarning: Maximum Likelihood optimization failed to converge. Check mle_retvals\n",
      "  \"Check mle_retvals\", ConvergenceWarning)\n"
     ]
    },
    {
     "name": "stdout",
     "output_type": "stream",
     "text": [
      "ARIMA(4, 4, 3)x(2, 0, 0, 12)12 - AIC:253.436354306628\n"
     ]
    },
    {
     "name": "stderr",
     "output_type": "stream",
     "text": [
      "C:\\Users\\Byom Kesh Jha\\Anaconda3\\lib\\site-packages\\statsmodels\\base\\model.py:512: ConvergenceWarning: Maximum Likelihood optimization failed to converge. Check mle_retvals\n",
      "  \"Check mle_retvals\", ConvergenceWarning)\n"
     ]
    },
    {
     "name": "stdout",
     "output_type": "stream",
     "text": [
      "ARIMA(4, 4, 3)x(2, 0, 1, 12)12 - AIC:nan\n"
     ]
    },
    {
     "name": "stderr",
     "output_type": "stream",
     "text": [
      "C:\\Users\\Byom Kesh Jha\\Anaconda3\\lib\\site-packages\\statsmodels\\base\\model.py:512: ConvergenceWarning: Maximum Likelihood optimization failed to converge. Check mle_retvals\n",
      "  \"Check mle_retvals\", ConvergenceWarning)\n"
     ]
    },
    {
     "name": "stdout",
     "output_type": "stream",
     "text": [
      "ARIMA(4, 4, 3)x(2, 1, 0, 12)12 - AIC:74.34073342996308\n"
     ]
    },
    {
     "name": "stderr",
     "output_type": "stream",
     "text": [
      "C:\\Users\\Byom Kesh Jha\\Anaconda3\\lib\\site-packages\\statsmodels\\base\\model.py:512: ConvergenceWarning: Maximum Likelihood optimization failed to converge. Check mle_retvals\n",
      "  \"Check mle_retvals\", ConvergenceWarning)\n"
     ]
    },
    {
     "name": "stdout",
     "output_type": "stream",
     "text": [
      "ARIMA(4, 4, 3)x(3, 0, 0, 12)12 - AIC:79.43259100104098\n"
     ]
    },
    {
     "name": "stderr",
     "output_type": "stream",
     "text": [
      "C:\\Users\\Byom Kesh Jha\\Anaconda3\\lib\\site-packages\\statsmodels\\base\\model.py:512: ConvergenceWarning: Maximum Likelihood optimization failed to converge. Check mle_retvals\n",
      "  \"Check mle_retvals\", ConvergenceWarning)\n"
     ]
    },
    {
     "name": "stdout",
     "output_type": "stream",
     "text": [
      "ARIMA(4, 4, 3)x(3, 0, 1, 12)12 - AIC:nan\n",
      "ARIMA(4, 4, 4)x(0, 0, 0, 12)12 - AIC:600.9869267945928\n",
      "ARIMA(4, 4, 4)x(0, 0, 1, 12)12 - AIC:2657.0400631026396\n",
      "ARIMA(4, 4, 4)x(0, 1, 0, 12)12 - AIC:406.3827616445517\n"
     ]
    },
    {
     "name": "stderr",
     "output_type": "stream",
     "text": [
      "C:\\Users\\Byom Kesh Jha\\Anaconda3\\lib\\site-packages\\statsmodels\\base\\model.py:512: ConvergenceWarning: Maximum Likelihood optimization failed to converge. Check mle_retvals\n",
      "  \"Check mle_retvals\", ConvergenceWarning)\n"
     ]
    },
    {
     "name": "stdout",
     "output_type": "stream",
     "text": [
      "ARIMA(4, 4, 4)x(0, 2, 0, 12)12 - AIC:nan\n"
     ]
    },
    {
     "name": "stderr",
     "output_type": "stream",
     "text": [
      "C:\\Users\\Byom Kesh Jha\\Anaconda3\\lib\\site-packages\\statsmodels\\base\\model.py:512: ConvergenceWarning: Maximum Likelihood optimization failed to converge. Check mle_retvals\n",
      "  \"Check mle_retvals\", ConvergenceWarning)\n"
     ]
    },
    {
     "name": "stdout",
     "output_type": "stream",
     "text": [
      "ARIMA(4, 4, 4)x(1, 0, 0, 12)12 - AIC:431.3115093137432\n",
      "ARIMA(4, 4, 4)x(1, 0, 1, 12)12 - AIC:2076.94610539317\n"
     ]
    },
    {
     "name": "stderr",
     "output_type": "stream",
     "text": [
      "C:\\Users\\Byom Kesh Jha\\Anaconda3\\lib\\site-packages\\statsmodels\\base\\model.py:512: ConvergenceWarning: Maximum Likelihood optimization failed to converge. Check mle_retvals\n",
      "  \"Check mle_retvals\", ConvergenceWarning)\n"
     ]
    },
    {
     "name": "stdout",
     "output_type": "stream",
     "text": [
      "ARIMA(4, 4, 4)x(1, 1, 0, 12)12 - AIC:243.62278755016646\n"
     ]
    },
    {
     "name": "stderr",
     "output_type": "stream",
     "text": [
      "C:\\Users\\Byom Kesh Jha\\Anaconda3\\lib\\site-packages\\statsmodels\\base\\model.py:512: ConvergenceWarning: Maximum Likelihood optimization failed to converge. Check mle_retvals\n",
      "  \"Check mle_retvals\", ConvergenceWarning)\n"
     ]
    },
    {
     "name": "stdout",
     "output_type": "stream",
     "text": [
      "ARIMA(4, 4, 4)x(1, 2, 0, 12)12 - AIC:604958328183179.1\n"
     ]
    },
    {
     "name": "stderr",
     "output_type": "stream",
     "text": [
      "C:\\Users\\Byom Kesh Jha\\Anaconda3\\lib\\site-packages\\statsmodels\\base\\model.py:512: ConvergenceWarning: Maximum Likelihood optimization failed to converge. Check mle_retvals\n",
      "  \"Check mle_retvals\", ConvergenceWarning)\n"
     ]
    },
    {
     "name": "stdout",
     "output_type": "stream",
     "text": [
      "ARIMA(4, 4, 4)x(2, 0, 0, 12)12 - AIC:252.26657967682866\n"
     ]
    },
    {
     "name": "stderr",
     "output_type": "stream",
     "text": [
      "C:\\Users\\Byom Kesh Jha\\Anaconda3\\lib\\site-packages\\statsmodels\\base\\model.py:512: ConvergenceWarning: Maximum Likelihood optimization failed to converge. Check mle_retvals\n",
      "  \"Check mle_retvals\", ConvergenceWarning)\n"
     ]
    },
    {
     "name": "stdout",
     "output_type": "stream",
     "text": [
      "ARIMA(4, 4, 4)x(2, 0, 1, 12)12 - AIC:551.5522775061409\n"
     ]
    },
    {
     "name": "stderr",
     "output_type": "stream",
     "text": [
      "C:\\Users\\Byom Kesh Jha\\Anaconda3\\lib\\site-packages\\statsmodels\\base\\model.py:512: ConvergenceWarning: Maximum Likelihood optimization failed to converge. Check mle_retvals\n",
      "  \"Check mle_retvals\", ConvergenceWarning)\n"
     ]
    },
    {
     "name": "stdout",
     "output_type": "stream",
     "text": [
      "ARIMA(4, 4, 4)x(2, 1, 0, 12)12 - AIC:75.52607729331206\n"
     ]
    },
    {
     "name": "stderr",
     "output_type": "stream",
     "text": [
      "C:\\Users\\Byom Kesh Jha\\Anaconda3\\lib\\site-packages\\statsmodels\\base\\model.py:512: ConvergenceWarning: Maximum Likelihood optimization failed to converge. Check mle_retvals\n",
      "  \"Check mle_retvals\", ConvergenceWarning)\n"
     ]
    },
    {
     "name": "stdout",
     "output_type": "stream",
     "text": [
      "ARIMA(4, 4, 4)x(3, 0, 0, 12)12 - AIC:80.70385809294564\n",
      "ARIMA(4, 4, 4)x(3, 0, 1, 12)12 - AIC:177.23059430553204\n"
     ]
    },
    {
     "name": "stderr",
     "output_type": "stream",
     "text": [
      "C:\\Users\\Byom Kesh Jha\\Anaconda3\\lib\\site-packages\\statsmodels\\base\\model.py:512: ConvergenceWarning: Maximum Likelihood optimization failed to converge. Check mle_retvals\n",
      "  \"Check mle_retvals\", ConvergenceWarning)\n"
     ]
    }
   ],
   "source": [
    "for param in pdq:\n",
    "    for param_seasonal in seasonal_pdq:\n",
    "        try:\n",
    "            mod = sm.tsa.statespace.SARIMAX(y,\n",
    "                                            order=param,\n",
    "                                            seasonal_order=param_seasonal,\n",
    "                                            enforce_stationarity=False,\n",
    "                                            enforce_invertibility=False)\n",
    "            results = mod.fit()\n",
    "            print('ARIMA{}x{}12 - AIC:{}'.format(param, param_seasonal, results.aic))\n",
    "        except:\n",
    "            continue"
   ]
  },
  {
   "cell_type": "code",
   "execution_count": 27,
   "metadata": {},
   "outputs": [
    {
     "name": "stdout",
     "output_type": "stream",
     "text": [
      "==============================================================================\n",
      "                 coef    std err          z      P>|z|      [0.025      0.975]\n",
      "------------------------------------------------------------------------------\n",
      "ma.L1          1.0776      0.203      5.303      0.000       0.679       1.476\n",
      "ma.L2          1.2900      0.782      1.650      0.099      -0.242       2.822\n",
      "ma.L3          0.5546      0.446      1.244      0.213      -0.319       1.428\n",
      "ar.S.L12      -0.2427      0.041     -5.957      0.000      -0.323      -0.163\n",
      "sigma2      1.323e+04   8.98e-05   1.47e+08      0.000    1.32e+04    1.32e+04\n",
      "==============================================================================\n"
     ]
    },
    {
     "name": "stderr",
     "output_type": "stream",
     "text": [
      "C:\\Users\\Byom Kesh Jha\\Anaconda3\\lib\\site-packages\\statsmodels\\base\\model.py:512: ConvergenceWarning: Maximum Likelihood optimization failed to converge. Check mle_retvals\n",
      "  \"Check mle_retvals\", ConvergenceWarning)\n"
     ]
    }
   ],
   "source": [
    "mod = sm.tsa.statespace.SARIMAX(y,\n",
    "                                order=(0, 0, 3),\n",
    "                                seasonal_order=(1, 2, 0, 12),\n",
    "                                enforce_stationarity=False,\n",
    "                                enforce_invertibility=False)\n",
    "results = mod.fit()\n",
    "print(results.summary().tables[1])"
   ]
  },
  {
   "cell_type": "code",
   "execution_count": 28,
   "metadata": {},
   "outputs": [
    {
     "data": {
      "image/png": "[encoded data removed]",
      "text/plain": [
       "<Figure size 1008x504 with 1 Axes>"
      ]
     },
     "metadata": {
      "needs_background": "light"
     },
     "output_type": "display_data"
    }
   ],
   "source": [
    "pred = results.get_prediction(start=pd.to_datetime('2017-01-01'), dynamic=False)\n",
    "pred_ci = pred.conf_int()\n",
    "ax = y['2014':].plot(label='observed')\n",
    "pred.predicted_mean.plot(ax=ax, label='One-step ahead Forecast', figsize=(14, 7))\n",
    "ax.fill_between(pred_ci.index,\n",
    "                pred_ci.iloc[:, 0],\n",
    "                pred_ci.iloc[:, 1], color='k', alpha=.2)\n",
    "ax.set_xlabel('Date')\n",
    "ax.set_ylabel('Furniture Sales')\n",
    "plt.legend()\n",
    "plt.show()"
   ]
  },
  {
   "cell_type": "code",
   "execution_count": 22,
   "metadata": {},
   "outputs": [],
   "source": [
    "y_forecasted = pred.predicted_mean\n",
    "y_truth = y['2017-01-01':]\n",
    "mse = ((y_forecasted - y_truth) ** 2).mean()\n",
    "rmse = round(np.sqrt(mse),2)"
   ]
  },
  {
   "cell_type": "code",
   "execution_count": 23,
   "metadata": {},
   "outputs": [
    {
     "name": "stdout",
     "output_type": "stream",
     "text": [
      "151.64\n"
     ]
    }
   ],
   "source": [
    "print (rmse)"
   ]
  },
  {
   "cell_type": "code",
   "execution_count": null,
   "metadata": {},
   "outputs": [],
   "source": []
  }
 ],
 "metadata": {
  "kernelspec": {
   "display_name": "Python 3",
   "language": "python",
   "name": "python3"
  },
  "language_info": {
   "codemirror_mode": {
    "name": "ipython",
    "version": 3
   },
   "file_extension": ".py",
   "mimetype": "text/x-python",
   "name": "python",
   "nbconvert_exporter": "python",
   "pygments_lexer": "ipython3",
   "version": "3.7.1"
  }
 },
 "nbformat": 4,
 "nbformat_minor": 2
}
